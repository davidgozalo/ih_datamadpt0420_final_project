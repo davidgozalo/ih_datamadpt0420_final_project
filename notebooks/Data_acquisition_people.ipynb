{
 "cells": [
  {
   "cell_type": "code",
   "execution_count": 1,
   "metadata": {},
   "outputs": [],
   "source": [
    "import pandas as pd\n",
    "people= pd.read_csv('/home/davidgozalo/Ironhack/ih_datamadpt0420_final_project/data/raw/NFWBS_PUF_2016_data.csv')"
   ]
  },
  {
   "cell_type": "code",
   "execution_count": 2,
   "metadata": {},
   "outputs": [],
   "source": [
    "people_map= pd.read_csv('/home/davidgozalo/Ironhack/ih_datamadpt0420_final_project/data/raw/NFWBS_PUF_2016_data.csv')\n",
    "#Map values\n",
    "people_map = people_map.replace({\"sample\":{\n",
    "  1: \"General population\",\n",
    "  2: \"Age 62+ oversample\",\n",
    "  3: \"Race/ethnicity and poverty oversample\"\n",
    "},\n",
    "\"fpl\":{\n",
    "  1: \"<100% FPL\",\n",
    "  2: \"100%-199% FPL\",\n",
    "  3: \"200%+ FPL\"\n",
    "},\n",
    "\"SWB_1\":{\n",
    "  -4: \"Response not written to database\",\n",
    "  -1: \"Refused\",\n",
    "  1: \"1 Strongly disagree\",\n",
    "  2: \"2\",\n",
    "  3: \"3\",\n",
    "  4: \"4\",\n",
    "  5: \"5\",\n",
    "  6: \"6\",\n",
    "  7: \"7 Strongly agree\"\n",
    "},\n",
    "\"SWB_2\":{\n",
    "  -4: \"Response not written to database\",\n",
    "  -1: \"Refused\",\n",
    "  1: \"1 Strongly disagree\",\n",
    "  2: \"2\",\n",
    "  3: \"3\",\n",
    "  4: \"4\",\n",
    "  5: \"5\",\n",
    "  6: \"6\",\n",
    "  7: \"7 Strongly agree\"\n",
    "},\n",
    "\"SWB_3\":{\n",
    "  -4: \"Response not written to database\",\n",
    "  -1: \"Refused\",\n",
    "  1: \"1 Strongly disagree\",\n",
    "  2: \"2\",\n",
    "  3: \"3\",\n",
    "  4: \"4\",\n",
    "  5: \"5\",\n",
    "  6: \"6\",\n",
    "  7: \"7 Strongly agree\"\n",
    "},\n",
    "\"FWBscore\":{\n",
    "  -4: \"Response not written to database\",\n",
    "  -1: \"Refused\"\n",
    "},\n",
    "\"FWB1_1\":{\n",
    "  -4: \"Response not written to database\",\n",
    "  -1: \"Refused\",\n",
    "  1: \"Not at all\",\n",
    "  2: \"Very little\",\n",
    "  3: \"Somewhat\",\n",
    "  4: \"Very well\",\n",
    "  5: \"Completely\"\n",
    "},\n",
    "\"FWB1_2\":{\n",
    "  -4: \"Response not written to database\",\n",
    "  -1: \"Refused\",\n",
    "  1: \"Not at all\",\n",
    "  2: \"Very little\",\n",
    "  3: \"Somewhat\",\n",
    "  4: \"Very well\",\n",
    "  5: \"Completely\"\n",
    "},\n",
    "\"FWB1_3\":{\n",
    "  -4: \"Response not written to database\",\n",
    "  -1: \"Refused\",\n",
    "  1: \"Not at all\",\n",
    "  2: \"Very little\",\n",
    "  3: \"Somewhat\",\n",
    "  4: \"Very well\",\n",
    "  5: \"Completely\"\n",
    "},\n",
    "\"FWB1_4\":{\n",
    "  -4: \"Response not written to database\",\n",
    "  -1: \"Refused\",\n",
    "  1: \"Not at all\",\n",
    "  2: \"Very little\",\n",
    "  3: \"Somewhat\",\n",
    "  4: \"Very well\",\n",
    "  5: \"Completely\"\n",
    "},\n",
    "\"FWB1_5\":{\n",
    "  -4: \"Response not written to database\",\n",
    "  -1: \"Refused\",\n",
    "  1: \"Not at all\",\n",
    "  2: \"Very little\",\n",
    "  3: \"Somewhat\",\n",
    "  4: \"Very well\",\n",
    "  5: \"Completely\"\n",
    "},\n",
    "\"FWB1_6\":{\n",
    "  -4: \"Response not written to database\",\n",
    "  -1: \"Refused\",\n",
    "  1: \"Not at all\",\n",
    "  2: \"Very little\",\n",
    "  3: \"Somewhat\",\n",
    "  4: \"Very well\",\n",
    "  5: \"Completely\"\n",
    "},\n",
    "\"FWB2_1\":{\n",
    "  -4: \"Response not written to database\",\n",
    "  -1: \"Refused\",\n",
    "  1: \"Never\",\n",
    "  2: \"Rarely\",\n",
    "  3: \"Sometimes\",\n",
    "  4: \"Often\",\n",
    "  5: \"Always\"\n",
    "},\n",
    "\"FWB2_2\":{\n",
    "  -4: \"Response not written to database\",\n",
    "  -1: \"Refused\",\n",
    "  1: \"Never\",\n",
    "  2: \"Rarely\",\n",
    "  3: \"Sometimes\",\n",
    "  4: \"Often\",\n",
    "  5: \"Always\"\n",
    "},\n",
    "\"FWB2_3\":{\n",
    "  -4: \"Response not written to database\",\n",
    "  -1: \"Refused\",\n",
    "  1: \"Never\",\n",
    "  2: \"Rarely\",\n",
    "  3: \"Sometimes\",\n",
    "  4: \"Often\",\n",
    "  5: \"Always\"\n",
    "},\n",
    "\"FWB2_4\":{\n",
    "  -4: \"Response not written to database\",\n",
    "  -1: \"Refused\",\n",
    "  1: \"Never\",\n",
    "  2: \"Rarely\",\n",
    "  3: \"Sometimes\",\n",
    "  4: \"Often\",\n",
    "  5: \"Always\"\n",
    "},\n",
    "\"FSscore\":{\n",
    "  -1: \"Refused\"\n",
    "},\n",
    "\"FS1_1\":{\n",
    "  -1: \"Refused\",\n",
    "  1: \"Not at all\",\n",
    "  2: \"Very little\",\n",
    "  3: \"Somewhat\",\n",
    "  4: \"Very well\",\n",
    "  5: \"Completely\"\n",
    "},\n",
    "\"FS1_2\":{\n",
    "  -1: \"Refused\",\n",
    "  1: \"Not at all\",\n",
    "  2: \"Very little\",\n",
    "  3: \"Somewhat\",\n",
    "  4: \"Very well\",\n",
    "  5: \"Completely\"\n",
    "},\n",
    "\"FS1_3\":{\n",
    "  -1: \"Refused\",\n",
    "  1: \"Not at all\",\n",
    "  2: \"Very little\",\n",
    "  3: \"Somewhat\",\n",
    "  4: \"Very well\",\n",
    "  5: \"Completely\"\n",
    "},\n",
    "\"FS1_4\":{\n",
    "  -1: \"Refused\",\n",
    "  1: \"Not at all\",\n",
    "  2: \"Very little\",\n",
    "  3: \"Somewhat\",\n",
    "  4: \"Very well\",\n",
    "  5: \"Completely\"\n",
    "},\n",
    "\"FS1_5\":{\n",
    "  -1: \"Refused\",\n",
    "  1: \"Not at all\",\n",
    "  2: \"Very little\",\n",
    "  3: \"Somewhat\",\n",
    "  4: \"Very well\",\n",
    "  5: \"Completely\"\n",
    "},\n",
    "\"FS1_6\":{\n",
    "  -1: \"Refused\",\n",
    "  1: \"Not at all\",\n",
    "  2: \"Very little\",\n",
    "  3: \"Somewhat\",\n",
    "  4: \"Very well\",\n",
    "  5: \"Completely\"\n",
    "},\n",
    "\"FS1_7\":{\n",
    "  -1: \"Refused\",\n",
    "  1: \"Not at all\",\n",
    "  2: \"Very little\",\n",
    "  3: \"Somewhat\",\n",
    "  4: \"Very well\",\n",
    "  5: \"Completely\"\n",
    "},\n",
    "\"FS2_1\":{\n",
    "  -1: \"Refused\",\n",
    "  1: \"Never\",\n",
    "  2: \"Rarely\",\n",
    "  3: \"Sometimes\",\n",
    "  4: \"Often\",\n",
    "  5: \"Always\"\n",
    "},\n",
    "\"FS2_2\":{\n",
    "  -1: \"Refused\",\n",
    "  1: \"Never\",\n",
    "  2: \"Rarely\",\n",
    "  3: \"Sometimes\",\n",
    "  4: \"Often\",\n",
    "  5: \"Always\"\n",
    "},\n",
    "\"FS2_3\":{\n",
    "  -1: \"Refused\",\n",
    "  1: \"Never\",\n",
    "  2: \"Rarely\",\n",
    "  3: \"Sometimes\",\n",
    "  4: \"Often\",\n",
    "  5: \"Always\"\n",
    "},\n",
    "\"SUBKNOWL1\":{\n",
    "  -1: \"Refused\",\n",
    "  1: \"1 - Very low\",\n",
    "  2: \"2\",\n",
    "  3: \"3\",\n",
    "  4: \"4\",\n",
    "  5: \"5\",\n",
    "  6: \"6\",\n",
    "  7: \"7 - Very high\"\n",
    "},\n",
    "\"ACT1_1\":{\n",
    "  -1: \"Refused\",\n",
    "  1: \"Not at all\",\n",
    "  2: \"Very little\",\n",
    "  3: \"Somewhat\",\n",
    "  4: \"Very well\",\n",
    "  5: \"Completely\"\n",
    "},\n",
    "\"ACT1_2\":{\n",
    "  -1: \"Refused\",\n",
    "  1: \"Not at all\",\n",
    "  2: \"Very little\",\n",
    "  3: \"Somewhat\",\n",
    "  4: \"Very well\",\n",
    "  5: \"Completely\"\n",
    "},\n",
    "\"FINGOALS\":{\n",
    "  -1: \"Refused\",\n",
    "  0: \"No\",\n",
    "  1: \"Yes\"\n",
    "},\n",
    "\"PROPPLAN_1\":{\n",
    "  -1: \"Refused\",\n",
    "  1: \"Strongly disagree\",\n",
    "  2: \"Disagree\",\n",
    "  3: \"Neither agree nor disagree\",\n",
    "  4: \"Agree\",\n",
    "  5: \"Strongly agree\"\n",
    "},\n",
    "\"PROPPLAN_2\":{\n",
    "  -1: \"Refused\",\n",
    "  1: \"Strongly disagree\",\n",
    "  2: \"Disagree\",\n",
    "  3: \"Neither agree nor disagree\",\n",
    "  4: \"Agree\",\n",
    "  5: \"Strongly agree\"\n",
    "},\n",
    "\"PROPPLAN_3\":{\n",
    "  -1: \"Refused\",\n",
    "  1: \"Strongly disagree\",\n",
    "  2: \"Disagree\",\n",
    "  3: \"Neither agree nor disagree\",\n",
    "  4: \"Agree\",\n",
    "  5: \"Strongly agree\"\n",
    "},\n",
    "\"PROPPLAN_4\":{\n",
    "  -1: \"Refused\",\n",
    "  1: \"Strongly disagree\",\n",
    "  2: \"Disagree\",\n",
    "  3: \"Neither agree nor disagree\",\n",
    "  4: \"Agree\",\n",
    "  5: \"Strongly agree\"\n",
    "},\n",
    "\"MANAGE1_1\":{\n",
    "  -1: \"Refused\",\n",
    "  1: \"Not applicable or never\",\n",
    "  2: \"Seldom\",\n",
    "  3: \"Sometimes\",\n",
    "  4: \"Often\",\n",
    "  5: \"Always\"\n",
    "},\n",
    "\"MANAGE1_2\":{\n",
    "  -1: \"Refused\",\n",
    "  1: \"Not applicable or never\",\n",
    "  2: \"Seldom\",\n",
    "  3: \"Sometimes\",\n",
    "  4: \"Often\",\n",
    "  5: \"Always\"\n",
    "},\n",
    "\"MANAGE1_3\":{\n",
    "  -1: \"Refused\",\n",
    "  1: \"Not applicable or never\",\n",
    "  2: \"Seldom\",\n",
    "  3: \"Sometimes\",\n",
    "  4: \"Often\",\n",
    "  5: \"Always\"\n",
    "},\n",
    "\"MANAGE1_4\":{\n",
    "  -1: \"Refused\",\n",
    "  1: \"Not applicable or never\",\n",
    "  2: \"Seldom\",\n",
    "  3: \"Sometimes\",\n",
    "  4: \"Often\",\n",
    "  5: \"Always\"\n",
    "},\n",
    "\"SAVEHABIT\":{\n",
    "  -1: \"Refused\",\n",
    "  1: \"Strongly disagree\",\n",
    "  2: \"Disagree\",\n",
    "  3: \"Disagree slightly\",\n",
    "  4: \"Agree slightly\",\n",
    "  5: \"Agree\",\n",
    "  6: \"Strongly agree\"\n",
    "},\n",
    "\"FRUGALITY\":{\n",
    "  -1: \"Refused\",\n",
    "  1: \"Strongly disagree\",\n",
    "  2: \"Disagree\",\n",
    "  3: \"Disagree slightly\",\n",
    "  4: \"Agree slightly\",\n",
    "  5: \"Agree\",\n",
    "  6: \"Strongly agree\"\n",
    "},\n",
    "\"AUTOMATED_1\":{\n",
    "  -1: \"Refused\",\n",
    "  0: \"No\",\n",
    "  1: \"Yes\",\n",
    "  7: \"I do not have this type of account\"\n",
    "},\n",
    "\"AUTOMATED_2\":{\n",
    "  -1: \"Refused\",\n",
    "  0: \"No\",\n",
    "  1: \"Yes\",\n",
    "  7: \"I do not have this type of account\"\n",
    "},\n",
    "\"ASK1_1\":{\n",
    "  -1: \"Refused\",\n",
    "  1: \"Never\",\n",
    "  2: \"Seldom\",\n",
    "  3: \"Sometimes\",\n",
    "  4: \"Often\",\n",
    "  5: \"Always\"\n",
    "},\n",
    "\"ASK1_2\":{\n",
    "  -1: \"Refused\",\n",
    "  1: \"Never\",\n",
    "  2: \"Seldom\",\n",
    "  3: \"Sometimes\",\n",
    "  4: \"Often\",\n",
    "  5: \"Always\"\n",
    "},\n",
    "\"SUBNUMERACY2\":{\n",
    "  -1: \"Refused\",\n",
    "  1: \"1 - Always prefer words\",\n",
    "  2: \"2\",\n",
    "  3: \"3\",\n",
    "  4: \"4\",\n",
    "  5: \"5\",\n",
    "  6: \"6 - Always prefer numbers\"\n",
    "},\n",
    "\"SUBNUMERACY1\":{\n",
    "  -1: \"Refused\",\n",
    "  1: \"1 - Not good at all\",\n",
    "  2: \"2\",\n",
    "  3: \"3\",\n",
    "  4: \"4\",\n",
    "  5: \"5\",\n",
    "  6: \"6 - Extremely good\"\n",
    "},\n",
    "\"CHANGEABLE\":{\n",
    "  -1: \"Refused\",\n",
    "  1: \"Strongly disagree\",\n",
    "  2: \"Disagree\",\n",
    "  3: \"Somewhat disagree\",\n",
    "  4: \"Neither agree nor disagree\",\n",
    "  5: \"Somewhat agree\",\n",
    "  6: \"Agree\",\n",
    "  7: \"Strongly agree\"\n",
    "},\n",
    "\"GOALCONF\":{\n",
    "  -1: \"Refused\",\n",
    "  1: \"Not at all confident\",\n",
    "  2: \"Not very confident\",\n",
    "  3: \"Somewhat confident\",\n",
    "  4: \"Very confident\"\n",
    "},\n",
    "\"FINKNOWL1\":{\n",
    "  -1: \"Refused\",\n",
    "  1: \"More than $102\",\n",
    "  2: \"Exactly $102\",\n",
    "  3: \"Less than $102\"\n",
    "},\n",
    "\"FINKNOWL2\":{\n",
    "  -1: \"Refused\",\n",
    "  1: \"More than today\",\n",
    "  2: \"Exactly the same\",\n",
    "  3: \"Less than today\"\n",
    "},\n",
    "\"FINKNOWL3\":{\n",
    "  -1: \"Refused\",\n",
    "  1: \"True\",\n",
    "  2: \"False\"\n",
    "},\n",
    "\"FK1correct\":{\n",
    "  0: \"No\",\n",
    "  1: \"Yes\"\n",
    "},\n",
    "\"FK2correct\":{\n",
    "  0: \"No\",\n",
    "  1: \"Yes\"\n",
    "},\n",
    "\"FK3correct\":{\n",
    "  0: \"No\",\n",
    "  1: \"Yes\"\n",
    "},\n",
    "\"KHKNOWL1\":{\n",
    "  -1: \"Refused\",\n",
    "  1: \"Savings accounts\",\n",
    "  2: \"Bonds\",\n",
    "  3: \"Stocks\"\n",
    "},\n",
    "\"KHKNOWL2\":{\n",
    "  -1: \"Refused\",\n",
    "  1: \"Savings accounts\",\n",
    "  2: \"Bonds\",\n",
    "  3: \"Stocks\"\n",
    "},\n",
    "\"KHKNOWL3\":{\n",
    "  -1: \"Refused\",\n",
    "  1: \"Increase\",\n",
    "  2: \"Decrease\",\n",
    "  3: \"Stay the same\"\n",
    "},\n",
    "\"KHKNOWL4\":{\n",
    "  -1: \"Refused\",\n",
    "  1: \"True\",\n",
    "  2: \"False\"\n",
    "},\n",
    "\"KHKNOWL5\":{\n",
    "  -1: \"Refused\",\n",
    "  1: \"True\",\n",
    "  2: \"False\"\n",
    "},\n",
    "\"KHKNOWL6\":{\n",
    "  -1: \"Refused\",\n",
    "  1: \"True\",\n",
    "  2: \"False\"\n",
    "},\n",
    "\"KHKNOWL7\":{\n",
    "  -1: \"Refused\",\n",
    "  1: \"Less than 5 years\",\n",
    "  2: \"Between 5 and 10 years\",\n",
    "  3: \"Between 10 and 15 years\",\n",
    "  4: \"Never, you will continue to be in debt\"\n",
    "},\n",
    "\"KHKNOWL8\":{\n",
    "  -1: \"Refused\",\n",
    "  1: \"They will rise\",\n",
    "  2: \"They will fall\",\n",
    "  3: \"They will stay the same\",\n",
    "  4: \"There is no relationship between bond prices and the interest rate\"\n",
    "},\n",
    "\"KHKNOWL9\":{\n",
    "  -1: \"Refused\",\n",
    "  1: \"True\",\n",
    "  2: \"False\"\n",
    "},\n",
    "\"KH1correct\":{\n",
    "  0: \"No\",\n",
    "  1: \"Yes\"\n",
    "},\n",
    "\"KH2correct\":{\n",
    "  0: \"No\",\n",
    "  1: \"Yes\"\n",
    "},\n",
    "\"KH3correct\":{\n",
    "  0: \"No\",\n",
    "  1: \"Yes\"\n",
    "},\n",
    "\"KH4correct\":{\n",
    "  0: \"No\",\n",
    "  1: \"Yes\"\n",
    "},\n",
    "\"KH5correct\":{\n",
    "  0: \"No\",\n",
    "  1: \"Yes\"\n",
    "},\n",
    "\"KH6correct\":{\n",
    "  0: \"No\",\n",
    "  1: \"Yes\"\n",
    "},\n",
    "\"KH7correct\":{\n",
    "  0: \"No\",\n",
    "  1: \"Yes\"\n",
    "},\n",
    "\"KH8correct\":{\n",
    "  0: \"No\",\n",
    "  1: \"Yes\"\n",
    "},\n",
    "\"KH9correct\":{\n",
    "  0: \"No\",\n",
    "  1: \"Yes\"\n",
    "},\n",
    "\"ENDSMEET\":{\n",
    "  -1: \"Refused\",\n",
    "  1: \"Not at all difficult\",\n",
    "  2: \"Somewhat difficult\",\n",
    "  3: \"Very difficult\"\n",
    "},\n",
    "\"HOUSING\":{\n",
    "  -1: \"Refused\",\n",
    "  1: \"I own my home\",\n",
    "  2: \"I rent\",\n",
    "  3: \"I do not currently own or rent\"\n",
    "},\n",
    "\"LIVINGARRANGEMENT\":{\n",
    "  -1: \"Refused\",\n",
    "  1: \"I am the only adult in the household\",\n",
    "  2: \"I live with my spouse/partner/significant other\",\n",
    "  3: \"I live in my parents home\",\n",
    "  4: \"I live with other family, friends, or roommates\",\n",
    "  5: \"Some other arrangement\"\n",
    "},\n",
    "\"HOUSERANGES\":{\n",
    "  -1: \"Refused\",\n",
    "  1: \"Less than $300\",\n",
    "  2: \"$300-499\",\n",
    "  3: \"$500-749\",\n",
    "  4: \"$750-999\",\n",
    "  5: \"$1,000-1,499\",\n",
    "  6: \"$1,500-1,999\",\n",
    "  7: \"$2,000 or more\",\n",
    "  98: \"I dont know\",\n",
    "  99: \"Prefer not to say\"\n",
    "},\n",
    "\"IMPUTATION_FLAG\":{\n",
    "  0: \"Not imputed\",\n",
    "  1: \"Imputed\"\n",
    "},\n",
    "\"VALUERANGES\":{\n",
    "  -2: \"Question not asked because respondent not in item base\",\n",
    "  -1: \"Refused\",\n",
    "  1: \"Less than $150,000\",\n",
    "  2: \"$150,000-249,999\",\n",
    "  3: \"$250,000-399,999\",\n",
    "  4: \"$400,000 or more\",\n",
    "  98: \"I dont know\",\n",
    "  99: \"Prefer not to say\"\n",
    "},\n",
    "\"MORTGAGE\":{\n",
    "  -2: \"Question not asked because respondent not in item base\",\n",
    "  -1: \"Refused\",\n",
    "  1: \"Less than $50,000\",\n",
    "  2: \"$50,000-199,999\",\n",
    "  3: \"$200,000 or more\",\n",
    "  98: \"I dont know\",\n",
    "  99: \"Prefer not to say\"\n",
    "},\n",
    "\"SAVINGSRANGES\":{\n",
    "  -1: \"Refused\",\n",
    "  1: \"0\",\n",
    "  2: \"$1-99\",\n",
    "  3: \"$100-999\",\n",
    "  4: \"$1,000-4,999\",\n",
    "  5: \"$5,000-19,999\",\n",
    "  6: \"$20,000-74,999\",\n",
    "  7: \"$75,000 or more\",\n",
    "  98: \"I dont know\",\n",
    "  99: \"Prefer not to say\"\n",
    "},\n",
    "\"PRODHAVE_1\":{\n",
    "  0: \"No\",\n",
    "  1: \"Yes\"\n",
    "},\n",
    "\"PRODHAVE_2\":{\n",
    "  0: \"No\",\n",
    "  1: \"Yes\"\n",
    "},\n",
    "\"PRODHAVE_3\":{\n",
    "  0: \"No\",\n",
    "  1: \"Yes\"\n",
    "},\n",
    "\"PRODHAVE_4\":{\n",
    "  0: \"No\",\n",
    "  1: \"Yes\"\n",
    "},\n",
    "\"PRODHAVE_5\":{\n",
    "  0: \"No\",\n",
    "  1: \"Yes\"\n",
    "},\n",
    "\"PRODHAVE_6\":{\n",
    "  0: \"No\",\n",
    "  1: \"Yes\"\n",
    "},\n",
    "\"PRODHAVE_7\":{\n",
    "  0: \"No\",\n",
    "  1: \"Yes\"\n",
    "},\n",
    "\"PRODHAVE_8\":{\n",
    "  0: \"No\",\n",
    "  1: \"Yes\"\n",
    "},\n",
    "\"PRODHAVE_9\":{\n",
    "  0: \"No\",\n",
    "  1: \"Yes\"\n",
    "},\n",
    "\"PRODUSE_1\":{\n",
    "  0: \"No\",\n",
    "  1: \"Yes\"\n",
    "},\n",
    "\"PRODUSE_2\":{\n",
    "  0: \"No\",\n",
    "  1: \"Yes\"\n",
    "},\n",
    "\"PRODUSE_3\":{\n",
    "  0: \"No\",\n",
    "  1: \"Yes\"\n",
    "},\n",
    "\"PRODUSE_4\":{\n",
    "  0: \"No\",\n",
    "  1: \"Yes\"\n",
    "},\n",
    "\"PRODUSE_5\":{\n",
    "  0: \"No\",\n",
    "  1: \"Yes\"\n",
    "},\n",
    "\"PRODUSE_6\":{\n",
    "  0: \"No\",\n",
    "  1: \"Yes\"\n",
    "},\n",
    "\"CONSPROTECT1\":{\n",
    "  -1: \"Refused\",\n",
    "  1: \"Never\",\n",
    "  2: \"Rarely\",\n",
    "  3: \"Sometimes\",\n",
    "  4: \"Often\"\n",
    "},\n",
    "\"CONSPROTECT2\":{\n",
    "  -1: \"Refused\",\n",
    "  1: \"Not at all familiar\",\n",
    "  2: \"Somewhat familiar\",\n",
    "  3: \"Very familiar\"\n",
    "},\n",
    "\"CONSPROTECT3\":{\n",
    "  -1: \"Refused\",\n",
    "  0: \"No\",\n",
    "  1: \"Yes\"\n",
    "},\n",
    "\"EARNERS\":{\n",
    "  -1: \"Refused\",\n",
    "  1: \"One\",\n",
    "  2: \"Two\",\n",
    "  3: \"More than two\"\n",
    "},\n",
    "\"VOLATILITY\":{\n",
    "  -1: \"Refused\",\n",
    "  1: \"Roughly the same each month\",\n",
    "  2: \"Roughly the same most months, but some unusually high or low months during the year\",\n",
    "  3: \"Often varies quite a bit from one month to the next\"\n",
    "},\n",
    "\"SNAP\":{\n",
    "  -1: \"Refused\",\n",
    "  0: \"No\",\n",
    "  1: \"Yes\",\n",
    "  8: \"Not sure\"\n",
    "},\n",
    "\"MATHARDSHIP_1\":{\n",
    "  -1: \"Refused\",\n",
    "  1: \"Never\",\n",
    "  2: \"Sometimes\",\n",
    "  3: \"Often\"\n",
    "},\n",
    "\"MATHARDSHIP_2\":{\n",
    "  -1: \"Refused\",\n",
    "  1: \"Never\",\n",
    "  2: \"Sometimes\",\n",
    "  3: \"Often\"\n",
    "},\n",
    "\"MATHARDSHIP_3\":{\n",
    "  -1: \"Refused\",\n",
    "  1: \"Never\",\n",
    "  2: \"Sometimes\",\n",
    "  3: \"Often\"\n",
    "},\n",
    "\"MATHARDSHIP_4\":{\n",
    "  -1: \"Refused\",\n",
    "  1: \"Never\",\n",
    "  2: \"Sometimes\",\n",
    "  3: \"Often\"\n",
    "},\n",
    "\"MATHARDSHIP_5\":{\n",
    "  -1: \"Refused\",\n",
    "  1: \"Never\",\n",
    "  2: \"Sometimes\",\n",
    "  3: \"Often\"\n",
    "},\n",
    "\"MATHARDSHIP_6\":{\n",
    "  -1: \"Refused\",\n",
    "  1: \"Never\",\n",
    "  2: \"Sometimes\",\n",
    "  3: \"Often\"\n",
    "},\n",
    "\"COLLECT\":{\n",
    "  -1: \"Refused\",\n",
    "  0: \"No\",\n",
    "  1: \"Yes\",\n",
    "  8: \"Not sure\"\n",
    "},\n",
    "\"REJECTED_1\":{\n",
    "  -1: \"Refused\",\n",
    "  0: \"No\",\n",
    "  1: \"Yes\"\n",
    "},\n",
    "\"REJECTED_2\":{\n",
    "  -1: \"Refused\",\n",
    "  0: \"No\",\n",
    "  1: \"Yes\"\n",
    "},\n",
    "\"ABSORBSHOCK\":{\n",
    "  -1: \"Refused\",\n",
    "  1: \"I am certain I could not come up with $2,000\",\n",
    "  2: \"I could probably not come up with $2,000\",\n",
    "  3: \"I could probably come up with $2,000\",\n",
    "  4: \"I am certain I could come up with the full $2,000\",\n",
    "  8: \"I dont know\"\n",
    "},\n",
    "\"BENEFITS_1\":{\n",
    "  -1: \"Refused\",\n",
    "  0: \"No\",\n",
    "  1: \"Yes\"\n",
    "},\n",
    "\"BENEFITS_2\":{\n",
    "  -1: \"Refused\",\n",
    "  0: \"No\",\n",
    "  1: \"Yes\"\n",
    "},\n",
    "\"BENEFITS_3\":{\n",
    "  -1: \"Refused\",\n",
    "  0: \"No\",\n",
    "  1: \"Yes\"\n",
    "},\n",
    "\"BENEFITS_4\":{\n",
    "  -1: \"Refused\",\n",
    "  0: \"No\",\n",
    "  1: \"Yes\"\n",
    "},\n",
    "\"BENEFITS_5\":{\n",
    "  -1: \"Refused\",\n",
    "  0: \"No\",\n",
    "  1: \"Yes\"\n",
    "},\n",
    "\"FRAUD2\":{\n",
    "  -1: \"Refused\",\n",
    "  0: \"No\",\n",
    "  1: \"Yes\",\n",
    "  8: \"Not sure\"\n",
    "},\n",
    "\"COVERCOSTS\":{\n",
    "  -1: \"Refused\",\n",
    "  1: \"Use savings or sell something you own\",\n",
    "  2: \"Cut back or do without\",\n",
    "  3: \"Earn more money\",\n",
    "  4: \"Borrow money\"\n",
    "},\n",
    "\"BORROW_1\":{\n",
    "  -1: \"Refused\",\n",
    "  0: \"No\",\n",
    "  1: \"Yes\"\n",
    "},\n",
    "\"BORROW_2\":{\n",
    "  -1: \"Refused\",\n",
    "  0: \"No\",\n",
    "  1: \"Yes\"\n",
    "},\n",
    "\"SHOCKS_1\":{\n",
    "  0: \"No\",\n",
    "  1: \"Yes\"\n",
    "},\n",
    "\"SHOCKS_2\":{\n",
    "  0: \"No\",\n",
    "  1: \"Yes\"\n",
    "},\n",
    "\"SHOCKS_3\":{\n",
    "  0: \"No\",\n",
    "  1: \"Yes\"\n",
    "},\n",
    "\"SHOCKS_4\":{\n",
    "  0: \"No\",\n",
    "  1: \"Yes\"\n",
    "},\n",
    "\"SHOCKS_5\":{\n",
    "  0: \"No\",\n",
    "  1: \"Yes\"\n",
    "},\n",
    "\"SHOCKS_6\":{\n",
    "  0: \"No\",\n",
    "  1: \"Yes\"\n",
    "},\n",
    "\"SHOCKS_7\":{\n",
    "  0: \"No\",\n",
    "  1: \"Yes\"\n",
    "},\n",
    "\"SHOCKS_8\":{\n",
    "  0: \"No\",\n",
    "  1: \"Yes\"\n",
    "},\n",
    "\"SHOCKS_9\":{\n",
    "  0: \"No\",\n",
    "  1: \"Yes\"\n",
    "},\n",
    "\"SHOCKS_10\":{\n",
    "  0: \"No\",\n",
    "  1: \"Yes\"\n",
    "},\n",
    "\"SHOCKS_11\":{\n",
    "  0: \"No\",\n",
    "  1: \"Yes\"\n",
    "},\n",
    "\"SHOCKS_12\":{\n",
    "  0: \"No\",\n",
    "  1: \"Yes\"\n",
    "},\n",
    "\"MANAGE2\":{\n",
    "  -1: \"Refused\",\n",
    "  1: \"Someone else takes care of all or most money matters in my household.\",\n",
    "  2: \"Someone else and I take care of money matters in my household about the same.\",\n",
    "  3: \"I take care of all or most money matters in my household.\"\n",
    "},\n",
    "\"PAIDHELP\":{\n",
    "  -2: \"Question not asked because respondent not in item base\",\n",
    "  -1: \"Refused\",\n",
    "  0: \"No\",\n",
    "  1: \"Yes\"\n",
    "},\n",
    "\"HSLOC\":{\n",
    "  -1: \"Refused\",\n",
    "  1: \"U.S. and territories\",\n",
    "  2: \"Outside the U.S.\",\n",
    "  8: \"I cant recall\"\n",
    "},\n",
    "\"PAREDUC\":{\n",
    "  -1: \"Refused\",\n",
    "  1: \"Less than high school\",\n",
    "  2: \"High school degree/GED\",\n",
    "  3: \"Some college/Associate\",\n",
    "  4: \"Bachelors degree\",\n",
    "  5: \"Graduate/professional degree\"\n",
    "},\n",
    "\"FINSOC2_1\":{\n",
    "  -1: \"Refused\",\n",
    "  0: \"No\",\n",
    "  1: \"Yes\"\n",
    "},\n",
    "\"FINSOC2_2\":{\n",
    "  -1: \"Refused\",\n",
    "  0: \"No\",\n",
    "  1: \"Yes\"\n",
    "},\n",
    "\"FINSOC2_3\":{\n",
    "  -1: \"Refused\",\n",
    "  0: \"No\",\n",
    "  1: \"Yes\"\n",
    "},\n",
    "\"FINSOC2_4\":{\n",
    "  -1: \"Refused\",\n",
    "  0: \"No\",\n",
    "  1: \"Yes\"\n",
    "},\n",
    "\"FINSOC2_5\":{\n",
    "  -1: \"Refused\",\n",
    "  0: \"No\",\n",
    "  1: \"Yes\"\n",
    "},\n",
    "\"FINSOC2_6\":{\n",
    "  -1: \"Refused\",\n",
    "  0: \"No\",\n",
    "  1: \"Yes\"\n",
    "},\n",
    "\"FINSOC2_7\":{\n",
    "  -1: \"Refused\",\n",
    "  0: \"No\",\n",
    "  1: \"Yes\"\n",
    "},\n",
    "\"OBJNUMERACY1\":{\n",
    "  -1: \"Refused\",\n",
    "  1: \"1%\",\n",
    "  2: \"10%\",\n",
    "  3: \"5%\"\n",
    "},\n",
    "\"ON2correct\":{\n",
    "  0: \"No\",\n",
    "  1: \"Yes\"\n",
    "},\n",
    "\"ON1correct\":{\n",
    "  0: \"No\",\n",
    "  1: \"Yes\"\n",
    "},\n",
    "\"MATERIALISM_1\":{\n",
    "  -1: \"Refused\",\n",
    "  1: \"Strongly disagree\",\n",
    "  2: \"Disagree\",\n",
    "  3: \"Neither agree nor disagree\",\n",
    "  4: \"Agree\",\n",
    "  5: \"Strongly agree\"\n",
    "},\n",
    "\"MATERIALISM_2\":{\n",
    "  -1: \"Refused\",\n",
    "  1: \"Strongly disagree\",\n",
    "  2: \"Disagree\",\n",
    "  3: \"Neither agree nor disagree\",\n",
    "  4: \"Agree\",\n",
    "  5: \"Strongly agree\"\n",
    "},\n",
    "\"MATERIALISM_3\":{\n",
    "  -1: \"Refused\",\n",
    "  1: \"Strongly disagree\",\n",
    "  2: \"Disagree\",\n",
    "  3: \"Neither agree nor disagree\",\n",
    "  4: \"Agree\",\n",
    "  5: \"Strongly agree\"\n",
    "},\n",
    "\"CONNECT\":{\n",
    "  -1: \"Refused\"\n",
    "},\n",
    "\"HEALTH\":{\n",
    "  -1: \"Refused\",\n",
    "  1: \"Poor\",\n",
    "  2: \"Fair\",\n",
    "  3: \"Good\",\n",
    "  4: \"Very good\",\n",
    "  5: \"Excellent\"\n",
    "},\n",
    "\"SCFHORIZON\":{\n",
    "  -1: \"Refused\",\n",
    "  1: \"The next few months\",\n",
    "  2: \"The next year\",\n",
    "  3: \"The next few years\",\n",
    "  4: \"The next 5 to 10 years\",\n",
    "  5: \"Longer than 10 years\"\n",
    "},\n",
    "\"DISCOUNT\":{\n",
    "  -1: \"Refused\",\n",
    "  1: \"$816 now\",\n",
    "  2: \"$860 in three months\"\n",
    "},\n",
    "\"MEMLOSS\":{\n",
    "  -1: \"Refused\",\n",
    "  0: \"No\",\n",
    "  1: \"Yes\"\n",
    "},\n",
    "\"DISTRESS\":{\n",
    "  -1: \"Refused\",\n",
    "  1: \"Strongly disagree\",\n",
    "  2: \"Disagree\",\n",
    "  3: \"Neither agree nor disagree\",\n",
    "  4: \"Agree\",\n",
    "  5: \"Strongly agree\"\n",
    "},\n",
    "\"SELFCONTROL_1\":{\n",
    "  -1: \"Refused\",\n",
    "  1: \"Not at all\",\n",
    "  2: \"Not very well\",\n",
    "  3: \"Very well\",\n",
    "  4: \"Completely well\"\n",
    "},\n",
    "\"SELFCONTROL_2\":{\n",
    "  -1: \"Refused\",\n",
    "  1: \"Not at all\",\n",
    "  2: \"Not very well\",\n",
    "  3: \"Very well\",\n",
    "  4: \"Completely well\"\n",
    "},\n",
    "\"SELFCONTROL_3\":{\n",
    "  -1: \"Refused\",\n",
    "  1: \"Not at all\",\n",
    "  2: \"Not very well\",\n",
    "  3: \"Very well\",\n",
    "  4: \"Completely well\"\n",
    "},\n",
    "\"OUTLOOK_1\":{\n",
    "  -1: \"Refused\",\n",
    "  1: \"Strongly disagree\",\n",
    "  2: \"Somewhat disagree\",\n",
    "  3: \"Neither agree nor disagree\",\n",
    "  4: \"Somewhat agree\",\n",
    "  5: \"Strongly agree\"\n",
    "},\n",
    "\"OUTLOOK_2\":{\n",
    "  -1: \"Refused\",\n",
    "  1: \"Strongly disagree\",\n",
    "  2: \"Somewhat disagree\",\n",
    "  3: \"Neither agree nor disagree\",\n",
    "  4: \"Somewhat agree\",\n",
    "  5: \"Strongly agree\"\n",
    "},\n",
    "\"INTERCONNECTIONS_1\":{\n",
    "  0: \"No\",\n",
    "  1: \"Yes\"\n",
    "},\n",
    "\"INTERCONNECTIONS_2\":{\n",
    "  0: \"No\",\n",
    "  1: \"Yes\"\n",
    "},\n",
    "\"INTERCONNECTIONS_3\":{\n",
    "  0: \"No\",\n",
    "  1: \"Yes\"\n",
    "},\n",
    "\"INTERCONNECTIONS_4\":{\n",
    "  0: \"No\",\n",
    "  1: \"Yes\"\n",
    "},\n",
    "\"INTERCONNECTIONS_5\":{\n",
    "  0: \"No\",\n",
    "  1: \"Yes\"\n",
    "},\n",
    "\"INTERCONNECTIONS_6\":{\n",
    "  0: \"No\",\n",
    "  1: \"Yes\"\n",
    "},\n",
    "\"INTERCONNECTIONS_7\":{\n",
    "  0: \"No\",\n",
    "  1: \"Yes\"\n",
    "},\n",
    "\"INTERCONNECTIONS_8\":{\n",
    "  0: \"No\",\n",
    "  1: \"Yes\"\n",
    "},\n",
    "\"INTERCONNECTIONS_9\":{\n",
    "  0: \"No\",\n",
    "  1: \"Yes\"\n",
    "},\n",
    "\"INTERCONNECTIONS_10\":{\n",
    "  0: \"No\",\n",
    "  1: \"Yes\"\n",
    "},\n",
    "\"PEM\":{\n",
    "  -1: \"Refused\",\n",
    "  1: \"Strongly disagree\",\n",
    "  2: \"Disagree\",\n",
    "  3: \"Somewhat disagree\",\n",
    "  4: \"Neither agree nor disagree\",\n",
    "  5: \"Somewhat agree\",\n",
    "  6: \"Agree\",\n",
    "  7: \"Strongly agree\"\n",
    "},\n",
    "\"HOUSESAT\":{\n",
    "  -1: \"Refused\",\n",
    "  1: \"Not at all satisfied\",\n",
    "  2: \"Not very satisfied\",\n",
    "  3: \"Somewhat satisfied\",\n",
    "  4: \"Very satisfied\"\n",
    "},\n",
    "\"SOCSEC1\":{\n",
    "  -2: \"Question not asked because respondent not in item base\",\n",
    "  -1: \"Refused\",\n",
    "  0: \"No\",\n",
    "  1: \"Yes\"\n",
    "},\n",
    "\"SOCSEC2\":{\n",
    "  -3: \"Invalid Response\",\n",
    "  -2: \"Question not asked because respondent not in item base\",\n",
    "  -1: \"Refused\",\n",
    "  62: \"62\",\n",
    "  63: \"63\",\n",
    "  64: \"64\",\n",
    "  65: \"65\",\n",
    "  66: \"66\",\n",
    "  67: \"67\",\n",
    "  68: \"68\",\n",
    "  69: \"69\",\n",
    "  70: \"70 and above\"\n",
    "},\n",
    "\"SOCSEC3\":{\n",
    "  -3: \"Invalid Response\",\n",
    "  -2: \"Question not asked because respondent not in item base\",\n",
    "  -1: \"Refused\",\n",
    "  61: \"61 and below\",\n",
    "  62: \"62\",\n",
    "  63: \"63\",\n",
    "  64: \"64\",\n",
    "  65: \"65\",\n",
    "  66: \"66\",\n",
    "  67: \"67\",\n",
    "  68: \"68\",\n",
    "  69: \"69\",\n",
    "  70: \"70\",\n",
    "  71: \"71 and above\"\n",
    "},\n",
    "\"LIFEEXPECT\":{\n",
    "  -2: \"Question not asked because respondent not in item base\",\n",
    "  -1: \"Refused\",\n",
    "  0: \"0\",\n",
    "  1: \"1\",\n",
    "  2: \"2\",\n",
    "  3: \"3\",\n",
    "  4: \"4\",\n",
    "  5: \"5\",\n",
    "  6: \"6\",\n",
    "  7: \"7\",\n",
    "  8: \"8\",\n",
    "  9: \"9\",\n",
    "  10: \"10\",\n",
    "  11: \"11\",\n",
    "  12: \"12\",\n",
    "  15: \"15\",\n",
    "  20: \"20\",\n",
    "  22: \"22\",\n",
    "  24: \"24\",\n",
    "  25: \"25\",\n",
    "  26: \"26\",\n",
    "  28: \"28\",\n",
    "  29: \"29\",\n",
    "  30: \"30\",\n",
    "  33: \"33\",\n",
    "  35: \"35\",\n",
    "  36: \"36\",\n",
    "  37: \"37\",\n",
    "  40: \"40\",\n",
    "  41: \"41\",\n",
    "  42: \"42\",\n",
    "  43: \"43\",\n",
    "  44: \"44\",\n",
    "  45: \"45\",\n",
    "  47: \"47\",\n",
    "  50: \"50\",\n",
    "  52: \"52\",\n",
    "  54: \"54\",\n",
    "  55: \"55\",\n",
    "  56: \"56\",\n",
    "  57: \"57\",\n",
    "  59: \"59\",\n",
    "  60: \"60\",\n",
    "  62: \"62\",\n",
    "  63: \"63\",\n",
    "  64: \"64\",\n",
    "  65: \"65\",\n",
    "  66: \"66\",\n",
    "  67: \"67\",\n",
    "  68: \"68\",\n",
    "  69: \"69\",\n",
    "  70: \"70\",\n",
    "  71: \"71\",\n",
    "  72: \"72\",\n",
    "  73: \"73\",\n",
    "  75: \"75\",\n",
    "  76: \"76\",\n",
    "  77: \"77\",\n",
    "  78: \"78\",\n",
    "  79: \"79\",\n",
    "  80: \"80\",\n",
    "  81: \"81\",\n",
    "  82: \"82\",\n",
    "  83: \"83\",\n",
    "  84: \"84\",\n",
    "  85: \"85\",\n",
    "  86: \"86\",\n",
    "  87: \"87\",\n",
    "  88: \"88\",\n",
    "  89: \"89\",\n",
    "  90: \"90\",\n",
    "  91: \"91\",\n",
    "  92: \"92\",\n",
    "  93: \"93\",\n",
    "  94: \"94\",\n",
    "  95: \"95\",\n",
    "  96: \"96\",\n",
    "  97: \"97\",\n",
    "  98: \"98\",\n",
    "  99: \"99\",\n",
    "  100: \"100\"\n",
    "},\n",
    "\"HHEDUC\":{\n",
    "  -1: \"Refused\",\n",
    "  1: \"Less than high school\",\n",
    "  2: \"High school degree/GED\",\n",
    "  3: \"Some college/Associate\",\n",
    "  4: \"Bachelors degree\",\n",
    "  5: \"Graduate/professional degree\"\n",
    "},\n",
    "\"KIDS_NoChildren\":{\n",
    "  -1: \"Refused\",\n",
    "  0: \"Respondent financially supports children\",\n",
    "  1: \"I have no children that I financially support\"\n",
    "},\n",
    "\"KIDS_1\":{\n",
    "  -1: \"Refused\",\n",
    "  0: \"0\",\n",
    "  1: \"1\",\n",
    "  2: \"2+\"\n",
    "},\n",
    "\"KIDS_2\":{\n",
    "  -3: \"Invalid Response\",\n",
    "  -1: \"Refused\",\n",
    "  0: \"0\",\n",
    "  1: \"1\",\n",
    "  2: \"2+\"\n",
    "},\n",
    "\"KIDS_3\":{\n",
    "  -1: \"Refused\",\n",
    "  0: \"0\",\n",
    "  1: \"1\",\n",
    "  2: \"2+\"\n",
    "},\n",
    "\"KIDS_4\":{\n",
    "  -1: \"Refused\",\n",
    "  0: \"0\",\n",
    "  1: \"1\",\n",
    "  2: \"2+\"\n",
    "},\n",
    "\"EMPLOY\":{\n",
    "  1: \"Self-employed\",\n",
    "  2: \"Work full-time for an employer or the military\",\n",
    "  3: \"Work part-time for an employer or the military\",\n",
    "  4: \"Homemaker\",\n",
    "  5: \"Full-time student\",\n",
    "  6: \"Permanently sick, disabled or unable to work\",\n",
    "  7: \"Unemployed or temporarily laid off\",\n",
    "  8: \"Retired\",\n",
    "  99: \"Refused\"\n",
    "},\n",
    "\"EMPLOY1_1\":{\n",
    "  0: \"No\",\n",
    "  1: \"Yes\"\n",
    "},\n",
    "\"EMPLOY1_2\":{\n",
    "  0: \"No\",\n",
    "  1: \"Yes\"\n",
    "},\n",
    "\"EMPLOY1_3\":{\n",
    "  0: \"No\",\n",
    "  1: \"Yes\"\n",
    "},\n",
    "\"EMPLOY1_4\":{\n",
    "  0: \"No\",\n",
    "  1: \"Yes\"\n",
    "},\n",
    "\"EMPLOY1_5\":{\n",
    "  0: \"No\",\n",
    "  1: \"Yes\"\n",
    "},\n",
    "\"EMPLOY1_6\":{\n",
    "  0: \"No\",\n",
    "  1: \"Yes\"\n",
    "},\n",
    "\"EMPLOY1_7\":{\n",
    "  0: \"No\",\n",
    "  1: \"Yes\"\n",
    "},\n",
    "\"EMPLOY1_8\":{\n",
    "  0: \"No\",\n",
    "  1: \"Yes\"\n",
    "},\n",
    "\"EMPLOY1_9\":{\n",
    "  0: \"No\",\n",
    "  1: \"Yes\"\n",
    "},\n",
    "\"RETIRE\":{\n",
    "  -2: \"Question not asked because respondent not in item base\",\n",
    "  -1: \"Refused\",\n",
    "  1: \"Earlier than planned\",\n",
    "  2: \"About when planned\",\n",
    "  3: \"Later than planned\"\n",
    "},\n",
    "\"MILITARY\":{\n",
    "  -1: \"Refused\",\n",
    "  0: \"No\",\n",
    "  1: \"Yes\"\n",
    "},\n",
    "\"Military_Status\":{\n",
    "  -1: \"Refused\",\n",
    "  1: \"Active military (active, reserve, natl guard)\",\n",
    "  2: \"Veteran (veteran or retired)\",\n",
    "  3: \"Spouse/dependent Active\",\n",
    "  4: \"Spouse/dependent Veteran\",\n",
    "  5: \"Neither Active nor Veteran\"\n",
    "},\n",
    "\"agecat\":{\n",
    "  1: \"18-24\",\n",
    "  2: \"25-34\",\n",
    "  3: \"35-44\",\n",
    "  4: \"45-54\",\n",
    "  5: \"55-61\",\n",
    "  6: \"62-69\",\n",
    "  7: \"70-74\",\n",
    "  8: \"75+\"\n",
    "},\n",
    "\"generation\":{\n",
    "  1: \"Pre-Boomer\",\n",
    "  2: \"Boomer\",\n",
    "  3: \"Gen X\",\n",
    "  4: \"Millennial\"\n",
    "},\n",
    "\"PPEDUC\":{\n",
    "  1: \"Less than high school\",\n",
    "  2: \"High school degree/GED\",\n",
    "  3: \"Some college/Associate\",\n",
    "  4: \"Bachelors degree\",\n",
    "  5: \"Graduate/professional degree\"\n",
    "},\n",
    "\"PPETHM\":{\n",
    "  1: \"White, Non-Hispanic\",\n",
    "  2: \"Black, Non-Hispanic\",\n",
    "  3: \"Other, Non-Hispanic\",\n",
    "  4: \"Hispanic\"\n",
    "},\n",
    "\"PPGENDER\":{\n",
    "  1: \"Male\",\n",
    "  2: \"Female\"\n",
    "},\n",
    "\"PPHHSIZE\":{\n",
    "  1: \"1\",\n",
    "  2: \"2\",\n",
    "  3: \"3\",\n",
    "  4: \"4\",\n",
    "  5: \"5+\"\n",
    "},\n",
    "\"PPINCIMP\":{\n",
    "  1: \"Less than $20,000\",\n",
    "  2: \"$20,000 to $29,999\",\n",
    "  3: \"$30,000 to $39,999\",\n",
    "  4: \"$40,000 to $49,999\",\n",
    "  5: \"$50,000 to $59,999\",\n",
    "  6: \"$60,000 to $74,999\",\n",
    "  7: \"$75,000 to $99,999\",\n",
    "  8: \"$100,000 to $149,999\",\n",
    "  9: \"$150,000 or more\"\n",
    "},\n",
    "\"PPMARIT\":{\n",
    "  1: \"Married\",\n",
    "  2: \"Widowed\",\n",
    "  3: \"Divorced/Separated\",\n",
    "  4: \"Never married\",\n",
    "  5: \"Living with partner\"\n",
    "},\n",
    "\"PPMSACAT\":{\n",
    "  0: \"Non-Metro\",\n",
    "  1: \"Metro\"\n",
    "},\n",
    "\"PPREG4\":{\n",
    "  1: \"Northeast\",\n",
    "  2: \"Midwest\",\n",
    "  3: \"South\",\n",
    "  4: \"West\"\n",
    "},\n",
    "\"PPREG9\":{\n",
    "  1: \"New England\",\n",
    "  2: \"Mid-Atlantic\",\n",
    "  3: \"East-North Central\",\n",
    "  4: \"West-North Central\",\n",
    "  5: \"South Atlantic\",\n",
    "  6: \"East-South Central\",\n",
    "  7: \"West-South Central\",\n",
    "  8: \"Mountain\",\n",
    "  9: \"Pacific\"\n",
    "},\n",
    "\"PPT01\":{\n",
    "  0: \"0\",\n",
    "  1: \"1+\"\n",
    "},\n",
    "\"PPT25\":{\n",
    "  0: \"0\",\n",
    "  1: \"1+\"\n",
    "},\n",
    "\"PPT612\":{\n",
    "  0: \"0\",\n",
    "  1: \"1+\"\n",
    "},\n",
    "\"PPT1317\":{\n",
    "  0: \"0\",\n",
    "  1: \"1+\"\n",
    "},\n",
    "\"PPT18OV\":{\n",
    "  1: \"1\",\n",
    "  2: \"2\",\n",
    "  3: \"3\",\n",
    "  4: \"4+\"\n",
    "},\n",
    "\"PCTLT200FPL\":{\n",
    "  -5: \"County is not known\",\n",
    "  0: \"Less than 40% of county population below 200% of poverty level\",\n",
    "  1: \"40% or more of county population below 200% of poverty level\"\n",
    "}})\n",
    "\n"
   ]
  },
  {
   "cell_type": "code",
   "execution_count": 3,
   "metadata": {},
   "outputs": [
    {
     "data": {
      "text/html": [
       "<div>\n",
       "<style scoped>\n",
       "    .dataframe tbody tr th:only-of-type {\n",
       "        vertical-align: middle;\n",
       "    }\n",
       "\n",
       "    .dataframe tbody tr th {\n",
       "        vertical-align: top;\n",
       "    }\n",
       "\n",
       "    .dataframe thead th {\n",
       "        text-align: right;\n",
       "    }\n",
       "</style>\n",
       "<table border=\"1\" class=\"dataframe\">\n",
       "  <thead>\n",
       "    <tr style=\"text-align: right;\">\n",
       "      <th></th>\n",
       "      <th>PUF_ID</th>\n",
       "      <th>sample</th>\n",
       "      <th>fpl</th>\n",
       "      <th>SWB_1</th>\n",
       "      <th>SWB_2</th>\n",
       "      <th>SWB_3</th>\n",
       "      <th>FWBscore</th>\n",
       "      <th>FWB1_1</th>\n",
       "      <th>FWB1_2</th>\n",
       "      <th>FWB1_3</th>\n",
       "      <th>...</th>\n",
       "      <th>PPMSACAT</th>\n",
       "      <th>PPREG4</th>\n",
       "      <th>PPREG9</th>\n",
       "      <th>PPT01</th>\n",
       "      <th>PPT25</th>\n",
       "      <th>PPT612</th>\n",
       "      <th>PPT1317</th>\n",
       "      <th>PPT18OV</th>\n",
       "      <th>PCTLT200FPL</th>\n",
       "      <th>finalwt</th>\n",
       "    </tr>\n",
       "  </thead>\n",
       "  <tbody>\n",
       "    <tr>\n",
       "      <th>0</th>\n",
       "      <td>10350</td>\n",
       "      <td>2</td>\n",
       "      <td>3</td>\n",
       "      <td>5</td>\n",
       "      <td>5</td>\n",
       "      <td>6</td>\n",
       "      <td>55</td>\n",
       "      <td>3</td>\n",
       "      <td>3</td>\n",
       "      <td>3</td>\n",
       "      <td>...</td>\n",
       "      <td>1</td>\n",
       "      <td>4</td>\n",
       "      <td>8</td>\n",
       "      <td>0</td>\n",
       "      <td>0</td>\n",
       "      <td>0</td>\n",
       "      <td>0</td>\n",
       "      <td>1</td>\n",
       "      <td>0</td>\n",
       "      <td>0.367292</td>\n",
       "    </tr>\n",
       "    <tr>\n",
       "      <th>1</th>\n",
       "      <td>7740</td>\n",
       "      <td>1</td>\n",
       "      <td>3</td>\n",
       "      <td>6</td>\n",
       "      <td>6</td>\n",
       "      <td>6</td>\n",
       "      <td>51</td>\n",
       "      <td>2</td>\n",
       "      <td>2</td>\n",
       "      <td>3</td>\n",
       "      <td>...</td>\n",
       "      <td>1</td>\n",
       "      <td>2</td>\n",
       "      <td>3</td>\n",
       "      <td>0</td>\n",
       "      <td>0</td>\n",
       "      <td>0</td>\n",
       "      <td>0</td>\n",
       "      <td>2</td>\n",
       "      <td>0</td>\n",
       "      <td>1.327561</td>\n",
       "    </tr>\n",
       "    <tr>\n",
       "      <th>2</th>\n",
       "      <td>13699</td>\n",
       "      <td>1</td>\n",
       "      <td>3</td>\n",
       "      <td>4</td>\n",
       "      <td>3</td>\n",
       "      <td>4</td>\n",
       "      <td>49</td>\n",
       "      <td>3</td>\n",
       "      <td>3</td>\n",
       "      <td>3</td>\n",
       "      <td>...</td>\n",
       "      <td>1</td>\n",
       "      <td>4</td>\n",
       "      <td>9</td>\n",
       "      <td>0</td>\n",
       "      <td>0</td>\n",
       "      <td>0</td>\n",
       "      <td>1</td>\n",
       "      <td>2</td>\n",
       "      <td>1</td>\n",
       "      <td>0.835156</td>\n",
       "    </tr>\n",
       "    <tr>\n",
       "      <th>3</th>\n",
       "      <td>7267</td>\n",
       "      <td>1</td>\n",
       "      <td>3</td>\n",
       "      <td>6</td>\n",
       "      <td>6</td>\n",
       "      <td>6</td>\n",
       "      <td>49</td>\n",
       "      <td>3</td>\n",
       "      <td>3</td>\n",
       "      <td>3</td>\n",
       "      <td>...</td>\n",
       "      <td>1</td>\n",
       "      <td>3</td>\n",
       "      <td>7</td>\n",
       "      <td>0</td>\n",
       "      <td>0</td>\n",
       "      <td>0</td>\n",
       "      <td>0</td>\n",
       "      <td>1</td>\n",
       "      <td>0</td>\n",
       "      <td>1.410871</td>\n",
       "    </tr>\n",
       "    <tr>\n",
       "      <th>4</th>\n",
       "      <td>7375</td>\n",
       "      <td>1</td>\n",
       "      <td>3</td>\n",
       "      <td>4</td>\n",
       "      <td>4</td>\n",
       "      <td>4</td>\n",
       "      <td>49</td>\n",
       "      <td>3</td>\n",
       "      <td>3</td>\n",
       "      <td>3</td>\n",
       "      <td>...</td>\n",
       "      <td>1</td>\n",
       "      <td>2</td>\n",
       "      <td>4</td>\n",
       "      <td>0</td>\n",
       "      <td>0</td>\n",
       "      <td>1</td>\n",
       "      <td>0</td>\n",
       "      <td>4</td>\n",
       "      <td>1</td>\n",
       "      <td>4.260668</td>\n",
       "    </tr>\n",
       "  </tbody>\n",
       "</table>\n",
       "<p>5 rows × 217 columns</p>\n",
       "</div>"
      ],
      "text/plain": [
       "   PUF_ID  sample  fpl  SWB_1  SWB_2  SWB_3  FWBscore  FWB1_1  FWB1_2  FWB1_3  \\\n",
       "0   10350       2    3      5      5      6        55       3       3       3   \n",
       "1    7740       1    3      6      6      6        51       2       2       3   \n",
       "2   13699       1    3      4      3      4        49       3       3       3   \n",
       "3    7267       1    3      6      6      6        49       3       3       3   \n",
       "4    7375       1    3      4      4      4        49       3       3       3   \n",
       "\n",
       "   ...  PPMSACAT  PPREG4  PPREG9  PPT01  PPT25  PPT612  PPT1317  PPT18OV  \\\n",
       "0  ...         1       4       8      0      0       0        0        1   \n",
       "1  ...         1       2       3      0      0       0        0        2   \n",
       "2  ...         1       4       9      0      0       0        1        2   \n",
       "3  ...         1       3       7      0      0       0        0        1   \n",
       "4  ...         1       2       4      0      0       1        0        4   \n",
       "\n",
       "   PCTLT200FPL   finalwt  \n",
       "0            0  0.367292  \n",
       "1            0  1.327561  \n",
       "2            1  0.835156  \n",
       "3            0  1.410871  \n",
       "4            1  4.260668  \n",
       "\n",
       "[5 rows x 217 columns]"
      ]
     },
     "execution_count": 3,
     "metadata": {},
     "output_type": "execute_result"
    }
   ],
   "source": [
    "people.head()"
   ]
  },
  {
   "cell_type": "code",
   "execution_count": 4,
   "metadata": {},
   "outputs": [
    {
     "data": {
      "text/html": [
       "<div>\n",
       "<style scoped>\n",
       "    .dataframe tbody tr th:only-of-type {\n",
       "        vertical-align: middle;\n",
       "    }\n",
       "\n",
       "    .dataframe tbody tr th {\n",
       "        vertical-align: top;\n",
       "    }\n",
       "\n",
       "    .dataframe thead th {\n",
       "        text-align: right;\n",
       "    }\n",
       "</style>\n",
       "<table border=\"1\" class=\"dataframe\">\n",
       "  <thead>\n",
       "    <tr style=\"text-align: right;\">\n",
       "      <th></th>\n",
       "      <th>PUF_ID</th>\n",
       "      <th>sample</th>\n",
       "      <th>fpl</th>\n",
       "      <th>SWB_1</th>\n",
       "      <th>SWB_2</th>\n",
       "      <th>SWB_3</th>\n",
       "      <th>FWBscore</th>\n",
       "      <th>FWB1_1</th>\n",
       "      <th>FWB1_2</th>\n",
       "      <th>FWB1_3</th>\n",
       "      <th>...</th>\n",
       "      <th>PPMSACAT</th>\n",
       "      <th>PPREG4</th>\n",
       "      <th>PPREG9</th>\n",
       "      <th>PPT01</th>\n",
       "      <th>PPT25</th>\n",
       "      <th>PPT612</th>\n",
       "      <th>PPT1317</th>\n",
       "      <th>PPT18OV</th>\n",
       "      <th>PCTLT200FPL</th>\n",
       "      <th>finalwt</th>\n",
       "    </tr>\n",
       "  </thead>\n",
       "  <tbody>\n",
       "    <tr>\n",
       "      <th>0</th>\n",
       "      <td>10350</td>\n",
       "      <td>Age 62+ oversample</td>\n",
       "      <td>200%+ FPL</td>\n",
       "      <td>5</td>\n",
       "      <td>5</td>\n",
       "      <td>6</td>\n",
       "      <td>55</td>\n",
       "      <td>Somewhat</td>\n",
       "      <td>Somewhat</td>\n",
       "      <td>Somewhat</td>\n",
       "      <td>...</td>\n",
       "      <td>Metro</td>\n",
       "      <td>West</td>\n",
       "      <td>Mountain</td>\n",
       "      <td>0</td>\n",
       "      <td>0</td>\n",
       "      <td>0</td>\n",
       "      <td>0</td>\n",
       "      <td>1</td>\n",
       "      <td>Less than 40% of county population below 200% ...</td>\n",
       "      <td>0.367292</td>\n",
       "    </tr>\n",
       "    <tr>\n",
       "      <th>1</th>\n",
       "      <td>7740</td>\n",
       "      <td>General population</td>\n",
       "      <td>200%+ FPL</td>\n",
       "      <td>6</td>\n",
       "      <td>6</td>\n",
       "      <td>6</td>\n",
       "      <td>51</td>\n",
       "      <td>Very little</td>\n",
       "      <td>Very little</td>\n",
       "      <td>Somewhat</td>\n",
       "      <td>...</td>\n",
       "      <td>Metro</td>\n",
       "      <td>Midwest</td>\n",
       "      <td>East-North Central</td>\n",
       "      <td>0</td>\n",
       "      <td>0</td>\n",
       "      <td>0</td>\n",
       "      <td>0</td>\n",
       "      <td>2</td>\n",
       "      <td>Less than 40% of county population below 200% ...</td>\n",
       "      <td>1.327561</td>\n",
       "    </tr>\n",
       "    <tr>\n",
       "      <th>2</th>\n",
       "      <td>13699</td>\n",
       "      <td>General population</td>\n",
       "      <td>200%+ FPL</td>\n",
       "      <td>4</td>\n",
       "      <td>3</td>\n",
       "      <td>4</td>\n",
       "      <td>49</td>\n",
       "      <td>Somewhat</td>\n",
       "      <td>Somewhat</td>\n",
       "      <td>Somewhat</td>\n",
       "      <td>...</td>\n",
       "      <td>Metro</td>\n",
       "      <td>West</td>\n",
       "      <td>Pacific</td>\n",
       "      <td>0</td>\n",
       "      <td>0</td>\n",
       "      <td>0</td>\n",
       "      <td>1+</td>\n",
       "      <td>2</td>\n",
       "      <td>40% or more of county population below 200% of...</td>\n",
       "      <td>0.835156</td>\n",
       "    </tr>\n",
       "    <tr>\n",
       "      <th>3</th>\n",
       "      <td>7267</td>\n",
       "      <td>General population</td>\n",
       "      <td>200%+ FPL</td>\n",
       "      <td>6</td>\n",
       "      <td>6</td>\n",
       "      <td>6</td>\n",
       "      <td>49</td>\n",
       "      <td>Somewhat</td>\n",
       "      <td>Somewhat</td>\n",
       "      <td>Somewhat</td>\n",
       "      <td>...</td>\n",
       "      <td>Metro</td>\n",
       "      <td>South</td>\n",
       "      <td>West-South Central</td>\n",
       "      <td>0</td>\n",
       "      <td>0</td>\n",
       "      <td>0</td>\n",
       "      <td>0</td>\n",
       "      <td>1</td>\n",
       "      <td>Less than 40% of county population below 200% ...</td>\n",
       "      <td>1.410871</td>\n",
       "    </tr>\n",
       "    <tr>\n",
       "      <th>4</th>\n",
       "      <td>7375</td>\n",
       "      <td>General population</td>\n",
       "      <td>200%+ FPL</td>\n",
       "      <td>4</td>\n",
       "      <td>4</td>\n",
       "      <td>4</td>\n",
       "      <td>49</td>\n",
       "      <td>Somewhat</td>\n",
       "      <td>Somewhat</td>\n",
       "      <td>Somewhat</td>\n",
       "      <td>...</td>\n",
       "      <td>Metro</td>\n",
       "      <td>Midwest</td>\n",
       "      <td>West-North Central</td>\n",
       "      <td>0</td>\n",
       "      <td>0</td>\n",
       "      <td>1+</td>\n",
       "      <td>0</td>\n",
       "      <td>4+</td>\n",
       "      <td>40% or more of county population below 200% of...</td>\n",
       "      <td>4.260668</td>\n",
       "    </tr>\n",
       "  </tbody>\n",
       "</table>\n",
       "<p>5 rows × 217 columns</p>\n",
       "</div>"
      ],
      "text/plain": [
       "   PUF_ID              sample        fpl SWB_1 SWB_2 SWB_3 FWBscore  \\\n",
       "0   10350  Age 62+ oversample  200%+ FPL     5     5     6       55   \n",
       "1    7740  General population  200%+ FPL     6     6     6       51   \n",
       "2   13699  General population  200%+ FPL     4     3     4       49   \n",
       "3    7267  General population  200%+ FPL     6     6     6       49   \n",
       "4    7375  General population  200%+ FPL     4     4     4       49   \n",
       "\n",
       "        FWB1_1       FWB1_2    FWB1_3  ... PPMSACAT   PPREG4  \\\n",
       "0     Somewhat     Somewhat  Somewhat  ...    Metro     West   \n",
       "1  Very little  Very little  Somewhat  ...    Metro  Midwest   \n",
       "2     Somewhat     Somewhat  Somewhat  ...    Metro     West   \n",
       "3     Somewhat     Somewhat  Somewhat  ...    Metro    South   \n",
       "4     Somewhat     Somewhat  Somewhat  ...    Metro  Midwest   \n",
       "\n",
       "               PPREG9 PPT01 PPT25 PPT612 PPT1317 PPT18OV  \\\n",
       "0            Mountain     0     0      0       0       1   \n",
       "1  East-North Central     0     0      0       0       2   \n",
       "2             Pacific     0     0      0      1+       2   \n",
       "3  West-South Central     0     0      0       0       1   \n",
       "4  West-North Central     0     0     1+       0      4+   \n",
       "\n",
       "                                         PCTLT200FPL   finalwt  \n",
       "0  Less than 40% of county population below 200% ...  0.367292  \n",
       "1  Less than 40% of county population below 200% ...  1.327561  \n",
       "2  40% or more of county population below 200% of...  0.835156  \n",
       "3  Less than 40% of county population below 200% ...  1.410871  \n",
       "4  40% or more of county population below 200% of...  4.260668  \n",
       "\n",
       "[5 rows x 217 columns]"
      ]
     },
     "execution_count": 4,
     "metadata": {},
     "output_type": "execute_result"
    }
   ],
   "source": [
    "people_map.head()"
   ]
  },
  {
   "cell_type": "code",
   "execution_count": 5,
   "metadata": {},
   "outputs": [],
   "source": [
    "a=people.take([0], axis=0).T.reset_index()"
   ]
  },
  {
   "cell_type": "code",
   "execution_count": 6,
   "metadata": {},
   "outputs": [
    {
     "data": {
      "text/html": [
       "<div>\n",
       "<style scoped>\n",
       "    .dataframe tbody tr th:only-of-type {\n",
       "        vertical-align: middle;\n",
       "    }\n",
       "\n",
       "    .dataframe tbody tr th {\n",
       "        vertical-align: top;\n",
       "    }\n",
       "\n",
       "    .dataframe thead th {\n",
       "        text-align: right;\n",
       "    }\n",
       "</style>\n",
       "<table border=\"1\" class=\"dataframe\">\n",
       "  <thead>\n",
       "    <tr style=\"text-align: right;\">\n",
       "      <th></th>\n",
       "      <th>index</th>\n",
       "      <th>0</th>\n",
       "    </tr>\n",
       "  </thead>\n",
       "  <tbody>\n",
       "    <tr>\n",
       "      <th>0</th>\n",
       "      <td>PUF_ID</td>\n",
       "      <td>10350.000000</td>\n",
       "    </tr>\n",
       "    <tr>\n",
       "      <th>1</th>\n",
       "      <td>sample</td>\n",
       "      <td>2.000000</td>\n",
       "    </tr>\n",
       "    <tr>\n",
       "      <th>2</th>\n",
       "      <td>fpl</td>\n",
       "      <td>3.000000</td>\n",
       "    </tr>\n",
       "    <tr>\n",
       "      <th>3</th>\n",
       "      <td>SWB_1</td>\n",
       "      <td>5.000000</td>\n",
       "    </tr>\n",
       "    <tr>\n",
       "      <th>4</th>\n",
       "      <td>SWB_2</td>\n",
       "      <td>5.000000</td>\n",
       "    </tr>\n",
       "    <tr>\n",
       "      <th>...</th>\n",
       "      <td>...</td>\n",
       "      <td>...</td>\n",
       "    </tr>\n",
       "    <tr>\n",
       "      <th>212</th>\n",
       "      <td>PPT612</td>\n",
       "      <td>0.000000</td>\n",
       "    </tr>\n",
       "    <tr>\n",
       "      <th>213</th>\n",
       "      <td>PPT1317</td>\n",
       "      <td>0.000000</td>\n",
       "    </tr>\n",
       "    <tr>\n",
       "      <th>214</th>\n",
       "      <td>PPT18OV</td>\n",
       "      <td>1.000000</td>\n",
       "    </tr>\n",
       "    <tr>\n",
       "      <th>215</th>\n",
       "      <td>PCTLT200FPL</td>\n",
       "      <td>0.000000</td>\n",
       "    </tr>\n",
       "    <tr>\n",
       "      <th>216</th>\n",
       "      <td>finalwt</td>\n",
       "      <td>0.367292</td>\n",
       "    </tr>\n",
       "  </tbody>\n",
       "</table>\n",
       "<p>217 rows × 2 columns</p>\n",
       "</div>"
      ],
      "text/plain": [
       "           index             0\n",
       "0         PUF_ID  10350.000000\n",
       "1         sample      2.000000\n",
       "2            fpl      3.000000\n",
       "3          SWB_1      5.000000\n",
       "4          SWB_2      5.000000\n",
       "..           ...           ...\n",
       "212       PPT612      0.000000\n",
       "213      PPT1317      0.000000\n",
       "214      PPT18OV      1.000000\n",
       "215  PCTLT200FPL      0.000000\n",
       "216      finalwt      0.367292\n",
       "\n",
       "[217 rows x 2 columns]"
      ]
     },
     "metadata": {},
     "output_type": "display_data"
    }
   ],
   "source": [
    "display(a)"
   ]
  },
  {
   "cell_type": "code",
   "execution_count": 7,
   "metadata": {},
   "outputs": [],
   "source": [
    "pd.set_option('display.max_rows', None) \n"
   ]
  },
  {
   "cell_type": "code",
   "execution_count": 8,
   "metadata": {},
   "outputs": [],
   "source": [
    "a.columns=[\"var\",\"value\"]"
   ]
  },
  {
   "cell_type": "code",
   "execution_count": 9,
   "metadata": {},
   "outputs": [],
   "source": [
    "#display(a)"
   ]
  },
  {
   "cell_type": "code",
   "execution_count": null,
   "metadata": {},
   "outputs": [],
   "source": []
  },
  {
   "cell_type": "code",
   "execution_count": 10,
   "metadata": {},
   "outputs": [],
   "source": [
    "# 1 Estimation of financial knowledge"
   ]
  },
  {
   "cell_type": "code",
   "execution_count": 11,
   "metadata": {},
   "outputs": [],
   "source": [
    "var_finacial_knowledge=[\"SUBKNOWL1\",\"LMscore\",\"KHscore\",\"FSscore\"]"
   ]
  },
  {
   "cell_type": "code",
   "execution_count": 12,
   "metadata": {},
   "outputs": [],
   "source": [
    "# 1. 1 We create a score of three levels for the variable : SUBKNOWL1 (How would you assess your ovarall financial knowledge?)"
   ]
  },
  {
   "cell_type": "code",
   "execution_count": 13,
   "metadata": {},
   "outputs": [
    {
     "data": {
      "text/plain": [
       "-1      52\n",
       " 1     124\n",
       " 2     153\n",
       " 3     528\n",
       " 4    1489\n",
       " 5    2648\n",
       " 6    1072\n",
       " 7     328\n",
       "Name: SUBKNOWL1, dtype: int64"
      ]
     },
     "execution_count": 13,
     "metadata": {},
     "output_type": "execute_result"
    }
   ],
   "source": [
    "people[\"SUBKNOWL1\"].value_counts().sort_index()"
   ]
  },
  {
   "cell_type": "code",
   "execution_count": 14,
   "metadata": {},
   "outputs": [
    {
     "data": {
      "text/plain": [
       "5                2648\n",
       "4                1489\n",
       "6                1072\n",
       "3                 528\n",
       "7 - Very high     328\n",
       "2                 153\n",
       "1 - Very low      124\n",
       "Refused            52\n",
       "Name: SUBKNOWL1, dtype: int64"
      ]
     },
     "execution_count": 14,
     "metadata": {},
     "output_type": "execute_result"
    }
   ],
   "source": [
    "people_map[\"SUBKNOWL1\"].value_counts()"
   ]
  },
  {
   "cell_type": "code",
   "execution_count": 15,
   "metadata": {},
   "outputs": [
    {
     "data": {
      "text/plain": [
       "4.0"
      ]
     },
     "execution_count": 15,
     "metadata": {},
     "output_type": "execute_result"
    }
   ],
   "source": [
    "people[\"SUBKNOWL1\"].quantile(0.33)"
   ]
  },
  {
   "cell_type": "code",
   "execution_count": 16,
   "metadata": {},
   "outputs": [
    {
     "data": {
      "text/plain": [
       "5.0"
      ]
     },
     "execution_count": 16,
     "metadata": {},
     "output_type": "execute_result"
    }
   ],
   "source": [
    "people[\"SUBKNOWL1\"].quantile(0.66)"
   ]
  },
  {
   "cell_type": "code",
   "execution_count": 17,
   "metadata": {},
   "outputs": [],
   "source": [
    "import numpy as np\n",
    "# create a list of our conditions\n",
    "conditions = [\n",
    "    (people[\"SUBKNOWL1\"]> 0) & (people[\"SUBKNOWL1\"] <= 3),\n",
    "    (people[\"SUBKNOWL1\"]> 3) & (people[\"SUBKNOWL1\"] <= 5),\n",
    "    (people[\"SUBKNOWL1\"] > 5)]\n",
    "\n",
    "# create a list of the values we want to assign for each condition\n",
    "values = [1, 2, 3]\n",
    "\n",
    "# create a new column and use np.select to assign values to it using our lists as arguments\n",
    "people[\"sub_knowl_index\"] = np.select(conditions, values)\n"
   ]
  },
  {
   "cell_type": "code",
   "execution_count": 18,
   "metadata": {},
   "outputs": [
    {
     "data": {
      "text/plain": [
       "0      52\n",
       "1     805\n",
       "2    4137\n",
       "3    1400\n",
       "Name: sub_knowl_index, dtype: int64"
      ]
     },
     "execution_count": 18,
     "metadata": {},
     "output_type": "execute_result"
    }
   ],
   "source": [
    "people[\"sub_knowl_index\"].value_counts().sort_index()"
   ]
  },
  {
   "cell_type": "code",
   "execution_count": 19,
   "metadata": {},
   "outputs": [],
   "source": [
    "# 1. 2 We will use the same score of three levels for the variable : LMscore (Lusardi and Mitchels financial knowledge score)"
   ]
  },
  {
   "cell_type": "code",
   "execution_count": 20,
   "metadata": {},
   "outputs": [
    {
     "data": {
      "text/plain": [
       "0     137\n",
       "1     613\n",
       "2    1520\n",
       "3    4124\n",
       "Name: LMscore, dtype: int64"
      ]
     },
     "execution_count": 20,
     "metadata": {},
     "output_type": "execute_result"
    }
   ],
   "source": [
    "people[\"LMscore\"].value_counts().sort_index()"
   ]
  },
  {
   "cell_type": "code",
   "execution_count": 21,
   "metadata": {},
   "outputs": [
    {
     "data": {
      "text/plain": [
       "0     137\n",
       "1     613\n",
       "2    1520\n",
       "3    4124\n",
       "Name: LMscore, dtype: int64"
      ]
     },
     "execution_count": 21,
     "metadata": {},
     "output_type": "execute_result"
    }
   ],
   "source": [
    "people_map[\"LMscore\"].value_counts().sort_index()"
   ]
  },
  {
   "cell_type": "code",
   "execution_count": 22,
   "metadata": {},
   "outputs": [],
   "source": [
    "# create a list of our conditions\n",
    "conditions = [\n",
    "    (people[\"LMscore\"]==0) | (people[\"LMscore\"] == 1),\n",
    "    (people[\"LMscore\"]== 2),\n",
    "    (people[\"LMscore\"]==3)]\n",
    "\n",
    "# create a list of the values we want to assign for each condition\n",
    "values = [1, 2, 3]\n",
    "\n",
    "# create a new column and use np.select to assign values to it using our lists as arguments\n",
    "people[\"lm_score_index\"] = np.select(conditions, values)"
   ]
  },
  {
   "cell_type": "code",
   "execution_count": 23,
   "metadata": {},
   "outputs": [
    {
     "data": {
      "text/plain": [
       "1     750\n",
       "2    1520\n",
       "3    4124\n",
       "Name: lm_score_index, dtype: int64"
      ]
     },
     "execution_count": 23,
     "metadata": {},
     "output_type": "execute_result"
    }
   ],
   "source": [
    "people[\"lm_score_index\"].value_counts().sort_index()"
   ]
  },
  {
   "cell_type": "code",
   "execution_count": 24,
   "metadata": {},
   "outputs": [],
   "source": [
    "# 1. 3 We will use the same score of three levels for the variable : KHscore (Knoll and Houts financial knowledge score)"
   ]
  },
  {
   "cell_type": "code",
   "execution_count": 25,
   "metadata": {},
   "outputs": [
    {
     "data": {
      "text/plain": [
       "-2053.000      23\n",
       "-1713.000     127\n",
       "-1485.000     242\n",
       "-1215.000     376\n",
       "-1.900         42\n",
       "-0.909        595\n",
       "-0.570        833\n",
       "-0.188       1031\n",
       " 0.242       1259\n",
       " 0.712       1194\n",
       " 1267.000     672\n",
       "Name: KHscore, dtype: int64"
      ]
     },
     "execution_count": 25,
     "metadata": {},
     "output_type": "execute_result"
    }
   ],
   "source": [
    "people[\"KHscore\"].value_counts().sort_index()"
   ]
  },
  {
   "cell_type": "code",
   "execution_count": 26,
   "metadata": {},
   "outputs": [
    {
     "data": {
      "text/plain": [
       "-2053.000      23\n",
       "-1713.000     127\n",
       "-1485.000     242\n",
       "-1215.000     376\n",
       "-1.900         42\n",
       "-0.909        595\n",
       "-0.570        833\n",
       "-0.188       1031\n",
       " 0.242       1259\n",
       " 0.712       1194\n",
       " 1267.000     672\n",
       "Name: KHscore, dtype: int64"
      ]
     },
     "execution_count": 26,
     "metadata": {},
     "output_type": "execute_result"
    }
   ],
   "source": [
    "people_map[\"KHscore\"].value_counts().sort_index()"
   ]
  },
  {
   "cell_type": "code",
   "execution_count": 27,
   "metadata": {},
   "outputs": [
    {
     "data": {
      "text/plain": [
       "-0.57"
      ]
     },
     "execution_count": 27,
     "metadata": {},
     "output_type": "execute_result"
    }
   ],
   "source": [
    "people[\"KHscore\"].quantile(0.33)"
   ]
  },
  {
   "cell_type": "code",
   "execution_count": 28,
   "metadata": {},
   "outputs": [
    {
     "data": {
      "text/plain": [
       "0.242"
      ]
     },
     "execution_count": 28,
     "metadata": {},
     "output_type": "execute_result"
    }
   ],
   "source": [
    "people[\"KHscore\"].quantile(0.66)"
   ]
  },
  {
   "cell_type": "code",
   "execution_count": 29,
   "metadata": {},
   "outputs": [],
   "source": [
    "# create a list of our conditions\n",
    "conditions = [\n",
    "    (people[\"KHscore\"] <= -0.57),\n",
    "    (people[\"KHscore\"]> -0.57) & (people[\"KHscore\"] <= 0.242),\n",
    "    (people[\"KHscore\"] > 0.242)]\n",
    "\n",
    "# create a list of the values we want to assign for each condition\n",
    "values = [1, 2, 3]\n",
    "\n",
    "# create a new column and use np.select to assign values to it using our lists as arguments\n",
    "people[\"kh_score_index\"] = np.select(conditions, values)"
   ]
  },
  {
   "cell_type": "code",
   "execution_count": 30,
   "metadata": {},
   "outputs": [
    {
     "data": {
      "text/plain": [
       "1    2238\n",
       "2    2290\n",
       "3    1866\n",
       "Name: kh_score_index, dtype: int64"
      ]
     },
     "execution_count": 30,
     "metadata": {},
     "output_type": "execute_result"
    }
   ],
   "source": [
    "people[\"kh_score_index\"].value_counts().sort_index()"
   ]
  },
  {
   "cell_type": "code",
   "execution_count": 31,
   "metadata": {},
   "outputs": [],
   "source": [
    "# 1. 4 We will use the same score of three levels for the variable : FSscore (Financial skills score)"
   ]
  },
  {
   "cell_type": "code",
   "execution_count": 32,
   "metadata": {},
   "outputs": [],
   "source": [
    "#people[\"FSscore\"].value_counts().sort_index()"
   ]
  },
  {
   "cell_type": "code",
   "execution_count": 33,
   "metadata": {},
   "outputs": [
    {
     "data": {
      "text/plain": [
       "45.0"
      ]
     },
     "execution_count": 33,
     "metadata": {},
     "output_type": "execute_result"
    }
   ],
   "source": [
    "people[\"FSscore\"].quantile(0.33)"
   ]
  },
  {
   "cell_type": "code",
   "execution_count": 34,
   "metadata": {},
   "outputs": [
    {
     "data": {
      "text/plain": [
       "55.0"
      ]
     },
     "execution_count": 34,
     "metadata": {},
     "output_type": "execute_result"
    }
   ],
   "source": [
    "people[\"FSscore\"].quantile(0.66)"
   ]
  },
  {
   "cell_type": "code",
   "execution_count": 45,
   "metadata": {},
   "outputs": [],
   "source": [
    "# create a list of our conditions\n",
    "conditions = [\n",
    "    (people[\"FSscore\"] <= 45),\n",
    "    (people[\"FSscore\"]> 45) & (people[\"FSscore\"] <= 55),\n",
    "    (people[\"FSscore\"] > 55)]\n",
    "\n",
    "# create a list of the values we want to assign for each condition\n",
    "values = [1, 2, 3]\n",
    "\n",
    "# create a new column and use np.select to assign values to it using our lists as arguments\n",
    "people[\"fs_score_index\"] = np.select(conditions, values)"
   ]
  },
  {
   "cell_type": "code",
   "execution_count": 46,
   "metadata": {},
   "outputs": [
    {
     "data": {
      "text/plain": [
       "1    2312\n",
       "2    2071\n",
       "3    2011\n",
       "Name: fs_score_index, dtype: int64"
      ]
     },
     "execution_count": 46,
     "metadata": {},
     "output_type": "execute_result"
    }
   ],
   "source": [
    "people[\"fs_score_index\"].value_counts().sort_index()"
   ]
  },
  {
   "cell_type": "code",
   "execution_count": 47,
   "metadata": {},
   "outputs": [],
   "source": [
    "# 1. 5 We will combine the 4 scores in a single classification"
   ]
  },
  {
   "cell_type": "code",
   "execution_count": 51,
   "metadata": {},
   "outputs": [],
   "source": [
    "people[\"Financial_Knowledge\"]=(people[\"sub_knowl_index\"]+people[\"lm_score_index\"]+people[\"kh_score_index\"]+people[\"fs_score_index\"])/4"
   ]
  },
  {
   "cell_type": "code",
   "execution_count": 52,
   "metadata": {},
   "outputs": [
    {
     "data": {
      "text/plain": [
       "0.75      11\n",
       "1.00     113\n",
       "1.25     398\n",
       "1.50     647\n",
       "1.75     803\n",
       "2.00    1133\n",
       "2.25    1128\n",
       "2.50    1053\n",
       "2.75     676\n",
       "3.00     432\n",
       "Name: Financial_Knowledge, dtype: int64"
      ]
     },
     "execution_count": 52,
     "metadata": {},
     "output_type": "execute_result"
    }
   ],
   "source": [
    "people[\"Financial_Knowledge\"].value_counts().sort_index()"
   ]
  },
  {
   "cell_type": "code",
   "execution_count": 53,
   "metadata": {},
   "outputs": [
    {
     "data": {
      "text/plain": [
       "2.0"
      ]
     },
     "execution_count": 53,
     "metadata": {},
     "output_type": "execute_result"
    }
   ],
   "source": [
    "people[\"Financial_Knowledge\"].quantile(0.33)"
   ]
  },
  {
   "cell_type": "code",
   "execution_count": 54,
   "metadata": {},
   "outputs": [
    {
     "data": {
      "text/plain": [
       "2.25"
      ]
     },
     "execution_count": 54,
     "metadata": {},
     "output_type": "execute_result"
    }
   ],
   "source": [
    "people[\"Financial_Knowledge\"].quantile(0.66)"
   ]
  },
  {
   "cell_type": "code",
   "execution_count": 55,
   "metadata": {},
   "outputs": [],
   "source": [
    "# create a list of our conditions\n",
    "conditions = [\n",
    "    (people[\"Financial_Knowledge\"]> 0) & (people[\"Financial_Knowledge\"] < 2),\n",
    "    (people[\"Financial_Knowledge\"]>= 2) & (people[\"Financial_Knowledge\"] <= 2.25),\n",
    "    (people[\"Financial_Knowledge\"] > 2.25)]\n",
    "\n",
    "# create a list of the values we want to assign for each condition\n",
    "values = [\"1\", \"2\", \"3\"]\n",
    "\n",
    "# create a new column and use np.select to assign values to it using our lists as arguments\n",
    "people[\"financial_knowledge_index\"] = np.select(conditions, values)"
   ]
  },
  {
   "cell_type": "code",
   "execution_count": 56,
   "metadata": {},
   "outputs": [
    {
     "data": {
      "text/plain": [
       "1    1972\n",
       "2    2261\n",
       "3    2161\n",
       "Name: financial_knowledge_index, dtype: int64"
      ]
     },
     "execution_count": 56,
     "metadata": {},
     "output_type": "execute_result"
    }
   ],
   "source": [
    "people[\"financial_knowledge_index\"].value_counts().sort_index()"
   ]
  },
  {
   "cell_type": "code",
   "execution_count": 57,
   "metadata": {},
   "outputs": [],
   "source": [
    " # 2. Estimation of temporary scope"
   ]
  },
  {
   "cell_type": "code",
   "execution_count": 58,
   "metadata": {},
   "outputs": [],
   "source": [
    "# We will use just one variable to estimate the temporary scope"
   ]
  },
  {
   "cell_type": "code",
   "execution_count": 59,
   "metadata": {},
   "outputs": [],
   "source": [
    "var_temporary_scope=[\"SCFHORIZON\"]"
   ]
  },
  {
   "cell_type": "code",
   "execution_count": 60,
   "metadata": {},
   "outputs": [
    {
     "data": {
      "text/plain": [
       "-1      82\n",
       " 2     923\n",
       " 1    1022\n",
       " 5    1063\n",
       " 4    1574\n",
       " 3    1730\n",
       "Name: SCFHORIZON, dtype: int64"
      ]
     },
     "execution_count": 60,
     "metadata": {},
     "output_type": "execute_result"
    }
   ],
   "source": [
    "people[\"SCFHORIZON\"].value_counts().sort_values()"
   ]
  },
  {
   "cell_type": "code",
   "execution_count": 61,
   "metadata": {},
   "outputs": [
    {
     "data": {
      "text/plain": [
       "Refused                     82\n",
       "The next year              923\n",
       "The next few months       1022\n",
       "Longer than 10 years      1063\n",
       "The next 5 to 10 years    1574\n",
       "The next few years        1730\n",
       "Name: SCFHORIZON, dtype: int64"
      ]
     },
     "execution_count": 61,
     "metadata": {},
     "output_type": "execute_result"
    }
   ],
   "source": [
    "people_map[\"SCFHORIZON\"].value_counts().sort_values()"
   ]
  },
  {
   "cell_type": "code",
   "execution_count": 62,
   "metadata": {},
   "outputs": [],
   "source": [
    "# create a list of our conditions\n",
    "conditions = [\n",
    "    (people[\"SCFHORIZON\"]<=2),\n",
    "    (people[\"SCFHORIZON\"]==3),\n",
    "    (people[\"SCFHORIZON\"]==4), \n",
    "    (people[\"SCFHORIZON\"]==5)]\n",
    "\n",
    "# create a list of the values we want to assign for each condition\n",
    "values = [\"1\", \"2\", \"3\", \"4\"]\n",
    "\n",
    "# create a new column and use np.select to assign values to it using our lists as arguments\n",
    "people[\"temporary_scope\"] = np.select(conditions, values)"
   ]
  },
  {
   "cell_type": "code",
   "execution_count": 63,
   "metadata": {},
   "outputs": [
    {
     "data": {
      "text/plain": [
       "1    2027\n",
       "2    1730\n",
       "3    1574\n",
       "4    1063\n",
       "Name: temporary_scope, dtype: int64"
      ]
     },
     "execution_count": 63,
     "metadata": {},
     "output_type": "execute_result"
    }
   ],
   "source": [
    "people[\"temporary_scope\"].value_counts().sort_index()"
   ]
  },
  {
   "cell_type": "code",
   "execution_count": 64,
   "metadata": {},
   "outputs": [],
   "source": [
    "# IMPORTANT: find a way to make sure that NAN respondants are not included\n",
    "# a. Eliminate sistematically from the raw data\n",
    "# b. Make sure they are not included in the index calculations (review the processes)"
   ]
  },
  {
   "cell_type": "code",
   "execution_count": 65,
   "metadata": {},
   "outputs": [],
   "source": [
    " # 3. Estimation of risk profile"
   ]
  },
  {
   "cell_type": "code",
   "execution_count": 66,
   "metadata": {},
   "outputs": [],
   "source": [
    "var_risk_profile=[\"SELFCONTROL_1\",\"SELFCONTROL_2\",\"SELFCONTROL_3\",\"agecat\",\"PRODHAVE_6\",\"PRODHAVE_2\",\"PRODHAVE_3\"]"
   ]
  },
  {
   "cell_type": "code",
   "execution_count": 67,
   "metadata": {},
   "outputs": [],
   "source": [
    " # 3.1 We will create a score for  behavioral_risk_1"
   ]
  },
  {
   "cell_type": "code",
   "execution_count": 68,
   "metadata": {},
   "outputs": [
    {
     "data": {
      "text/plain": [
       "-1      54\n",
       " 1    2039\n",
       " 2    2888\n",
       " 3    1185\n",
       " 4     228\n",
       "Name: SELFCONTROL_1, dtype: int64"
      ]
     },
     "execution_count": 68,
     "metadata": {},
     "output_type": "execute_result"
    }
   ],
   "source": [
    "people[\"SELFCONTROL_1\"].value_counts().sort_index()"
   ]
  },
  {
   "cell_type": "code",
   "execution_count": 69,
   "metadata": {},
   "outputs": [],
   "source": [
    "# create a list of our conditions\n",
    "conditions = [\n",
    "    (people[\"SELFCONTROL_1\"]> 0) & (people[\"SELFCONTROL_1\"] <= 2),\n",
    "    (people[\"SELFCONTROL_1\"]> 2)]\n",
    "\n",
    "# create a list of the values we want to assign for each condition\n",
    "values = [0,1]\n",
    "\n",
    "# create a new column and use np.select to assign values to it using our lists as arguments\n",
    "people[\"behavioral_risk_1\"] = np.select(conditions, values)"
   ]
  },
  {
   "cell_type": "code",
   "execution_count": 70,
   "metadata": {},
   "outputs": [
    {
     "data": {
      "text/plain": [
       "0    4981\n",
       "1    1413\n",
       "Name: behavioral_risk_1, dtype: int64"
      ]
     },
     "execution_count": 70,
     "metadata": {},
     "output_type": "execute_result"
    }
   ],
   "source": [
    "people[\"behavioral_risk_1\"].value_counts()"
   ]
  },
  {
   "cell_type": "code",
   "execution_count": 71,
   "metadata": {},
   "outputs": [],
   "source": [
    " # 3.2 We will create a score for  behavioral_risk_2"
   ]
  },
  {
   "cell_type": "code",
   "execution_count": 72,
   "metadata": {},
   "outputs": [
    {
     "data": {
      "text/plain": [
       "-1      50\n",
       " 1     173\n",
       " 2    1388\n",
       " 3    3738\n",
       " 4    1045\n",
       "Name: SELFCONTROL_2, dtype: int64"
      ]
     },
     "execution_count": 72,
     "metadata": {},
     "output_type": "execute_result"
    }
   ],
   "source": [
    "people[\"SELFCONTROL_2\"].value_counts().sort_index()"
   ]
  },
  {
   "cell_type": "code",
   "execution_count": 73,
   "metadata": {},
   "outputs": [],
   "source": [
    "# create a list of our conditions\n",
    "conditions = [\n",
    "    (people[\"SELFCONTROL_2\"]> 0) & (people[\"SELFCONTROL_2\"] <= 2),\n",
    "    (people[\"SELFCONTROL_2\"]> 2)]\n",
    "\n",
    "# create a list of the values we want to assign for each condition\n",
    "values = [1,0]\n",
    "\n",
    "# create a new column and use np.select to assign values to it using our lists as arguments\n",
    "people[\"behavioral_risk_2\"] = np.select(conditions, values)"
   ]
  },
  {
   "cell_type": "code",
   "execution_count": 74,
   "metadata": {},
   "outputs": [
    {
     "data": {
      "text/plain": [
       "0    4833\n",
       "1    1561\n",
       "Name: behavioral_risk_2, dtype: int64"
      ]
     },
     "execution_count": 74,
     "metadata": {},
     "output_type": "execute_result"
    }
   ],
   "source": [
    "people[\"behavioral_risk_2\"].value_counts()"
   ]
  },
  {
   "cell_type": "code",
   "execution_count": 75,
   "metadata": {},
   "outputs": [],
   "source": [
    " # 3.3 We will create a score for  behavioral_risk_3"
   ]
  },
  {
   "cell_type": "code",
   "execution_count": 76,
   "metadata": {},
   "outputs": [
    {
     "data": {
      "text/plain": [
       "-1      48\n",
       " 1     135\n",
       " 2     932\n",
       " 3    3788\n",
       " 4    1491\n",
       "Name: SELFCONTROL_3, dtype: int64"
      ]
     },
     "execution_count": 76,
     "metadata": {},
     "output_type": "execute_result"
    }
   ],
   "source": [
    "people[\"SELFCONTROL_3\"].value_counts().sort_index()"
   ]
  },
  {
   "cell_type": "code",
   "execution_count": 77,
   "metadata": {},
   "outputs": [],
   "source": [
    "# create a list of our conditions\n",
    "conditions = [\n",
    "    (people[\"SELFCONTROL_3\"]> 0) & (people[\"SELFCONTROL_3\"] <= 2),\n",
    "    (people[\"SELFCONTROL_3\"]> 2)]\n",
    "\n",
    "# create a list of the values we want to assign for each condition\n",
    "values = [1,0]\n",
    "\n",
    "# create a new column and use np.select to assign values to it using our lists as arguments\n",
    "people[\"behavioral_risk_3\"] = np.select(conditions, values)"
   ]
  },
  {
   "cell_type": "code",
   "execution_count": 78,
   "metadata": {},
   "outputs": [
    {
     "data": {
      "text/plain": [
       "0    5327\n",
       "1    1067\n",
       "Name: behavioral_risk_3, dtype: int64"
      ]
     },
     "execution_count": 78,
     "metadata": {},
     "output_type": "execute_result"
    }
   ],
   "source": [
    "people[\"behavioral_risk_3\"].value_counts()"
   ]
  },
  {
   "cell_type": "code",
   "execution_count": 79,
   "metadata": {},
   "outputs": [],
   "source": [
    " # 3.4 We will create a score for  age_risk"
   ]
  },
  {
   "cell_type": "code",
   "execution_count": 80,
   "metadata": {},
   "outputs": [
    {
     "data": {
      "text/plain": [
       "1     414\n",
       "2    1116\n",
       "3     828\n",
       "4    1075\n",
       "5     708\n",
       "6    1021\n",
       "7     496\n",
       "8     736\n",
       "Name: agecat, dtype: int64"
      ]
     },
     "execution_count": 80,
     "metadata": {},
     "output_type": "execute_result"
    }
   ],
   "source": [
    "people[\"agecat\"].value_counts().sort_index()"
   ]
  },
  {
   "cell_type": "code",
   "execution_count": 81,
   "metadata": {},
   "outputs": [],
   "source": [
    "# create a list of our conditions\n",
    "conditions = [\n",
    "    (people[\"agecat\"]> 0) & (people[\"agecat\"] <= 4),\n",
    "    (people[\"agecat\"]> 4)]\n",
    "\n",
    "# create a list of the values we want to assign for each condition\n",
    "values = [1,0]\n",
    "\n",
    "# create a new column and use np.select to assign values to it using our lists as arguments\n",
    "people[\"age_risk\"] = np.select(conditions, values)"
   ]
  },
  {
   "cell_type": "code",
   "execution_count": 82,
   "metadata": {},
   "outputs": [
    {
     "data": {
      "text/plain": [
       "1    3433\n",
       "0    2961\n",
       "Name: age_risk, dtype: int64"
      ]
     },
     "execution_count": 82,
     "metadata": {},
     "output_type": "execute_result"
    }
   ],
   "source": [
    "people[\"age_risk\"].value_counts()"
   ]
  },
  {
   "cell_type": "code",
   "execution_count": 83,
   "metadata": {},
   "outputs": [],
   "source": [
    " # 3.5 We will create a score for  product_risk_1"
   ]
  },
  {
   "cell_type": "code",
   "execution_count": 84,
   "metadata": {},
   "outputs": [
    {
     "data": {
      "text/plain": [
       "0    4382\n",
       "1    2012\n",
       "Name: PRODHAVE_6, dtype: int64"
      ]
     },
     "execution_count": 84,
     "metadata": {},
     "output_type": "execute_result"
    }
   ],
   "source": [
    "people[\"PRODHAVE_6\"].value_counts().sort_index()"
   ]
  },
  {
   "cell_type": "code",
   "execution_count": 85,
   "metadata": {},
   "outputs": [],
   "source": [
    "# create a list of our conditions\n",
    "conditions = [\n",
    "    (people[\"PRODHAVE_6\"]== 0),\n",
    "    (people[\"PRODHAVE_6\"]== 1)]\n",
    "\n",
    "# create a list of the values we want to assign for each condition\n",
    "values = [0,1]\n",
    "\n",
    "# create a new column and use np.select to assign values to it using our lists as arguments\n",
    "people[\"product_risk_1\"] = np.select(conditions, values)"
   ]
  },
  {
   "cell_type": "code",
   "execution_count": 86,
   "metadata": {},
   "outputs": [
    {
     "data": {
      "text/plain": [
       "0    4382\n",
       "1    2012\n",
       "Name: product_risk_1, dtype: int64"
      ]
     },
     "execution_count": 86,
     "metadata": {},
     "output_type": "execute_result"
    }
   ],
   "source": [
    "people[\"product_risk_1\"].value_counts()"
   ]
  },
  {
   "cell_type": "code",
   "execution_count": 87,
   "metadata": {},
   "outputs": [],
   "source": [
    "# 3.6 We will create a score for  product_risk_2"
   ]
  },
  {
   "cell_type": "code",
   "execution_count": 88,
   "metadata": {},
   "outputs": [
    {
     "data": {
      "text/plain": [
       "0    3086\n",
       "1    3308\n",
       "Name: PRODHAVE_2, dtype: int64"
      ]
     },
     "execution_count": 88,
     "metadata": {},
     "output_type": "execute_result"
    }
   ],
   "source": [
    "people[\"PRODHAVE_2\"].value_counts().sort_index()"
   ]
  },
  {
   "cell_type": "code",
   "execution_count": 89,
   "metadata": {},
   "outputs": [],
   "source": [
    "# create a list of our conditions\n",
    "conditions = [\n",
    "    (people[\"PRODHAVE_2\"]== 0),\n",
    "    (people[\"PRODHAVE_2\"]== 1)]\n",
    "\n",
    "# create a list of the values we want to assign for each condition\n",
    "values = [1,0]\n",
    "\n",
    "# create a new column and use np.select to assign values to it using our lists as arguments\n",
    "people[\"product_risk_2\"] = np.select(conditions, values)"
   ]
  },
  {
   "cell_type": "code",
   "execution_count": 90,
   "metadata": {},
   "outputs": [
    {
     "data": {
      "text/plain": [
       "0    3308\n",
       "1    3086\n",
       "Name: product_risk_2, dtype: int64"
      ]
     },
     "execution_count": 90,
     "metadata": {},
     "output_type": "execute_result"
    }
   ],
   "source": [
    "people[\"product_risk_2\"].value_counts()"
   ]
  },
  {
   "cell_type": "code",
   "execution_count": 91,
   "metadata": {},
   "outputs": [],
   "source": [
    "# 3.7 We will create a score for  product_risk_3"
   ]
  },
  {
   "cell_type": "code",
   "execution_count": 92,
   "metadata": {},
   "outputs": [
    {
     "data": {
      "text/plain": [
       "0    1836\n",
       "1    4558\n",
       "Name: PRODHAVE_3, dtype: int64"
      ]
     },
     "execution_count": 92,
     "metadata": {},
     "output_type": "execute_result"
    }
   ],
   "source": [
    "people[\"PRODHAVE_3\"].value_counts().sort_index()"
   ]
  },
  {
   "cell_type": "code",
   "execution_count": 93,
   "metadata": {},
   "outputs": [],
   "source": [
    "# create a list of our conditions\n",
    "conditions = [\n",
    "    (people[\"PRODHAVE_3\"]== 0),\n",
    "    (people[\"PRODHAVE_3\"]== 1)]\n",
    "\n",
    "# create a list of the values we want to assign for each condition\n",
    "values = [1,0]\n",
    "\n",
    "# create a new column and use np.select to assign values to it using our lists as arguments\n",
    "people[\"product_risk_3\"] = np.select(conditions, values)"
   ]
  },
  {
   "cell_type": "code",
   "execution_count": 94,
   "metadata": {},
   "outputs": [
    {
     "data": {
      "text/plain": [
       "0    4558\n",
       "1    1836\n",
       "Name: product_risk_3, dtype: int64"
      ]
     },
     "execution_count": 94,
     "metadata": {},
     "output_type": "execute_result"
    }
   ],
   "source": [
    "people[\"product_risk_3\"].value_counts()"
   ]
  },
  {
   "cell_type": "code",
   "execution_count": 95,
   "metadata": {},
   "outputs": [],
   "source": [
    "# 3.8 We will sum all the scores to produce a sinthetic risk score variable "
   ]
  },
  {
   "cell_type": "code",
   "execution_count": 96,
   "metadata": {},
   "outputs": [],
   "source": [
    "people[\"Sum_Risks\"]=people[\"behavioral_risk_1\"]+people[\"behavioral_risk_2\"]+people[\"behavioral_risk_3\"]+people[\"age_risk\"]+people[\"product_risk_1\"]+people[\"product_risk_2\"]+people[\"product_risk_3\"]"
   ]
  },
  {
   "cell_type": "code",
   "execution_count": 97,
   "metadata": {},
   "outputs": [
    {
     "data": {
      "text/plain": [
       "0     472\n",
       "1    1563\n",
       "2    1864\n",
       "3    1342\n",
       "4     764\n",
       "5     302\n",
       "6      84\n",
       "7       3\n",
       "Name: Sum_Risks, dtype: int64"
      ]
     },
     "execution_count": 97,
     "metadata": {},
     "output_type": "execute_result"
    }
   ],
   "source": [
    "people[\"Sum_Risks\"].value_counts().sort_index()"
   ]
  },
  {
   "cell_type": "code",
   "execution_count": 98,
   "metadata": {},
   "outputs": [],
   "source": [
    "# create a list of our conditions\n",
    "conditions = [\n",
    "    (people[\"Sum_Risks\"] <= 1),\n",
    "    (people[\"Sum_Risks\"]> 1) & (people[\"Sum_Risks\"] <= 3),\n",
    "    (people[\"Sum_Risks\"] > 3)]\n",
    "\n",
    "# create a list of the values we want to assign for each condition\n",
    "values = [\"1\", \"2\", \"3\"]\n",
    "\n",
    "# create a new column and use np.select to assign values to it using our lists as arguments\n",
    "people[\"sum_risks_index\"] = np.select(conditions, values)"
   ]
  },
  {
   "cell_type": "code",
   "execution_count": 99,
   "metadata": {},
   "outputs": [
    {
     "data": {
      "text/plain": [
       "1    2035\n",
       "2    3206\n",
       "3    1153\n",
       "Name: sum_risks_index, dtype: int64"
      ]
     },
     "execution_count": 99,
     "metadata": {},
     "output_type": "execute_result"
    }
   ],
   "source": [
    "people[\"sum_risks_index\"].value_counts().sort_index()"
   ]
  },
  {
   "cell_type": "code",
   "execution_count": 100,
   "metadata": {},
   "outputs": [],
   "source": [
    "# 4 Estimation of financial situation"
   ]
  },
  {
   "cell_type": "code",
   "execution_count": 101,
   "metadata": {},
   "outputs": [],
   "source": [
    "var_financial_situation=[\"SAVINGSRANGES\",\"PPHHSIZE\",\"PPINCIMP\",\"agecat\",\"ENDSMEET\",\"SNAP\",\"MATHARDSHIP_1\",\"MATHARDSHIP_1\",\"MATHARDSHIP_1\",\"MATHARDSHIP_1\",\"MATHARDSHIP_1\",\"MATHARDSHIP_1\"]"
   ]
  },
  {
   "cell_type": "code",
   "execution_count": 102,
   "metadata": {},
   "outputs": [],
   "source": [
    "# 4.1 We estimate saving amounts by calculating the midpoint of the saving ranges"
   ]
  },
  {
   "cell_type": "code",
   "execution_count": 103,
   "metadata": {},
   "outputs": [
    {
     "data": {
      "text/plain": [
       "-1       38\n",
       " 98     158\n",
       " 2      385\n",
       " 1      440\n",
       " 3      682\n",
       " 7      834\n",
       " 6      845\n",
       " 4      931\n",
       " 99     988\n",
       " 5     1093\n",
       "Name: SAVINGSRANGES, dtype: int64"
      ]
     },
     "execution_count": 103,
     "metadata": {},
     "output_type": "execute_result"
    }
   ],
   "source": [
    "people[\"SAVINGSRANGES\"].value_counts().sort_values()"
   ]
  },
  {
   "cell_type": "code",
   "execution_count": 104,
   "metadata": {},
   "outputs": [
    {
     "data": {
      "text/plain": [
       "Refused                38\n",
       "I dont know           158\n",
       "$1-99                 385\n",
       "0                     440\n",
       "$100-999              682\n",
       "$75,000 or more       834\n",
       "$20,000-74,999        845\n",
       "$1,000-4,999          931\n",
       "Prefer not to say     988\n",
       "$5,000-19,999        1093\n",
       "Name: SAVINGSRANGES, dtype: int64"
      ]
     },
     "execution_count": 104,
     "metadata": {},
     "output_type": "execute_result"
    }
   ],
   "source": [
    "people_map[\"SAVINGSRANGES\"].value_counts().sort_values()"
   ]
  },
  {
   "cell_type": "code",
   "execution_count": 105,
   "metadata": {},
   "outputs": [],
   "source": [
    "# create a list of our conditions\n",
    "conditions = [\n",
    "    (people[\"SAVINGSRANGES\"]==1),\n",
    "    (people[\"SAVINGSRANGES\"]==2),\n",
    "    (people[\"SAVINGSRANGES\"]==3),\n",
    "    (people[\"SAVINGSRANGES\"]==4),\n",
    "    (people[\"SAVINGSRANGES\"]==5),\n",
    "    (people[\"SAVINGSRANGES\"]==6),\n",
    "    (people[\"SAVINGSRANGES\"]==7)]\n",
    "\n",
    "# create a list of the values we want to assign for each condition\n",
    "values = [0, 50, 500, 2500, 12500, 47500, 75000]\n",
    "\n",
    "# create a new column and use np.select to assign values to it using our lists as arguments\n",
    "people[\"saving_amounts\"] = np.select(conditions, values)"
   ]
  },
  {
   "cell_type": "code",
   "execution_count": 106,
   "metadata": {},
   "outputs": [
    {
     "data": {
      "text/plain": [
       "0        1624\n",
       "12500    1093\n",
       "2500      931\n",
       "47500     845\n",
       "75000     834\n",
       "500       682\n",
       "50        385\n",
       "Name: saving_amounts, dtype: int64"
      ]
     },
     "execution_count": 106,
     "metadata": {},
     "output_type": "execute_result"
    }
   ],
   "source": [
    "people[\"saving_amounts\"].value_counts()"
   ]
  },
  {
   "cell_type": "code",
   "execution_count": 107,
   "metadata": {},
   "outputs": [],
   "source": [
    "# 4.2 We estimate houshold income by calculating the midpoint of the saving ranges"
   ]
  },
  {
   "cell_type": "code",
   "execution_count": 108,
   "metadata": {},
   "outputs": [],
   "source": [
    "# 4.2 We estimate houshold income by calculating the midpoint of the houshold income ranges"
   ]
  },
  {
   "cell_type": "code",
   "execution_count": 109,
   "metadata": {},
   "outputs": [
    {
     "data": {
      "text/plain": [
       "$100,000 to $149,999    1115\n",
       "$75,000 to $99,999       955\n",
       "$150,000 or more         862\n",
       "Less than $20,000        719\n",
       "$60,000 to $74,999       651\n",
       "$30,000 to $39,999       614\n",
       "$20,000 to $29,999       506\n",
       "$50,000 to $59,999       505\n",
       "$40,000 to $49,999       467\n",
       "Name: PPINCIMP, dtype: int64"
      ]
     },
     "execution_count": 109,
     "metadata": {},
     "output_type": "execute_result"
    }
   ],
   "source": [
    "people_map[\"PPINCIMP\"].value_counts()"
   ]
  },
  {
   "cell_type": "code",
   "execution_count": 110,
   "metadata": {},
   "outputs": [],
   "source": [
    "# create a list of our conditions\n",
    "conditions = [\n",
    "    (people[\"PPINCIMP\"]==1),\n",
    "    (people[\"PPINCIMP\"]==2),\n",
    "    (people[\"PPINCIMP\"]==3),\n",
    "    (people[\"PPINCIMP\"]==4),\n",
    "    (people[\"PPINCIMP\"]==5),\n",
    "    (people[\"PPINCIMP\"]==6),\n",
    "    (people[\"PPINCIMP\"]==7),\n",
    "    (people[\"PPINCIMP\"]==8),\n",
    "    (people[\"PPINCIMP\"]==9)]\n",
    "\n",
    "# create a list of the values we want to assign for each condition\n",
    "values = [15000,25000,35000,45000,55000,67500,87500,125000,150000]\n",
    "\n",
    "# create a new column and use np.select to assign values to it using our lists as arguments\n",
    "people[\"houshold_income\"] = np.select(conditions, values)"
   ]
  },
  {
   "cell_type": "code",
   "execution_count": 111,
   "metadata": {},
   "outputs": [
    {
     "data": {
      "text/plain": [
       "125000    1115\n",
       "87500      955\n",
       "150000     862\n",
       "15000      719\n",
       "67500      651\n",
       "35000      614\n",
       "25000      506\n",
       "55000      505\n",
       "45000      467\n",
       "Name: houshold_income, dtype: int64"
      ]
     },
     "execution_count": 111,
     "metadata": {},
     "output_type": "execute_result"
    }
   ],
   "source": [
    "people[\"houshold_income\"].value_counts()"
   ]
  },
  {
   "cell_type": "code",
   "execution_count": 112,
   "metadata": {},
   "outputs": [],
   "source": [
    "# 4.3 We estimate houshold income per capita by dividing by size of houshold"
   ]
  },
  {
   "cell_type": "code",
   "execution_count": 113,
   "metadata": {},
   "outputs": [
    {
     "data": {
      "text/plain": [
       "2    2704\n",
       "1    1229\n",
       "3     996\n",
       "4     818\n",
       "5     647\n",
       "Name: PPHHSIZE, dtype: int64"
      ]
     },
     "execution_count": 113,
     "metadata": {},
     "output_type": "execute_result"
    }
   ],
   "source": [
    "people[\"PPHHSIZE\"].value_counts()"
   ]
  },
  {
   "cell_type": "code",
   "execution_count": 114,
   "metadata": {},
   "outputs": [],
   "source": [
    "people[\"houshold_income_per_capita\"]=people[\"houshold_income\"]/people[\"PPHHSIZE\"]"
   ]
  },
  {
   "cell_type": "code",
   "execution_count": 115,
   "metadata": {},
   "outputs": [
    {
     "data": {
      "text/plain": [
       "62500.000000     514\n",
       "43750.000000     437\n",
       "75000.000000     393\n",
       "17500.000000     324\n",
       "15000.000000     317\n",
       "33750.000000     315\n",
       "22500.000000     285\n",
       "25000.000000     283\n",
       "27500.000000     231\n",
       "7500.000000      205\n",
       "41666.666667     195\n",
       "12500.000000     185\n",
       "37500.000000     161\n",
       "31250.000000     157\n",
       "29166.666667     156\n",
       "50000.000000     153\n",
       "5000.000000      150\n",
       "35000.000000     147\n",
       "21875.000000     138\n",
       "87500.000000     131\n",
       "125000.000000    127\n",
       "45000.000000     113\n",
       "67500.000000     110\n",
       "55000.000000     108\n",
       "11666.666667      97\n",
       "3750.000000       85\n",
       "18333.333333      79\n",
       "30000.000000      78\n",
       "3000.000000       78\n",
       "150000.000000     77\n",
       "16875.000000      76\n",
       "7000.000000       70\n",
       "8750.000000       69\n",
       "8333.333333       66\n",
       "13500.000000      58\n",
       "9000.000000       53\n",
       "13750.000000      46\n",
       "11250.000000      46\n",
       "11000.000000      41\n",
       "6250.000000       40\n",
       "Name: houshold_income_per_capita, dtype: int64"
      ]
     },
     "execution_count": 115,
     "metadata": {},
     "output_type": "execute_result"
    }
   ],
   "source": [
    "people[\"houshold_income_per_capita\"].value_counts()"
   ]
  },
  {
   "cell_type": "code",
   "execution_count": 116,
   "metadata": {},
   "outputs": [],
   "source": [
    "people = people.astype({\"houshold_income_per_capita\": int})"
   ]
  },
  {
   "cell_type": "code",
   "execution_count": 117,
   "metadata": {},
   "outputs": [],
   "source": [
    "# 4.4. We estimate a variable called \"years of accumulation\" to estimate years of accumulated savings"
   ]
  },
  {
   "cell_type": "code",
   "execution_count": 118,
   "metadata": {},
   "outputs": [
    {
     "data": {
      "text/plain": [
       "1     414\n",
       "2    1116\n",
       "3     828\n",
       "4    1075\n",
       "5     708\n",
       "6    1021\n",
       "7     496\n",
       "8     736\n",
       "Name: agecat, dtype: int64"
      ]
     },
     "execution_count": 118,
     "metadata": {},
     "output_type": "execute_result"
    }
   ],
   "source": [
    "people[\"agecat\"].value_counts().sort_index()"
   ]
  },
  {
   "cell_type": "code",
   "execution_count": 119,
   "metadata": {},
   "outputs": [
    {
     "data": {
      "text/plain": [
       "18-24     414\n",
       "25-34    1116\n",
       "35-44     828\n",
       "45-54    1075\n",
       "55-61     708\n",
       "62-69    1021\n",
       "70-74     496\n",
       "75+       736\n",
       "Name: agecat, dtype: int64"
      ]
     },
     "execution_count": 119,
     "metadata": {},
     "output_type": "execute_result"
    }
   ],
   "source": [
    "people_map[\"agecat\"].value_counts().sort_index()"
   ]
  },
  {
   "cell_type": "code",
   "execution_count": 120,
   "metadata": {},
   "outputs": [],
   "source": [
    "# create a list of our conditions\n",
    "conditions = [\n",
    "    (people[\"agecat\"]==1),\n",
    "    (people[\"agecat\"]==2),\n",
    "    (people[\"agecat\"]==3),\n",
    "    (people[\"agecat\"]==4),\n",
    "    (people[\"agecat\"]==5),\n",
    "    (people[\"agecat\"]==6),\n",
    "    (people[\"agecat\"]==7),\n",
    "    (people[\"agecat\"]==8)]\n",
    "\n",
    "# create a list of the values we want to assign for each condition\n",
    "values = [0,0,10,20,30,35,40,45]\n",
    "\n",
    "# create a new column and use np.select to assign values to it using our lists as arguments\n",
    "people[\"years_acumulation\"] = np.select(conditions, values)"
   ]
  },
  {
   "cell_type": "code",
   "execution_count": 121,
   "metadata": {},
   "outputs": [
    {
     "data": {
      "text/plain": [
       "0     1530\n",
       "20    1075\n",
       "35    1021\n",
       "10     828\n",
       "45     736\n",
       "30     708\n",
       "40     496\n",
       "Name: years_acumulation, dtype: int64"
      ]
     },
     "execution_count": 121,
     "metadata": {},
     "output_type": "execute_result"
    }
   ],
   "source": [
    "people[\"years_acumulation\"].value_counts()"
   ]
  },
  {
   "cell_type": "code",
   "execution_count": 122,
   "metadata": {},
   "outputs": [],
   "source": [
    "# 4.5. We identify persons with lower savings profile by identifying \"financial stress indicators\""
   ]
  },
  {
   "cell_type": "code",
   "execution_count": 123,
   "metadata": {},
   "outputs": [],
   "source": [
    "# create a list of our conditions\n",
    "conditions = [\n",
    "    \n",
    "    (people[\"ENDSMEET\"]==1)&\n",
    "    (people[\"SNAP\"]==0)&\n",
    "    (people[\"MATHARDSHIP_1\"]==1)&\n",
    "    (people[\"MATHARDSHIP_2\"]==1)&\n",
    "    (people[\"MATHARDSHIP_3\"]==1)&\n",
    "    (people[\"MATHARDSHIP_4\"]==1)&\n",
    "    (people[\"MATHARDSHIP_5\"]==1)&\n",
    "    (people[\"MATHARDSHIP_6\"]==1)\n",
    "\n",
    "    ,\n",
    "    \n",
    "    (people[\"ENDSMEET\"]==2)|\n",
    "    (people[\"ENDSMEET\"]==3)|\n",
    "    (people[\"SNAP\"]==1)|\n",
    "    (people[\"MATHARDSHIP_1\"]==2)|\n",
    "    (people[\"MATHARDSHIP_1\"]==3)|\n",
    "    (people[\"MATHARDSHIP_2\"]==2)|\n",
    "    (people[\"MATHARDSHIP_2\"]==3)|\n",
    "    (people[\"MATHARDSHIP_3\"]==2)|\n",
    "    (people[\"MATHARDSHIP_3\"]==3)|\n",
    "    (people[\"MATHARDSHIP_4\"]==2)|\n",
    "    (people[\"MATHARDSHIP_4\"]==3)|\n",
    "    (people[\"MATHARDSHIP_5\"]==2)|\n",
    "    (people[\"MATHARDSHIP_5\"]==3)|\n",
    "    (people[\"MATHARDSHIP_6\"]==2)|\n",
    "    (people[\"MATHARDSHIP_6\"]==3)\n",
    "    \n",
    "    ]\n",
    "\n",
    "\n",
    "# create a list of the values we want to assign for each condition\n",
    "values = [1,0]\n",
    "\n",
    "# create a new column and use np.select to assign values to it using our lists as arguments\n",
    "people[\"financial_stress_indicator\"] = np.select(conditions, values)"
   ]
  },
  {
   "cell_type": "code",
   "execution_count": 124,
   "metadata": {},
   "outputs": [
    {
     "data": {
      "text/plain": [
       "1    3401\n",
       "0    2993\n",
       "Name: financial_stress_indicator, dtype: int64"
      ]
     },
     "execution_count": 124,
     "metadata": {},
     "output_type": "execute_result"
    }
   ],
   "source": [
    "people[\"financial_stress_indicator\"].value_counts()"
   ]
  },
  {
   "cell_type": "code",
   "execution_count": 125,
   "metadata": {},
   "outputs": [],
   "source": [
    "# create a list of our conditions\n",
    "conditions = [\n",
    "    (people[\"financial_stress_indicator\"] < 1),\n",
    "    (people[\"financial_stress_indicator\"]== 1)]\n",
    "\n",
    "# create a list of the values we want to assign for each condition\n",
    "values = [1, 0.45]\n",
    "\n",
    "# create a new column and use np.select to assign values to it using our lists as arguments\n",
    "people[\"financial_stress_multiplyer\"] = np.select(conditions, values)"
   ]
  },
  {
   "cell_type": "code",
   "execution_count": 126,
   "metadata": {},
   "outputs": [],
   "source": [
    "#4.5.We create a variable in which we estimate the potential investment per person"
   ]
  },
  {
   "cell_type": "code",
   "execution_count": 127,
   "metadata": {},
   "outputs": [],
   "source": [
    "people[\"potential_investment\"]=5000+(people[\"houshold_income_per_capita\"]*0.1*people[\"years_acumulation\"]*people[\"financial_stress_multiplyer\"])"
   ]
  },
  {
   "cell_type": "code",
   "execution_count": 128,
   "metadata": {},
   "outputs": [
    {
     "data": {
      "text/plain": [
       "567500.0"
      ]
     },
     "execution_count": 128,
     "metadata": {},
     "output_type": "execute_result"
    }
   ],
   "source": [
    "people[\"potential_investment\"].max()"
   ]
  },
  {
   "cell_type": "code",
   "execution_count": 129,
   "metadata": {},
   "outputs": [],
   "source": [
    "people = people.astype({\"potential_investment\": int})"
   ]
  },
  {
   "cell_type": "code",
   "execution_count": 130,
   "metadata": {},
   "outputs": [],
   "source": [
    "#people[\"potential_investment\"].value_counts().sort_index()"
   ]
  },
  {
   "cell_type": "code",
   "execution_count": 131,
   "metadata": {},
   "outputs": [],
   "source": [
    "#4.6.We assing a range of potential investment values to classify every customer"
   ]
  },
  {
   "cell_type": "code",
   "execution_count": 132,
   "metadata": {},
   "outputs": [],
   "source": [
    "# create a list of our conditions\n",
    "conditions = [\n",
    "    (people[\"potential_investment\"] <= 10000),\n",
    "    (people[\"potential_investment\"] > 10000) & (people[\"potential_investment\"] < 100000 ),\n",
    "    (people[\"potential_investment\"]>= 100000)]\n",
    "\n",
    "# create a list of the values we want to assign for each condition\n",
    "values = [\"1\", \"2\", \"3\"]\n",
    "\n",
    "# create a new column and use np.select to assign values to it using our lists as arguments\n",
    "people[\"potential_investment_range\"] = np.select(conditions, values)"
   ]
  },
  {
   "cell_type": "code",
   "execution_count": 133,
   "metadata": {},
   "outputs": [
    {
     "data": {
      "text/plain": [
       "1    1611\n",
       "2    3583\n",
       "3    1200\n",
       "Name: potential_investment_range, dtype: int64"
      ]
     },
     "execution_count": 133,
     "metadata": {},
     "output_type": "execute_result"
    }
   ],
   "source": [
    "people[\"potential_investment_range\"].value_counts().sort_index()"
   ]
  },
  {
   "cell_type": "code",
   "execution_count": 134,
   "metadata": {},
   "outputs": [],
   "source": [
    "# 5 We label each customer on a different segment"
   ]
  },
  {
   "cell_type": "code",
   "execution_count": 135,
   "metadata": {},
   "outputs": [],
   "source": [
    "var_label=[\"financial_knowledge_index\", \"sum_risks_index\", \"temporary_scope\", \"potential_investment_range\"]"
   ]
  },
  {
   "cell_type": "code",
   "execution_count": 136,
   "metadata": {},
   "outputs": [
    {
     "data": {
      "text/plain": [
       "1    1972\n",
       "2    2261\n",
       "3    2161\n",
       "Name: financial_knowledge_index, dtype: int64"
      ]
     },
     "execution_count": 136,
     "metadata": {},
     "output_type": "execute_result"
    }
   ],
   "source": [
    "people[\"financial_knowledge_index\"].value_counts().sort_index()"
   ]
  },
  {
   "cell_type": "code",
   "execution_count": 137,
   "metadata": {},
   "outputs": [
    {
     "data": {
      "text/plain": [
       "1    2035\n",
       "2    3206\n",
       "3    1153\n",
       "Name: sum_risks_index, dtype: int64"
      ]
     },
     "execution_count": 137,
     "metadata": {},
     "output_type": "execute_result"
    }
   ],
   "source": [
    "people[\"sum_risks_index\"].value_counts().sort_index()"
   ]
  },
  {
   "cell_type": "code",
   "execution_count": 138,
   "metadata": {},
   "outputs": [
    {
     "data": {
      "text/plain": [
       "1    2027\n",
       "2    1730\n",
       "3    1574\n",
       "4    1063\n",
       "Name: temporary_scope, dtype: int64"
      ]
     },
     "execution_count": 138,
     "metadata": {},
     "output_type": "execute_result"
    }
   ],
   "source": [
    "people[\"temporary_scope\"].value_counts().sort_index()"
   ]
  },
  {
   "cell_type": "code",
   "execution_count": 139,
   "metadata": {},
   "outputs": [
    {
     "data": {
      "text/plain": [
       "1    1611\n",
       "2    3583\n",
       "3    1200\n",
       "Name: potential_investment_range, dtype: int64"
      ]
     },
     "execution_count": 139,
     "metadata": {},
     "output_type": "execute_result"
    }
   ],
   "source": [
    "people[\"potential_investment_range\"].value_counts().sort_index()"
   ]
  },
  {
   "cell_type": "code",
   "execution_count": 140,
   "metadata": {},
   "outputs": [
    {
     "data": {
      "text/plain": [
       "36"
      ]
     },
     "execution_count": 140,
     "metadata": {},
     "output_type": "execute_result"
    }
   ],
   "source": [
    "3*4*3"
   ]
  },
  {
   "cell_type": "code",
   "execution_count": 141,
   "metadata": {},
   "outputs": [],
   "source": [
    "people[\"label\"]=people[\"sum_risks_index\"]+people[\"temporary_scope\"]+people[\"financial_knowledge_index\"]"
   ]
  },
  {
   "cell_type": "code",
   "execution_count": 142,
   "metadata": {},
   "outputs": [],
   "source": [
    "graf=people[\"label\"].value_counts().sort_index().reset_index()"
   ]
  },
  {
   "cell_type": "code",
   "execution_count": 143,
   "metadata": {},
   "outputs": [
    {
     "data": {
      "text/plain": [
       "Index(['index', 'label'], dtype='object')"
      ]
     },
     "execution_count": 143,
     "metadata": {},
     "output_type": "execute_result"
    }
   ],
   "source": [
    "graf.columns"
   ]
  },
  {
   "cell_type": "code",
   "execution_count": 144,
   "metadata": {},
   "outputs": [],
   "source": [
    "graf.rename(columns={\"index\": \"label\", \"label\":\"count\"}, inplace=True)"
   ]
  },
  {
   "cell_type": "code",
   "execution_count": 145,
   "metadata": {},
   "outputs": [],
   "source": [
    "import seaborn as sns\n",
    "import matplotlib.pyplot as plt"
   ]
  },
  {
   "cell_type": "code",
   "execution_count": 146,
   "metadata": {},
   "outputs": [
    {
     "data": {
      "text/plain": [
       "Index(['label', 'count'], dtype='object')"
      ]
     },
     "execution_count": 146,
     "metadata": {},
     "output_type": "execute_result"
    }
   ],
   "source": [
    "graf.columns"
   ]
  },
  {
   "cell_type": "code",
   "execution_count": 147,
   "metadata": {},
   "outputs": [
    {
     "data": {
      "text/plain": [
       "<seaborn.axisgrid.FacetGrid at 0x7fa07c543390>"
      ]
     },
     "execution_count": 147,
     "metadata": {},
     "output_type": "execute_result"
    },
    {
     "data": {
      "image/png": "[encoded data removed]",
      "text/plain": [
       "<Figure size 360x360 with 1 Axes>"
      ]
     },
     "metadata": {
      "needs_background": "light"
     },
     "output_type": "display_data"
    }
   ],
   "source": [
    "sns.catplot(x=\"label\",y=\"count\", kind=\"bar\", data=graf)"
   ]
  },
  {
   "cell_type": "code",
   "execution_count": 148,
   "metadata": {},
   "outputs": [
    {
     "data": {
      "text/html": [
       "<div>\n",
       "<style scoped>\n",
       "    .dataframe tbody tr th:only-of-type {\n",
       "        vertical-align: middle;\n",
       "    }\n",
       "\n",
       "    .dataframe tbody tr th {\n",
       "        vertical-align: top;\n",
       "    }\n",
       "\n",
       "    .dataframe thead th {\n",
       "        text-align: right;\n",
       "    }\n",
       "</style>\n",
       "<table border=\"1\" class=\"dataframe\">\n",
       "  <thead>\n",
       "    <tr style=\"text-align: right;\">\n",
       "      <th></th>\n",
       "      <th>label</th>\n",
       "      <th>count</th>\n",
       "    </tr>\n",
       "  </thead>\n",
       "  <tbody>\n",
       "    <tr>\n",
       "      <th>0</th>\n",
       "      <td>111</td>\n",
       "      <td>143</td>\n",
       "    </tr>\n",
       "    <tr>\n",
       "      <th>1</th>\n",
       "      <td>112</td>\n",
       "      <td>216</td>\n",
       "    </tr>\n",
       "    <tr>\n",
       "      <th>2</th>\n",
       "      <td>113</td>\n",
       "      <td>156</td>\n",
       "    </tr>\n",
       "    <tr>\n",
       "      <th>3</th>\n",
       "      <td>121</td>\n",
       "      <td>119</td>\n",
       "    </tr>\n",
       "    <tr>\n",
       "      <th>4</th>\n",
       "      <td>122</td>\n",
       "      <td>223</td>\n",
       "    </tr>\n",
       "    <tr>\n",
       "      <th>5</th>\n",
       "      <td>123</td>\n",
       "      <td>255</td>\n",
       "    </tr>\n",
       "    <tr>\n",
       "      <th>6</th>\n",
       "      <td>131</td>\n",
       "      <td>67</td>\n",
       "    </tr>\n",
       "    <tr>\n",
       "      <th>7</th>\n",
       "      <td>132</td>\n",
       "      <td>211</td>\n",
       "    </tr>\n",
       "    <tr>\n",
       "      <th>8</th>\n",
       "      <td>133</td>\n",
       "      <td>300</td>\n",
       "    </tr>\n",
       "    <tr>\n",
       "      <th>9</th>\n",
       "      <td>141</td>\n",
       "      <td>30</td>\n",
       "    </tr>\n",
       "    <tr>\n",
       "      <th>10</th>\n",
       "      <td>142</td>\n",
       "      <td>115</td>\n",
       "    </tr>\n",
       "    <tr>\n",
       "      <th>11</th>\n",
       "      <td>143</td>\n",
       "      <td>200</td>\n",
       "    </tr>\n",
       "    <tr>\n",
       "      <th>12</th>\n",
       "      <td>211</td>\n",
       "      <td>439</td>\n",
       "    </tr>\n",
       "    <tr>\n",
       "      <th>13</th>\n",
       "      <td>212</td>\n",
       "      <td>386</td>\n",
       "    </tr>\n",
       "    <tr>\n",
       "      <th>14</th>\n",
       "      <td>213</td>\n",
       "      <td>193</td>\n",
       "    </tr>\n",
       "    <tr>\n",
       "      <th>15</th>\n",
       "      <td>221</td>\n",
       "      <td>252</td>\n",
       "    </tr>\n",
       "    <tr>\n",
       "      <th>16</th>\n",
       "      <td>222</td>\n",
       "      <td>315</td>\n",
       "    </tr>\n",
       "    <tr>\n",
       "      <th>17</th>\n",
       "      <td>223</td>\n",
       "      <td>265</td>\n",
       "    </tr>\n",
       "    <tr>\n",
       "      <th>18</th>\n",
       "      <td>231</td>\n",
       "      <td>181</td>\n",
       "    </tr>\n",
       "    <tr>\n",
       "      <th>19</th>\n",
       "      <td>232</td>\n",
       "      <td>264</td>\n",
       "    </tr>\n",
       "    <tr>\n",
       "      <th>20</th>\n",
       "      <td>233</td>\n",
       "      <td>328</td>\n",
       "    </tr>\n",
       "    <tr>\n",
       "      <th>21</th>\n",
       "      <td>241</td>\n",
       "      <td>89</td>\n",
       "    </tr>\n",
       "    <tr>\n",
       "      <th>22</th>\n",
       "      <td>242</td>\n",
       "      <td>185</td>\n",
       "    </tr>\n",
       "    <tr>\n",
       "      <th>23</th>\n",
       "      <td>243</td>\n",
       "      <td>309</td>\n",
       "    </tr>\n",
       "    <tr>\n",
       "      <th>24</th>\n",
       "      <td>311</td>\n",
       "      <td>314</td>\n",
       "    </tr>\n",
       "    <tr>\n",
       "      <th>25</th>\n",
       "      <td>312</td>\n",
       "      <td>139</td>\n",
       "    </tr>\n",
       "    <tr>\n",
       "      <th>26</th>\n",
       "      <td>313</td>\n",
       "      <td>41</td>\n",
       "    </tr>\n",
       "    <tr>\n",
       "      <th>27</th>\n",
       "      <td>321</td>\n",
       "      <td>178</td>\n",
       "    </tr>\n",
       "    <tr>\n",
       "      <th>28</th>\n",
       "      <td>322</td>\n",
       "      <td>86</td>\n",
       "    </tr>\n",
       "    <tr>\n",
       "      <th>29</th>\n",
       "      <td>323</td>\n",
       "      <td>37</td>\n",
       "    </tr>\n",
       "    <tr>\n",
       "      <th>30</th>\n",
       "      <td>331</td>\n",
       "      <td>99</td>\n",
       "    </tr>\n",
       "    <tr>\n",
       "      <th>31</th>\n",
       "      <td>332</td>\n",
       "      <td>76</td>\n",
       "    </tr>\n",
       "    <tr>\n",
       "      <th>32</th>\n",
       "      <td>333</td>\n",
       "      <td>48</td>\n",
       "    </tr>\n",
       "    <tr>\n",
       "      <th>33</th>\n",
       "      <td>341</td>\n",
       "      <td>61</td>\n",
       "    </tr>\n",
       "    <tr>\n",
       "      <th>34</th>\n",
       "      <td>342</td>\n",
       "      <td>45</td>\n",
       "    </tr>\n",
       "    <tr>\n",
       "      <th>35</th>\n",
       "      <td>343</td>\n",
       "      <td>29</td>\n",
       "    </tr>\n",
       "  </tbody>\n",
       "</table>\n",
       "</div>"
      ],
      "text/plain": [
       "   label  count\n",
       "0    111    143\n",
       "1    112    216\n",
       "2    113    156\n",
       "3    121    119\n",
       "4    122    223\n",
       "5    123    255\n",
       "6    131     67\n",
       "7    132    211\n",
       "8    133    300\n",
       "9    141     30\n",
       "10   142    115\n",
       "11   143    200\n",
       "12   211    439\n",
       "13   212    386\n",
       "14   213    193\n",
       "15   221    252\n",
       "16   222    315\n",
       "17   223    265\n",
       "18   231    181\n",
       "19   232    264\n",
       "20   233    328\n",
       "21   241     89\n",
       "22   242    185\n",
       "23   243    309\n",
       "24   311    314\n",
       "25   312    139\n",
       "26   313     41\n",
       "27   321    178\n",
       "28   322     86\n",
       "29   323     37\n",
       "30   331     99\n",
       "31   332     76\n",
       "32   333     48\n",
       "33   341     61\n",
       "34   342     45\n",
       "35   343     29"
      ]
     },
     "metadata": {},
     "output_type": "display_data"
    }
   ],
   "source": [
    "\n",
    "display (graf)"
   ]
  },
  {
   "cell_type": "code",
   "execution_count": 149,
   "metadata": {},
   "outputs": [
    {
     "name": "stdout",
     "output_type": "stream",
     "text": [
      "111\n",
      "112\n",
      "113\n",
      "121\n",
      "122\n",
      "123\n",
      "131\n",
      "132\n",
      "133\n",
      "141\n",
      "142\n",
      "143\n",
      "211\n",
      "212\n",
      "213\n",
      "221\n",
      "222\n",
      "223\n",
      "231\n",
      "232\n",
      "233\n",
      "241\n",
      "242\n",
      "243\n",
      "311\n",
      "312\n",
      "313\n",
      "321\n",
      "322\n",
      "323\n",
      "331\n",
      "332\n",
      "333\n",
      "341\n",
      "342\n",
      "343\n"
     ]
    }
   ],
   "source": [
    "lista=[]\n",
    "for item in graf[\"label\"].tolist():\n",
    "    print (item)\n",
    "    if item[0]==\"1\": \n",
    "        atribute1 =\" low risk \"\n",
    "    if item[0]==\"2\": \n",
    "        atribute1 =\" medim risk \"\n",
    "    if item[0]==\"3\": \n",
    "        atribute1 =\" high risk \"\n",
    "    if item[1]==\"1\": \n",
    "        atribute2 =\" liquidity \"\n",
    "    if item[1]==\"2\": \n",
    "        atribute2 =\" short term \"\n",
    "    if item[1]==\"3\":\n",
    "        atribute2 =\" medium term \"\n",
    "    if item[1]==\"4\":\n",
    "        atribute2 =\" long term \"\n",
    "    if item[2]==\"1\": \n",
    "        atribute3 =\" basic knowldege \"\n",
    "    if item[2]==\"2\": \n",
    "        atribute3 =\" medium knowldege \"\n",
    "    if item[2]==\"3\": \n",
    "        atribute3 =\" high knowledge \" \n",
    "    element=(item, atribute1, atribute2, atribute3)\n",
    "    lista.append(element)"
   ]
  },
  {
   "cell_type": "code",
   "execution_count": 150,
   "metadata": {},
   "outputs": [
    {
     "name": "stdout",
     "output_type": "stream",
     "text": [
      "('111', ' low risk ', ' liquidity ', ' basic knowldege ')\n",
      "('112', ' low risk ', ' liquidity ', ' medium knowldege ')\n",
      "('113', ' low risk ', ' liquidity ', ' high knowledge ')\n",
      "('121', ' low risk ', ' short term ', ' basic knowldege ')\n",
      "('122', ' low risk ', ' short term ', ' medium knowldege ')\n",
      "('123', ' low risk ', ' short term ', ' high knowledge ')\n",
      "('131', ' low risk ', ' medium term ', ' basic knowldege ')\n",
      "('132', ' low risk ', ' medium term ', ' medium knowldege ')\n",
      "('133', ' low risk ', ' medium term ', ' high knowledge ')\n",
      "('141', ' low risk ', ' long term ', ' basic knowldege ')\n",
      "('142', ' low risk ', ' long term ', ' medium knowldege ')\n",
      "('143', ' low risk ', ' long term ', ' high knowledge ')\n",
      "('211', ' medim risk ', ' liquidity ', ' basic knowldege ')\n",
      "('212', ' medim risk ', ' liquidity ', ' medium knowldege ')\n",
      "('213', ' medim risk ', ' liquidity ', ' high knowledge ')\n",
      "('221', ' medim risk ', ' short term ', ' basic knowldege ')\n",
      "('222', ' medim risk ', ' short term ', ' medium knowldege ')\n",
      "('223', ' medim risk ', ' short term ', ' high knowledge ')\n",
      "('231', ' medim risk ', ' medium term ', ' basic knowldege ')\n",
      "('232', ' medim risk ', ' medium term ', ' medium knowldege ')\n",
      "('233', ' medim risk ', ' medium term ', ' high knowledge ')\n",
      "('241', ' medim risk ', ' long term ', ' basic knowldege ')\n",
      "('242', ' medim risk ', ' long term ', ' medium knowldege ')\n",
      "('243', ' medim risk ', ' long term ', ' high knowledge ')\n",
      "('311', ' high risk ', ' liquidity ', ' basic knowldege ')\n",
      "('312', ' high risk ', ' liquidity ', ' medium knowldege ')\n",
      "('313', ' high risk ', ' liquidity ', ' high knowledge ')\n",
      "('321', ' high risk ', ' short term ', ' basic knowldege ')\n",
      "('322', ' high risk ', ' short term ', ' medium knowldege ')\n",
      "('323', ' high risk ', ' short term ', ' high knowledge ')\n",
      "('331', ' high risk ', ' medium term ', ' basic knowldege ')\n",
      "('332', ' high risk ', ' medium term ', ' medium knowldege ')\n",
      "('333', ' high risk ', ' medium term ', ' high knowledge ')\n",
      "('341', ' high risk ', ' long term ', ' basic knowldege ')\n",
      "('342', ' high risk ', ' long term ', ' medium knowldege ')\n",
      "('343', ' high risk ', ' long term ', ' high knowledge ')\n"
     ]
    }
   ],
   "source": [
    "for a in lista:\n",
    "    print(a)"
   ]
  },
  {
   "cell_type": "code",
   "execution_count": null,
   "metadata": {},
   "outputs": [],
   "source": []
  },
  {
   "cell_type": "code",
   "execution_count": null,
   "metadata": {},
   "outputs": [],
   "source": []
  }
 ],
 "metadata": {
  "kernelspec": {
   "display_name": "Python [conda env:ironhack_env]",
   "language": "python",
   "name": "conda-env-ironhack_env-py"
  },
  "language_info": {
   "codemirror_mode": {
    "name": "ipython",
    "version": 3
   },
   "file_extension": ".py",
   "mimetype": "text/x-python",
   "name": "python",
   "nbconvert_exporter": "python",
   "pygments_lexer": "ipython3",
   "version": "3.7.7"
  }
 },
 "nbformat": 4,
 "nbformat_minor": 4
}
