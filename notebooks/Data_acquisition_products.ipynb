{
 "cells": [
  {
   "cell_type": "code",
   "execution_count": 1,
   "metadata": {},
   "outputs": [
    {
     "name": "stderr",
     "output_type": "stream",
     "text": [
      "/home/davidgozalo/miniconda3/envs/ironhack_env/lib/python3.7/site-packages/IPython/core/interactiveshell.py:3072: DtypeWarning: Columns (20,22,23,119,121,123) have mixed types.Specify dtype option on import or set low_memory=False.\n",
      "  interactivity=interactivity, compiler=compiler, result=result)\n"
     ]
    }
   ],
   "source": [
    "import pandas as pd\n",
    "products= pd.read_csv('/home/davidgozalo/Ironhack/ih_datamadpt0420_final_project/data/raw/Mutual Funds.csv')"
   ]
  },
  {
   "cell_type": "code",
   "execution_count": 13,
   "metadata": {},
   "outputs": [
    {
     "data": {
      "text/plain": [
       "Index(['fund_name', 'fund_extended_name', 'category', 'fund_family',\n",
       "       'net_assets', 'ytd_return', 'fund_yield', 'morningstar_rating',\n",
       "       'inception_date', 'investment',\n",
       "       ...\n",
       "       'fund_sharpe_ratio_5years', 'category_sharpe_ratio_5years',\n",
       "       'fund_sharpe_ratio_10years', 'category_sharpe_ratio_10years',\n",
       "       'fund_treynor_ratio_3years', 'category_treynor_ratio_3years',\n",
       "       'fund_treynor_ratio_5years', 'category_treynor_ratio_5years',\n",
       "       'fund_treynor_ratio_10years', 'category_treynor_ratio_10years'],\n",
       "      dtype='object', length=125)"
      ]
     },
     "execution_count": 13,
     "metadata": {},
     "output_type": "execute_result"
    }
   ],
   "source": [
    "products.columns"
   ]
  },
  {
   "cell_type": "code",
   "execution_count": 3,
   "metadata": {},
   "outputs": [
    {
     "data": {
      "text/plain": [
       "(25308, 125)"
      ]
     },
     "execution_count": 3,
     "metadata": {},
     "output_type": "execute_result"
    }
   ],
   "source": [
    "products.shape"
   ]
  },
  {
   "cell_type": "code",
   "execution_count": 4,
   "metadata": {},
   "outputs": [
    {
     "data": {
      "text/html": [
       "<div>\n",
       "<style scoped>\n",
       "    .dataframe tbody tr th:only-of-type {\n",
       "        vertical-align: middle;\n",
       "    }\n",
       "\n",
       "    .dataframe tbody tr th {\n",
       "        vertical-align: top;\n",
       "    }\n",
       "\n",
       "    .dataframe thead th {\n",
       "        text-align: right;\n",
       "    }\n",
       "</style>\n",
       "<table border=\"1\" class=\"dataframe\">\n",
       "  <thead>\n",
       "    <tr style=\"text-align: right;\">\n",
       "      <th></th>\n",
       "      <th>fund_name</th>\n",
       "      <th>fund_extended_name</th>\n",
       "      <th>category</th>\n",
       "      <th>fund_family</th>\n",
       "      <th>net_assets</th>\n",
       "      <th>ytd_return</th>\n",
       "      <th>fund_yield</th>\n",
       "      <th>morningstar_rating</th>\n",
       "      <th>inception_date</th>\n",
       "      <th>investment</th>\n",
       "      <th>...</th>\n",
       "      <th>fund_sharpe_ratio_5years</th>\n",
       "      <th>category_sharpe_ratio_5years</th>\n",
       "      <th>fund_sharpe_ratio_10years</th>\n",
       "      <th>category_sharpe_ratio_10years</th>\n",
       "      <th>fund_treynor_ratio_3years</th>\n",
       "      <th>category_treynor_ratio_3years</th>\n",
       "      <th>fund_treynor_ratio_5years</th>\n",
       "      <th>category_treynor_ratio_5years</th>\n",
       "      <th>fund_treynor_ratio_10years</th>\n",
       "      <th>category_treynor_ratio_10years</th>\n",
       "    </tr>\n",
       "  </thead>\n",
       "  <tbody>\n",
       "    <tr>\n",
       "      <th>0</th>\n",
       "      <td>AAAAX</td>\n",
       "      <td>DWS RREEF Real Assets Fund - Class A</td>\n",
       "      <td>World Allocation</td>\n",
       "      <td>DWS</td>\n",
       "      <td>5.302800e+08</td>\n",
       "      <td>12.79</td>\n",
       "      <td>1.43</td>\n",
       "      <td>3</td>\n",
       "      <td>2007-07-29</td>\n",
       "      <td>Blend</td>\n",
       "      <td>...</td>\n",
       "      <td>0.31</td>\n",
       "      <td>0.00</td>\n",
       "      <td>0.73</td>\n",
       "      <td>0.01</td>\n",
       "      <td>5.05</td>\n",
       "      <td>0.05</td>\n",
       "      <td>2.26</td>\n",
       "      <td>0.02</td>\n",
       "      <td>6.71</td>\n",
       "      <td>0.07</td>\n",
       "    </tr>\n",
       "    <tr>\n",
       "      <th>1</th>\n",
       "      <td>AAADX</td>\n",
       "      <td>Aberdeen Income Builder Fund Class A</td>\n",
       "      <td>Large Blend</td>\n",
       "      <td>Aberdeen</td>\n",
       "      <td>8.884000e+07</td>\n",
       "      <td>9.21</td>\n",
       "      <td>2.62</td>\n",
       "      <td>2</td>\n",
       "      <td>2011-12-29</td>\n",
       "      <td>Blend</td>\n",
       "      <td>...</td>\n",
       "      <td>0.62</td>\n",
       "      <td>0.01</td>\n",
       "      <td>0.97</td>\n",
       "      <td>0.01</td>\n",
       "      <td>11.55</td>\n",
       "      <td>0.11</td>\n",
       "      <td>6.91</td>\n",
       "      <td>0.08</td>\n",
       "      <td>12.77</td>\n",
       "      <td>0.14</td>\n",
       "    </tr>\n",
       "    <tr>\n",
       "      <th>2</th>\n",
       "      <td>AAAGX</td>\n",
       "      <td>Thrivent Large Cap Growth Fund Class A</td>\n",
       "      <td>Large Growth</td>\n",
       "      <td>Thrivent Funds</td>\n",
       "      <td>1.080000e+09</td>\n",
       "      <td>16.00</td>\n",
       "      <td>0.00</td>\n",
       "      <td>3</td>\n",
       "      <td>1999-10-28</td>\n",
       "      <td>Growth</td>\n",
       "      <td>...</td>\n",
       "      <td>0.86</td>\n",
       "      <td>0.01</td>\n",
       "      <td>1.01</td>\n",
       "      <td>0.01</td>\n",
       "      <td>12.65</td>\n",
       "      <td>0.13</td>\n",
       "      <td>10.22</td>\n",
       "      <td>0.10</td>\n",
       "      <td>13.44</td>\n",
       "      <td>0.15</td>\n",
       "    </tr>\n",
       "    <tr>\n",
       "      <th>3</th>\n",
       "      <td>AAAIX</td>\n",
       "      <td>American Century Strategic Allocation: Aggress...</td>\n",
       "      <td>Allocation - 70% to 85% Equity</td>\n",
       "      <td>American Century Investments</td>\n",
       "      <td>7.852700e+08</td>\n",
       "      <td>11.57</td>\n",
       "      <td>1.38</td>\n",
       "      <td>4</td>\n",
       "      <td>2000-07-31</td>\n",
       "      <td>Growth</td>\n",
       "      <td>...</td>\n",
       "      <td>0.63</td>\n",
       "      <td>0.01</td>\n",
       "      <td>1.00</td>\n",
       "      <td>0.01</td>\n",
       "      <td>5.77</td>\n",
       "      <td>0.05</td>\n",
       "      <td>4.14</td>\n",
       "      <td>0.03</td>\n",
       "      <td>8.24</td>\n",
       "      <td>0.08</td>\n",
       "    </tr>\n",
       "    <tr>\n",
       "      <th>4</th>\n",
       "      <td>AAANX</td>\n",
       "      <td>Horizon Active Asset Allocation Fund Investor ...</td>\n",
       "      <td>Tactical Allocation</td>\n",
       "      <td>Horizon Investments</td>\n",
       "      <td>5.271300e+08</td>\n",
       "      <td>11.62</td>\n",
       "      <td>0.66</td>\n",
       "      <td>4</td>\n",
       "      <td>2012-01-30</td>\n",
       "      <td>Blend</td>\n",
       "      <td>...</td>\n",
       "      <td>0.47</td>\n",
       "      <td>0.00</td>\n",
       "      <td>NaN</td>\n",
       "      <td>0.01</td>\n",
       "      <td>4.5</td>\n",
       "      <td>0.04</td>\n",
       "      <td>2.98</td>\n",
       "      <td>0.03</td>\n",
       "      <td>NaN</td>\n",
       "      <td>0.09</td>\n",
       "    </tr>\n",
       "  </tbody>\n",
       "</table>\n",
       "<p>5 rows × 125 columns</p>\n",
       "</div>"
      ],
      "text/plain": [
       "  fund_name                                 fund_extended_name  \\\n",
       "0     AAAAX               DWS RREEF Real Assets Fund - Class A   \n",
       "1     AAADX               Aberdeen Income Builder Fund Class A   \n",
       "2     AAAGX             Thrivent Large Cap Growth Fund Class A   \n",
       "3     AAAIX  American Century Strategic Allocation: Aggress...   \n",
       "4     AAANX  Horizon Active Asset Allocation Fund Investor ...   \n",
       "\n",
       "                         category                   fund_family    net_assets  \\\n",
       "0                World Allocation                           DWS  5.302800e+08   \n",
       "1                     Large Blend                      Aberdeen  8.884000e+07   \n",
       "2                    Large Growth                Thrivent Funds  1.080000e+09   \n",
       "3  Allocation - 70% to 85% Equity  American Century Investments  7.852700e+08   \n",
       "4             Tactical Allocation           Horizon Investments  5.271300e+08   \n",
       "\n",
       "   ytd_return  fund_yield  morningstar_rating inception_date investment  ...  \\\n",
       "0       12.79        1.43                   3     2007-07-29      Blend  ...   \n",
       "1        9.21        2.62                   2     2011-12-29      Blend  ...   \n",
       "2       16.00        0.00                   3     1999-10-28     Growth  ...   \n",
       "3       11.57        1.38                   4     2000-07-31     Growth  ...   \n",
       "4       11.62        0.66                   4     2012-01-30      Blend  ...   \n",
       "\n",
       "  fund_sharpe_ratio_5years category_sharpe_ratio_5years  \\\n",
       "0                     0.31                         0.00   \n",
       "1                     0.62                         0.01   \n",
       "2                     0.86                         0.01   \n",
       "3                     0.63                         0.01   \n",
       "4                     0.47                         0.00   \n",
       "\n",
       "   fund_sharpe_ratio_10years  category_sharpe_ratio_10years  \\\n",
       "0                       0.73                           0.01   \n",
       "1                       0.97                           0.01   \n",
       "2                       1.01                           0.01   \n",
       "3                       1.00                           0.01   \n",
       "4                        NaN                           0.01   \n",
       "\n",
       "   fund_treynor_ratio_3years  category_treynor_ratio_3years  \\\n",
       "0                       5.05                           0.05   \n",
       "1                      11.55                           0.11   \n",
       "2                      12.65                           0.13   \n",
       "3                       5.77                           0.05   \n",
       "4                        4.5                           0.04   \n",
       "\n",
       "   fund_treynor_ratio_5years  category_treynor_ratio_5years  \\\n",
       "0                       2.26                           0.02   \n",
       "1                       6.91                           0.08   \n",
       "2                      10.22                           0.10   \n",
       "3                       4.14                           0.03   \n",
       "4                       2.98                           0.03   \n",
       "\n",
       "   fund_treynor_ratio_10years  category_treynor_ratio_10years  \n",
       "0                        6.71                            0.07  \n",
       "1                       12.77                            0.14  \n",
       "2                       13.44                            0.15  \n",
       "3                        8.24                            0.08  \n",
       "4                         NaN                            0.09  \n",
       "\n",
       "[5 rows x 125 columns]"
      ]
     },
     "execution_count": 4,
     "metadata": {},
     "output_type": "execute_result"
    }
   ],
   "source": [
    "products.head()"
   ]
  },
  {
   "cell_type": "code",
   "execution_count": 18,
   "metadata": {},
   "outputs": [
    {
     "data": {
      "text/plain": [
       "Large Growth                            1347\n",
       "Large Blend                             1300\n",
       "Large Value                             1137\n",
       "Intermediate-Term Bond                   973\n",
       "World Large Stock                        867\n",
       "Diversified Emerging Mkts                771\n",
       "Allocation - 50% to 70% Equity           713\n",
       "Foreign Large Blend                      694\n",
       "Small Blend                              693\n",
       "High Yield Bond                          677\n",
       "Small Growth                             656\n",
       "Mid-Cap Growth                           590\n",
       "Allocation - 30% to 50% Equity           528\n",
       "Short-Term Bond                          518\n",
       "World Allocation                         457\n",
       "Small Value                              420\n",
       "Foreign Large Growth                     417\n",
       "Mid-Cap Blend                            409\n",
       "Mid-Cap Value                            387\n",
       "Multialternative                         357\n",
       "Multisector Bond                         329\n",
       "Allocation - 70% to 85% Equity           323\n",
       "Nontraditional Bond                      312\n",
       "Emerging Markets Bond                    298\n",
       "World Bond                               292\n",
       "Foreign Large Value                      291\n",
       "Muni National Interm                     282\n",
       "Tactical Allocation                      258\n",
       "Target-Date 2020                         251\n",
       "Long-Short Equity                        251\n",
       "Target-Date 2030                         242\n",
       "Target-Date 2040                         241\n",
       "Target-Date 2050                         241\n",
       "Muni Single State Long                   236\n",
       "Bank Loan                                234\n",
       "Real Estate                              231\n",
       "Intermediate Government                  230\n",
       "Target-Date 2025                         224\n",
       "Target-Date 2035                         221\n",
       "Target-Date 2055                         220\n",
       "Target-Date 2045                         220\n",
       "Inflation-Protected Bond                 217\n",
       "Corporate Bond                           206\n",
       "Global Real Estate                       204\n",
       "Target-Date 2060+                        202\n",
       "Allocation - 15% to 30% Equity           198\n",
       "Muni National Short                      195\n",
       "Target-Date Retirement                   191\n",
       "High Yield Muni                          183\n",
       "Allocation - 85%+ Equity                 176\n",
       "Muni National Long                       174\n",
       "Ultrashort Bond                          165\n",
       "Technology                               163\n",
       "Muni Single State Interm                 159\n",
       "Options-based                            156\n",
       "Market Neutral                           146\n",
       "Target-Date 2000-2010                    143\n",
       "World Small/Mid Stock                    140\n",
       "Foreign Small/Mid Growth                 138\n",
       "Target-Date 2015                         136\n",
       "Managed Futures                          117\n",
       "Commodities Broad Basket                 112\n",
       "Energy Limited Partnership               109\n",
       "Muni California Long                     106\n",
       "Health                                   105\n",
       "Foreign Small/Mid Blend                  102\n",
       "Trading - Leveraged Equity                96\n",
       "Natural Resources                         95\n",
       "Short Government                          95\n",
       "Infrastructure                            89\n",
       "Europe Stock                              84\n",
       "Equity Energy                             78\n",
       "Pacific/Asia ex-Japan Stk                 77\n",
       "Convertibles                              77\n",
       "Muni New York Long                        75\n",
       "Financial                                 75\n",
       "Muni California Intermediate              70\n",
       "Emerging-Markets Local-Currency Bond      67\n",
       "Equity Precious Metals                    58\n",
       "Muni Pennsylvania                         58\n",
       "China Region                              55\n",
       "Bear Market                               55\n",
       "Muni New Jersey                           53\n",
       "Long-Short Credit                         52\n",
       "Foreign Small/Mid Value                   51\n",
       "Preferred Stock                           50\n",
       "Utilities                                 50\n",
       "Muni Minnesota                            49\n",
       "Muni New York Intermediate                49\n",
       "Muni Massachusetts                        49\n",
       "Muni Single State Short                   39\n",
       "Muni Ohio                                 37\n",
       "Miscellaneous Region                      33\n",
       "Japan Stock                               30\n",
       "Multicurrency                             28\n",
       "Consumer Cyclical                         27\n",
       "Long Government                           26\n",
       "Diversified Pacific/Asia                  26\n",
       "Communications                            25\n",
       "Industrials                               24\n",
       "Long-Term Bond                            20\n",
       "Latin America Stock                       16\n",
       "Trading - Inverse Equity                  16\n",
       "India Equity                              15\n",
       "Trading - Inverse Debt                    15\n",
       "Consumer Defensive                        13\n",
       "Trading - Leveraged Debt                   9\n",
       "Trading - Miscellaneous                    8\n",
       "Volatility                                 7\n",
       "Trading - Inverse Commodities              4\n",
       "Commodities Precious Metals                2\n",
       "Name: category, dtype: int64"
      ]
     },
     "execution_count": 18,
     "metadata": {},
     "output_type": "execute_result"
    }
   ],
   "source": [
    "products[\"category\"].value_counts()"
   ]
  },
  {
   "cell_type": "code",
   "execution_count": 17,
   "metadata": {},
   "outputs": [],
   "source": [
    "pd.set_option(\"display.max_rows\", None)"
   ]
  },
  {
   "cell_type": "code",
   "execution_count": 19,
   "metadata": {},
   "outputs": [
    {
     "name": "stdout",
     "output_type": "stream",
     "text": [
      "1-fund_name\n",
      "2-fund_extended_name\n",
      "3-category\n",
      "4-fund_family\n",
      "5-net_assets\n",
      "6-ytd_return\n",
      "7-fund_yield\n",
      "8-morningstar_rating\n",
      "9-inception_date\n",
      "10-investment\n",
      "11-size\n",
      "12-currency\n",
      "13-net_annual_expense_ratio_fund\n",
      "14-net_annual_expense_ratio_category\n",
      "15-portfolio_cash\n",
      "16-portfolio_stocks\n",
      "17-portfolio_bonds\n",
      "18-portfolio_others\n",
      "19-portfolio_preferred\n",
      "20-portfolio_convertable\n",
      "21-price_earnings\n",
      "22-price_book\n",
      "23-price_sales\n",
      "24-price_cashflow\n",
      "25-median_market_cap\n",
      "26-basic_materials\n",
      "27-consumer_cyclical\n",
      "28-financial_services\n",
      "29-real_estate\n",
      "30-consumer_defensive\n",
      "31-healthcare\n",
      "32-utilities\n",
      "33-communication_services\n",
      "34-energy\n",
      "35-industrials\n",
      "36-technology\n",
      "37-bond_maturity\n",
      "38-bond_duration\n",
      "39-rating_us_government\n",
      "40-rating_aaa\n",
      "41-rating_aa\n",
      "42-rating_a\n",
      "43-rating_bbb\n",
      "44-rating_bb\n",
      "45-rating_b\n",
      "46-rating_below_b\n",
      "47-rating_others\n",
      "48-morningstar_return_rating\n",
      "49-fund_return_ytd\n",
      "50-category_return_ytd\n",
      "51-fund_return_1month\n",
      "52-category_return_1month\n",
      "53-fund_return_3months\n",
      "54-category_return_3months\n",
      "55-fund_return_1year\n",
      "56-category_return_1year\n",
      "57-fund_return_3years\n",
      "58-category_return_3years\n",
      "59-fund_return_5years\n",
      "60-category_return_5years\n",
      "61-fund_return_10years\n",
      "62-category_return_10years\n",
      "63-fund_return_2018\n",
      "64-category_return_2018\n",
      "65-fund_return_2017\n",
      "66-category_return_2017\n",
      "67-fund_return_2016\n",
      "68-category_return_2016\n",
      "69-fund_return_2015\n",
      "70-category_return_2015\n",
      "71-fund_return_2014\n",
      "72-category_return_2014\n",
      "73-fund_return_2013\n",
      "74-category_return_2013\n",
      "75-fund_return_2012\n",
      "76-category_return_2012\n",
      "77-fund_return_2011\n",
      "78-category_return_2011\n",
      "79-fund_return_2010\n",
      "80-category_return_2010\n",
      "81-morningstar_risk_rating\n",
      "82-years_up\n",
      "83-years_down\n",
      "84-fund_alpha_3years\n",
      "85-category_alpha_3years\n",
      "86-fund_alpha_5years\n",
      "87-category_alpha_5years\n",
      "88-fund_alpha_10years\n",
      "89-category_alpha_10years\n",
      "90-fund_beta_3years\n",
      "91-category_beta_3years\n",
      "92-fund_beta_5years\n",
      "93-category_beta_5years\n",
      "94-fund_beta_10years\n",
      "95-category_beta_10years\n",
      "96-fund_mean_annual_return_3years\n",
      "97-category_mean_annual_return_3years\n",
      "98-fund_mean_annual_return_5years\n",
      "99-category_mean_annual_return_5years\n",
      "100-fund_mean_annual_return_10years\n",
      "101-category_mean_annual_return_10years\n",
      "102-fund_r_squared_3years\n",
      "103-category_r_squared_3years\n",
      "104-fund_r_squared_5years\n",
      "105-category_r_squared_5years\n",
      "106-fund_r_squared_10years\n",
      "107-category_r_squared_10years\n",
      "108-fund_standard_deviation_3years\n",
      "109-category_standard_deviation_3years\n",
      "110-fund_standard_deviation_5years\n",
      "111-category_standard_deviation_5years\n",
      "112-fund_standard_deviation_10years\n",
      "113-category_standard_deviation_10years\n",
      "114-fund_sharpe_ratio_3years\n",
      "115-category_sharpe_ratio_3years\n",
      "116-fund_sharpe_ratio_5years\n",
      "117-category_sharpe_ratio_5years\n",
      "118-fund_sharpe_ratio_10years\n",
      "119-category_sharpe_ratio_10years\n",
      "120-fund_treynor_ratio_3years\n",
      "121-category_treynor_ratio_3years\n",
      "122-fund_treynor_ratio_5years\n",
      "123-category_treynor_ratio_5years\n",
      "124-fund_treynor_ratio_10years\n",
      "125-category_treynor_ratio_10years\n"
     ]
    }
   ],
   "source": [
    "a=0\n",
    "lista=[]\n",
    "for i in products.columns:\n",
    "    a=a+1\n",
    "    print(f\"{a}-{i}\")\n",
    "    lista.append((f\"{a}-{i}\"))\n",
    "    "
   ]
  },
  {
   "cell_type": "code",
   "execution_count": null,
   "metadata": {},
   "outputs": [],
   "source": [
    "# 1. First we wil analyze portfolio type of investment"
   ]
  },
  {
   "cell_type": "code",
   "execution_count": null,
   "metadata": {},
   "outputs": [],
   "source": [
    "15-portfolio_cash\n",
    "16-portfolio_stocks\n",
    "17-portfolio_bonds\n",
    "18-portfolio_others\n",
    "19-portfolio_preferred\n",
    "20-portfolio_convertable"
   ]
  },
  {
   "cell_type": "code",
   "execution_count": 51,
   "metadata": {},
   "outputs": [],
   "source": [
    "# products[\"portfolio_cash\"].value_counts().sort_index()"
   ]
  },
  {
   "cell_type": "code",
   "execution_count": null,
   "metadata": {},
   "outputs": [],
   "source": [
    "# 1,1 We assing a value to the category cash_index"
   ]
  },
  {
   "cell_type": "code",
   "execution_count": 103,
   "metadata": {},
   "outputs": [],
   "source": [
    "products.loc[products['portfolio_cash'] <= 75, \"cash_index\"] = 0 \n",
    "products.loc[products['portfolio_cash'] > 75, \"cash_index\"] = 1 "
   ]
  },
  {
   "cell_type": "code",
   "execution_count": 104,
   "metadata": {},
   "outputs": [
    {
     "data": {
      "text/plain": [
       "0    25097\n",
       "1      211\n",
       "Name: cash_index, dtype: int64"
      ]
     },
     "execution_count": 104,
     "metadata": {},
     "output_type": "execute_result"
    }
   ],
   "source": [
    "products[\"cash_index\"].value_counts().sort_index()"
   ]
  },
  {
   "cell_type": "code",
   "execution_count": 105,
   "metadata": {},
   "outputs": [],
   "source": [
    "# 1,2 We assing a value to the category stocks_index"
   ]
  },
  {
   "cell_type": "code",
   "execution_count": 106,
   "metadata": {},
   "outputs": [],
   "source": [
    "products.loc[products['portfolio_stocks'] <= 70, \"stocks_index\"] = 0 \n",
    "products.loc[products['portfolio_stocks'] > 70, \"stocks_index\"] = 1 "
   ]
  },
  {
   "cell_type": "code",
   "execution_count": 107,
   "metadata": {},
   "outputs": [
    {
     "data": {
      "text/plain": [
       "0.0    11476\n",
       "1.0    13717\n",
       "Name: stocks_index, dtype: int64"
      ]
     },
     "execution_count": 107,
     "metadata": {},
     "output_type": "execute_result"
    }
   ],
   "source": [
    "products[\"stocks_index\"].value_counts().sort_index()"
   ]
  },
  {
   "cell_type": "code",
   "execution_count": 108,
   "metadata": {},
   "outputs": [],
   "source": [
    "# 1,3 We assing a value to the category bonds_index"
   ]
  },
  {
   "cell_type": "code",
   "execution_count": 109,
   "metadata": {},
   "outputs": [],
   "source": [
    "products.loc[products['portfolio_bonds'] <= 70, \"bonds_index\"] = 0 \n",
    "products.loc[products['portfolio_bonds'] > 70, \"bonds_index\"] = 1"
   ]
  },
  {
   "cell_type": "code",
   "execution_count": 110,
   "metadata": {},
   "outputs": [
    {
     "data": {
      "text/plain": [
       "0.0    19170\n",
       "1.0     6023\n",
       "Name: bonds_index, dtype: int64"
      ]
     },
     "execution_count": 110,
     "metadata": {},
     "output_type": "execute_result"
    }
   ],
   "source": [
    "products[\"bonds_index\"].value_counts().sort_index()"
   ]
  },
  {
   "cell_type": "code",
   "execution_count": 111,
   "metadata": {},
   "outputs": [],
   "source": [
    "# 1,4 We assing a value to the category others_index"
   ]
  },
  {
   "cell_type": "code",
   "execution_count": 112,
   "metadata": {},
   "outputs": [],
   "source": [
    "products.loc[products['portfolio_others'] <= 50, \"others_index\"] = 0 \n",
    "products.loc[products['portfolio_others'] > 50, \"others_index\"] = 1 "
   ]
  },
  {
   "cell_type": "code",
   "execution_count": 113,
   "metadata": {},
   "outputs": [
    {
     "data": {
      "text/plain": [
       "0.0    25132\n",
       "1.0       61\n",
       "Name: others_index, dtype: int64"
      ]
     },
     "execution_count": 113,
     "metadata": {},
     "output_type": "execute_result"
    }
   ],
   "source": [
    "products[\"others_index\"].value_counts().sort_index()"
   ]
  },
  {
   "cell_type": "code",
   "execution_count": 114,
   "metadata": {},
   "outputs": [],
   "source": [
    "# 1,5 We assing a value to the category preferred_index"
   ]
  },
  {
   "cell_type": "code",
   "execution_count": 115,
   "metadata": {},
   "outputs": [],
   "source": [
    "products.loc[products['portfolio_preferred'] <= 50, \"preferred_index\"] = 0 \n",
    "products.loc[products['portfolio_preferred'] > 50, \"preferred_index\"] = 1 "
   ]
  },
  {
   "cell_type": "code",
   "execution_count": 116,
   "metadata": {},
   "outputs": [
    {
     "data": {
      "text/plain": [
       "0.0    25183\n",
       "1.0       10\n",
       "Name: preferred_index, dtype: int64"
      ]
     },
     "execution_count": 116,
     "metadata": {},
     "output_type": "execute_result"
    }
   ],
   "source": [
    "products[\"preferred_index\"].value_counts().sort_index()"
   ]
  },
  {
   "cell_type": "code",
   "execution_count": 117,
   "metadata": {},
   "outputs": [],
   "source": [
    "# 1,6 We assing a value to the category convertable_index"
   ]
  },
  {
   "cell_type": "code",
   "execution_count": 118,
   "metadata": {},
   "outputs": [],
   "source": [
    "products.loc[products['portfolio_convertable'] <= 50, \"convertable_index\"] = 0 \n",
    "products.loc[products['portfolio_convertable'] > 50, \"convertable_index\"] = 1 "
   ]
  },
  {
   "cell_type": "code",
   "execution_count": 119,
   "metadata": {},
   "outputs": [
    {
     "data": {
      "text/plain": [
       "0.0    25104\n",
       "1.0       89\n",
       "Name: convertable_index, dtype: int64"
      ]
     },
     "execution_count": 119,
     "metadata": {},
     "output_type": "execute_result"
    }
   ],
   "source": [
    "products[\"convertable_index\"].value_counts().sort_index()"
   ]
  },
  {
   "cell_type": "code",
   "execution_count": 120,
   "metadata": {},
   "outputs": [],
   "source": [
    "# 1.7 We create a type column considering the  diferent indexes"
   ]
  },
  {
   "cell_type": "code",
   "execution_count": 121,
   "metadata": {},
   "outputs": [],
   "source": [
    "import numpy as np\n",
    "# create a list of our conditions\n",
    "conditions = [\n",
    "    (products[\"cash_index\"]==1),\n",
    "    (products[\"stocks_index\"]==1),\n",
    "    (products[\"bonds_index\"]==1),\n",
    "    (products[\"others_index\"]==1),\n",
    "    (products[\"preferred_index\"]==1),\n",
    "    (products[\"convertable_index\"]==1)]\n",
    "\n",
    "# create a list of the values we want to assign for each condition\n",
    "values = [\"cash\", \"stocks\", \"bonds\",\"other\",\"preferred\",\"convertable\"]\n",
    "\n",
    "# create a new column and use np.select to assign values to it using our lists as arguments\n",
    "products[\"portfolio_type\"] = np.select(conditions, values)\n"
   ]
  },
  {
   "cell_type": "code",
   "execution_count": 127,
   "metadata": {},
   "outputs": [
    {
     "data": {
      "text/plain": [
       "bonds           6023\n",
       "cash             211\n",
       "convertable       89\n",
       "other           5258\n",
       "preferred         10\n",
       "stocks         13717\n",
       "Name: portfolio_type, dtype: int64"
      ]
     },
     "execution_count": 127,
     "metadata": {},
     "output_type": "execute_result"
    }
   ],
   "source": [
    "products[\"portfolio_type\"].value_counts().sort_index()"
   ]
  },
  {
   "cell_type": "code",
   "execution_count": null,
   "metadata": {},
   "outputs": [],
   "source": [
    "#1.8 We assingn the \"non classified, to \"other\""
   ]
  },
  {
   "cell_type": "code",
   "execution_count": 126,
   "metadata": {},
   "outputs": [],
   "source": [
    "products[\"portfolio_type\"].replace({\"0\": \"other\"}, inplace=True)"
   ]
  },
  {
   "cell_type": "code",
   "execution_count": 128,
   "metadata": {},
   "outputs": [],
   "source": [
    "# 2.  We will analyze portfolio industry"
   ]
  },
  {
   "cell_type": "code",
   "execution_count": null,
   "metadata": {},
   "outputs": [],
   "source": [
    "7-consumer_cyclical\n",
    "28-financial_services\n",
    "29-real_estate\n",
    "30-consumer_defensive\n",
    "31-healthcare\n",
    "32-utilities\n",
    "33-communication_services\n",
    "34-energy\n",
    "35-industrials\n",
    "36-technology"
   ]
  },
  {
   "cell_type": "code",
   "execution_count": null,
   "metadata": {},
   "outputs": [],
   "source": [
    "# 2.1 We create basic material_index"
   ]
  },
  {
   "cell_type": "code",
   "execution_count": 165,
   "metadata": {},
   "outputs": [],
   "source": [
    "products.loc[products['basic_materials'] <= 50, \"basic_materials_index\"] = 0 \n",
    "products.loc[products['basic_materials'] > 50, \"basic_materials_index\"] = 1 "
   ]
  },
  {
   "cell_type": "code",
   "execution_count": 166,
   "metadata": {},
   "outputs": [
    {
     "data": {
      "text/plain": [
       "0.0    25031\n",
       "1.0      162\n",
       "Name: basic_materials_index, dtype: int64"
      ]
     },
     "execution_count": 166,
     "metadata": {},
     "output_type": "execute_result"
    }
   ],
   "source": [
    "products[\"basic_materials_index\"].value_counts().sort_index()"
   ]
  },
  {
   "cell_type": "code",
   "execution_count": null,
   "metadata": {},
   "outputs": [],
   "source": [
    "# 2.2 We create consumer cyclical_index"
   ]
  },
  {
   "cell_type": "code",
   "execution_count": 129,
   "metadata": {},
   "outputs": [],
   "source": [
    "products.loc[products['consumer_cyclical'] <= 50, \"consumer_cyclical_index\"] = 0 \n",
    "products.loc[products['consumer_cyclical'] > 50, \"consumer_cyclical_index\"] = 1 "
   ]
  },
  {
   "cell_type": "code",
   "execution_count": 130,
   "metadata": {},
   "outputs": [
    {
     "data": {
      "text/plain": [
       "0.0    25020\n",
       "1.0      173\n",
       "Name: consumer_cyclical_index, dtype: int64"
      ]
     },
     "execution_count": 130,
     "metadata": {},
     "output_type": "execute_result"
    }
   ],
   "source": [
    "products[\"consumer_cyclical_index\"].value_counts().sort_index()"
   ]
  },
  {
   "cell_type": "code",
   "execution_count": null,
   "metadata": {},
   "outputs": [],
   "source": [
    "# 2.3 We create  financial_services_index"
   ]
  },
  {
   "cell_type": "code",
   "execution_count": 131,
   "metadata": {},
   "outputs": [],
   "source": [
    "products.loc[products['financial_services'] <= 50, \"financial_services_index\"] = 0 \n",
    "products.loc[products['financial_services'] > 50, \"financial_services_index\"] = 1 "
   ]
  },
  {
   "cell_type": "code",
   "execution_count": 132,
   "metadata": {},
   "outputs": [
    {
     "data": {
      "text/plain": [
       "0.0    24952\n",
       "1.0      241\n",
       "Name: financial_services_index, dtype: int64"
      ]
     },
     "execution_count": 132,
     "metadata": {},
     "output_type": "execute_result"
    }
   ],
   "source": [
    "products[\"financial_services_index\"].value_counts().sort_index()"
   ]
  },
  {
   "cell_type": "code",
   "execution_count": null,
   "metadata": {},
   "outputs": [],
   "source": [
    "# 2.4 We create real_state_index"
   ]
  },
  {
   "cell_type": "code",
   "execution_count": 133,
   "metadata": {},
   "outputs": [],
   "source": [
    "products.loc[products['real_estate'] <= 50, \"real_estate_index\"] = 0 \n",
    "products.loc[products['real_estate'] > 50, \"real_estate_index\"] = 1 "
   ]
  },
  {
   "cell_type": "code",
   "execution_count": 134,
   "metadata": {},
   "outputs": [
    {
     "data": {
      "text/plain": [
       "0.0    24637\n",
       "1.0      556\n",
       "Name: real_estate_index, dtype: int64"
      ]
     },
     "execution_count": 134,
     "metadata": {},
     "output_type": "execute_result"
    }
   ],
   "source": [
    "products[\"real_estate_index\"].value_counts().sort_index()"
   ]
  },
  {
   "cell_type": "code",
   "execution_count": null,
   "metadata": {},
   "outputs": [],
   "source": [
    "# 2.5 We create customer defensive_index"
   ]
  },
  {
   "cell_type": "code",
   "execution_count": 135,
   "metadata": {},
   "outputs": [],
   "source": [
    "products.loc[products['consumer_defensive'] <= 50, \"consumer_defensive_index\"] = 0 \n",
    "products.loc[products['consumer_defensive'] > 50, \"consumer_defensive_index\"] = 1 "
   ]
  },
  {
   "cell_type": "code",
   "execution_count": 136,
   "metadata": {},
   "outputs": [
    {
     "data": {
      "text/plain": [
       "0.0    25149\n",
       "1.0       44\n",
       "Name: consumer_defensive_index, dtype: int64"
      ]
     },
     "execution_count": 136,
     "metadata": {},
     "output_type": "execute_result"
    }
   ],
   "source": [
    "products[\"consumer_defensive_index\"].value_counts().sort_index()"
   ]
  },
  {
   "cell_type": "code",
   "execution_count": null,
   "metadata": {},
   "outputs": [],
   "source": [
    "# 2.6 We create healthcare_index"
   ]
  },
  {
   "cell_type": "code",
   "execution_count": 137,
   "metadata": {},
   "outputs": [],
   "source": [
    "products.loc[products['healthcare'] <= 50, \"healthcare_index\"] = 0 \n",
    "products.loc[products['healthcare'] > 50, \"healthcare_index\"] = 1 "
   ]
  },
  {
   "cell_type": "code",
   "execution_count": 138,
   "metadata": {},
   "outputs": [
    {
     "data": {
      "text/plain": [
       "0.0    25051\n",
       "1.0      142\n",
       "Name: healthcare_index, dtype: int64"
      ]
     },
     "execution_count": 138,
     "metadata": {},
     "output_type": "execute_result"
    }
   ],
   "source": [
    "products[\"healthcare_index\"].value_counts().sort_index()"
   ]
  },
  {
   "cell_type": "code",
   "execution_count": null,
   "metadata": {},
   "outputs": [],
   "source": [
    "# 2.7 We create utilities_index"
   ]
  },
  {
   "cell_type": "code",
   "execution_count": 139,
   "metadata": {},
   "outputs": [],
   "source": [
    "products.loc[products['utilities'] <= 50, \"utilities_index\"] = 0 \n",
    "products.loc[products['utilities'] > 50, \"utilities_index\"] = 1 "
   ]
  },
  {
   "cell_type": "code",
   "execution_count": 140,
   "metadata": {},
   "outputs": [
    {
     "data": {
      "text/plain": [
       "0.0    25047\n",
       "1.0      146\n",
       "Name: utilities_index, dtype: int64"
      ]
     },
     "execution_count": 140,
     "metadata": {},
     "output_type": "execute_result"
    }
   ],
   "source": [
    "products[\"utilities_index\"].value_counts().sort_index()"
   ]
  },
  {
   "cell_type": "code",
   "execution_count": null,
   "metadata": {},
   "outputs": [],
   "source": [
    "# 2.8 We create communicatin_services_index"
   ]
  },
  {
   "cell_type": "code",
   "execution_count": 141,
   "metadata": {},
   "outputs": [],
   "source": [
    "products.loc[products['communication_services'] <= 50, \"communication_services_index\"] = 0 \n",
    "products.loc[products['communication_services'] > 50, \"communication_services_index\"] = 1 "
   ]
  },
  {
   "cell_type": "code",
   "execution_count": 142,
   "metadata": {},
   "outputs": [
    {
     "data": {
      "text/plain": [
       "0.0    25160\n",
       "1.0       33\n",
       "Name: communication_services_index, dtype: int64"
      ]
     },
     "execution_count": 142,
     "metadata": {},
     "output_type": "execute_result"
    }
   ],
   "source": [
    "products[\"communication_services_index\"].value_counts().sort_index()"
   ]
  },
  {
   "cell_type": "code",
   "execution_count": null,
   "metadata": {},
   "outputs": [],
   "source": [
    "# 2.9 We create energy_index"
   ]
  },
  {
   "cell_type": "code",
   "execution_count": 143,
   "metadata": {},
   "outputs": [],
   "source": [
    "products.loc[products['energy'] <= 50, \"energy_index\"] = 0 \n",
    "products.loc[products['energy'] > 50, \"energy_index\"] = 1 "
   ]
  },
  {
   "cell_type": "code",
   "execution_count": 144,
   "metadata": {},
   "outputs": [
    {
     "data": {
      "text/plain": [
       "0.0    24647\n",
       "1.0      546\n",
       "Name: energy_index, dtype: int64"
      ]
     },
     "execution_count": 144,
     "metadata": {},
     "output_type": "execute_result"
    }
   ],
   "source": [
    "products[\"energy_index\"].value_counts().sort_index()"
   ]
  },
  {
   "cell_type": "code",
   "execution_count": null,
   "metadata": {},
   "outputs": [],
   "source": [
    "# 2.10 We create industrials_index"
   ]
  },
  {
   "cell_type": "code",
   "execution_count": 145,
   "metadata": {},
   "outputs": [],
   "source": [
    "products.loc[products['industrials'] <= 50, \"industrials_index\"] = 0 \n",
    "products.loc[products['industrials'] > 50, \"industrials_index\"] = 1 "
   ]
  },
  {
   "cell_type": "code",
   "execution_count": 146,
   "metadata": {},
   "outputs": [
    {
     "data": {
      "text/plain": [
       "0.0    24966\n",
       "1.0      227\n",
       "Name: industrials_index, dtype: int64"
      ]
     },
     "execution_count": 146,
     "metadata": {},
     "output_type": "execute_result"
    }
   ],
   "source": [
    "products[\"industrials_index\"].value_counts().sort_index()"
   ]
  },
  {
   "cell_type": "code",
   "execution_count": null,
   "metadata": {},
   "outputs": [],
   "source": [
    "# 2.11 We create technology_index"
   ]
  },
  {
   "cell_type": "code",
   "execution_count": 147,
   "metadata": {},
   "outputs": [],
   "source": [
    "products.loc[products['technology'] <= 50, \"technology_index\"] = 0 \n",
    "products.loc[products['technology'] > 50, \"technology_index\"] = 1 "
   ]
  },
  {
   "cell_type": "code",
   "execution_count": 148,
   "metadata": {},
   "outputs": [
    {
     "data": {
      "text/plain": [
       "0.0    24920\n",
       "1.0      273\n",
       "Name: technology_index, dtype: int64"
      ]
     },
     "execution_count": 148,
     "metadata": {},
     "output_type": "execute_result"
    }
   ],
   "source": [
    "products[\"technology_index\"].value_counts().sort_index()"
   ]
  },
  {
   "cell_type": "code",
   "execution_count": null,
   "metadata": {},
   "outputs": [],
   "source": [
    "# 2.11 We create a variable with the portfolio industry data"
   ]
  },
  {
   "cell_type": "code",
   "execution_count": 167,
   "metadata": {},
   "outputs": [],
   "source": [
    "import numpy as np\n",
    "# create a list of our conditions\n",
    "conditions = [\n",
    "    (products[\"basic_materials_index\"]==1),   \n",
    "    (products[\"consumer_cyclical_index\"]==1),\n",
    "    (products[\"financial_services_index\"]==1),\n",
    "    (products[\"real_estate_index\"]==1),\n",
    "    (products[\"consumer_defensive_index\"]==1),\n",
    "    (products[\"healthcare_index\"]==1),\n",
    "    (products[\"utilities_index\"]==1),\n",
    "    (products[\"communication_services_index\"]==1),\n",
    "    (products[\"energy_index\"]==1),\n",
    "    (products[\"industrials_index\"]==1),\n",
    "    (products[\"technology_index\"]==1)]\n",
    "\n",
    "# create a list of the values we want to assign for each condition\n",
    "values = [\"basic_materials\",\"consumer_cyclical\",\"financial_services\",\"real_estate\",\"consumer_defensive\",\"healthcare\",\"utilities\",\"communication_services\",\"energy\",\"industrials\",\"technology\"]\n",
    "\n",
    "# create a new column and use np.select to assign values to it using our lists as arguments\n",
    "products[\"portfolio_industry\"] = np.select(conditions, values)"
   ]
  },
  {
   "cell_type": "code",
   "execution_count": 193,
   "metadata": {},
   "outputs": [
    {
     "data": {
      "text/plain": [
       "0                         22765\n",
       "real_estate                 556\n",
       "energy                      546\n",
       "technology                  273\n",
       "financial_services          241\n",
       "industrials                 227\n",
       "consumer_cyclical           173\n",
       "basic_materials             162\n",
       "utilities                   146\n",
       "healthcare                  142\n",
       "consumer_defensive           44\n",
       "communication_services       33\n",
       "Name: portfolio_industry, dtype: int64"
      ]
     },
     "execution_count": 193,
     "metadata": {},
     "output_type": "execute_result"
    }
   ],
   "source": [
    "products[\"portfolio_industry\"].value_counts()"
   ]
  },
  {
   "cell_type": "code",
   "execution_count": 201,
   "metadata": {},
   "outputs": [],
   "source": [
    "yes_industry= products[products[\"portfolio_industry\"]!=\"0\"]"
   ]
  },
  {
   "cell_type": "code",
   "execution_count": 202,
   "metadata": {},
   "outputs": [
    {
     "data": {
      "text/plain": [
       "(2543, 144)"
      ]
     },
     "execution_count": 202,
     "metadata": {},
     "output_type": "execute_result"
    }
   ],
   "source": [
    "yes_industry.shape"
   ]
  },
  {
   "cell_type": "code",
   "execution_count": 205,
   "metadata": {},
   "outputs": [
    {
     "data": {
      "text/plain": [
       "stocks         1358\n",
       "bonds           833\n",
       "other           312\n",
       "convertable      17\n",
       "cash             14\n",
       "preferred         9\n",
       "Name: portfolio_type, dtype: int64"
      ]
     },
     "execution_count": 205,
     "metadata": {},
     "output_type": "execute_result"
    }
   ],
   "source": [
    "yes_industry[\"portfolio_type\"].value_counts()"
   ]
  },
  {
   "cell_type": "code",
   "execution_count": null,
   "metadata": {},
   "outputs": [],
   "source": [
    "# 3  We will analyze bond maturity index"
   ]
  },
  {
   "cell_type": "code",
   "execution_count": null,
   "metadata": {},
   "outputs": [],
   "source": [
    "37. bond_maturity\n",
    "38. bond_duration\n",
    "39. rating_us_government\n",
    "40. rating_aaa\n",
    "41. rating_aa\n",
    "42. rating_a\n",
    "43. rating_bbb\n",
    "44. rating_bb\n",
    "45. rating_b\n",
    "46. rating_below_b\n",
    "47. rating_others"
   ]
  },
  {
   "cell_type": "code",
   "execution_count": 226,
   "metadata": {},
   "outputs": [],
   "source": [
    "#products[\"bond_maturity\"].value_counts().sort_index(ascending=False)"
   ]
  },
  {
   "cell_type": "code",
   "execution_count": 233,
   "metadata": {},
   "outputs": [],
   "source": [
    "# create a list of our conditions\n",
    "conditions = [\n",
    "    (products[\"bond_maturity\"]<1),\n",
    "    (products[\"bond_maturity\"]>=1) & (products[\"bond_maturity\"]<3),\n",
    "    (products[\"bond_maturity\"]>=3) & (products[\"bond_maturity\"]<10), \n",
    "    (products[\"bond_maturity\"]>=10)]\n",
    "\n",
    "# create a list of the values we want to assign for each condition\n",
    "values = [\"liquidity\", \"short\", \"medium\", \"long\"]\n",
    "\n",
    "# create a new column and use np.select to assign values to it using our lists as arguments\n",
    "products[\"bond_maturity_index\"] = np.select(conditions, values)"
   ]
  },
  {
   "cell_type": "code",
   "execution_count": 234,
   "metadata": {},
   "outputs": [
    {
     "data": {
      "text/plain": [
       "0            17113\n",
       "medium        5915\n",
       "long          1477\n",
       "short          633\n",
       "liquidity      170\n",
       "Name: bond_maturity_index, dtype: int64"
      ]
     },
     "execution_count": 234,
     "metadata": {},
     "output_type": "execute_result"
    }
   ],
   "source": [
    "products[\"bond_maturity_index\"].value_counts()"
   ]
  },
  {
   "cell_type": "code",
   "execution_count": null,
   "metadata": {},
   "outputs": [],
   "source": [
    "# 4  We will analyze bond rating"
   ]
  },
  {
   "cell_type": "code",
   "execution_count": 251,
   "metadata": {},
   "outputs": [],
   "source": [
    "#products[\"rating_aaa\"].value_counts()"
   ]
  },
  {
   "cell_type": "code",
   "execution_count": null,
   "metadata": {},
   "outputs": [],
   "source": [
    "39. rating_us_government\n",
    "40. rating_aaa\n",
    "41. rating_aa\n",
    "42. rating_a\n",
    "43. rating_bbb\n",
    "44. rating_bb\n",
    "45. rating_b\n",
    "46. rating_below_b\n",
    "47. rating_others\n",
    "\n",
    "\n",
    "\"rating_us_government\",\"rating_aaa\",\"rating_aa\",\"rating_a\",\"rating_bbb\",\"rating_bb\",\"rating_b\",\"rating_below_b\",\"rating_others\""
   ]
  },
  {
   "cell_type": "code",
   "execution_count": 268,
   "metadata": {},
   "outputs": [],
   "source": [
    "\n",
    "products[\"weighted_rating\"]=((products[\"rating_us_government\"]*1)+(products[\"rating_aaa\"]*1)\n",
    "+(products[\"rating_aa\"]*2)+(products[\"rating_a\"]*3) +(products[\"rating_bbb\"]*4)+(products[\"rating_bb\"]*5)\n",
    "+(products[\"rating_b\"]*6)+(products[\"rating_below_b\"]*8)+(products[\"rating_others\"]*8))/((products[\"rating_us_government\"])\n",
    "+(products[\"rating_aaa\"])+(products[\"rating_aa\"])+(products[\"rating_a\"]) \n",
    "+(products[\"rating_bbb\"])+(products[\"rating_bb\"]*5)\n",
    "+(products[\"rating_b\"])+(products[\"rating_below_b\"])+(products[\"rating_others\"]))\n"
   ]
  },
  {
   "cell_type": "code",
   "execution_count": 270,
   "metadata": {},
   "outputs": [],
   "source": [
    "#products[\"weighted_rating\"].value_counts().sort_index(ascending=False)"
   ]
  },
  {
   "cell_type": "code",
   "execution_count": 279,
   "metadata": {},
   "outputs": [],
   "source": [
    "# create a list of our conditions\n",
    "conditions = [\n",
    "    (products[\"weighted_rating\"]> 0) & (products[\"weighted_rating\"] < 1.15),\n",
    "    (products[\"weighted_rating\"]>= 1.15) & (products[\"weighted_rating\"] <= 2.3),\n",
    "    (products[\"weighted_rating\"]>= 2.3) & (products[\"weighted_rating\"] <= 3.45),\n",
    "    (products[\"weighted_rating\"]>= 3.45) & (products[\"weighted_rating\"] <= 4.6),\n",
    "    (products[\"weighted_rating\"]>= 4.6) & (products[\"weighted_rating\"] <= 5.75),\n",
    "    (products[\"weighted_rating\"]>= 7.75) & (products[\"weighted_rating\"] <= 6.9),\n",
    "    (products[\"weighted_rating\"] > 6.9)]\n",
    "\n",
    "# create a list of the values we want to assign for each condition\n",
    "values = [\"aaa\", \"aa\", \"a\", \"bbb\",\"bb\",\"b\",\"below_b\"]\n",
    "\n",
    "# create a new column and use np.select to assign values to it using our lists as arguments\n",
    "products[\"average_rating\"] = np.select(conditions, values)"
   ]
  },
  {
   "cell_type": "code",
   "execution_count": 276,
   "metadata": {},
   "outputs": [
    {
     "name": "stdout",
     "output_type": "stream",
     "text": [
      "1.15\n",
      "2.3\n",
      "3.45\n",
      "4.6\n",
      "5.75\n",
      "6.9\n",
      "8.05\n"
     ]
    }
   ],
   "source": [
    "for i in range (1,8):\n",
    "    print(round((i*1.15),2))"
   ]
  },
  {
   "cell_type": "code",
   "execution_count": 280,
   "metadata": {},
   "outputs": [
    {
     "data": {
      "text/plain": [
       "0          15475\n",
       "aa          5732\n",
       "a           3275\n",
       "aaa          434\n",
       "bbb          265\n",
       "bb            95\n",
       "below_b       32\n",
       "Name: average_rating, dtype: int64"
      ]
     },
     "execution_count": 280,
     "metadata": {},
     "output_type": "execute_result"
    }
   ],
   "source": [
    "products[\"average_rating\"].value_counts()"
   ]
  },
  {
   "cell_type": "code",
   "execution_count": 283,
   "metadata": {},
   "outputs": [
    {
     "name": "stdout",
     "output_type": "stream",
     "text": [
      "2.66\n",
      "5.32\n",
      "7.98\n",
      "10.64\n",
      "13.3\n",
      "15.96\n",
      "18.62\n"
     ]
    }
   ],
   "source": [
    "for i in range (1,8):\n",
    "    print(round((i*2.66),2))"
   ]
  },
  {
   "cell_type": "code",
   "execution_count": 281,
   "metadata": {},
   "outputs": [
    {
     "data": {
      "text/plain": [
       "2.6666666666666665"
      ]
     },
     "execution_count": 281,
     "metadata": {},
     "output_type": "execute_result"
    }
   ],
   "source": [
    "8/3"
   ]
  },
  {
   "cell_type": "code",
   "execution_count": 284,
   "metadata": {},
   "outputs": [],
   "source": [
    "# create a list of our conditions\n",
    "conditions = [\n",
    "    (products[\"weighted_rating\"]> 0) & (products[\"weighted_rating\"] < 2.66),\n",
    "    (products[\"weighted_rating\"]>= 2.66) & (products[\"weighted_rating\"] <= 5.32),\n",
    "    (products[\"weighted_rating\"] > 5.32)]\n",
    "\n",
    "# create a list of the values we want to assign for each condition\n",
    "values = [\"1\",\"2\",\"3\"]\n",
    "\n",
    "# create a new column and use np.select to assign values to it using our lists as arguments\n",
    "products[\"average_rating_index\"] = np.select(conditions, values)"
   ]
  },
  {
   "cell_type": "code",
   "execution_count": 285,
   "metadata": {},
   "outputs": [
    {
     "data": {
      "text/plain": [
       "0    15448\n",
       "1     8047\n",
       "2     1739\n",
       "3       74\n",
       "Name: average_rating_index, dtype: int64"
      ]
     },
     "execution_count": 285,
     "metadata": {},
     "output_type": "execute_result"
    }
   ],
   "source": [
    "products[\"average_rating_index\"].value_counts()"
   ]
  },
  {
   "cell_type": "code",
   "execution_count": null,
   "metadata": {},
   "outputs": [],
   "source": [
    "# 5  We will analyze fund performance: beta validated by r-squared"
   ]
  },
  {
   "cell_type": "code",
   "execution_count": null,
   "metadata": {},
   "outputs": [],
   "source": [
    "84-fund_alpha_3years\n",
    "85-category_alpha_3years\n",
    "86-fund_alpha_5years\n",
    "87-category_alpha_5years\n",
    "88-fund_alpha_10years\n",
    "89-category_alpha_10years\n",
    "90-fund_beta_3years\n",
    "91-category_beta_3years\n",
    "92-fund_beta_5years\n",
    "93-category_beta_5years\n",
    "94-fund_beta_10years\n",
    "95-category_beta_10years\n",
    "96-fund_mean_annual_return_3years\n",
    "97-category_mean_annual_return_3years\n",
    "98-fund_mean_annual_return_5years\n",
    "99-category_mean_annual_return_5years\n",
    "100-fund_mean_annual_return_10years\n",
    "101-category_mean_annual_return_10years\n",
    "102-fund_r_squared_3years\n",
    "103-category_r_squared_3years\n",
    "104-fund_r_squared_5years\n",
    "105-category_r_squared_5years\n",
    "106-fund_r_squared_10years\n",
    "107-category_r_squared_10years\n",
    "108-fund_standard_deviation_3years\n",
    "109-category_standard_deviation_3years\n",
    "110-fund_standard_deviation_5years\n",
    "111-category_standard_deviation_5years\n",
    "112-fund_standard_deviation_10years\n",
    "113-category_standard_deviation_10years\n",
    "114-fund_sharpe_ratio_3years\n",
    "115-category_sharpe_ratio_3years\n",
    "116-fund_sharpe_ratio_5years\n",
    "117-category_sharpe_ratio_5years\n",
    "118-fund_sharpe_ratio_10years\n",
    "119-category_sharpe_ratio_10years"
   ]
  },
  {
   "cell_type": "code",
   "execution_count": null,
   "metadata": {},
   "outputs": [],
   "source": [
    "90-fund_beta_3years\n",
    "91-category_beta_3years\n",
    "92-fund_beta_5years\n",
    "93-category_beta_5years\n",
    "94-fund_beta_10years\n",
    "95-category_beta_10years"
   ]
  },
  {
   "cell_type": "code",
   "execution_count": null,
   "metadata": {},
   "outputs": [],
   "source": [
    "102-fund_r_squared_3years\n",
    "103-category_r_squared_3years\n",
    "104-fund_r_squared_5years\n",
    "105-category_r_squared_5years\n",
    "106-fund_r_squared_10years"
   ]
  },
  {
   "cell_type": "code",
   "execution_count": null,
   "metadata": {},
   "outputs": [],
   "source": [
    "# 5.1 Analysing beta"
   ]
  },
  {
   "cell_type": "code",
   "execution_count": 297,
   "metadata": {},
   "outputs": [],
   "source": [
    "#products[\"fund_beta_10years\"].value_counts().sort_index()"
   ]
  },
  {
   "cell_type": "code",
   "execution_count": 322,
   "metadata": {},
   "outputs": [],
   "source": [
    "products.loc[products['fund_beta_10years'] < 0, 'beta_10_index'] = 0 \n",
    "products.loc[(products['fund_beta_10years'] > 0) & (products['fund_beta_10years'] <= 0.97), 'beta_10_index'] = 1 \n",
    "products.loc[(products['fund_beta_10years'] > 0.98) & (products['fund_beta_10years'] < 1.02), 'beta_10_index'] = 0 \n",
    "products.loc[products['fund_beta_10years'] >=1.02 , 'beta_10_index'] = 2 "
   ]
  },
  {
   "cell_type": "code",
   "execution_count": null,
   "metadata": {},
   "outputs": [],
   "source": [
    "# 5.2 Analysing r-squared"
   ]
  },
  {
   "cell_type": "code",
   "execution_count": 315,
   "metadata": {},
   "outputs": [],
   "source": [
    "#products['fund_r_squared_10years'].value_counts().sort_index()"
   ]
  },
  {
   "cell_type": "code",
   "execution_count": 326,
   "metadata": {},
   "outputs": [],
   "source": [
    "products.loc[products['fund_r_squared_10years'] < 0.85, 'r_squared_10_index'] = 0 \n",
    "products.loc[products['fund_r_squared_10years'] >= 0.85, 'r_squared_10_index'] = 1 \n"
   ]
  },
  {
   "cell_type": "code",
   "execution_count": 327,
   "metadata": {},
   "outputs": [
    {
     "data": {
      "text/plain": [
       "0.0      230\n",
       "1.0    16392\n",
       "Name: r_squared_10_index, dtype: int64"
      ]
     },
     "execution_count": 327,
     "metadata": {},
     "output_type": "execute_result"
    }
   ],
   "source": [
    "products['r_squared_10_index'].value_counts().sort_index()"
   ]
  },
  {
   "cell_type": "code",
   "execution_count": null,
   "metadata": {},
   "outputs": [],
   "source": [
    "fund_r_squared_10years"
   ]
  },
  {
   "cell_type": "code",
   "execution_count": null,
   "metadata": {},
   "outputs": [],
   "source": [
    "# 5.3 Defining fund risk by integrating  r-squared and beta"
   ]
  },
  {
   "cell_type": "code",
   "execution_count": 340,
   "metadata": {},
   "outputs": [],
   "source": [
    "products.loc[(products['fund_beta_10years'] < 0) | (products['fund_r_squared_10years'] < 0.85), 'beta_10_risk_index'] = 0 \n",
    "products.loc[(products['fund_beta_10years'] > 0) & (products['fund_beta_10years'] <= 0.97)&(products['fund_r_squared_10years'] >= 0.85), 'beta_10_risk_index'] = 1 \n",
    "products.loc[(products['fund_beta_10years'] > 0.98) & (products['fund_beta_10years'] < 1.02)&(products['fund_r_squared_10years'] >= 0.85), 'beta_10_risk_index'] = 0 \n",
    "products.loc[(products['fund_beta_10years'] >=1.02)&(products['fund_beta_10years'] < 1.5)&(products['fund_r_squared_10years'] >= 0.85) , 'beta_10_risk_index'] = 2\n",
    "products.loc[(products['fund_beta_10years'] >=1.5)&(products['fund_r_squared_10years'] >= 0.85) , 'beta_10_risk_index'] = 3 "
   ]
  },
  {
   "cell_type": "code",
   "execution_count": 341,
   "metadata": {},
   "outputs": [
    {
     "data": {
      "text/plain": [
       "0.0    2037\n",
       "1.0    6529\n",
       "2.0    7451\n",
       "3.0     605\n",
       "Name: beta_10_risk_index, dtype: int64"
      ]
     },
     "execution_count": 341,
     "metadata": {},
     "output_type": "execute_result"
    }
   ],
   "source": [
    "products['beta_10_risk_index'].value_counts().sort_index()"
   ]
  },
  {
   "cell_type": "code",
   "execution_count": null,
   "metadata": {},
   "outputs": [],
   "source": [
    "# 4. Now Let us see how many funds can we  fully clasify"
   ]
  },
  {
   "cell_type": "code",
   "execution_count": 286,
   "metadata": {},
   "outputs": [
    {
     "data": {
      "text/plain": [
       "bonds           6023\n",
       "cash             211\n",
       "convertable       89\n",
       "other           5258\n",
       "preferred         10\n",
       "stocks         13717\n",
       "Name: portfolio_type, dtype: int64"
      ]
     },
     "execution_count": 286,
     "metadata": {},
     "output_type": "execute_result"
    }
   ],
   "source": [
    "products[\"portfolio_type\"].value_counts().sort_index()"
   ]
  },
  {
   "cell_type": "code",
   "execution_count": 287,
   "metadata": {},
   "outputs": [
    {
     "data": {
      "text/plain": [
       "0                         22765\n",
       "real_estate                 556\n",
       "energy                      546\n",
       "technology                  273\n",
       "financial_services          241\n",
       "industrials                 227\n",
       "consumer_cyclical           173\n",
       "basic_materials             162\n",
       "utilities                   146\n",
       "healthcare                  142\n",
       "consumer_defensive           44\n",
       "communication_services       33\n",
       "Name: portfolio_industry, dtype: int64"
      ]
     },
     "execution_count": 287,
     "metadata": {},
     "output_type": "execute_result"
    }
   ],
   "source": [
    "products[\"portfolio_industry\"].value_counts()"
   ]
  },
  {
   "cell_type": "code",
   "execution_count": 288,
   "metadata": {},
   "outputs": [
    {
     "data": {
      "text/plain": [
       "0            17113\n",
       "medium        5915\n",
       "long          1477\n",
       "short          633\n",
       "liquidity      170\n",
       "Name: bond_maturity_index, dtype: int64"
      ]
     },
     "execution_count": 288,
     "metadata": {},
     "output_type": "execute_result"
    }
   ],
   "source": [
    "products[\"bond_maturity_index\"].value_counts()"
   ]
  },
  {
   "cell_type": "code",
   "execution_count": 290,
   "metadata": {},
   "outputs": [
    {
     "data": {
      "text/plain": [
       "0          15475\n",
       "aa          5732\n",
       "a           3275\n",
       "aaa          434\n",
       "bbb          265\n",
       "bb            95\n",
       "below_b       32\n",
       "Name: average_rating, dtype: int64"
      ]
     },
     "execution_count": 290,
     "metadata": {},
     "output_type": "execute_result"
    }
   ],
   "source": [
    "products[\"average_rating\"].value_counts()"
   ]
  },
  {
   "cell_type": "code",
   "execution_count": 289,
   "metadata": {},
   "outputs": [
    {
     "data": {
      "text/plain": [
       "0    15448\n",
       "1     8047\n",
       "2     1739\n",
       "3       74\n",
       "Name: average_rating_index, dtype: int64"
      ]
     },
     "execution_count": 289,
     "metadata": {},
     "output_type": "execute_result"
    }
   ],
   "source": [
    "products[\"average_rating_index\"].value_counts()"
   ]
  },
  {
   "cell_type": "code",
   "execution_count": 342,
   "metadata": {},
   "outputs": [
    {
     "data": {
      "text/plain": [
       "0.0    2037\n",
       "1.0    6529\n",
       "2.0    7451\n",
       "3.0     605\n",
       "Name: beta_10_risk_index, dtype: int64"
      ]
     },
     "execution_count": 342,
     "metadata": {},
     "output_type": "execute_result"
    }
   ],
   "source": [
    "products['beta_10_risk_index'].value_counts().sort_index()"
   ]
  },
  {
   "cell_type": "code",
   "execution_count": 372,
   "metadata": {},
   "outputs": [],
   "source": [
    "Exclussion1=products[\"portfolio_type\"]=\"other\""
   ]
  },
  {
   "cell_type": "code",
   "execution_count": 374,
   "metadata": {},
   "outputs": [],
   "source": [
    "Exclussion2a=(products[\"portfolio_type\"]=='stocks') & (products[\"portfolio_industry\"]==0)"
   ]
  },
  {
   "cell_type": "code",
   "execution_count": 375,
   "metadata": {},
   "outputs": [],
   "source": [
    "Exclussion2b=(products[\"portfolio_type\"]=='convertable') & (products[\"portfolio_industry\"]==0)"
   ]
  },
  {
   "cell_type": "code",
   "execution_count": 376,
   "metadata": {},
   "outputs": [],
   "source": [
    "Exclussion2c=(products[\"portfolio_type\"]=='preferred') & (products[\"portfolio_industry\"]==0)"
   ]
  },
  {
   "cell_type": "code",
   "execution_count": 377,
   "metadata": {},
   "outputs": [],
   "source": [
    "Exclussion3=(products[\"portfolio_type\"]=='bonds') & (products[\"bond_maturity_index\"]==0)"
   ]
  },
  {
   "cell_type": "code",
   "execution_count": 378,
   "metadata": {},
   "outputs": [],
   "source": [
    "Exclussion4=(products[\"portfolio_type\"]=='bonds') & (products[\"average_rating_index\"]==0)"
   ]
  },
  {
   "cell_type": "code",
   "execution_count": 381,
   "metadata": {},
   "outputs": [],
   "source": [
    "Exclussion5=products[\"beta_10_risk_index\"]=0"
   ]
  },
  {
   "cell_type": "code",
   "execution_count": 380,
   "metadata": {},
   "outputs": [
    {
     "ename": "ValueError",
     "evalue": "The truth value of a Series is ambiguous. Use a.empty, a.bool(), a.item(), a.any() or a.all().",
     "output_type": "error",
     "traceback": [
      "\u001b[0;31m---------------------------------------------------------------------------\u001b[0m",
      "\u001b[0;31mValueError\u001b[0m                                Traceback (most recent call last)",
      "\u001b[0;32m<ipython-input-380-abf6e1231db8>\u001b[0m in \u001b[0;36m<module>\u001b[0;34m\u001b[0m\n\u001b[0;32m----> 1\u001b[0;31m \u001b[0mExclussions\u001b[0m\u001b[0;34m=\u001b[0m\u001b[0mExclussion1\u001b[0m \u001b[0;32mand\u001b[0m \u001b[0mExclussion2a\u001b[0m \u001b[0;32mand\u001b[0m \u001b[0mExclussion2b\u001b[0m \u001b[0;32mand\u001b[0m \u001b[0mExclussion2c\u001b[0m \u001b[0;32mand\u001b[0m \u001b[0mExclussion3\u001b[0m \u001b[0;32mand\u001b[0m \u001b[0mExclussion4\u001b[0m \u001b[0;32mand\u001b[0m \u001b[0mExclussion5\u001b[0m\u001b[0;34m\u001b[0m\u001b[0;34m\u001b[0m\u001b[0m\n\u001b[0m",
      "\u001b[0;32m~/miniconda3/envs/ironhack_env/lib/python3.7/site-packages/pandas/core/generic.py\u001b[0m in \u001b[0;36m__nonzero__\u001b[0;34m(self)\u001b[0m\n\u001b[1;32m   1477\u001b[0m     \u001b[0;32mdef\u001b[0m \u001b[0m__nonzero__\u001b[0m\u001b[0;34m(\u001b[0m\u001b[0mself\u001b[0m\u001b[0;34m)\u001b[0m\u001b[0;34m:\u001b[0m\u001b[0;34m\u001b[0m\u001b[0;34m\u001b[0m\u001b[0m\n\u001b[1;32m   1478\u001b[0m         raise ValueError(\n\u001b[0;32m-> 1479\u001b[0;31m             \u001b[0;34mf\"The truth value of a {type(self).__name__} is ambiguous. \"\u001b[0m\u001b[0;34m\u001b[0m\u001b[0;34m\u001b[0m\u001b[0m\n\u001b[0m\u001b[1;32m   1480\u001b[0m             \u001b[0;34m\"Use a.empty, a.bool(), a.item(), a.any() or a.all().\"\u001b[0m\u001b[0;34m\u001b[0m\u001b[0;34m\u001b[0m\u001b[0m\n\u001b[1;32m   1481\u001b[0m         )\n",
      "\u001b[0;31mValueError\u001b[0m: The truth value of a Series is ambiguous. Use a.empty, a.bool(), a.item(), a.any() or a.all()."
     ]
    }
   ],
   "source": [
    "Exclussions=Exclussion1 and Exclussion2a and Exclussion2b and Exclussion2c and Exclussion3 and Exclussion4 and Exclussion5"
   ]
  },
  {
   "cell_type": "code",
   "execution_count": null,
   "metadata": {},
   "outputs": [],
   "source": []
  },
  {
   "cell_type": "code",
   "execution_count": null,
   "metadata": {},
   "outputs": [],
   "source": []
  },
  {
   "cell_type": "code",
   "execution_count": 361,
   "metadata": {},
   "outputs": [
    {
     "data": {
      "text/plain": [
       "'other'"
      ]
     },
     "execution_count": 361,
     "metadata": {},
     "output_type": "execute_result"
    }
   ],
   "source": [
    "products[\"portfolio_type\"].any()"
   ]
  },
  {
   "cell_type": "code",
   "execution_count": null,
   "metadata": {},
   "outputs": [],
   "source": []
  },
  {
   "cell_type": "code",
   "execution_count": null,
   "metadata": {},
   "outputs": [],
   "source": []
  },
  {
   "cell_type": "code",
   "execution_count": null,
   "metadata": {},
   "outputs": [],
   "source": [
    "\n",
    "\n",
    "Communication Services\n",
    "\t\n",
    "\n",
    "Marketperform\n",
    "\t\n",
    "\n",
    "\n",
    "\n",
    "Consumer Discretionary\n",
    "\t\n",
    "\n",
    "Marketperform\n",
    "\t\n",
    "\n",
    "\n",
    "\n",
    "Consumer Staples\n",
    "\t\n",
    "\n",
    "Marketperform\n",
    "\t\n",
    "\n",
    "\n",
    "\n",
    "Energy\n",
    "\t\n",
    "\n",
    "Marketperform\n",
    "\t\n",
    "\n",
    "    \n",
    "\n",
    "Financials\n",
    "\t\n",
    "\n",
    "Outperform\n",
    "\t\n",
    "\n",
    "    \n",
    "\n",
    "Health Care\n",
    "\t\n",
    "\n",
    "Marketperform\n",
    "\t\n",
    "\n",
    "\n",
    "\n",
    "Industrials\n",
    "\t\n",
    "\n",
    "Marketperform\n",
    "\t\n",
    "\n",
    "    \n",
    "\n",
    "Information Technology\n",
    "\t\n",
    "\n",
    "Marketperform\n",
    "\t\n",
    "\n",
    "\n",
    "    \n",
    "Materials\n",
    "\t\n",
    "\n",
    "Marketperform\n",
    "\t\n",
    "\n",
    "\n",
    "    \n",
    "\n",
    "Real Estate\n",
    "\t\n",
    "\n",
    "Marketperform\n",
    "\t\n",
    "\n",
    "\n",
    "    \n",
    "\n",
    "Utilities\n",
    "\t\n",
    "\n",
    "Underperform\n",
    "\t\n",
    "\n",
    "\n",
    "    "
   ]
  },
  {
   "cell_type": "code",
   "execution_count": 200,
   "metadata": {},
   "outputs": [
    {
     "name": "stdout",
     "output_type": "stream",
     "text": [
      "['category', 'basic_materials', 'consumer_cyclical', 'financial_services', 'real_estate', 'consumer_defensive', 'healthcare', 'utilities', 'communication_services', 'energy', 'industrials', 'technology', 'portfolio_type']\n"
     ]
    }
   ],
   "source": [
    "listb=[]\n",
    "\n",
    "select=[3,26,27,28,29,30,31,32,33,34,35,36,132]\n",
    "a=0\n",
    "for element in no_industry.columns:\n",
    "    a=a+1\n",
    "    #print(f\"{a}. {element}\")\n",
    "    if a in select:\n",
    "        listb.append(element)\n",
    "print(listb)\n",
    "    "
   ]
  },
  {
   "cell_type": "code",
   "execution_count": 171,
   "metadata": {},
   "outputs": [
    {
     "name": "stdout",
     "output_type": "stream",
     "text": [
      "1. fund_name\n",
      "2. fund_extended_name\n",
      "3. category\n",
      "4. fund_family\n",
      "5. net_assets\n",
      "6. ytd_return\n",
      "7. fund_yield\n",
      "8. morningstar_rating\n",
      "9. inception_date\n",
      "10. investment\n",
      "11. size\n",
      "12. currency\n",
      "13. net_annual_expense_ratio_fund\n",
      "14. net_annual_expense_ratio_category\n",
      "15. portfolio_cash\n",
      "16. portfolio_stocks\n",
      "17. portfolio_bonds\n",
      "18. portfolio_others\n",
      "19. portfolio_preferred\n",
      "20. portfolio_convertable\n",
      "21. price_earnings\n",
      "22. price_book\n",
      "23. price_sales\n",
      "24. price_cashflow\n",
      "25. median_market_cap\n",
      "26. basic_materials\n",
      "27. consumer_cyclical\n",
      "28. financial_services\n",
      "29. real_estate\n",
      "30. consumer_defensive\n",
      "31. healthcare\n",
      "32. utilities\n",
      "33. communication_services\n",
      "34. energy\n",
      "35. industrials\n",
      "36. technology\n",
      "37. bond_maturity\n",
      "38. bond_duration\n",
      "39. rating_us_government\n",
      "40. rating_aaa\n",
      "41. rating_aa\n",
      "42. rating_a\n",
      "43. rating_bbb\n",
      "44. rating_bb\n",
      "45. rating_b\n",
      "46. rating_below_b\n",
      "47. rating_others\n",
      "48. morningstar_return_rating\n",
      "49. fund_return_ytd\n",
      "50. category_return_ytd\n",
      "51. fund_return_1month\n",
      "52. category_return_1month\n",
      "53. fund_return_3months\n",
      "54. category_return_3months\n",
      "55. fund_return_1year\n",
      "56. category_return_1year\n",
      "57. fund_return_3years\n",
      "58. category_return_3years\n",
      "59. fund_return_5years\n",
      "60. category_return_5years\n",
      "61. fund_return_10years\n",
      "62. category_return_10years\n",
      "63. fund_return_2018\n",
      "64. category_return_2018\n",
      "65. fund_return_2017\n",
      "66. category_return_2017\n",
      "67. fund_return_2016\n",
      "68. category_return_2016\n",
      "69. fund_return_2015\n",
      "70. category_return_2015\n",
      "71. fund_return_2014\n",
      "72. category_return_2014\n",
      "73. fund_return_2013\n",
      "74. category_return_2013\n",
      "75. fund_return_2012\n",
      "76. category_return_2012\n",
      "77. fund_return_2011\n",
      "78. category_return_2011\n",
      "79. fund_return_2010\n",
      "80. category_return_2010\n",
      "81. morningstar_risk_rating\n",
      "82. years_up\n",
      "83. years_down\n",
      "84. fund_alpha_3years\n",
      "85. category_alpha_3years\n",
      "86. fund_alpha_5years\n",
      "87. category_alpha_5years\n",
      "88. fund_alpha_10years\n",
      "89. category_alpha_10years\n",
      "90. fund_beta_3years\n",
      "91. category_beta_3years\n",
      "92. fund_beta_5years\n",
      "93. category_beta_5years\n",
      "94. fund_beta_10years\n",
      "95. category_beta_10years\n",
      "96. fund_mean_annual_return_3years\n",
      "97. category_mean_annual_return_3years\n",
      "98. fund_mean_annual_return_5years\n",
      "99. category_mean_annual_return_5years\n",
      "100. fund_mean_annual_return_10years\n",
      "101. category_mean_annual_return_10years\n",
      "102. fund_r_squared_3years\n",
      "103. category_r_squared_3years\n",
      "104. fund_r_squared_5years\n",
      "105. category_r_squared_5years\n",
      "106. fund_r_squared_10years\n",
      "107. category_r_squared_10years\n",
      "108. fund_standard_deviation_3years\n",
      "109. category_standard_deviation_3years\n",
      "110. fund_standard_deviation_5years\n",
      "111. category_standard_deviation_5years\n",
      "112. fund_standard_deviation_10years\n",
      "113. category_standard_deviation_10years\n",
      "114. fund_sharpe_ratio_3years\n",
      "115. category_sharpe_ratio_3years\n",
      "116. fund_sharpe_ratio_5years\n",
      "117. category_sharpe_ratio_5years\n",
      "118. fund_sharpe_ratio_10years\n",
      "119. category_sharpe_ratio_10years\n",
      "120. fund_treynor_ratio_3years\n",
      "121. category_treynor_ratio_3years\n",
      "122. fund_treynor_ratio_5years\n",
      "123. category_treynor_ratio_5years\n",
      "124. fund_treynor_ratio_10years\n",
      "125. category_treynor_ratio_10years\n",
      "126. cash_index\n",
      "127. stocks_index\n",
      "128. bonds_index\n",
      "129. others_index\n",
      "130. preferred_index\n",
      "131. convertable_index\n",
      "132. portfolio_type\n",
      "133. consumer_cyclical_index\n",
      "134. financial_services_index\n",
      "135. real_estate_index\n",
      "136. consumer_defensive_index\n",
      "137. healthcare_index\n",
      "138. utilities_index\n",
      "139. communication_services_index\n",
      "140. energy_index\n",
      "141. industrials_index\n",
      "142. technology_index\n",
      "143. portfolio_industry\n",
      "144. basic_materials_index\n"
     ]
    }
   ],
   "source": [
    "a=0\n",
    "for element in no_industry.columns:\n",
    "    a=a+1\n",
    "    print(f\"{a}. {element}\")"
   ]
  }
 ],
 "metadata": {
  "kernelspec": {
   "display_name": "Python [conda env:ironhack_env]",
   "language": "python",
   "name": "conda-env-ironhack_env-py"
  },
  "language_info": {
   "codemirror_mode": {
    "name": "ipython",
    "version": 3
   },
   "file_extension": ".py",
   "mimetype": "text/x-python",
   "name": "python",
   "nbconvert_exporter": "python",
   "pygments_lexer": "ipython3",
   "version": "3.7.7"
  }
 },
 "nbformat": 4,
 "nbformat_minor": 4
}
