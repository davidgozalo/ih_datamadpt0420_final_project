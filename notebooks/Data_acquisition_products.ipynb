{
 "cells": [
  {
   "cell_type": "code",
   "execution_count": 4,
   "metadata": {},
   "outputs": [
    {
     "name": "stderr",
     "output_type": "stream",
     "text": [
      "/home/davidgozalo/miniconda3/envs/ironhack_env/lib/python3.7/site-packages/IPython/core/interactiveshell.py:3072: DtypeWarning: Columns (20,22,23,119,121,123) have mixed types.Specify dtype option on import or set low_memory=False.\n",
      "  interactivity=interactivity, compiler=compiler, result=result)\n"
     ]
    }
   ],
   "source": [
    "import pandas as pd\n",
    "products= pd.read_csv('/home/davidgozalo/Ironhack/ih_datamadpt0420_final_project/data/raw/Mutual Funds.csv')"
   ]
  },
  {
   "cell_type": "code",
   "execution_count": 5,
   "metadata": {},
   "outputs": [
    {
     "data": {
      "text/plain": [
       "Index(['fund_name', 'fund_extended_name', 'category', 'fund_family',\n",
       "       'net_assets', 'ytd_return', 'fund_yield', 'morningstar_rating',\n",
       "       'inception_date', 'investment',\n",
       "       ...\n",
       "       'fund_sharpe_ratio_5years', 'category_sharpe_ratio_5years',\n",
       "       'fund_sharpe_ratio_10years', 'category_sharpe_ratio_10years',\n",
       "       'fund_treynor_ratio_3years', 'category_treynor_ratio_3years',\n",
       "       'fund_treynor_ratio_5years', 'category_treynor_ratio_5years',\n",
       "       'fund_treynor_ratio_10years', 'category_treynor_ratio_10years'],\n",
       "      dtype='object', length=125)"
      ]
     },
     "execution_count": 5,
     "metadata": {},
     "output_type": "execute_result"
    }
   ],
   "source": [
    "products.columns"
   ]
  },
  {
   "cell_type": "code",
   "execution_count": 6,
   "metadata": {},
   "outputs": [
    {
     "data": {
      "text/plain": [
       "(25308, 125)"
      ]
     },
     "execution_count": 6,
     "metadata": {},
     "output_type": "execute_result"
    }
   ],
   "source": [
    "products.shape"
   ]
  },
  {
   "cell_type": "code",
   "execution_count": 7,
   "metadata": {},
   "outputs": [
    {
     "data": {
      "text/html": [
       "<div>\n",
       "<style scoped>\n",
       "    .dataframe tbody tr th:only-of-type {\n",
       "        vertical-align: middle;\n",
       "    }\n",
       "\n",
       "    .dataframe tbody tr th {\n",
       "        vertical-align: top;\n",
       "    }\n",
       "\n",
       "    .dataframe thead th {\n",
       "        text-align: right;\n",
       "    }\n",
       "</style>\n",
       "<table border=\"1\" class=\"dataframe\">\n",
       "  <thead>\n",
       "    <tr style=\"text-align: right;\">\n",
       "      <th></th>\n",
       "      <th>fund_name</th>\n",
       "      <th>fund_extended_name</th>\n",
       "      <th>category</th>\n",
       "      <th>fund_family</th>\n",
       "      <th>net_assets</th>\n",
       "      <th>ytd_return</th>\n",
       "      <th>fund_yield</th>\n",
       "      <th>morningstar_rating</th>\n",
       "      <th>inception_date</th>\n",
       "      <th>investment</th>\n",
       "      <th>...</th>\n",
       "      <th>fund_sharpe_ratio_5years</th>\n",
       "      <th>category_sharpe_ratio_5years</th>\n",
       "      <th>fund_sharpe_ratio_10years</th>\n",
       "      <th>category_sharpe_ratio_10years</th>\n",
       "      <th>fund_treynor_ratio_3years</th>\n",
       "      <th>category_treynor_ratio_3years</th>\n",
       "      <th>fund_treynor_ratio_5years</th>\n",
       "      <th>category_treynor_ratio_5years</th>\n",
       "      <th>fund_treynor_ratio_10years</th>\n",
       "      <th>category_treynor_ratio_10years</th>\n",
       "    </tr>\n",
       "  </thead>\n",
       "  <tbody>\n",
       "    <tr>\n",
       "      <th>0</th>\n",
       "      <td>AAAAX</td>\n",
       "      <td>DWS RREEF Real Assets Fund - Class A</td>\n",
       "      <td>World Allocation</td>\n",
       "      <td>DWS</td>\n",
       "      <td>5.302800e+08</td>\n",
       "      <td>12.79</td>\n",
       "      <td>1.43</td>\n",
       "      <td>3</td>\n",
       "      <td>2007-07-29</td>\n",
       "      <td>Blend</td>\n",
       "      <td>...</td>\n",
       "      <td>0.31</td>\n",
       "      <td>0.00</td>\n",
       "      <td>0.73</td>\n",
       "      <td>0.01</td>\n",
       "      <td>5.05</td>\n",
       "      <td>0.05</td>\n",
       "      <td>2.26</td>\n",
       "      <td>0.02</td>\n",
       "      <td>6.71</td>\n",
       "      <td>0.07</td>\n",
       "    </tr>\n",
       "    <tr>\n",
       "      <th>1</th>\n",
       "      <td>AAADX</td>\n",
       "      <td>Aberdeen Income Builder Fund Class A</td>\n",
       "      <td>Large Blend</td>\n",
       "      <td>Aberdeen</td>\n",
       "      <td>8.884000e+07</td>\n",
       "      <td>9.21</td>\n",
       "      <td>2.62</td>\n",
       "      <td>2</td>\n",
       "      <td>2011-12-29</td>\n",
       "      <td>Blend</td>\n",
       "      <td>...</td>\n",
       "      <td>0.62</td>\n",
       "      <td>0.01</td>\n",
       "      <td>0.97</td>\n",
       "      <td>0.01</td>\n",
       "      <td>11.55</td>\n",
       "      <td>0.11</td>\n",
       "      <td>6.91</td>\n",
       "      <td>0.08</td>\n",
       "      <td>12.77</td>\n",
       "      <td>0.14</td>\n",
       "    </tr>\n",
       "    <tr>\n",
       "      <th>2</th>\n",
       "      <td>AAAGX</td>\n",
       "      <td>Thrivent Large Cap Growth Fund Class A</td>\n",
       "      <td>Large Growth</td>\n",
       "      <td>Thrivent Funds</td>\n",
       "      <td>1.080000e+09</td>\n",
       "      <td>16.00</td>\n",
       "      <td>0.00</td>\n",
       "      <td>3</td>\n",
       "      <td>1999-10-28</td>\n",
       "      <td>Growth</td>\n",
       "      <td>...</td>\n",
       "      <td>0.86</td>\n",
       "      <td>0.01</td>\n",
       "      <td>1.01</td>\n",
       "      <td>0.01</td>\n",
       "      <td>12.65</td>\n",
       "      <td>0.13</td>\n",
       "      <td>10.22</td>\n",
       "      <td>0.10</td>\n",
       "      <td>13.44</td>\n",
       "      <td>0.15</td>\n",
       "    </tr>\n",
       "    <tr>\n",
       "      <th>3</th>\n",
       "      <td>AAAIX</td>\n",
       "      <td>American Century Strategic Allocation: Aggress...</td>\n",
       "      <td>Allocation - 70% to 85% Equity</td>\n",
       "      <td>American Century Investments</td>\n",
       "      <td>7.852700e+08</td>\n",
       "      <td>11.57</td>\n",
       "      <td>1.38</td>\n",
       "      <td>4</td>\n",
       "      <td>2000-07-31</td>\n",
       "      <td>Growth</td>\n",
       "      <td>...</td>\n",
       "      <td>0.63</td>\n",
       "      <td>0.01</td>\n",
       "      <td>1.00</td>\n",
       "      <td>0.01</td>\n",
       "      <td>5.77</td>\n",
       "      <td>0.05</td>\n",
       "      <td>4.14</td>\n",
       "      <td>0.03</td>\n",
       "      <td>8.24</td>\n",
       "      <td>0.08</td>\n",
       "    </tr>\n",
       "    <tr>\n",
       "      <th>4</th>\n",
       "      <td>AAANX</td>\n",
       "      <td>Horizon Active Asset Allocation Fund Investor ...</td>\n",
       "      <td>Tactical Allocation</td>\n",
       "      <td>Horizon Investments</td>\n",
       "      <td>5.271300e+08</td>\n",
       "      <td>11.62</td>\n",
       "      <td>0.66</td>\n",
       "      <td>4</td>\n",
       "      <td>2012-01-30</td>\n",
       "      <td>Blend</td>\n",
       "      <td>...</td>\n",
       "      <td>0.47</td>\n",
       "      <td>0.00</td>\n",
       "      <td>NaN</td>\n",
       "      <td>0.01</td>\n",
       "      <td>4.5</td>\n",
       "      <td>0.04</td>\n",
       "      <td>2.98</td>\n",
       "      <td>0.03</td>\n",
       "      <td>NaN</td>\n",
       "      <td>0.09</td>\n",
       "    </tr>\n",
       "  </tbody>\n",
       "</table>\n",
       "<p>5 rows × 125 columns</p>\n",
       "</div>"
      ],
      "text/plain": [
       "  fund_name                                 fund_extended_name  \\\n",
       "0     AAAAX               DWS RREEF Real Assets Fund - Class A   \n",
       "1     AAADX               Aberdeen Income Builder Fund Class A   \n",
       "2     AAAGX             Thrivent Large Cap Growth Fund Class A   \n",
       "3     AAAIX  American Century Strategic Allocation: Aggress...   \n",
       "4     AAANX  Horizon Active Asset Allocation Fund Investor ...   \n",
       "\n",
       "                         category                   fund_family    net_assets  \\\n",
       "0                World Allocation                           DWS  5.302800e+08   \n",
       "1                     Large Blend                      Aberdeen  8.884000e+07   \n",
       "2                    Large Growth                Thrivent Funds  1.080000e+09   \n",
       "3  Allocation - 70% to 85% Equity  American Century Investments  7.852700e+08   \n",
       "4             Tactical Allocation           Horizon Investments  5.271300e+08   \n",
       "\n",
       "   ytd_return  fund_yield  morningstar_rating inception_date investment  ...  \\\n",
       "0       12.79        1.43                   3     2007-07-29      Blend  ...   \n",
       "1        9.21        2.62                   2     2011-12-29      Blend  ...   \n",
       "2       16.00        0.00                   3     1999-10-28     Growth  ...   \n",
       "3       11.57        1.38                   4     2000-07-31     Growth  ...   \n",
       "4       11.62        0.66                   4     2012-01-30      Blend  ...   \n",
       "\n",
       "  fund_sharpe_ratio_5years category_sharpe_ratio_5years  \\\n",
       "0                     0.31                         0.00   \n",
       "1                     0.62                         0.01   \n",
       "2                     0.86                         0.01   \n",
       "3                     0.63                         0.01   \n",
       "4                     0.47                         0.00   \n",
       "\n",
       "   fund_sharpe_ratio_10years  category_sharpe_ratio_10years  \\\n",
       "0                       0.73                           0.01   \n",
       "1                       0.97                           0.01   \n",
       "2                       1.01                           0.01   \n",
       "3                       1.00                           0.01   \n",
       "4                        NaN                           0.01   \n",
       "\n",
       "   fund_treynor_ratio_3years  category_treynor_ratio_3years  \\\n",
       "0                       5.05                           0.05   \n",
       "1                      11.55                           0.11   \n",
       "2                      12.65                           0.13   \n",
       "3                       5.77                           0.05   \n",
       "4                        4.5                           0.04   \n",
       "\n",
       "   fund_treynor_ratio_5years  category_treynor_ratio_5years  \\\n",
       "0                       2.26                           0.02   \n",
       "1                       6.91                           0.08   \n",
       "2                      10.22                           0.10   \n",
       "3                       4.14                           0.03   \n",
       "4                       2.98                           0.03   \n",
       "\n",
       "   fund_treynor_ratio_10years  category_treynor_ratio_10years  \n",
       "0                        6.71                            0.07  \n",
       "1                       12.77                            0.14  \n",
       "2                       13.44                            0.15  \n",
       "3                        8.24                            0.08  \n",
       "4                         NaN                            0.09  \n",
       "\n",
       "[5 rows x 125 columns]"
      ]
     },
     "execution_count": 7,
     "metadata": {},
     "output_type": "execute_result"
    }
   ],
   "source": [
    "products.head()"
   ]
  },
  {
   "cell_type": "code",
   "execution_count": 8,
   "metadata": {},
   "outputs": [
    {
     "data": {
      "text/plain": [
       "Large Growth                     1347\n",
       "Large Blend                      1300\n",
       "Large Value                      1137\n",
       "Intermediate-Term Bond            973\n",
       "World Large Stock                 867\n",
       "                                 ... \n",
       "Trading - Leveraged Debt            9\n",
       "Trading - Miscellaneous             8\n",
       "Volatility                          7\n",
       "Trading - Inverse Commodities       4\n",
       "Commodities Precious Metals         2\n",
       "Name: category, Length: 111, dtype: int64"
      ]
     },
     "execution_count": 8,
     "metadata": {},
     "output_type": "execute_result"
    }
   ],
   "source": [
    "products[\"category\"].value_counts()"
   ]
  },
  {
   "cell_type": "code",
   "execution_count": 9,
   "metadata": {},
   "outputs": [],
   "source": [
    "pd.set_option(\"display.max_rows\", None)"
   ]
  },
  {
   "cell_type": "code",
   "execution_count": 10,
   "metadata": {},
   "outputs": [
    {
     "name": "stdout",
     "output_type": "stream",
     "text": [
      "1-fund_name\n",
      "2-fund_extended_name\n",
      "3-category\n",
      "4-fund_family\n",
      "5-net_assets\n",
      "6-ytd_return\n",
      "7-fund_yield\n",
      "8-morningstar_rating\n",
      "9-inception_date\n",
      "10-investment\n",
      "11-size\n",
      "12-currency\n",
      "13-net_annual_expense_ratio_fund\n",
      "14-net_annual_expense_ratio_category\n",
      "15-portfolio_cash\n",
      "16-portfolio_stocks\n",
      "17-portfolio_bonds\n",
      "18-portfolio_others\n",
      "19-portfolio_preferred\n",
      "20-portfolio_convertable\n",
      "21-price_earnings\n",
      "22-price_book\n",
      "23-price_sales\n",
      "24-price_cashflow\n",
      "25-median_market_cap\n",
      "26-basic_materials\n",
      "27-consumer_cyclical\n",
      "28-financial_services\n",
      "29-real_estate\n",
      "30-consumer_defensive\n",
      "31-healthcare\n",
      "32-utilities\n",
      "33-communication_services\n",
      "34-energy\n",
      "35-industrials\n",
      "36-technology\n",
      "37-bond_maturity\n",
      "38-bond_duration\n",
      "39-rating_us_government\n",
      "40-rating_aaa\n",
      "41-rating_aa\n",
      "42-rating_a\n",
      "43-rating_bbb\n",
      "44-rating_bb\n",
      "45-rating_b\n",
      "46-rating_below_b\n",
      "47-rating_others\n",
      "48-morningstar_return_rating\n",
      "49-fund_return_ytd\n",
      "50-category_return_ytd\n",
      "51-fund_return_1month\n",
      "52-category_return_1month\n",
      "53-fund_return_3months\n",
      "54-category_return_3months\n",
      "55-fund_return_1year\n",
      "56-category_return_1year\n",
      "57-fund_return_3years\n",
      "58-category_return_3years\n",
      "59-fund_return_5years\n",
      "60-category_return_5years\n",
      "61-fund_return_10years\n",
      "62-category_return_10years\n",
      "63-fund_return_2018\n",
      "64-category_return_2018\n",
      "65-fund_return_2017\n",
      "66-category_return_2017\n",
      "67-fund_return_2016\n",
      "68-category_return_2016\n",
      "69-fund_return_2015\n",
      "70-category_return_2015\n",
      "71-fund_return_2014\n",
      "72-category_return_2014\n",
      "73-fund_return_2013\n",
      "74-category_return_2013\n",
      "75-fund_return_2012\n",
      "76-category_return_2012\n",
      "77-fund_return_2011\n",
      "78-category_return_2011\n",
      "79-fund_return_2010\n",
      "80-category_return_2010\n",
      "81-morningstar_risk_rating\n",
      "82-years_up\n",
      "83-years_down\n",
      "84-fund_alpha_3years\n",
      "85-category_alpha_3years\n",
      "86-fund_alpha_5years\n",
      "87-category_alpha_5years\n",
      "88-fund_alpha_10years\n",
      "89-category_alpha_10years\n",
      "90-fund_beta_3years\n",
      "91-category_beta_3years\n",
      "92-fund_beta_5years\n",
      "93-category_beta_5years\n",
      "94-fund_beta_10years\n",
      "95-category_beta_10years\n",
      "96-fund_mean_annual_return_3years\n",
      "97-category_mean_annual_return_3years\n",
      "98-fund_mean_annual_return_5years\n",
      "99-category_mean_annual_return_5years\n",
      "100-fund_mean_annual_return_10years\n",
      "101-category_mean_annual_return_10years\n",
      "102-fund_r_squared_3years\n",
      "103-category_r_squared_3years\n",
      "104-fund_r_squared_5years\n",
      "105-category_r_squared_5years\n",
      "106-fund_r_squared_10years\n",
      "107-category_r_squared_10years\n",
      "108-fund_standard_deviation_3years\n",
      "109-category_standard_deviation_3years\n",
      "110-fund_standard_deviation_5years\n",
      "111-category_standard_deviation_5years\n",
      "112-fund_standard_deviation_10years\n",
      "113-category_standard_deviation_10years\n",
      "114-fund_sharpe_ratio_3years\n",
      "115-category_sharpe_ratio_3years\n",
      "116-fund_sharpe_ratio_5years\n",
      "117-category_sharpe_ratio_5years\n",
      "118-fund_sharpe_ratio_10years\n",
      "119-category_sharpe_ratio_10years\n",
      "120-fund_treynor_ratio_3years\n",
      "121-category_treynor_ratio_3years\n",
      "122-fund_treynor_ratio_5years\n",
      "123-category_treynor_ratio_5years\n",
      "124-fund_treynor_ratio_10years\n",
      "125-category_treynor_ratio_10years\n"
     ]
    }
   ],
   "source": [
    "a=0\n",
    "lista=[]\n",
    "for i in products.columns:\n",
    "    a=a+1\n",
    "    print(f\"{a}-{i}\")\n",
    "    lista.append((f\"{a}-{i}\"))\n",
    "    "
   ]
  },
  {
   "cell_type": "code",
   "execution_count": 11,
   "metadata": {},
   "outputs": [],
   "source": [
    "# 1. First we wil analyze portfolio type of investment"
   ]
  },
  {
   "cell_type": "code",
   "execution_count": 12,
   "metadata": {},
   "outputs": [
    {
     "ename": "NameError",
     "evalue": "name 'portfolio_cash' is not defined",
     "output_type": "error",
     "traceback": [
      "\u001b[0;31m---------------------------------------------------------------------------\u001b[0m",
      "\u001b[0;31mNameError\u001b[0m                                 Traceback (most recent call last)",
      "\u001b[0;32m<ipython-input-12-d8e266c14c56>\u001b[0m in \u001b[0;36m<module>\u001b[0;34m\u001b[0m\n\u001b[0;32m----> 1\u001b[0;31m \u001b[0;36m15\u001b[0m\u001b[0;34m-\u001b[0m\u001b[0mportfolio_cash\u001b[0m\u001b[0;34m\u001b[0m\u001b[0;34m\u001b[0m\u001b[0m\n\u001b[0m\u001b[1;32m      2\u001b[0m \u001b[0;36m16\u001b[0m\u001b[0;34m-\u001b[0m\u001b[0mportfolio_stocks\u001b[0m\u001b[0;34m\u001b[0m\u001b[0;34m\u001b[0m\u001b[0m\n\u001b[1;32m      3\u001b[0m \u001b[0;36m17\u001b[0m\u001b[0;34m-\u001b[0m\u001b[0mportfolio_bonds\u001b[0m\u001b[0;34m\u001b[0m\u001b[0;34m\u001b[0m\u001b[0m\n\u001b[1;32m      4\u001b[0m \u001b[0;36m18\u001b[0m\u001b[0;34m-\u001b[0m\u001b[0mportfolio_others\u001b[0m\u001b[0;34m\u001b[0m\u001b[0;34m\u001b[0m\u001b[0m\n\u001b[1;32m      5\u001b[0m \u001b[0;36m19\u001b[0m\u001b[0;34m-\u001b[0m\u001b[0mportfolio_preferred\u001b[0m\u001b[0;34m\u001b[0m\u001b[0;34m\u001b[0m\u001b[0m\n",
      "\u001b[0;31mNameError\u001b[0m: name 'portfolio_cash' is not defined"
     ]
    }
   ],
   "source": [
    "15-portfolio_cash\n",
    "16-portfolio_stocks\n",
    "17-portfolio_bonds\n",
    "18-portfolio_others\n",
    "19-portfolio_preferred\n",
    "20-portfolio_convertable"
   ]
  },
  {
   "cell_type": "code",
   "execution_count": 13,
   "metadata": {},
   "outputs": [],
   "source": [
    "# products[\"portfolio_cash\"].value_counts().sort_index()"
   ]
  },
  {
   "cell_type": "code",
   "execution_count": 14,
   "metadata": {},
   "outputs": [],
   "source": [
    "# 1,1 We assing a value to the category cash_index"
   ]
  },
  {
   "cell_type": "code",
   "execution_count": 15,
   "metadata": {},
   "outputs": [],
   "source": [
    "products.loc[products['portfolio_cash'] <= 75, \"cash_index\"] = 0 \n",
    "products.loc[products['portfolio_cash'] > 75, \"cash_index\"] = 1 "
   ]
  },
  {
   "cell_type": "code",
   "execution_count": 16,
   "metadata": {},
   "outputs": [
    {
     "data": {
      "text/plain": [
       "0.0    24982\n",
       "1.0      211\n",
       "Name: cash_index, dtype: int64"
      ]
     },
     "execution_count": 16,
     "metadata": {},
     "output_type": "execute_result"
    }
   ],
   "source": [
    "products[\"cash_index\"].value_counts().sort_index()"
   ]
  },
  {
   "cell_type": "code",
   "execution_count": 17,
   "metadata": {},
   "outputs": [],
   "source": [
    "# 1,2 We assing a value to the category stocks_index"
   ]
  },
  {
   "cell_type": "code",
   "execution_count": 18,
   "metadata": {},
   "outputs": [],
   "source": [
    "products.loc[products['portfolio_stocks'] <= 70, \"stocks_index\"] = 0 \n",
    "products.loc[products['portfolio_stocks'] > 70, \"stocks_index\"] = 1 "
   ]
  },
  {
   "cell_type": "code",
   "execution_count": 19,
   "metadata": {},
   "outputs": [
    {
     "data": {
      "text/plain": [
       "0.0    11476\n",
       "1.0    13717\n",
       "Name: stocks_index, dtype: int64"
      ]
     },
     "execution_count": 19,
     "metadata": {},
     "output_type": "execute_result"
    }
   ],
   "source": [
    "products[\"stocks_index\"].value_counts().sort_index()"
   ]
  },
  {
   "cell_type": "code",
   "execution_count": 20,
   "metadata": {},
   "outputs": [],
   "source": [
    "# 1,3 We assing a value to the category bonds_index"
   ]
  },
  {
   "cell_type": "code",
   "execution_count": 21,
   "metadata": {},
   "outputs": [],
   "source": [
    "products.loc[products['portfolio_bonds'] <= 70, \"bonds_index\"] = 0 \n",
    "products.loc[products['portfolio_bonds'] > 70, \"bonds_index\"] = 1"
   ]
  },
  {
   "cell_type": "code",
   "execution_count": 22,
   "metadata": {},
   "outputs": [
    {
     "data": {
      "text/plain": [
       "0.0    19170\n",
       "1.0     6023\n",
       "Name: bonds_index, dtype: int64"
      ]
     },
     "execution_count": 22,
     "metadata": {},
     "output_type": "execute_result"
    }
   ],
   "source": [
    "products[\"bonds_index\"].value_counts().sort_index()"
   ]
  },
  {
   "cell_type": "code",
   "execution_count": 23,
   "metadata": {},
   "outputs": [],
   "source": [
    "# 1,4 We assing a value to the category others_index"
   ]
  },
  {
   "cell_type": "code",
   "execution_count": 24,
   "metadata": {},
   "outputs": [],
   "source": [
    "products.loc[products['portfolio_others'] <= 50, \"others_index\"] = 0 \n",
    "products.loc[products['portfolio_others'] > 50, \"others_index\"] = 1 "
   ]
  },
  {
   "cell_type": "code",
   "execution_count": 25,
   "metadata": {},
   "outputs": [
    {
     "data": {
      "text/plain": [
       "0.0    25132\n",
       "1.0       61\n",
       "Name: others_index, dtype: int64"
      ]
     },
     "execution_count": 25,
     "metadata": {},
     "output_type": "execute_result"
    }
   ],
   "source": [
    "products[\"others_index\"].value_counts().sort_index()"
   ]
  },
  {
   "cell_type": "code",
   "execution_count": 26,
   "metadata": {},
   "outputs": [],
   "source": [
    "# 1,5 We assing a value to the category preferred_index"
   ]
  },
  {
   "cell_type": "code",
   "execution_count": 27,
   "metadata": {},
   "outputs": [],
   "source": [
    "products.loc[products['portfolio_preferred'] <= 50, \"preferred_index\"] = 0 \n",
    "products.loc[products['portfolio_preferred'] > 50, \"preferred_index\"] = 1 "
   ]
  },
  {
   "cell_type": "code",
   "execution_count": 28,
   "metadata": {},
   "outputs": [
    {
     "data": {
      "text/plain": [
       "0.0    25183\n",
       "1.0       10\n",
       "Name: preferred_index, dtype: int64"
      ]
     },
     "execution_count": 28,
     "metadata": {},
     "output_type": "execute_result"
    }
   ],
   "source": [
    "products[\"preferred_index\"].value_counts().sort_index()"
   ]
  },
  {
   "cell_type": "code",
   "execution_count": 29,
   "metadata": {},
   "outputs": [],
   "source": [
    "# 1,6 We assing a value to the category convertable_index"
   ]
  },
  {
   "cell_type": "code",
   "execution_count": 30,
   "metadata": {},
   "outputs": [],
   "source": [
    "products.loc[products['portfolio_convertable'] <= 50, \"convertable_index\"] = 0 \n",
    "products.loc[products['portfolio_convertable'] > 50, \"convertable_index\"] = 1 "
   ]
  },
  {
   "cell_type": "code",
   "execution_count": 31,
   "metadata": {},
   "outputs": [
    {
     "data": {
      "text/plain": [
       "0.0    25104\n",
       "1.0       89\n",
       "Name: convertable_index, dtype: int64"
      ]
     },
     "execution_count": 31,
     "metadata": {},
     "output_type": "execute_result"
    }
   ],
   "source": [
    "products[\"convertable_index\"].value_counts().sort_index()"
   ]
  },
  {
   "cell_type": "code",
   "execution_count": 32,
   "metadata": {},
   "outputs": [],
   "source": [
    "# 1.7 We create a type column considering the  diferent indexes"
   ]
  },
  {
   "cell_type": "code",
   "execution_count": 33,
   "metadata": {},
   "outputs": [],
   "source": [
    "import numpy as np\n",
    "# create a list of our conditions\n",
    "conditions = [\n",
    "    (products[\"cash_index\"]==1),\n",
    "    (products[\"stocks_index\"]==1),\n",
    "    (products[\"bonds_index\"]==1),\n",
    "    (products[\"others_index\"]==1),\n",
    "    (products[\"preferred_index\"]==1),\n",
    "    (products[\"convertable_index\"]==1)]\n",
    "\n",
    "# create a list of the values we want to assign for each condition\n",
    "values = [\"cash\", \"stocks\", \"bonds\",\"other\",\"preferred\",\"convertable\"]\n",
    "\n",
    "# create a new column and use np.select to assign values to it using our lists as arguments\n",
    "products[\"portfolio_type\"] = np.select(conditions, values)\n"
   ]
  },
  {
   "cell_type": "code",
   "execution_count": 34,
   "metadata": {},
   "outputs": [
    {
     "data": {
      "text/plain": [
       "0               5197\n",
       "bonds           6023\n",
       "cash             211\n",
       "convertable       89\n",
       "other             61\n",
       "preferred         10\n",
       "stocks         13717\n",
       "Name: portfolio_type, dtype: int64"
      ]
     },
     "execution_count": 34,
     "metadata": {},
     "output_type": "execute_result"
    }
   ],
   "source": [
    "products[\"portfolio_type\"].value_counts().sort_index()"
   ]
  },
  {
   "cell_type": "code",
   "execution_count": 35,
   "metadata": {},
   "outputs": [],
   "source": [
    "#1.8 We assingn the \"non classified, to \"other\""
   ]
  },
  {
   "cell_type": "code",
   "execution_count": 36,
   "metadata": {},
   "outputs": [],
   "source": [
    "products[\"portfolio_type\"].replace({\"0\": \"other\"}, inplace=True)"
   ]
  },
  {
   "cell_type": "code",
   "execution_count": 37,
   "metadata": {},
   "outputs": [],
   "source": [
    "# 2.  We will analyze portfolio industry"
   ]
  },
  {
   "cell_type": "code",
   "execution_count": 38,
   "metadata": {},
   "outputs": [
    {
     "ename": "NameError",
     "evalue": "name 'consumer_cyclical' is not defined",
     "output_type": "error",
     "traceback": [
      "\u001b[0;31m---------------------------------------------------------------------------\u001b[0m",
      "\u001b[0;31mNameError\u001b[0m                                 Traceback (most recent call last)",
      "\u001b[0;32m<ipython-input-38-1025993bd1f4>\u001b[0m in \u001b[0;36m<module>\u001b[0;34m\u001b[0m\n\u001b[0;32m----> 1\u001b[0;31m \u001b[0;36m7\u001b[0m\u001b[0;34m-\u001b[0m\u001b[0mconsumer_cyclical\u001b[0m\u001b[0;34m\u001b[0m\u001b[0;34m\u001b[0m\u001b[0m\n\u001b[0m\u001b[1;32m      2\u001b[0m \u001b[0;36m28\u001b[0m\u001b[0;34m-\u001b[0m\u001b[0mfinancial_services\u001b[0m\u001b[0;34m\u001b[0m\u001b[0;34m\u001b[0m\u001b[0m\n\u001b[1;32m      3\u001b[0m \u001b[0;36m29\u001b[0m\u001b[0;34m-\u001b[0m\u001b[0mreal_estate\u001b[0m\u001b[0;34m\u001b[0m\u001b[0;34m\u001b[0m\u001b[0m\n\u001b[1;32m      4\u001b[0m \u001b[0;36m30\u001b[0m\u001b[0;34m-\u001b[0m\u001b[0mconsumer_defensive\u001b[0m\u001b[0;34m\u001b[0m\u001b[0;34m\u001b[0m\u001b[0m\n\u001b[1;32m      5\u001b[0m \u001b[0;36m31\u001b[0m\u001b[0;34m-\u001b[0m\u001b[0mhealthcare\u001b[0m\u001b[0;34m\u001b[0m\u001b[0;34m\u001b[0m\u001b[0m\n",
      "\u001b[0;31mNameError\u001b[0m: name 'consumer_cyclical' is not defined"
     ]
    }
   ],
   "source": [
    "7-consumer_cyclical\n",
    "28-financial_services\n",
    "29-real_estate\n",
    "30-consumer_defensive\n",
    "31-healthcare\n",
    "32-utilities\n",
    "33-communication_services\n",
    "34-energy\n",
    "35-industrials\n",
    "36-technology"
   ]
  },
  {
   "cell_type": "code",
   "execution_count": 39,
   "metadata": {},
   "outputs": [],
   "source": [
    "# 2.1 We create basic material_index"
   ]
  },
  {
   "cell_type": "code",
   "execution_count": 40,
   "metadata": {},
   "outputs": [],
   "source": [
    "products.loc[products['basic_materials'] <= 50, \"basic_materials_index\"] = 0 \n",
    "products.loc[products['basic_materials'] > 50, \"basic_materials_index\"] = 1 "
   ]
  },
  {
   "cell_type": "code",
   "execution_count": 41,
   "metadata": {},
   "outputs": [
    {
     "data": {
      "text/plain": [
       "0.0    25031\n",
       "1.0      162\n",
       "Name: basic_materials_index, dtype: int64"
      ]
     },
     "execution_count": 41,
     "metadata": {},
     "output_type": "execute_result"
    }
   ],
   "source": [
    "products[\"basic_materials_index\"].value_counts().sort_index()"
   ]
  },
  {
   "cell_type": "code",
   "execution_count": 42,
   "metadata": {},
   "outputs": [],
   "source": [
    "# 2.2 We create consumer cyclical_index"
   ]
  },
  {
   "cell_type": "code",
   "execution_count": 43,
   "metadata": {},
   "outputs": [],
   "source": [
    "products.loc[products['consumer_cyclical'] <= 50, \"consumer_cyclical_index\"] = 0 \n",
    "products.loc[products['consumer_cyclical'] > 50, \"consumer_cyclical_index\"] = 1 "
   ]
  },
  {
   "cell_type": "code",
   "execution_count": 44,
   "metadata": {},
   "outputs": [
    {
     "data": {
      "text/plain": [
       "0.0    25020\n",
       "1.0      173\n",
       "Name: consumer_cyclical_index, dtype: int64"
      ]
     },
     "execution_count": 44,
     "metadata": {},
     "output_type": "execute_result"
    }
   ],
   "source": [
    "products[\"consumer_cyclical_index\"].value_counts().sort_index()"
   ]
  },
  {
   "cell_type": "code",
   "execution_count": 45,
   "metadata": {},
   "outputs": [],
   "source": [
    "# 2.3 We create  financial_services_index"
   ]
  },
  {
   "cell_type": "code",
   "execution_count": 46,
   "metadata": {},
   "outputs": [],
   "source": [
    "products.loc[products['financial_services'] <= 50, \"financial_services_index\"] = 0 \n",
    "products.loc[products['financial_services'] > 50, \"financial_services_index\"] = 1 "
   ]
  },
  {
   "cell_type": "code",
   "execution_count": 47,
   "metadata": {},
   "outputs": [
    {
     "data": {
      "text/plain": [
       "0.0    24952\n",
       "1.0      241\n",
       "Name: financial_services_index, dtype: int64"
      ]
     },
     "execution_count": 47,
     "metadata": {},
     "output_type": "execute_result"
    }
   ],
   "source": [
    "products[\"financial_services_index\"].value_counts().sort_index()"
   ]
  },
  {
   "cell_type": "code",
   "execution_count": 48,
   "metadata": {},
   "outputs": [],
   "source": [
    "# 2.4 We create real_state_index"
   ]
  },
  {
   "cell_type": "code",
   "execution_count": 49,
   "metadata": {},
   "outputs": [],
   "source": [
    "products.loc[products['real_estate'] <= 50, \"real_estate_index\"] = 0 \n",
    "products.loc[products['real_estate'] > 50, \"real_estate_index\"] = 1 "
   ]
  },
  {
   "cell_type": "code",
   "execution_count": 50,
   "metadata": {},
   "outputs": [
    {
     "data": {
      "text/plain": [
       "0.0    24637\n",
       "1.0      556\n",
       "Name: real_estate_index, dtype: int64"
      ]
     },
     "execution_count": 50,
     "metadata": {},
     "output_type": "execute_result"
    }
   ],
   "source": [
    "products[\"real_estate_index\"].value_counts().sort_index()"
   ]
  },
  {
   "cell_type": "code",
   "execution_count": 51,
   "metadata": {},
   "outputs": [],
   "source": [
    "# 2.5 We create customer defensive_index"
   ]
  },
  {
   "cell_type": "code",
   "execution_count": 52,
   "metadata": {},
   "outputs": [],
   "source": [
    "products.loc[products['consumer_defensive'] <= 50, \"consumer_defensive_index\"] = 0 \n",
    "products.loc[products['consumer_defensive'] > 50, \"consumer_defensive_index\"] = 1 "
   ]
  },
  {
   "cell_type": "code",
   "execution_count": 53,
   "metadata": {},
   "outputs": [
    {
     "data": {
      "text/plain": [
       "0.0    25149\n",
       "1.0       44\n",
       "Name: consumer_defensive_index, dtype: int64"
      ]
     },
     "execution_count": 53,
     "metadata": {},
     "output_type": "execute_result"
    }
   ],
   "source": [
    "products[\"consumer_defensive_index\"].value_counts().sort_index()"
   ]
  },
  {
   "cell_type": "code",
   "execution_count": 54,
   "metadata": {},
   "outputs": [],
   "source": [
    "# 2.6 We create healthcare_index"
   ]
  },
  {
   "cell_type": "code",
   "execution_count": 55,
   "metadata": {},
   "outputs": [],
   "source": [
    "products.loc[products['healthcare'] <= 50, \"healthcare_index\"] = 0 \n",
    "products.loc[products['healthcare'] > 50, \"healthcare_index\"] = 1 "
   ]
  },
  {
   "cell_type": "code",
   "execution_count": 56,
   "metadata": {},
   "outputs": [
    {
     "data": {
      "text/plain": [
       "0.0    25051\n",
       "1.0      142\n",
       "Name: healthcare_index, dtype: int64"
      ]
     },
     "execution_count": 56,
     "metadata": {},
     "output_type": "execute_result"
    }
   ],
   "source": [
    "products[\"healthcare_index\"].value_counts().sort_index()"
   ]
  },
  {
   "cell_type": "code",
   "execution_count": 57,
   "metadata": {},
   "outputs": [],
   "source": [
    "# 2.7 We create utilities_index"
   ]
  },
  {
   "cell_type": "code",
   "execution_count": 58,
   "metadata": {},
   "outputs": [],
   "source": [
    "products.loc[products['utilities'] <= 50, \"utilities_index\"] = 0 \n",
    "products.loc[products['utilities'] > 50, \"utilities_index\"] = 1 "
   ]
  },
  {
   "cell_type": "code",
   "execution_count": 59,
   "metadata": {},
   "outputs": [
    {
     "data": {
      "text/plain": [
       "0.0    25047\n",
       "1.0      146\n",
       "Name: utilities_index, dtype: int64"
      ]
     },
     "execution_count": 59,
     "metadata": {},
     "output_type": "execute_result"
    }
   ],
   "source": [
    "products[\"utilities_index\"].value_counts().sort_index()"
   ]
  },
  {
   "cell_type": "code",
   "execution_count": 60,
   "metadata": {},
   "outputs": [],
   "source": [
    "# 2.8 We create communicatin_services_index"
   ]
  },
  {
   "cell_type": "code",
   "execution_count": 61,
   "metadata": {},
   "outputs": [],
   "source": [
    "products.loc[products['communication_services'] <= 50, \"communication_services_index\"] = 0 \n",
    "products.loc[products['communication_services'] > 50, \"communication_services_index\"] = 1 "
   ]
  },
  {
   "cell_type": "code",
   "execution_count": 62,
   "metadata": {},
   "outputs": [
    {
     "data": {
      "text/plain": [
       "0.0    25160\n",
       "1.0       33\n",
       "Name: communication_services_index, dtype: int64"
      ]
     },
     "execution_count": 62,
     "metadata": {},
     "output_type": "execute_result"
    }
   ],
   "source": [
    "products[\"communication_services_index\"].value_counts().sort_index()"
   ]
  },
  {
   "cell_type": "code",
   "execution_count": 63,
   "metadata": {},
   "outputs": [],
   "source": [
    "# 2.9 We create energy_index"
   ]
  },
  {
   "cell_type": "code",
   "execution_count": 64,
   "metadata": {},
   "outputs": [],
   "source": [
    "products.loc[products['energy'] <= 50, \"energy_index\"] = 0 \n",
    "products.loc[products['energy'] > 50, \"energy_index\"] = 1 "
   ]
  },
  {
   "cell_type": "code",
   "execution_count": 65,
   "metadata": {},
   "outputs": [
    {
     "data": {
      "text/plain": [
       "0.0    24647\n",
       "1.0      546\n",
       "Name: energy_index, dtype: int64"
      ]
     },
     "execution_count": 65,
     "metadata": {},
     "output_type": "execute_result"
    }
   ],
   "source": [
    "products[\"energy_index\"].value_counts().sort_index()"
   ]
  },
  {
   "cell_type": "code",
   "execution_count": 66,
   "metadata": {},
   "outputs": [],
   "source": [
    "# 2.10 We create industrials_index"
   ]
  },
  {
   "cell_type": "code",
   "execution_count": 67,
   "metadata": {},
   "outputs": [],
   "source": [
    "products.loc[products['industrials'] <= 50, \"industrials_index\"] = 0 \n",
    "products.loc[products['industrials'] > 50, \"industrials_index\"] = 1 "
   ]
  },
  {
   "cell_type": "code",
   "execution_count": 68,
   "metadata": {},
   "outputs": [
    {
     "data": {
      "text/plain": [
       "0.0    24966\n",
       "1.0      227\n",
       "Name: industrials_index, dtype: int64"
      ]
     },
     "execution_count": 68,
     "metadata": {},
     "output_type": "execute_result"
    }
   ],
   "source": [
    "products[\"industrials_index\"].value_counts().sort_index()"
   ]
  },
  {
   "cell_type": "code",
   "execution_count": 69,
   "metadata": {},
   "outputs": [],
   "source": [
    "# 2.11 We create technology_index"
   ]
  },
  {
   "cell_type": "code",
   "execution_count": 70,
   "metadata": {},
   "outputs": [],
   "source": [
    "products.loc[products['technology'] <= 50, \"technology_index\"] = 0 \n",
    "products.loc[products['technology'] > 50, \"technology_index\"] = 1 "
   ]
  },
  {
   "cell_type": "code",
   "execution_count": 71,
   "metadata": {},
   "outputs": [
    {
     "data": {
      "text/plain": [
       "0.0    24920\n",
       "1.0      273\n",
       "Name: technology_index, dtype: int64"
      ]
     },
     "execution_count": 71,
     "metadata": {},
     "output_type": "execute_result"
    }
   ],
   "source": [
    "products[\"technology_index\"].value_counts().sort_index()"
   ]
  },
  {
   "cell_type": "code",
   "execution_count": 72,
   "metadata": {},
   "outputs": [],
   "source": [
    "# 2.11 We create a variable with the portfolio industry data"
   ]
  },
  {
   "cell_type": "code",
   "execution_count": 73,
   "metadata": {},
   "outputs": [],
   "source": [
    "import numpy as np\n",
    "# create a list of our conditions\n",
    "conditions = [\n",
    "    (products[\"basic_materials_index\"]==1),   \n",
    "    (products[\"consumer_cyclical_index\"]==1),\n",
    "    (products[\"financial_services_index\"]==1),\n",
    "    (products[\"real_estate_index\"]==1),\n",
    "    (products[\"consumer_defensive_index\"]==1),\n",
    "    (products[\"healthcare_index\"]==1),\n",
    "    (products[\"utilities_index\"]==1),\n",
    "    (products[\"communication_services_index\"]==1),\n",
    "    (products[\"energy_index\"]==1),\n",
    "    (products[\"industrials_index\"]==1),\n",
    "    (products[\"technology_index\"]==1)]\n",
    "\n",
    "# create a list of the values we want to assign for each condition\n",
    "values = [\"basic_materials\",\"consumer_cyclical\",\"financial_services\",\"real_estate\",\"consumer_defensive\",\"healthcare\",\"utilities\",\"communication_services\",\"energy\",\"industrials\",\"technology\"]\n",
    "\n",
    "# create a new column and use np.select to assign values to it using our lists as arguments\n",
    "products[\"portfolio_industry\"] = np.select(conditions, values)"
   ]
  },
  {
   "cell_type": "code",
   "execution_count": 74,
   "metadata": {},
   "outputs": [
    {
     "data": {
      "text/plain": [
       "0                         22765\n",
       "real_estate                 556\n",
       "energy                      546\n",
       "technology                  273\n",
       "financial_services          241\n",
       "industrials                 227\n",
       "consumer_cyclical           173\n",
       "basic_materials             162\n",
       "utilities                   146\n",
       "healthcare                  142\n",
       "consumer_defensive           44\n",
       "communication_services       33\n",
       "Name: portfolio_industry, dtype: int64"
      ]
     },
     "execution_count": 74,
     "metadata": {},
     "output_type": "execute_result"
    }
   ],
   "source": [
    "products[\"portfolio_industry\"].value_counts()"
   ]
  },
  {
   "cell_type": "code",
   "execution_count": 75,
   "metadata": {},
   "outputs": [],
   "source": [
    "yes_industry= products[products[\"portfolio_industry\"]!=\"0\"]"
   ]
  },
  {
   "cell_type": "code",
   "execution_count": 76,
   "metadata": {},
   "outputs": [
    {
     "data": {
      "text/plain": [
       "(2543, 144)"
      ]
     },
     "execution_count": 76,
     "metadata": {},
     "output_type": "execute_result"
    }
   ],
   "source": [
    "yes_industry.shape"
   ]
  },
  {
   "cell_type": "code",
   "execution_count": 77,
   "metadata": {},
   "outputs": [
    {
     "data": {
      "text/plain": [
       "stocks         1358\n",
       "bonds           833\n",
       "other           312\n",
       "convertable      17\n",
       "cash             14\n",
       "preferred         9\n",
       "Name: portfolio_type, dtype: int64"
      ]
     },
     "execution_count": 77,
     "metadata": {},
     "output_type": "execute_result"
    }
   ],
   "source": [
    "yes_industry[\"portfolio_type\"].value_counts()"
   ]
  },
  {
   "cell_type": "code",
   "execution_count": 78,
   "metadata": {},
   "outputs": [],
   "source": [
    "# 3  We will analyze bond maturity index"
   ]
  },
  {
   "cell_type": "code",
   "execution_count": 79,
   "metadata": {},
   "outputs": [
    {
     "ename": "SyntaxError",
     "evalue": "invalid syntax (<ipython-input-79-3e8a268371a1>, line 1)",
     "output_type": "error",
     "traceback": [
      "\u001b[0;36m  File \u001b[0;32m\"<ipython-input-79-3e8a268371a1>\"\u001b[0;36m, line \u001b[0;32m1\u001b[0m\n\u001b[0;31m    37. bond_maturity\u001b[0m\n\u001b[0m                    ^\u001b[0m\n\u001b[0;31mSyntaxError\u001b[0m\u001b[0;31m:\u001b[0m invalid syntax\n"
     ]
    }
   ],
   "source": [
    "37. bond_maturity\n",
    "38. bond_duration\n",
    "39. rating_us_government\n",
    "40. rating_aaa\n",
    "41. rating_aa\n",
    "42. rating_a\n",
    "43. rating_bbb\n",
    "44. rating_bb\n",
    "45. rating_b\n",
    "46. rating_below_b\n",
    "47. rating_others"
   ]
  },
  {
   "cell_type": "code",
   "execution_count": 80,
   "metadata": {},
   "outputs": [],
   "source": [
    "#products[\"bond_maturity\"].value_counts().sort_index(ascending=False)"
   ]
  },
  {
   "cell_type": "code",
   "execution_count": 81,
   "metadata": {},
   "outputs": [],
   "source": [
    "# create a list of our conditions\n",
    "conditions = [\n",
    "    (products[\"bond_maturity\"]<1),\n",
    "    (products[\"bond_maturity\"]>=1) & (products[\"bond_maturity\"]<3),\n",
    "    (products[\"bond_maturity\"]>=3) & (products[\"bond_maturity\"]<10), \n",
    "    (products[\"bond_maturity\"]>=10)]\n",
    "\n",
    "# create a list of the values we want to assign for each condition\n",
    "values = [\"liquidity\", \"short\", \"medium\", \"long\"]\n",
    "\n",
    "# create a new column and use np.select to assign values to it using our lists as arguments\n",
    "products[\"bond_maturity_index\"] = np.select(conditions, values)"
   ]
  },
  {
   "cell_type": "code",
   "execution_count": 82,
   "metadata": {},
   "outputs": [
    {
     "data": {
      "text/plain": [
       "0            17113\n",
       "medium        5915\n",
       "long          1477\n",
       "short          633\n",
       "liquidity      170\n",
       "Name: bond_maturity_index, dtype: int64"
      ]
     },
     "execution_count": 82,
     "metadata": {},
     "output_type": "execute_result"
    }
   ],
   "source": [
    "products[\"bond_maturity_index\"].value_counts()"
   ]
  },
  {
   "cell_type": "code",
   "execution_count": 83,
   "metadata": {},
   "outputs": [],
   "source": [
    "# 4  We will analyze bond rating"
   ]
  },
  {
   "cell_type": "code",
   "execution_count": 84,
   "metadata": {},
   "outputs": [],
   "source": [
    "#products[\"rating_aaa\"].value_counts()"
   ]
  },
  {
   "cell_type": "code",
   "execution_count": 85,
   "metadata": {},
   "outputs": [
    {
     "ename": "SyntaxError",
     "evalue": "invalid syntax (<ipython-input-85-93bd2c957185>, line 1)",
     "output_type": "error",
     "traceback": [
      "\u001b[0;36m  File \u001b[0;32m\"<ipython-input-85-93bd2c957185>\"\u001b[0;36m, line \u001b[0;32m1\u001b[0m\n\u001b[0;31m    39. rating_us_government\u001b[0m\n\u001b[0m                           ^\u001b[0m\n\u001b[0;31mSyntaxError\u001b[0m\u001b[0;31m:\u001b[0m invalid syntax\n"
     ]
    }
   ],
   "source": [
    "39. rating_us_government\n",
    "40. rating_aaa\n",
    "41. rating_aa\n",
    "42. rating_a\n",
    "43. rating_bbb\n",
    "44. rating_bb\n",
    "45. rating_b\n",
    "46. rating_below_b\n",
    "47. rating_others\n",
    "\n",
    "\n",
    "\"rating_us_government\",\"rating_aaa\",\"rating_aa\",\"rating_a\",\"rating_bbb\",\"rating_bb\",\"rating_b\",\"rating_below_b\",\"rating_others\""
   ]
  },
  {
   "cell_type": "code",
   "execution_count": 86,
   "metadata": {},
   "outputs": [],
   "source": [
    "\n",
    "products[\"weighted_rating\"]=((products[\"rating_us_government\"]*1)+(products[\"rating_aaa\"]*1)\n",
    "+(products[\"rating_aa\"]*2)+(products[\"rating_a\"]*3) +(products[\"rating_bbb\"]*4)+(products[\"rating_bb\"]*5)\n",
    "+(products[\"rating_b\"]*6)+(products[\"rating_below_b\"]*8)+(products[\"rating_others\"]*8))/((products[\"rating_us_government\"])\n",
    "+(products[\"rating_aaa\"])+(products[\"rating_aa\"])+(products[\"rating_a\"]) \n",
    "+(products[\"rating_bbb\"])+(products[\"rating_bb\"]*5)\n",
    "+(products[\"rating_b\"])+(products[\"rating_below_b\"])+(products[\"rating_others\"]))\n"
   ]
  },
  {
   "cell_type": "code",
   "execution_count": 87,
   "metadata": {},
   "outputs": [],
   "source": [
    "#products[\"weighted_rating\"].value_counts().sort_index(ascending=False)"
   ]
  },
  {
   "cell_type": "code",
   "execution_count": 88,
   "metadata": {},
   "outputs": [],
   "source": [
    "# create a list of our conditions\n",
    "conditions = [\n",
    "    (products[\"weighted_rating\"]> 0) & (products[\"weighted_rating\"] < 1.15),\n",
    "    (products[\"weighted_rating\"]>= 1.15) & (products[\"weighted_rating\"] <= 2.3),\n",
    "    (products[\"weighted_rating\"]>= 2.3) & (products[\"weighted_rating\"] <= 3.45),\n",
    "    (products[\"weighted_rating\"]>= 3.45) & (products[\"weighted_rating\"] <= 4.6),\n",
    "    (products[\"weighted_rating\"]>= 4.6) & (products[\"weighted_rating\"] <= 5.75),\n",
    "    (products[\"weighted_rating\"]>= 7.75) & (products[\"weighted_rating\"] <= 6.9),\n",
    "    (products[\"weighted_rating\"] > 6.9)]\n",
    "\n",
    "# create a list of the values we want to assign for each condition\n",
    "values = [\"aaa\", \"aa\", \"a\", \"bbb\",\"bb\",\"b\",\"below_b\"]\n",
    "\n",
    "# create a new column and use np.select to assign values to it using our lists as arguments\n",
    "products[\"average_rating\"] = np.select(conditions, values)"
   ]
  },
  {
   "cell_type": "code",
   "execution_count": 89,
   "metadata": {},
   "outputs": [
    {
     "name": "stdout",
     "output_type": "stream",
     "text": [
      "1.15\n",
      "2.3\n",
      "3.45\n",
      "4.6\n",
      "5.75\n",
      "6.9\n",
      "8.05\n"
     ]
    }
   ],
   "source": [
    "for i in range (1,8):\n",
    "    print(round((i*1.15),2))"
   ]
  },
  {
   "cell_type": "code",
   "execution_count": 90,
   "metadata": {},
   "outputs": [
    {
     "data": {
      "text/plain": [
       "0          15475\n",
       "aa          5732\n",
       "a           3275\n",
       "aaa          434\n",
       "bbb          265\n",
       "bb            95\n",
       "below_b       32\n",
       "Name: average_rating, dtype: int64"
      ]
     },
     "execution_count": 90,
     "metadata": {},
     "output_type": "execute_result"
    }
   ],
   "source": [
    "products[\"average_rating\"].value_counts()"
   ]
  },
  {
   "cell_type": "code",
   "execution_count": 91,
   "metadata": {},
   "outputs": [
    {
     "name": "stdout",
     "output_type": "stream",
     "text": [
      "2.66\n",
      "5.32\n",
      "7.98\n",
      "10.64\n",
      "13.3\n",
      "15.96\n",
      "18.62\n"
     ]
    }
   ],
   "source": [
    "for i in range (1,8):\n",
    "    print(round((i*2.66),2))"
   ]
  },
  {
   "cell_type": "code",
   "execution_count": 92,
   "metadata": {},
   "outputs": [
    {
     "data": {
      "text/plain": [
       "2.6666666666666665"
      ]
     },
     "execution_count": 92,
     "metadata": {},
     "output_type": "execute_result"
    }
   ],
   "source": [
    "8/3"
   ]
  },
  {
   "cell_type": "code",
   "execution_count": 93,
   "metadata": {},
   "outputs": [],
   "source": [
    "# create a list of our conditions\n",
    "conditions = [\n",
    "    (products[\"weighted_rating\"]> 0) & (products[\"weighted_rating\"] < 2.66),\n",
    "    (products[\"weighted_rating\"]>= 2.66) & (products[\"weighted_rating\"] <= 5.32),\n",
    "    (products[\"weighted_rating\"] > 5.32)]\n",
    "\n",
    "# create a list of the values we want to assign for each condition\n",
    "values = [1,2,3]\n",
    "\n",
    "# create a new column and use np.select to assign values to it using our lists as arguments\n",
    "products[\"average_rating_index\"] = np.select(conditions, values)"
   ]
  },
  {
   "cell_type": "code",
   "execution_count": 94,
   "metadata": {},
   "outputs": [
    {
     "data": {
      "text/plain": [
       "0    15448\n",
       "1     8047\n",
       "2     1739\n",
       "3       74\n",
       "Name: average_rating_index, dtype: int64"
      ]
     },
     "execution_count": 94,
     "metadata": {},
     "output_type": "execute_result"
    }
   ],
   "source": [
    "products[\"average_rating_index\"].value_counts()"
   ]
  },
  {
   "cell_type": "code",
   "execution_count": 95,
   "metadata": {},
   "outputs": [],
   "source": [
    "# 5  We will analyze fund performance: beta validated by r-squared"
   ]
  },
  {
   "cell_type": "code",
   "execution_count": 96,
   "metadata": {},
   "outputs": [
    {
     "ename": "NameError",
     "evalue": "name 'fund_alpha_3years' is not defined",
     "output_type": "error",
     "traceback": [
      "\u001b[0;31m---------------------------------------------------------------------------\u001b[0m",
      "\u001b[0;31mNameError\u001b[0m                                 Traceback (most recent call last)",
      "\u001b[0;32m<ipython-input-96-86d6cce81ee3>\u001b[0m in \u001b[0;36m<module>\u001b[0;34m\u001b[0m\n\u001b[0;32m----> 1\u001b[0;31m \u001b[0;36m84\u001b[0m\u001b[0;34m-\u001b[0m\u001b[0mfund_alpha_3years\u001b[0m\u001b[0;34m\u001b[0m\u001b[0;34m\u001b[0m\u001b[0m\n\u001b[0m\u001b[1;32m      2\u001b[0m \u001b[0;36m85\u001b[0m\u001b[0;34m-\u001b[0m\u001b[0mcategory_alpha_3years\u001b[0m\u001b[0;34m\u001b[0m\u001b[0;34m\u001b[0m\u001b[0m\n\u001b[1;32m      3\u001b[0m \u001b[0;36m86\u001b[0m\u001b[0;34m-\u001b[0m\u001b[0mfund_alpha_5years\u001b[0m\u001b[0;34m\u001b[0m\u001b[0;34m\u001b[0m\u001b[0m\n\u001b[1;32m      4\u001b[0m \u001b[0;36m87\u001b[0m\u001b[0;34m-\u001b[0m\u001b[0mcategory_alpha_5years\u001b[0m\u001b[0;34m\u001b[0m\u001b[0;34m\u001b[0m\u001b[0m\n\u001b[1;32m      5\u001b[0m \u001b[0;36m88\u001b[0m\u001b[0;34m-\u001b[0m\u001b[0mfund_alpha_10years\u001b[0m\u001b[0;34m\u001b[0m\u001b[0;34m\u001b[0m\u001b[0m\n",
      "\u001b[0;31mNameError\u001b[0m: name 'fund_alpha_3years' is not defined"
     ]
    }
   ],
   "source": [
    "84-fund_alpha_3years\n",
    "85-category_alpha_3years\n",
    "86-fund_alpha_5years\n",
    "87-category_alpha_5years\n",
    "88-fund_alpha_10years\n",
    "89-category_alpha_10years\n",
    "90-fund_beta_3years\n",
    "91-category_beta_3years\n",
    "92-fund_beta_5years\n",
    "93-category_beta_5years\n",
    "94-fund_beta_10years\n",
    "95-category_beta_10years\n",
    "96-fund_mean_annual_return_3years\n",
    "97-category_mean_annual_return_3years\n",
    "98-fund_mean_annual_return_5years\n",
    "99-category_mean_annual_return_5years\n",
    "100-fund_mean_annual_return_10years\n",
    "101-category_mean_annual_return_10years\n",
    "102-fund_r_squared_3years\n",
    "103-category_r_squared_3years\n",
    "104-fund_r_squared_5years\n",
    "105-category_r_squared_5years\n",
    "106-fund_r_squared_10years\n",
    "107-category_r_squared_10years\n",
    "108-fund_standard_deviation_3years\n",
    "109-category_standard_deviation_3years\n",
    "110-fund_standard_deviation_5years\n",
    "111-category_standard_deviation_5years\n",
    "112-fund_standard_deviation_10years\n",
    "113-category_standard_deviation_10years\n",
    "114-fund_sharpe_ratio_3years\n",
    "115-category_sharpe_ratio_3years\n",
    "116-fund_sharpe_ratio_5years\n",
    "117-category_sharpe_ratio_5years\n",
    "118-fund_sharpe_ratio_10years\n",
    "119-category_sharpe_ratio_10years"
   ]
  },
  {
   "cell_type": "code",
   "execution_count": 97,
   "metadata": {},
   "outputs": [
    {
     "ename": "NameError",
     "evalue": "name 'fund_beta_3years' is not defined",
     "output_type": "error",
     "traceback": [
      "\u001b[0;31m---------------------------------------------------------------------------\u001b[0m",
      "\u001b[0;31mNameError\u001b[0m                                 Traceback (most recent call last)",
      "\u001b[0;32m<ipython-input-97-72316c6d86c0>\u001b[0m in \u001b[0;36m<module>\u001b[0;34m\u001b[0m\n\u001b[0;32m----> 1\u001b[0;31m \u001b[0;36m90\u001b[0m\u001b[0;34m-\u001b[0m\u001b[0mfund_beta_3years\u001b[0m\u001b[0;34m\u001b[0m\u001b[0;34m\u001b[0m\u001b[0m\n\u001b[0m\u001b[1;32m      2\u001b[0m \u001b[0;36m91\u001b[0m\u001b[0;34m-\u001b[0m\u001b[0mcategory_beta_3years\u001b[0m\u001b[0;34m\u001b[0m\u001b[0;34m\u001b[0m\u001b[0m\n\u001b[1;32m      3\u001b[0m \u001b[0;36m92\u001b[0m\u001b[0;34m-\u001b[0m\u001b[0mfund_beta_5years\u001b[0m\u001b[0;34m\u001b[0m\u001b[0;34m\u001b[0m\u001b[0m\n\u001b[1;32m      4\u001b[0m \u001b[0;36m93\u001b[0m\u001b[0;34m-\u001b[0m\u001b[0mcategory_beta_5years\u001b[0m\u001b[0;34m\u001b[0m\u001b[0;34m\u001b[0m\u001b[0m\n\u001b[1;32m      5\u001b[0m \u001b[0;36m94\u001b[0m\u001b[0;34m-\u001b[0m\u001b[0mfund_beta_10years\u001b[0m\u001b[0;34m\u001b[0m\u001b[0;34m\u001b[0m\u001b[0m\n",
      "\u001b[0;31mNameError\u001b[0m: name 'fund_beta_3years' is not defined"
     ]
    }
   ],
   "source": [
    "90-fund_beta_3years\n",
    "91-category_beta_3years\n",
    "92-fund_beta_5years\n",
    "93-category_beta_5years\n",
    "94-fund_beta_10years\n",
    "95-category_beta_10years"
   ]
  },
  {
   "cell_type": "code",
   "execution_count": 98,
   "metadata": {},
   "outputs": [
    {
     "ename": "NameError",
     "evalue": "name 'fund_r_squared_3years' is not defined",
     "output_type": "error",
     "traceback": [
      "\u001b[0;31m---------------------------------------------------------------------------\u001b[0m",
      "\u001b[0;31mNameError\u001b[0m                                 Traceback (most recent call last)",
      "\u001b[0;32m<ipython-input-98-4aca8004e023>\u001b[0m in \u001b[0;36m<module>\u001b[0;34m\u001b[0m\n\u001b[0;32m----> 1\u001b[0;31m \u001b[0;36m102\u001b[0m\u001b[0;34m-\u001b[0m\u001b[0mfund_r_squared_3years\u001b[0m\u001b[0;34m\u001b[0m\u001b[0;34m\u001b[0m\u001b[0m\n\u001b[0m\u001b[1;32m      2\u001b[0m \u001b[0;36m103\u001b[0m\u001b[0;34m-\u001b[0m\u001b[0mcategory_r_squared_3years\u001b[0m\u001b[0;34m\u001b[0m\u001b[0;34m\u001b[0m\u001b[0m\n\u001b[1;32m      3\u001b[0m \u001b[0;36m104\u001b[0m\u001b[0;34m-\u001b[0m\u001b[0mfund_r_squared_5years\u001b[0m\u001b[0;34m\u001b[0m\u001b[0;34m\u001b[0m\u001b[0m\n\u001b[1;32m      4\u001b[0m \u001b[0;36m105\u001b[0m\u001b[0;34m-\u001b[0m\u001b[0mcategory_r_squared_5years\u001b[0m\u001b[0;34m\u001b[0m\u001b[0;34m\u001b[0m\u001b[0m\n\u001b[1;32m      5\u001b[0m \u001b[0;36m106\u001b[0m\u001b[0;34m-\u001b[0m\u001b[0mfund_r_squared_10years\u001b[0m\u001b[0;34m\u001b[0m\u001b[0;34m\u001b[0m\u001b[0m\n",
      "\u001b[0;31mNameError\u001b[0m: name 'fund_r_squared_3years' is not defined"
     ]
    }
   ],
   "source": [
    "102-fund_r_squared_3years\n",
    "103-category_r_squared_3years\n",
    "104-fund_r_squared_5years\n",
    "105-category_r_squared_5years\n",
    "106-fund_r_squared_10years"
   ]
  },
  {
   "cell_type": "code",
   "execution_count": 99,
   "metadata": {},
   "outputs": [],
   "source": [
    "# 5.1 Analysing beta"
   ]
  },
  {
   "cell_type": "code",
   "execution_count": 100,
   "metadata": {},
   "outputs": [],
   "source": [
    "#products[\"fund_beta_10years\"].value_counts().sort_index()"
   ]
  },
  {
   "cell_type": "code",
   "execution_count": 101,
   "metadata": {},
   "outputs": [],
   "source": [
    "products.loc[products['fund_beta_10years'] < 0, 'beta_10_index'] = 0 \n",
    "products.loc[(products['fund_beta_10years'] > 0) & (products['fund_beta_10years'] <= 0.97), 'beta_10_index'] = 1 \n",
    "products.loc[(products['fund_beta_10years'] > 0.98) & (products['fund_beta_10years'] < 1.02), 'beta_10_index'] = 0 \n",
    "products.loc[products['fund_beta_10years'] >=1.02 , 'beta_10_index'] = 2 "
   ]
  },
  {
   "cell_type": "code",
   "execution_count": 102,
   "metadata": {},
   "outputs": [],
   "source": [
    "# 5.2 Analysing r-squared"
   ]
  },
  {
   "cell_type": "code",
   "execution_count": 103,
   "metadata": {},
   "outputs": [],
   "source": [
    "#products['fund_r_squared_10years'].value_counts().sort_index()"
   ]
  },
  {
   "cell_type": "code",
   "execution_count": 104,
   "metadata": {},
   "outputs": [],
   "source": [
    "products.loc[products['fund_r_squared_10years'] < 0.85, 'r_squared_10_index'] = 0 \n",
    "products.loc[products['fund_r_squared_10years'] >= 0.85, 'r_squared_10_index'] = 1 \n"
   ]
  },
  {
   "cell_type": "code",
   "execution_count": 105,
   "metadata": {},
   "outputs": [
    {
     "data": {
      "text/plain": [
       "0.0      230\n",
       "1.0    16392\n",
       "Name: r_squared_10_index, dtype: int64"
      ]
     },
     "execution_count": 105,
     "metadata": {},
     "output_type": "execute_result"
    }
   ],
   "source": [
    "products['r_squared_10_index'].value_counts().sort_index()"
   ]
  },
  {
   "cell_type": "code",
   "execution_count": 106,
   "metadata": {},
   "outputs": [],
   "source": [
    "# 5.3 Defining fund risk by integrating  r-squared and beta"
   ]
  },
  {
   "cell_type": "code",
   "execution_count": 107,
   "metadata": {},
   "outputs": [],
   "source": [
    "products.loc[(products['fund_beta_10years'] < 0) | (products['fund_r_squared_10years'] < 0.85), 'beta_10_risk_index'] = 0 \n",
    "products.loc[(products['fund_beta_10years'] > 0) & (products['fund_beta_10years'] <= 0.97)&(products['fund_r_squared_10years'] >= 0.85), 'beta_10_risk_index'] = 1 \n",
    "products.loc[(products['fund_beta_10years'] > 0.98) & (products['fund_beta_10years'] < 1.02)&(products['fund_r_squared_10years'] >= 0.85), 'beta_10_risk_index'] = 0 \n",
    "products.loc[(products['fund_beta_10years'] >=1.02)&(products['fund_beta_10years'] < 1.5)&(products['fund_r_squared_10years'] >= 0.85) , 'beta_10_risk_index'] = 2\n",
    "products.loc[(products['fund_beta_10years'] >=1.5)&(products['fund_r_squared_10years'] >= 0.85) , 'beta_10_risk_index'] = 3 "
   ]
  },
  {
   "cell_type": "code",
   "execution_count": 108,
   "metadata": {},
   "outputs": [
    {
     "data": {
      "text/plain": [
       "0.0    1708\n",
       "1.0    6529\n",
       "2.0    7451\n",
       "3.0     605\n",
       "Name: beta_10_risk_index, dtype: int64"
      ]
     },
     "execution_count": 108,
     "metadata": {},
     "output_type": "execute_result"
    }
   ],
   "source": [
    "products['beta_10_risk_index'].value_counts().sort_index()"
   ]
  },
  {
   "cell_type": "code",
   "execution_count": 109,
   "metadata": {},
   "outputs": [],
   "source": [
    "# 6. Now Let us see how many funds can we  fully clasify"
   ]
  },
  {
   "cell_type": "code",
   "execution_count": 110,
   "metadata": {},
   "outputs": [],
   "source": [
    "# 6.1 These are the variables that we are going to consider"
   ]
  },
  {
   "cell_type": "code",
   "execution_count": 111,
   "metadata": {},
   "outputs": [
    {
     "data": {
      "text/plain": [
       "bonds           6023\n",
       "cash             211\n",
       "convertable       89\n",
       "other           5258\n",
       "preferred         10\n",
       "stocks         13717\n",
       "Name: portfolio_type, dtype: int64"
      ]
     },
     "execution_count": 111,
     "metadata": {},
     "output_type": "execute_result"
    }
   ],
   "source": [
    "products[\"portfolio_type\"].value_counts().sort_index()"
   ]
  },
  {
   "cell_type": "code",
   "execution_count": 112,
   "metadata": {},
   "outputs": [
    {
     "data": {
      "text/plain": [
       "0                         22765\n",
       "real_estate                 556\n",
       "energy                      546\n",
       "technology                  273\n",
       "financial_services          241\n",
       "industrials                 227\n",
       "consumer_cyclical           173\n",
       "basic_materials             162\n",
       "utilities                   146\n",
       "healthcare                  142\n",
       "consumer_defensive           44\n",
       "communication_services       33\n",
       "Name: portfolio_industry, dtype: int64"
      ]
     },
     "execution_count": 112,
     "metadata": {},
     "output_type": "execute_result"
    }
   ],
   "source": [
    "products[\"portfolio_industry\"].value_counts()"
   ]
  },
  {
   "cell_type": "code",
   "execution_count": 113,
   "metadata": {},
   "outputs": [
    {
     "data": {
      "text/plain": [
       "0            17113\n",
       "medium        5915\n",
       "long          1477\n",
       "short          633\n",
       "liquidity      170\n",
       "Name: bond_maturity_index, dtype: int64"
      ]
     },
     "execution_count": 113,
     "metadata": {},
     "output_type": "execute_result"
    }
   ],
   "source": [
    "products[\"bond_maturity_index\"].value_counts()"
   ]
  },
  {
   "cell_type": "code",
   "execution_count": 114,
   "metadata": {},
   "outputs": [
    {
     "data": {
      "text/plain": [
       "0          15475\n",
       "aa          5732\n",
       "a           3275\n",
       "aaa          434\n",
       "bbb          265\n",
       "bb            95\n",
       "below_b       32\n",
       "Name: average_rating, dtype: int64"
      ]
     },
     "execution_count": 114,
     "metadata": {},
     "output_type": "execute_result"
    }
   ],
   "source": [
    "products[\"average_rating\"].value_counts()"
   ]
  },
  {
   "cell_type": "code",
   "execution_count": 115,
   "metadata": {},
   "outputs": [
    {
     "data": {
      "text/plain": [
       "0    15448\n",
       "1     8047\n",
       "2     1739\n",
       "3       74\n",
       "Name: average_rating_index, dtype: int64"
      ]
     },
     "execution_count": 115,
     "metadata": {},
     "output_type": "execute_result"
    }
   ],
   "source": [
    "products[\"average_rating_index\"].value_counts()"
   ]
  },
  {
   "cell_type": "code",
   "execution_count": 116,
   "metadata": {},
   "outputs": [
    {
     "data": {
      "text/plain": [
       "0.0    1708\n",
       "1.0    6529\n",
       "2.0    7451\n",
       "3.0     605\n",
       "Name: beta_10_risk_index, dtype: int64"
      ]
     },
     "execution_count": 116,
     "metadata": {},
     "output_type": "execute_result"
    }
   ],
   "source": [
    "products['beta_10_risk_index'].value_counts().sort_index()"
   ]
  },
  {
   "cell_type": "code",
   "execution_count": 117,
   "metadata": {},
   "outputs": [],
   "source": [
    "# 6.2 These are the conditions to exclude funds by lack of information"
   ]
  },
  {
   "cell_type": "code",
   "execution_count": 118,
   "metadata": {},
   "outputs": [],
   "source": [
    "Exclussion1=(products[\"portfolio_type\"]==\"other\")"
   ]
  },
  {
   "cell_type": "code",
   "execution_count": 119,
   "metadata": {},
   "outputs": [],
   "source": [
    "Exclussion2a=(products[\"portfolio_type\"]=='stocks') & (products[\"portfolio_industry\"]==0)"
   ]
  },
  {
   "cell_type": "code",
   "execution_count": 120,
   "metadata": {},
   "outputs": [],
   "source": [
    "Exclussion2b=(products[\"portfolio_type\"]=='convertable') & (products[\"portfolio_industry\"]==0)"
   ]
  },
  {
   "cell_type": "code",
   "execution_count": 121,
   "metadata": {},
   "outputs": [],
   "source": [
    "Exclussion2c=(products[\"portfolio_type\"]=='preferred') & (products[\"portfolio_industry\"]==0)"
   ]
  },
  {
   "cell_type": "code",
   "execution_count": 122,
   "metadata": {},
   "outputs": [],
   "source": [
    "Exclussion3=(products[\"portfolio_type\"]=='bonds') & (products[\"bond_maturity_index\"]==0)"
   ]
  },
  {
   "cell_type": "code",
   "execution_count": 123,
   "metadata": {},
   "outputs": [],
   "source": [
    "Exclussion4=(products[\"portfolio_type\"]=='bonds') & (products[\"average_rating_index\"]==0)"
   ]
  },
  {
   "cell_type": "code",
   "execution_count": 124,
   "metadata": {},
   "outputs": [],
   "source": [
    "Exclussion5=(products[\"beta_10_risk_index\"]==0)"
   ]
  },
  {
   "cell_type": "code",
   "execution_count": 125,
   "metadata": {},
   "outputs": [],
   "source": [
    "Exclussions=Exclussion1 | Exclussion2a | Exclussion2b | Exclussion2c | Exclussion3 | Exclussion4 | Exclussion5"
   ]
  },
  {
   "cell_type": "code",
   "execution_count": 126,
   "metadata": {},
   "outputs": [],
   "source": [
    "# 6-3 We count the rows that we will eliminate by creating the \"exclussion\" column"
   ]
  },
  {
   "cell_type": "code",
   "execution_count": 127,
   "metadata": {},
   "outputs": [],
   "source": [
    "# create a list of our conditions\n",
    "conditions = [Exclussions]\n",
    "\n",
    "# create a list of the values we want to assign for each condition\n",
    "values = [\"1\"]\n",
    "\n",
    "# create a new column and use np.select to assign values to it using our lists as arguments\n",
    "products[\"exclussion\"] = np.select(conditions, values)"
   ]
  },
  {
   "cell_type": "code",
   "execution_count": 128,
   "metadata": {},
   "outputs": [],
   "source": [
    "products['exclussion']= 0\n",
    "products.loc[Exclussions, 'exclussion']= 1"
   ]
  },
  {
   "cell_type": "code",
   "execution_count": 129,
   "metadata": {},
   "outputs": [
    {
     "data": {
      "text/plain": [
       "0    17897\n",
       "1     7411\n",
       "Name: exclussion, dtype: int64"
      ]
     },
     "execution_count": 129,
     "metadata": {},
     "output_type": "execute_result"
    }
   ],
   "source": [
    "products[\"exclussion\"].value_counts()"
   ]
  },
  {
   "cell_type": "code",
   "execution_count": 130,
   "metadata": {},
   "outputs": [],
   "source": [
    "# 6.4 We will check and select the \"fine\" datamart"
   ]
  },
  {
   "cell_type": "code",
   "execution_count": 131,
   "metadata": {},
   "outputs": [],
   "source": [
    "products_clean=products[products[\"exclussion\"]==0]"
   ]
  },
  {
   "cell_type": "code",
   "execution_count": 132,
   "metadata": {},
   "outputs": [],
   "source": [
    "# 7 We will identify the fund Class by the name"
   ]
  },
  {
   "cell_type": "code",
   "execution_count": 133,
   "metadata": {},
   "outputs": [],
   "source": [
    "#display(products[\"fund_extended_name\"])"
   ]
  },
  {
   "cell_type": "code",
   "execution_count": 134,
   "metadata": {},
   "outputs": [],
   "source": [
    "products[['fname','fclass']] = products.fund_extended_name.str.split(\"Fund \", n=1, expand=True)"
   ]
  },
  {
   "cell_type": "code",
   "execution_count": 135,
   "metadata": {},
   "outputs": [
    {
     "data": {
      "text/plain": [
       "Index(['fund_name', 'fund_extended_name', 'category', 'fund_family',\n",
       "       'net_assets', 'ytd_return', 'fund_yield', 'morningstar_rating',\n",
       "       'inception_date', 'investment',\n",
       "       ...\n",
       "       'bond_maturity_index', 'weighted_rating', 'average_rating',\n",
       "       'average_rating_index', 'beta_10_index', 'r_squared_10_index',\n",
       "       'beta_10_risk_index', 'exclussion', 'fname', 'fclass'],\n",
       "      dtype='object', length=154)"
      ]
     },
     "execution_count": 135,
     "metadata": {},
     "output_type": "execute_result"
    }
   ],
   "source": [
    "products.columns"
   ]
  },
  {
   "cell_type": "code",
   "execution_count": 136,
   "metadata": {},
   "outputs": [],
   "source": [
    "#products.drop(['First', 'Last'], axis=1, inplace=True)"
   ]
  },
  {
   "cell_type": "code",
   "execution_count": 137,
   "metadata": {},
   "outputs": [],
   "source": [
    "#products[\"fname\"].value_counts().sort_index()"
   ]
  },
  {
   "cell_type": "code",
   "execution_count": 138,
   "metadata": {},
   "outputs": [],
   "source": [
    "#products[\"class\"].value_counts().sort_values()"
   ]
  },
  {
   "cell_type": "code",
   "execution_count": 139,
   "metadata": {},
   "outputs": [],
   "source": [
    "#Identify institutional funds and exclude them"
   ]
  },
  {
   "cell_type": "code",
   "execution_count": 140,
   "metadata": {},
   "outputs": [],
   "source": [
    "# try a function regex  (search)  and apply to identify all the institutional cases\n",
    "# select the \"A\" classes for the low investments and leave all the others for the rest"
   ]
  },
  {
   "cell_type": "code",
   "execution_count": 141,
   "metadata": {},
   "outputs": [],
   "source": [
    "#  We will select industry by risk"
   ]
  },
  {
   "cell_type": "code",
   "execution_count": 142,
   "metadata": {},
   "outputs": [],
   "source": [
    "# 8 We will identify the \"optimization\" variables"
   ]
  },
  {
   "cell_type": "code",
   "execution_count": 143,
   "metadata": {},
   "outputs": [
    {
     "ename": "NameError",
     "evalue": "name 'category_sharpe_ratio_3years' is not defined",
     "output_type": "error",
     "traceback": [
      "\u001b[0;31m---------------------------------------------------------------------------\u001b[0m",
      "\u001b[0;31mNameError\u001b[0m                                 Traceback (most recent call last)",
      "\u001b[0;32m<ipython-input-143-746aa970aee1>\u001b[0m in \u001b[0;36m<module>\u001b[0;34m\u001b[0m\n\u001b[0;32m----> 1\u001b[0;31m \u001b[0;36m115\u001b[0m\u001b[0;34m-\u001b[0m\u001b[0mcategory_sharpe_ratio_3years\u001b[0m\u001b[0;34m\u001b[0m\u001b[0;34m\u001b[0m\u001b[0m\n\u001b[0m\u001b[1;32m      2\u001b[0m \u001b[0;36m116\u001b[0m\u001b[0;34m-\u001b[0m\u001b[0mfund_sharpe_ratio_5years\u001b[0m\u001b[0;34m\u001b[0m\u001b[0;34m\u001b[0m\u001b[0m\n\u001b[1;32m      3\u001b[0m \u001b[0;36m117\u001b[0m\u001b[0;34m-\u001b[0m\u001b[0mcategory_sharpe_ratio_5years\u001b[0m\u001b[0;34m\u001b[0m\u001b[0;34m\u001b[0m\u001b[0m\n\u001b[1;32m      4\u001b[0m \u001b[0;36m118\u001b[0m\u001b[0;34m-\u001b[0m\u001b[0mfund_sharpe_ratio_10years\u001b[0m\u001b[0;34m\u001b[0m\u001b[0;34m\u001b[0m\u001b[0m\n\u001b[1;32m      5\u001b[0m \u001b[0;36m119\u001b[0m\u001b[0;34m-\u001b[0m\u001b[0mcategory_sharpe_ratio_10years\u001b[0m\u001b[0;34m\u001b[0m\u001b[0;34m\u001b[0m\u001b[0m\n",
      "\u001b[0;31mNameError\u001b[0m: name 'category_sharpe_ratio_3years' is not defined"
     ]
    }
   ],
   "source": [
    "115-category_sharpe_ratio_3years\n",
    "116-fund_sharpe_ratio_5years\n",
    "117-category_sharpe_ratio_5years\n",
    "118-fund_sharpe_ratio_10years\n",
    "119-category_sharpe_ratio_10years\n"
   ]
  },
  {
   "cell_type": "code",
   "execution_count": 144,
   "metadata": {},
   "outputs": [
    {
     "ename": "NameError",
     "evalue": "name 'fund_alpha_3years' is not defined",
     "output_type": "error",
     "traceback": [
      "\u001b[0;31m---------------------------------------------------------------------------\u001b[0m",
      "\u001b[0;31mNameError\u001b[0m                                 Traceback (most recent call last)",
      "\u001b[0;32m<ipython-input-144-26688229cabd>\u001b[0m in \u001b[0;36m<module>\u001b[0;34m\u001b[0m\n\u001b[0;32m----> 1\u001b[0;31m \u001b[0;36m84\u001b[0m\u001b[0;34m-\u001b[0m\u001b[0mfund_alpha_3years\u001b[0m\u001b[0;34m\u001b[0m\u001b[0;34m\u001b[0m\u001b[0m\n\u001b[0m\u001b[1;32m      2\u001b[0m \u001b[0;36m85\u001b[0m\u001b[0;34m-\u001b[0m\u001b[0mcategory_alpha_3years\u001b[0m\u001b[0;34m\u001b[0m\u001b[0;34m\u001b[0m\u001b[0m\n\u001b[1;32m      3\u001b[0m \u001b[0;36m86\u001b[0m\u001b[0;34m-\u001b[0m\u001b[0mfund_alpha_5years\u001b[0m\u001b[0;34m\u001b[0m\u001b[0;34m\u001b[0m\u001b[0m\n\u001b[1;32m      4\u001b[0m \u001b[0;36m87\u001b[0m\u001b[0;34m-\u001b[0m\u001b[0mcategory_alpha_5years\u001b[0m\u001b[0;34m\u001b[0m\u001b[0;34m\u001b[0m\u001b[0m\n\u001b[1;32m      5\u001b[0m \u001b[0;36m88\u001b[0m\u001b[0;34m-\u001b[0m\u001b[0mfund_alpha_10years\u001b[0m\u001b[0;34m\u001b[0m\u001b[0;34m\u001b[0m\u001b[0m\n",
      "\u001b[0;31mNameError\u001b[0m: name 'fund_alpha_3years' is not defined"
     ]
    }
   ],
   "source": [
    "84-fund_alpha_3years\n",
    "85-category_alpha_3years\n",
    "86-fund_alpha_5years\n",
    "87-category_alpha_5years\n",
    "88-fund_alpha_10years\n",
    "89-category_alpha_10year"
   ]
  },
  {
   "cell_type": "code",
   "execution_count": 145,
   "metadata": {},
   "outputs": [
    {
     "ename": "NameError",
     "evalue": "name 'net_annual_expense_ratio_fund' is not defined",
     "output_type": "error",
     "traceback": [
      "\u001b[0;31m---------------------------------------------------------------------------\u001b[0m",
      "\u001b[0;31mNameError\u001b[0m                                 Traceback (most recent call last)",
      "\u001b[0;32m<ipython-input-145-7d520e1f4838>\u001b[0m in \u001b[0;36m<module>\u001b[0;34m\u001b[0m\n\u001b[0;32m----> 1\u001b[0;31m \u001b[0;36m13\u001b[0m\u001b[0;34m-\u001b[0m\u001b[0mnet_annual_expense_ratio_fund\u001b[0m\u001b[0;34m\u001b[0m\u001b[0;34m\u001b[0m\u001b[0m\n\u001b[0m\u001b[1;32m      2\u001b[0m \u001b[0;36m14\u001b[0m\u001b[0;34m-\u001b[0m\u001b[0mnet_annual_expense_ratio_category\u001b[0m\u001b[0;34m\u001b[0m\u001b[0;34m\u001b[0m\u001b[0m\n",
      "\u001b[0;31mNameError\u001b[0m: name 'net_annual_expense_ratio_fund' is not defined"
     ]
    }
   ],
   "source": [
    "13-net_annual_expense_ratio_fund\n",
    "14-net_annual_expense_ratio_category"
   ]
  },
  {
   "cell_type": "code",
   "execution_count": 146,
   "metadata": {},
   "outputs": [
    {
     "ename": "NameError",
     "evalue": "name 'category_r_squared_10years' is not defined",
     "output_type": "error",
     "traceback": [
      "\u001b[0;31m---------------------------------------------------------------------------\u001b[0m",
      "\u001b[0;31mNameError\u001b[0m                                 Traceback (most recent call last)",
      "\u001b[0;32m<ipython-input-146-6fdeb0444251>\u001b[0m in \u001b[0;36m<module>\u001b[0;34m\u001b[0m\n\u001b[0;32m----> 1\u001b[0;31m \u001b[0;36m107\u001b[0m\u001b[0;34m-\u001b[0m\u001b[0mcategory_r_squared_10years\u001b[0m\u001b[0;34m\u001b[0m\u001b[0;34m\u001b[0m\u001b[0m\n\u001b[0m\u001b[1;32m      2\u001b[0m \u001b[0;36m108\u001b[0m\u001b[0;34m-\u001b[0m\u001b[0mfund_standard_deviation_3years\u001b[0m\u001b[0;34m\u001b[0m\u001b[0;34m\u001b[0m\u001b[0m\n\u001b[1;32m      3\u001b[0m \u001b[0;36m109\u001b[0m\u001b[0;34m-\u001b[0m\u001b[0mcategory_standard_deviation_3years\u001b[0m\u001b[0;34m\u001b[0m\u001b[0;34m\u001b[0m\u001b[0m\n\u001b[1;32m      4\u001b[0m \u001b[0;36m110\u001b[0m\u001b[0;34m-\u001b[0m\u001b[0mfund_standard_deviation_5years\u001b[0m\u001b[0;34m\u001b[0m\u001b[0;34m\u001b[0m\u001b[0m\n\u001b[1;32m      5\u001b[0m \u001b[0;36m111\u001b[0m\u001b[0;34m-\u001b[0m\u001b[0mcategory_standard_deviation_5years\u001b[0m\u001b[0;34m\u001b[0m\u001b[0;34m\u001b[0m\u001b[0m\n",
      "\u001b[0;31mNameError\u001b[0m: name 'category_r_squared_10years' is not defined"
     ]
    }
   ],
   "source": [
    "107-category_r_squared_10years\n",
    "108-fund_standard_deviation_3years\n",
    "109-category_standard_deviation_3years\n",
    "110-fund_standard_deviation_5years\n",
    "111-category_standard_deviation_5years\n",
    "112-fund_standard_deviation_10years\n",
    "113-category_standard_deviation_10years\n",
    "114-fund_sharpe_ratio_3years\n",
    "115-category_sharpe_ratio_3years\n",
    "116-fund_sharpe_ratio_5years\n",
    "117-category_sharpe_ratio_5years\n",
    "118-fund_sharpe_ratio_10years\n",
    "119-category_sharpe_ratio_10years\n",
    "120-fund_treynor_ratio_3years\n",
    "121-category_treynor_ratio_3years\n",
    "122-fund_treynor_ratio_5years\n",
    "123-category_treynor_ratio_5years\n",
    "124-fund_treynor_ratio_10years\n",
    "125-category_treynor_ratio_10years"
   ]
  },
  {
   "cell_type": "code",
   "execution_count": 147,
   "metadata": {},
   "outputs": [],
   "source": [
    "#products[\"fund_alpha_5years\"].value_counts().sort_index()"
   ]
  },
  {
   "cell_type": "code",
   "execution_count": 148,
   "metadata": {},
   "outputs": [],
   "source": [
    "#products[\"fund_sharpe_ratio_5years\"].value_counts().sort_index()"
   ]
  },
  {
   "cell_type": "code",
   "execution_count": 149,
   "metadata": {},
   "outputs": [],
   "source": [
    "#products[\"net_annual_expense_ratio_fund\"].value_counts().sort_index()"
   ]
  },
  {
   "cell_type": "code",
   "execution_count": 150,
   "metadata": {},
   "outputs": [],
   "source": [
    "# 9. We will create labels to choose proportions of funds at fund level"
   ]
  },
  {
   "cell_type": "code",
   "execution_count": 151,
   "metadata": {},
   "outputs": [],
   "source": [
    "\n",
    "    values=[\n",
    "    \"bonds-liquidity-rating1\",\n",
    "    \"bonds-liquidity-rating2\",\n",
    "    \"bonds-liquidity-rating3\",\n",
    "    \"bonds-short-rating1\",\n",
    "    \"bonds-short-rating2\",\n",
    "    \"bonds-short-rating3\",\n",
    "    \"bonds-medium-rating1\",\n",
    "    \"bonds-medium-rating2\",\n",
    "    \"bonds-medium-rating3\",\n",
    "    \"bonds-long-rating1\",\n",
    "    \"bonds-long-rating2\",\n",
    "    \"bonds-long-rating3\",\n",
    "    \"stocks-beta1\",\n",
    "    \"stocks-beta2\",\n",
    "    \"stocks-beta3\" , \n",
    "    \"cash\",\n",
    "    \"convertable\",\n",
    "    \"preferred\"]\n"
   ]
  },
  {
   "cell_type": "code",
   "execution_count": 152,
   "metadata": {},
   "outputs": [],
   "source": [
    "# create a list of our conditions\n",
    "conditions = [\n",
    "    (products[\"portfolio_type\"]== \"bonds\") & (products[\"bond_maturity_index\"] == \"liquidity\") & (products[\"average_rating_index\"]==1),\n",
    "    (products[\"portfolio_type\"]== \"bonds\") & (products[\"bond_maturity_index\"] == \"liquidity\") & (products[\"average_rating_index\"]==2),\n",
    "    (products[\"portfolio_type\"]== \"bonds\") & (products[\"bond_maturity_index\"] == \"liquidity\") & (products[\"average_rating_index\"]==3),\n",
    "    (products[\"portfolio_type\"]== \"bonds\") & (products[\"bond_maturity_index\"] == \"short\") & (products[\"average_rating_index\"]==1),\n",
    "    (products[\"portfolio_type\"]== \"bonds\") & (products[\"bond_maturity_index\"] == \"short\") & (products[\"average_rating_index\"]==2),\n",
    "    (products[\"portfolio_type\"]== \"bonds\") & (products[\"bond_maturity_index\"] == \"short\") & (products[\"average_rating_index\"]==3),\n",
    "    (products[\"portfolio_type\"]== \"bonds\") & (products[\"bond_maturity_index\"] == \"medium\") & (products[\"average_rating_index\"]==1),\n",
    "    (products[\"portfolio_type\"]== \"bonds\") & (products[\"bond_maturity_index\"] == \"medium\") & (products[\"average_rating_index\"]==2),\n",
    "    (products[\"portfolio_type\"]== \"bonds\") & (products[\"bond_maturity_index\"] == \"medium\") & (products[\"average_rating_index\"]==3),\n",
    "    (products[\"portfolio_type\"]== \"bonds\") & (products[\"bond_maturity_index\"] == \"long\") & (products[\"average_rating_index\"]==1),\n",
    "    (products[\"portfolio_type\"]== \"bonds\") & (products[\"bond_maturity_index\"] == \"long\") & (products[\"average_rating_index\"]==2),\n",
    "    (products[\"portfolio_type\"]== \"bonds\") & (products[\"bond_maturity_index\"] == \"long\") & (products[\"average_rating_index\"]==3),\n",
    "    (products[\"portfolio_type\"]== \"stocks\") & (products['beta_10_risk_index'] == 1) ,\n",
    "    (products[\"portfolio_type\"]== \"stocks\") & (products['beta_10_risk_index'] == 2) ,\n",
    "    (products[\"portfolio_type\"]== \"stocks\") & (products['beta_10_risk_index'] == 3) ,\n",
    "    (products[\"portfolio_type\"]== \"cash\") ,\n",
    "    (products[\"portfolio_type\"]== \"convertable\")  ,\n",
    "    (products[\"portfolio_type\"]== \"preferred\") ]\n",
    "\n",
    "# create a list of the values we want to assign for each condition\n",
    "values=[\n",
    "    \"bonds-liquidity-rating1\",\n",
    "    \"bonds-liquidity-rating2\",\n",
    "    \"bonds-liquidity-rating3\",\n",
    "    \"bonds-short-rating1\",\n",
    "    \"bonds-short-rating2\",\n",
    "    \"bonds-short-rating3\",\n",
    "    \"bonds-medium-rating1\",\n",
    "    \"bonds-medium-rating2\",\n",
    "    \"bonds-medium-rating3\",\n",
    "    \"bonds-long-rating1\",\n",
    "    \"bonds-long-rating2\",\n",
    "    \"bonds-long-rating3\",\n",
    "    \"stocks-beta1\",\n",
    "    \"stocks-beta2\",\n",
    "    \"stocks-beta3\" , \n",
    "    \"cash\",\n",
    "    \"convertable\",\n",
    "    \"preferred\"]\n",
    "\n",
    "# create a new column and use np.select to assign values to it using our lists as arguments\n",
    "products[\"portfolio_attribute\"] = np.select(conditions, values)"
   ]
  },
  {
   "cell_type": "code",
   "execution_count": 153,
   "metadata": {},
   "outputs": [
    {
     "data": {
      "text/plain": [
       "0                          12315\n",
       "bonds-liquidity-rating1       32\n",
       "bonds-liquidity-rating2       12\n",
       "bonds-long-rating1           540\n",
       "bonds-long-rating2           461\n",
       "bonds-medium-rating1        2323\n",
       "bonds-medium-rating2         626\n",
       "bonds-short-rating1          349\n",
       "bonds-short-rating2           97\n",
       "cash                         211\n",
       "convertable                   89\n",
       "preferred                     10\n",
       "stocks-beta1                2736\n",
       "stocks-beta2                5146\n",
       "stocks-beta3                 361\n",
       "Name: portfolio_attribute, dtype: int64"
      ]
     },
     "execution_count": 153,
     "metadata": {},
     "output_type": "execute_result"
    }
   ],
   "source": [
    "products[\"portfolio_attribute\"].value_counts().sort_index()"
   ]
  },
  {
   "cell_type": "code",
   "execution_count": 171,
   "metadata": {},
   "outputs": [],
   "source": [
    "products_sel=products[(products[\"portfolio_type\"]==\"stocks\")&(products[\"portfolio_industry\"]!=\"0\")&(products[\"beta_10_risk_index\"]!=0)]"
   ]
  },
  {
   "cell_type": "code",
   "execution_count": 1,
   "metadata": {},
   "outputs": [],
   "source": [
    "#products_sel[[\"portfolio_industry\",\"beta_10_risk_index\"]].sort_values(by=\"portfolio_industry\")"
   ]
  },
  {
   "cell_type": "code",
   "execution_count": 172,
   "metadata": {},
   "outputs": [],
   "source": [
    "products_sel2=products_sel[[\"portfolio_industry\",\"beta_10_risk_index\",\"fname\"]]"
   ]
  },
  {
   "cell_type": "code",
   "execution_count": 173,
   "metadata": {},
   "outputs": [
    {
     "data": {
      "text/html": [
       "<div>\n",
       "<style scoped>\n",
       "    .dataframe tbody tr th:only-of-type {\n",
       "        vertical-align: middle;\n",
       "    }\n",
       "\n",
       "    .dataframe tbody tr th {\n",
       "        vertical-align: top;\n",
       "    }\n",
       "\n",
       "    .dataframe thead th {\n",
       "        text-align: right;\n",
       "    }\n",
       "</style>\n",
       "<table border=\"1\" class=\"dataframe\">\n",
       "  <thead>\n",
       "    <tr style=\"text-align: right;\">\n",
       "      <th></th>\n",
       "      <th>portfolio_industry</th>\n",
       "      <th>beta_10_risk_index</th>\n",
       "      <th>fname</th>\n",
       "    </tr>\n",
       "  </thead>\n",
       "  <tbody>\n",
       "    <tr>\n",
       "      <th>0</th>\n",
       "      <td>basic_materials</td>\n",
       "      <td>1.0</td>\n",
       "      <td>57</td>\n",
       "    </tr>\n",
       "    <tr>\n",
       "      <th>1</th>\n",
       "      <td>basic_materials</td>\n",
       "      <td>2.0</td>\n",
       "      <td>20</td>\n",
       "    </tr>\n",
       "    <tr>\n",
       "      <th>2</th>\n",
       "      <td>basic_materials</td>\n",
       "      <td>3.0</td>\n",
       "      <td>2</td>\n",
       "    </tr>\n",
       "    <tr>\n",
       "      <th>3</th>\n",
       "      <td>communication_services</td>\n",
       "      <td>1.0</td>\n",
       "      <td>10</td>\n",
       "    </tr>\n",
       "    <tr>\n",
       "      <th>4</th>\n",
       "      <td>consumer_cyclical</td>\n",
       "      <td>1.0</td>\n",
       "      <td>19</td>\n",
       "    </tr>\n",
       "    <tr>\n",
       "      <th>5</th>\n",
       "      <td>consumer_cyclical</td>\n",
       "      <td>2.0</td>\n",
       "      <td>7</td>\n",
       "    </tr>\n",
       "    <tr>\n",
       "      <th>6</th>\n",
       "      <td>consumer_cyclical</td>\n",
       "      <td>3.0</td>\n",
       "      <td>3</td>\n",
       "    </tr>\n",
       "    <tr>\n",
       "      <th>7</th>\n",
       "      <td>consumer_defensive</td>\n",
       "      <td>1.0</td>\n",
       "      <td>12</td>\n",
       "    </tr>\n",
       "    <tr>\n",
       "      <th>8</th>\n",
       "      <td>consumer_defensive</td>\n",
       "      <td>2.0</td>\n",
       "      <td>2</td>\n",
       "    </tr>\n",
       "    <tr>\n",
       "      <th>9</th>\n",
       "      <td>energy</td>\n",
       "      <td>2.0</td>\n",
       "      <td>81</td>\n",
       "    </tr>\n",
       "    <tr>\n",
       "      <th>10</th>\n",
       "      <td>energy</td>\n",
       "      <td>3.0</td>\n",
       "      <td>12</td>\n",
       "    </tr>\n",
       "    <tr>\n",
       "      <th>11</th>\n",
       "      <td>financial_services</td>\n",
       "      <td>1.0</td>\n",
       "      <td>34</td>\n",
       "    </tr>\n",
       "    <tr>\n",
       "      <th>12</th>\n",
       "      <td>financial_services</td>\n",
       "      <td>2.0</td>\n",
       "      <td>51</td>\n",
       "    </tr>\n",
       "    <tr>\n",
       "      <th>13</th>\n",
       "      <td>financial_services</td>\n",
       "      <td>3.0</td>\n",
       "      <td>4</td>\n",
       "    </tr>\n",
       "    <tr>\n",
       "      <th>14</th>\n",
       "      <td>healthcare</td>\n",
       "      <td>1.0</td>\n",
       "      <td>97</td>\n",
       "    </tr>\n",
       "    <tr>\n",
       "      <th>15</th>\n",
       "      <td>healthcare</td>\n",
       "      <td>2.0</td>\n",
       "      <td>3</td>\n",
       "    </tr>\n",
       "    <tr>\n",
       "      <th>16</th>\n",
       "      <td>industrials</td>\n",
       "      <td>1.0</td>\n",
       "      <td>7</td>\n",
       "    </tr>\n",
       "    <tr>\n",
       "      <th>17</th>\n",
       "      <td>industrials</td>\n",
       "      <td>2.0</td>\n",
       "      <td>20</td>\n",
       "    </tr>\n",
       "    <tr>\n",
       "      <th>18</th>\n",
       "      <td>industrials</td>\n",
       "      <td>3.0</td>\n",
       "      <td>2</td>\n",
       "    </tr>\n",
       "    <tr>\n",
       "      <th>19</th>\n",
       "      <td>real_estate</td>\n",
       "      <td>1.0</td>\n",
       "      <td>230</td>\n",
       "    </tr>\n",
       "    <tr>\n",
       "      <th>20</th>\n",
       "      <td>real_estate</td>\n",
       "      <td>2.0</td>\n",
       "      <td>59</td>\n",
       "    </tr>\n",
       "    <tr>\n",
       "      <th>21</th>\n",
       "      <td>technology</td>\n",
       "      <td>1.0</td>\n",
       "      <td>37</td>\n",
       "    </tr>\n",
       "    <tr>\n",
       "      <th>22</th>\n",
       "      <td>technology</td>\n",
       "      <td>2.0</td>\n",
       "      <td>149</td>\n",
       "    </tr>\n",
       "    <tr>\n",
       "      <th>23</th>\n",
       "      <td>technology</td>\n",
       "      <td>3.0</td>\n",
       "      <td>11</td>\n",
       "    </tr>\n",
       "    <tr>\n",
       "      <th>24</th>\n",
       "      <td>utilities</td>\n",
       "      <td>1.0</td>\n",
       "      <td>54</td>\n",
       "    </tr>\n",
       "  </tbody>\n",
       "</table>\n",
       "</div>"
      ],
      "text/plain": [
       "        portfolio_industry  beta_10_risk_index  fname\n",
       "0          basic_materials                 1.0     57\n",
       "1          basic_materials                 2.0     20\n",
       "2          basic_materials                 3.0      2\n",
       "3   communication_services                 1.0     10\n",
       "4        consumer_cyclical                 1.0     19\n",
       "5        consumer_cyclical                 2.0      7\n",
       "6        consumer_cyclical                 3.0      3\n",
       "7       consumer_defensive                 1.0     12\n",
       "8       consumer_defensive                 2.0      2\n",
       "9                   energy                 2.0     81\n",
       "10                  energy                 3.0     12\n",
       "11      financial_services                 1.0     34\n",
       "12      financial_services                 2.0     51\n",
       "13      financial_services                 3.0      4\n",
       "14              healthcare                 1.0     97\n",
       "15              healthcare                 2.0      3\n",
       "16             industrials                 1.0      7\n",
       "17             industrials                 2.0     20\n",
       "18             industrials                 3.0      2\n",
       "19             real_estate                 1.0    230\n",
       "20             real_estate                 2.0     59\n",
       "21              technology                 1.0     37\n",
       "22              technology                 2.0    149\n",
       "23              technology                 3.0     11\n",
       "24               utilities                 1.0     54"
      ]
     },
     "execution_count": 173,
     "metadata": {},
     "output_type": "execute_result"
    }
   ],
   "source": [
    "products_sel2.groupby(['portfolio_industry',\"beta_10_risk_index\"]).count().reset_index()"
   ]
  },
  {
   "cell_type": "code",
   "execution_count": 174,
   "metadata": {},
   "outputs": [],
   "source": [
    "products_sel3=products_sel[[\"portfolio_type\",\"beta_10_risk_index\",\"fname\"]]"
   ]
  },
  {
   "cell_type": "code",
   "execution_count": 175,
   "metadata": {},
   "outputs": [
    {
     "data": {
      "text/html": [
       "<div>\n",
       "<style scoped>\n",
       "    .dataframe tbody tr th:only-of-type {\n",
       "        vertical-align: middle;\n",
       "    }\n",
       "\n",
       "    .dataframe tbody tr th {\n",
       "        vertical-align: top;\n",
       "    }\n",
       "\n",
       "    .dataframe thead th {\n",
       "        text-align: right;\n",
       "    }\n",
       "</style>\n",
       "<table border=\"1\" class=\"dataframe\">\n",
       "  <thead>\n",
       "    <tr style=\"text-align: right;\">\n",
       "      <th></th>\n",
       "      <th>portfolio_type</th>\n",
       "      <th>beta_10_risk_index</th>\n",
       "      <th>fname</th>\n",
       "    </tr>\n",
       "  </thead>\n",
       "  <tbody>\n",
       "    <tr>\n",
       "      <th>0</th>\n",
       "      <td>stocks</td>\n",
       "      <td>1.0</td>\n",
       "      <td>557</td>\n",
       "    </tr>\n",
       "    <tr>\n",
       "      <th>1</th>\n",
       "      <td>stocks</td>\n",
       "      <td>2.0</td>\n",
       "      <td>392</td>\n",
       "    </tr>\n",
       "    <tr>\n",
       "      <th>2</th>\n",
       "      <td>stocks</td>\n",
       "      <td>3.0</td>\n",
       "      <td>34</td>\n",
       "    </tr>\n",
       "  </tbody>\n",
       "</table>\n",
       "</div>"
      ],
      "text/plain": [
       "  portfolio_type  beta_10_risk_index  fname\n",
       "0         stocks                 1.0    557\n",
       "1         stocks                 2.0    392\n",
       "2         stocks                 3.0     34"
      ]
     },
     "execution_count": 175,
     "metadata": {},
     "output_type": "execute_result"
    }
   ],
   "source": [
    "products_sel3.groupby(['portfolio_type',\"beta_10_risk_index\"]).count().reset_index()"
   ]
  },
  {
   "cell_type": "code",
   "execution_count": null,
   "metadata": {},
   "outputs": [],
   "source": []
  }
 ],
 "metadata": {
  "kernelspec": {
   "display_name": "Python [conda env:ironhack_env]",
   "language": "python",
   "name": "conda-env-ironhack_env-py"
  },
  "language_info": {
   "codemirror_mode": {
    "name": "ipython",
    "version": 3
   },
   "file_extension": ".py",
   "mimetype": "text/x-python",
   "name": "python",
   "nbconvert_exporter": "python",
   "pygments_lexer": "ipython3",
   "version": "3.7.7"
  }
 },
 "nbformat": 4,
 "nbformat_minor": 4
}
