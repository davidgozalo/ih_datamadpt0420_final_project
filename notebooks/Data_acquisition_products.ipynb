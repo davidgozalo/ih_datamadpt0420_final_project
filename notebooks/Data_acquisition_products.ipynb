{
 "cells": [
  {
   "cell_type": "code",
   "execution_count": 447,
   "metadata": {},
   "outputs": [
    {
     "name": "stderr",
     "output_type": "stream",
     "text": [
      "/home/davidgozalo/miniconda3/envs/ironhack_env/lib/python3.7/site-packages/IPython/core/interactiveshell.py:3072: DtypeWarning: Columns (20,22,23,119,121,123) have mixed types.Specify dtype option on import or set low_memory=False.\n",
      "  interactivity=interactivity, compiler=compiler, result=result)\n"
     ]
    }
   ],
   "source": [
    "import pandas as pd\n",
    "products= pd.read_csv('/home/davidgozalo/Ironhack/ih_datamadpt0420_final_project/data/raw/Mutual Funds.csv')"
   ]
  },
  {
   "cell_type": "code",
   "execution_count": 448,
   "metadata": {},
   "outputs": [
    {
     "data": {
      "text/plain": [
       "Index(['fund_name', 'fund_extended_name', 'category', 'fund_family',\n",
       "       'net_assets', 'ytd_return', 'fund_yield', 'morningstar_rating',\n",
       "       'inception_date', 'investment',\n",
       "       ...\n",
       "       'fund_sharpe_ratio_5years', 'category_sharpe_ratio_5years',\n",
       "       'fund_sharpe_ratio_10years', 'category_sharpe_ratio_10years',\n",
       "       'fund_treynor_ratio_3years', 'category_treynor_ratio_3years',\n",
       "       'fund_treynor_ratio_5years', 'category_treynor_ratio_5years',\n",
       "       'fund_treynor_ratio_10years', 'category_treynor_ratio_10years'],\n",
       "      dtype='object', length=125)"
      ]
     },
     "execution_count": 448,
     "metadata": {},
     "output_type": "execute_result"
    }
   ],
   "source": [
    "products.columns"
   ]
  },
  {
   "cell_type": "code",
   "execution_count": 449,
   "metadata": {},
   "outputs": [
    {
     "data": {
      "text/plain": [
       "(25308, 125)"
      ]
     },
     "execution_count": 449,
     "metadata": {},
     "output_type": "execute_result"
    }
   ],
   "source": [
    "products.shape"
   ]
  },
  {
   "cell_type": "code",
   "execution_count": 450,
   "metadata": {},
   "outputs": [
    {
     "data": {
      "text/html": [
       "<div>\n",
       "<style scoped>\n",
       "    .dataframe tbody tr th:only-of-type {\n",
       "        vertical-align: middle;\n",
       "    }\n",
       "\n",
       "    .dataframe tbody tr th {\n",
       "        vertical-align: top;\n",
       "    }\n",
       "\n",
       "    .dataframe thead th {\n",
       "        text-align: right;\n",
       "    }\n",
       "</style>\n",
       "<table border=\"1\" class=\"dataframe\">\n",
       "  <thead>\n",
       "    <tr style=\"text-align: right;\">\n",
       "      <th></th>\n",
       "      <th>fund_name</th>\n",
       "      <th>fund_extended_name</th>\n",
       "      <th>category</th>\n",
       "      <th>fund_family</th>\n",
       "      <th>net_assets</th>\n",
       "      <th>ytd_return</th>\n",
       "      <th>fund_yield</th>\n",
       "      <th>morningstar_rating</th>\n",
       "      <th>inception_date</th>\n",
       "      <th>investment</th>\n",
       "      <th>...</th>\n",
       "      <th>fund_sharpe_ratio_5years</th>\n",
       "      <th>category_sharpe_ratio_5years</th>\n",
       "      <th>fund_sharpe_ratio_10years</th>\n",
       "      <th>category_sharpe_ratio_10years</th>\n",
       "      <th>fund_treynor_ratio_3years</th>\n",
       "      <th>category_treynor_ratio_3years</th>\n",
       "      <th>fund_treynor_ratio_5years</th>\n",
       "      <th>category_treynor_ratio_5years</th>\n",
       "      <th>fund_treynor_ratio_10years</th>\n",
       "      <th>category_treynor_ratio_10years</th>\n",
       "    </tr>\n",
       "  </thead>\n",
       "  <tbody>\n",
       "    <tr>\n",
       "      <th>0</th>\n",
       "      <td>AAAAX</td>\n",
       "      <td>DWS RREEF Real Assets Fund - Class A</td>\n",
       "      <td>World Allocation</td>\n",
       "      <td>DWS</td>\n",
       "      <td>5.302800e+08</td>\n",
       "      <td>12.79</td>\n",
       "      <td>1.43</td>\n",
       "      <td>3</td>\n",
       "      <td>2007-07-29</td>\n",
       "      <td>Blend</td>\n",
       "      <td>...</td>\n",
       "      <td>0.31</td>\n",
       "      <td>0.00</td>\n",
       "      <td>0.73</td>\n",
       "      <td>0.01</td>\n",
       "      <td>5.05</td>\n",
       "      <td>0.05</td>\n",
       "      <td>2.26</td>\n",
       "      <td>0.02</td>\n",
       "      <td>6.71</td>\n",
       "      <td>0.07</td>\n",
       "    </tr>\n",
       "    <tr>\n",
       "      <th>1</th>\n",
       "      <td>AAADX</td>\n",
       "      <td>Aberdeen Income Builder Fund Class A</td>\n",
       "      <td>Large Blend</td>\n",
       "      <td>Aberdeen</td>\n",
       "      <td>8.884000e+07</td>\n",
       "      <td>9.21</td>\n",
       "      <td>2.62</td>\n",
       "      <td>2</td>\n",
       "      <td>2011-12-29</td>\n",
       "      <td>Blend</td>\n",
       "      <td>...</td>\n",
       "      <td>0.62</td>\n",
       "      <td>0.01</td>\n",
       "      <td>0.97</td>\n",
       "      <td>0.01</td>\n",
       "      <td>11.55</td>\n",
       "      <td>0.11</td>\n",
       "      <td>6.91</td>\n",
       "      <td>0.08</td>\n",
       "      <td>12.77</td>\n",
       "      <td>0.14</td>\n",
       "    </tr>\n",
       "    <tr>\n",
       "      <th>2</th>\n",
       "      <td>AAAGX</td>\n",
       "      <td>Thrivent Large Cap Growth Fund Class A</td>\n",
       "      <td>Large Growth</td>\n",
       "      <td>Thrivent Funds</td>\n",
       "      <td>1.080000e+09</td>\n",
       "      <td>16.00</td>\n",
       "      <td>0.00</td>\n",
       "      <td>3</td>\n",
       "      <td>1999-10-28</td>\n",
       "      <td>Growth</td>\n",
       "      <td>...</td>\n",
       "      <td>0.86</td>\n",
       "      <td>0.01</td>\n",
       "      <td>1.01</td>\n",
       "      <td>0.01</td>\n",
       "      <td>12.65</td>\n",
       "      <td>0.13</td>\n",
       "      <td>10.22</td>\n",
       "      <td>0.10</td>\n",
       "      <td>13.44</td>\n",
       "      <td>0.15</td>\n",
       "    </tr>\n",
       "    <tr>\n",
       "      <th>3</th>\n",
       "      <td>AAAIX</td>\n",
       "      <td>American Century Strategic Allocation: Aggress...</td>\n",
       "      <td>Allocation - 70% to 85% Equity</td>\n",
       "      <td>American Century Investments</td>\n",
       "      <td>7.852700e+08</td>\n",
       "      <td>11.57</td>\n",
       "      <td>1.38</td>\n",
       "      <td>4</td>\n",
       "      <td>2000-07-31</td>\n",
       "      <td>Growth</td>\n",
       "      <td>...</td>\n",
       "      <td>0.63</td>\n",
       "      <td>0.01</td>\n",
       "      <td>1.00</td>\n",
       "      <td>0.01</td>\n",
       "      <td>5.77</td>\n",
       "      <td>0.05</td>\n",
       "      <td>4.14</td>\n",
       "      <td>0.03</td>\n",
       "      <td>8.24</td>\n",
       "      <td>0.08</td>\n",
       "    </tr>\n",
       "    <tr>\n",
       "      <th>4</th>\n",
       "      <td>AAANX</td>\n",
       "      <td>Horizon Active Asset Allocation Fund Investor ...</td>\n",
       "      <td>Tactical Allocation</td>\n",
       "      <td>Horizon Investments</td>\n",
       "      <td>5.271300e+08</td>\n",
       "      <td>11.62</td>\n",
       "      <td>0.66</td>\n",
       "      <td>4</td>\n",
       "      <td>2012-01-30</td>\n",
       "      <td>Blend</td>\n",
       "      <td>...</td>\n",
       "      <td>0.47</td>\n",
       "      <td>0.00</td>\n",
       "      <td>NaN</td>\n",
       "      <td>0.01</td>\n",
       "      <td>4.5</td>\n",
       "      <td>0.04</td>\n",
       "      <td>2.98</td>\n",
       "      <td>0.03</td>\n",
       "      <td>NaN</td>\n",
       "      <td>0.09</td>\n",
       "    </tr>\n",
       "  </tbody>\n",
       "</table>\n",
       "<p>5 rows × 125 columns</p>\n",
       "</div>"
      ],
      "text/plain": [
       "  fund_name                                 fund_extended_name  \\\n",
       "0     AAAAX               DWS RREEF Real Assets Fund - Class A   \n",
       "1     AAADX               Aberdeen Income Builder Fund Class A   \n",
       "2     AAAGX             Thrivent Large Cap Growth Fund Class A   \n",
       "3     AAAIX  American Century Strategic Allocation: Aggress...   \n",
       "4     AAANX  Horizon Active Asset Allocation Fund Investor ...   \n",
       "\n",
       "                         category                   fund_family    net_assets  \\\n",
       "0                World Allocation                           DWS  5.302800e+08   \n",
       "1                     Large Blend                      Aberdeen  8.884000e+07   \n",
       "2                    Large Growth                Thrivent Funds  1.080000e+09   \n",
       "3  Allocation - 70% to 85% Equity  American Century Investments  7.852700e+08   \n",
       "4             Tactical Allocation           Horizon Investments  5.271300e+08   \n",
       "\n",
       "   ytd_return  fund_yield  morningstar_rating inception_date investment  ...  \\\n",
       "0       12.79        1.43                   3     2007-07-29      Blend  ...   \n",
       "1        9.21        2.62                   2     2011-12-29      Blend  ...   \n",
       "2       16.00        0.00                   3     1999-10-28     Growth  ...   \n",
       "3       11.57        1.38                   4     2000-07-31     Growth  ...   \n",
       "4       11.62        0.66                   4     2012-01-30      Blend  ...   \n",
       "\n",
       "  fund_sharpe_ratio_5years category_sharpe_ratio_5years  \\\n",
       "0                     0.31                         0.00   \n",
       "1                     0.62                         0.01   \n",
       "2                     0.86                         0.01   \n",
       "3                     0.63                         0.01   \n",
       "4                     0.47                         0.00   \n",
       "\n",
       "   fund_sharpe_ratio_10years  category_sharpe_ratio_10years  \\\n",
       "0                       0.73                           0.01   \n",
       "1                       0.97                           0.01   \n",
       "2                       1.01                           0.01   \n",
       "3                       1.00                           0.01   \n",
       "4                        NaN                           0.01   \n",
       "\n",
       "   fund_treynor_ratio_3years  category_treynor_ratio_3years  \\\n",
       "0                       5.05                           0.05   \n",
       "1                      11.55                           0.11   \n",
       "2                      12.65                           0.13   \n",
       "3                       5.77                           0.05   \n",
       "4                        4.5                           0.04   \n",
       "\n",
       "   fund_treynor_ratio_5years  category_treynor_ratio_5years  \\\n",
       "0                       2.26                           0.02   \n",
       "1                       6.91                           0.08   \n",
       "2                      10.22                           0.10   \n",
       "3                       4.14                           0.03   \n",
       "4                       2.98                           0.03   \n",
       "\n",
       "   fund_treynor_ratio_10years  category_treynor_ratio_10years  \n",
       "0                        6.71                            0.07  \n",
       "1                       12.77                            0.14  \n",
       "2                       13.44                            0.15  \n",
       "3                        8.24                            0.08  \n",
       "4                         NaN                            0.09  \n",
       "\n",
       "[5 rows x 125 columns]"
      ]
     },
     "execution_count": 450,
     "metadata": {},
     "output_type": "execute_result"
    }
   ],
   "source": [
    "products.head()"
   ]
  },
  {
   "cell_type": "code",
   "execution_count": 451,
   "metadata": {},
   "outputs": [
    {
     "data": {
      "text/plain": [
       "Large Growth                            1347\n",
       "Large Blend                             1300\n",
       "Large Value                             1137\n",
       "Intermediate-Term Bond                   973\n",
       "World Large Stock                        867\n",
       "Diversified Emerging Mkts                771\n",
       "Allocation - 50% to 70% Equity           713\n",
       "Foreign Large Blend                      694\n",
       "Small Blend                              693\n",
       "High Yield Bond                          677\n",
       "Small Growth                             656\n",
       "Mid-Cap Growth                           590\n",
       "Allocation - 30% to 50% Equity           528\n",
       "Short-Term Bond                          518\n",
       "World Allocation                         457\n",
       "Small Value                              420\n",
       "Foreign Large Growth                     417\n",
       "Mid-Cap Blend                            409\n",
       "Mid-Cap Value                            387\n",
       "Multialternative                         357\n",
       "Multisector Bond                         329\n",
       "Allocation - 70% to 85% Equity           323\n",
       "Nontraditional Bond                      312\n",
       "Emerging Markets Bond                    298\n",
       "World Bond                               292\n",
       "Foreign Large Value                      291\n",
       "Muni National Interm                     282\n",
       "Tactical Allocation                      258\n",
       "Target-Date 2020                         251\n",
       "Long-Short Equity                        251\n",
       "Target-Date 2030                         242\n",
       "Target-Date 2040                         241\n",
       "Target-Date 2050                         241\n",
       "Muni Single State Long                   236\n",
       "Bank Loan                                234\n",
       "Real Estate                              231\n",
       "Intermediate Government                  230\n",
       "Target-Date 2025                         224\n",
       "Target-Date 2035                         221\n",
       "Target-Date 2055                         220\n",
       "Target-Date 2045                         220\n",
       "Inflation-Protected Bond                 217\n",
       "Corporate Bond                           206\n",
       "Global Real Estate                       204\n",
       "Target-Date 2060+                        202\n",
       "Allocation - 15% to 30% Equity           198\n",
       "Muni National Short                      195\n",
       "Target-Date Retirement                   191\n",
       "High Yield Muni                          183\n",
       "Allocation - 85%+ Equity                 176\n",
       "Muni National Long                       174\n",
       "Ultrashort Bond                          165\n",
       "Technology                               163\n",
       "Muni Single State Interm                 159\n",
       "Options-based                            156\n",
       "Market Neutral                           146\n",
       "Target-Date 2000-2010                    143\n",
       "World Small/Mid Stock                    140\n",
       "Foreign Small/Mid Growth                 138\n",
       "Target-Date 2015                         136\n",
       "Managed Futures                          117\n",
       "Commodities Broad Basket                 112\n",
       "Energy Limited Partnership               109\n",
       "Muni California Long                     106\n",
       "Health                                   105\n",
       "Foreign Small/Mid Blend                  102\n",
       "Trading - Leveraged Equity                96\n",
       "Natural Resources                         95\n",
       "Short Government                          95\n",
       "Infrastructure                            89\n",
       "Europe Stock                              84\n",
       "Equity Energy                             78\n",
       "Pacific/Asia ex-Japan Stk                 77\n",
       "Convertibles                              77\n",
       "Muni New York Long                        75\n",
       "Financial                                 75\n",
       "Muni California Intermediate              70\n",
       "Emerging-Markets Local-Currency Bond      67\n",
       "Equity Precious Metals                    58\n",
       "Muni Pennsylvania                         58\n",
       "China Region                              55\n",
       "Bear Market                               55\n",
       "Muni New Jersey                           53\n",
       "Long-Short Credit                         52\n",
       "Foreign Small/Mid Value                   51\n",
       "Preferred Stock                           50\n",
       "Utilities                                 50\n",
       "Muni Minnesota                            49\n",
       "Muni New York Intermediate                49\n",
       "Muni Massachusetts                        49\n",
       "Muni Single State Short                   39\n",
       "Muni Ohio                                 37\n",
       "Miscellaneous Region                      33\n",
       "Japan Stock                               30\n",
       "Multicurrency                             28\n",
       "Consumer Cyclical                         27\n",
       "Long Government                           26\n",
       "Diversified Pacific/Asia                  26\n",
       "Communications                            25\n",
       "Industrials                               24\n",
       "Long-Term Bond                            20\n",
       "Latin America Stock                       16\n",
       "Trading - Inverse Equity                  16\n",
       "India Equity                              15\n",
       "Trading - Inverse Debt                    15\n",
       "Consumer Defensive                        13\n",
       "Trading - Leveraged Debt                   9\n",
       "Trading - Miscellaneous                    8\n",
       "Volatility                                 7\n",
       "Trading - Inverse Commodities              4\n",
       "Commodities Precious Metals                2\n",
       "Name: category, dtype: int64"
      ]
     },
     "execution_count": 451,
     "metadata": {},
     "output_type": "execute_result"
    }
   ],
   "source": [
    "products[\"category\"].value_counts()"
   ]
  },
  {
   "cell_type": "code",
   "execution_count": 452,
   "metadata": {},
   "outputs": [],
   "source": [
    "pd.set_option(\"display.max_rows\", None)"
   ]
  },
  {
   "cell_type": "code",
   "execution_count": 453,
   "metadata": {},
   "outputs": [
    {
     "name": "stdout",
     "output_type": "stream",
     "text": [
      "1-fund_name\n",
      "2-fund_extended_name\n",
      "3-category\n",
      "4-fund_family\n",
      "5-net_assets\n",
      "6-ytd_return\n",
      "7-fund_yield\n",
      "8-morningstar_rating\n",
      "9-inception_date\n",
      "10-investment\n",
      "11-size\n",
      "12-currency\n",
      "13-net_annual_expense_ratio_fund\n",
      "14-net_annual_expense_ratio_category\n",
      "15-portfolio_cash\n",
      "16-portfolio_stocks\n",
      "17-portfolio_bonds\n",
      "18-portfolio_others\n",
      "19-portfolio_preferred\n",
      "20-portfolio_convertable\n",
      "21-price_earnings\n",
      "22-price_book\n",
      "23-price_sales\n",
      "24-price_cashflow\n",
      "25-median_market_cap\n",
      "26-basic_materials\n",
      "27-consumer_cyclical\n",
      "28-financial_services\n",
      "29-real_estate\n",
      "30-consumer_defensive\n",
      "31-healthcare\n",
      "32-utilities\n",
      "33-communication_services\n",
      "34-energy\n",
      "35-industrials\n",
      "36-technology\n",
      "37-bond_maturity\n",
      "38-bond_duration\n",
      "39-rating_us_government\n",
      "40-rating_aaa\n",
      "41-rating_aa\n",
      "42-rating_a\n",
      "43-rating_bbb\n",
      "44-rating_bb\n",
      "45-rating_b\n",
      "46-rating_below_b\n",
      "47-rating_others\n",
      "48-morningstar_return_rating\n",
      "49-fund_return_ytd\n",
      "50-category_return_ytd\n",
      "51-fund_return_1month\n",
      "52-category_return_1month\n",
      "53-fund_return_3months\n",
      "54-category_return_3months\n",
      "55-fund_return_1year\n",
      "56-category_return_1year\n",
      "57-fund_return_3years\n",
      "58-category_return_3years\n",
      "59-fund_return_5years\n",
      "60-category_return_5years\n",
      "61-fund_return_10years\n",
      "62-category_return_10years\n",
      "63-fund_return_2018\n",
      "64-category_return_2018\n",
      "65-fund_return_2017\n",
      "66-category_return_2017\n",
      "67-fund_return_2016\n",
      "68-category_return_2016\n",
      "69-fund_return_2015\n",
      "70-category_return_2015\n",
      "71-fund_return_2014\n",
      "72-category_return_2014\n",
      "73-fund_return_2013\n",
      "74-category_return_2013\n",
      "75-fund_return_2012\n",
      "76-category_return_2012\n",
      "77-fund_return_2011\n",
      "78-category_return_2011\n",
      "79-fund_return_2010\n",
      "80-category_return_2010\n",
      "81-morningstar_risk_rating\n",
      "82-years_up\n",
      "83-years_down\n",
      "84-fund_alpha_3years\n",
      "85-category_alpha_3years\n",
      "86-fund_alpha_5years\n",
      "87-category_alpha_5years\n",
      "88-fund_alpha_10years\n",
      "89-category_alpha_10years\n",
      "90-fund_beta_3years\n",
      "91-category_beta_3years\n",
      "92-fund_beta_5years\n",
      "93-category_beta_5years\n",
      "94-fund_beta_10years\n",
      "95-category_beta_10years\n",
      "96-fund_mean_annual_return_3years\n",
      "97-category_mean_annual_return_3years\n",
      "98-fund_mean_annual_return_5years\n",
      "99-category_mean_annual_return_5years\n",
      "100-fund_mean_annual_return_10years\n",
      "101-category_mean_annual_return_10years\n",
      "102-fund_r_squared_3years\n",
      "103-category_r_squared_3years\n",
      "104-fund_r_squared_5years\n",
      "105-category_r_squared_5years\n",
      "106-fund_r_squared_10years\n",
      "107-category_r_squared_10years\n",
      "108-fund_standard_deviation_3years\n",
      "109-category_standard_deviation_3years\n",
      "110-fund_standard_deviation_5years\n",
      "111-category_standard_deviation_5years\n",
      "112-fund_standard_deviation_10years\n",
      "113-category_standard_deviation_10years\n",
      "114-fund_sharpe_ratio_3years\n",
      "115-category_sharpe_ratio_3years\n",
      "116-fund_sharpe_ratio_5years\n",
      "117-category_sharpe_ratio_5years\n",
      "118-fund_sharpe_ratio_10years\n",
      "119-category_sharpe_ratio_10years\n",
      "120-fund_treynor_ratio_3years\n",
      "121-category_treynor_ratio_3years\n",
      "122-fund_treynor_ratio_5years\n",
      "123-category_treynor_ratio_5years\n",
      "124-fund_treynor_ratio_10years\n",
      "125-category_treynor_ratio_10years\n"
     ]
    }
   ],
   "source": [
    "a=0\n",
    "lista=[]\n",
    "for i in products.columns:\n",
    "    a=a+1\n",
    "    print(f\"{a}-{i}\")\n",
    "    lista.append((f\"{a}-{i}\"))\n",
    "    "
   ]
  },
  {
   "cell_type": "code",
   "execution_count": 454,
   "metadata": {},
   "outputs": [],
   "source": [
    "# 1. First we wil analyze portfolio type of investment"
   ]
  },
  {
   "cell_type": "code",
   "execution_count": 455,
   "metadata": {},
   "outputs": [
    {
     "ename": "NameError",
     "evalue": "name 'portfolio_cash' is not defined",
     "output_type": "error",
     "traceback": [
      "\u001b[0;31m---------------------------------------------------------------------------\u001b[0m",
      "\u001b[0;31mNameError\u001b[0m                                 Traceback (most recent call last)",
      "\u001b[0;32m<ipython-input-455-d8e266c14c56>\u001b[0m in \u001b[0;36m<module>\u001b[0;34m\u001b[0m\n\u001b[0;32m----> 1\u001b[0;31m \u001b[0;36m15\u001b[0m\u001b[0;34m-\u001b[0m\u001b[0mportfolio_cash\u001b[0m\u001b[0;34m\u001b[0m\u001b[0;34m\u001b[0m\u001b[0m\n\u001b[0m\u001b[1;32m      2\u001b[0m \u001b[0;36m16\u001b[0m\u001b[0;34m-\u001b[0m\u001b[0mportfolio_stocks\u001b[0m\u001b[0;34m\u001b[0m\u001b[0;34m\u001b[0m\u001b[0m\n\u001b[1;32m      3\u001b[0m \u001b[0;36m17\u001b[0m\u001b[0;34m-\u001b[0m\u001b[0mportfolio_bonds\u001b[0m\u001b[0;34m\u001b[0m\u001b[0;34m\u001b[0m\u001b[0m\n\u001b[1;32m      4\u001b[0m \u001b[0;36m18\u001b[0m\u001b[0;34m-\u001b[0m\u001b[0mportfolio_others\u001b[0m\u001b[0;34m\u001b[0m\u001b[0;34m\u001b[0m\u001b[0m\n\u001b[1;32m      5\u001b[0m \u001b[0;36m19\u001b[0m\u001b[0;34m-\u001b[0m\u001b[0mportfolio_preferred\u001b[0m\u001b[0;34m\u001b[0m\u001b[0;34m\u001b[0m\u001b[0m\n",
      "\u001b[0;31mNameError\u001b[0m: name 'portfolio_cash' is not defined"
     ]
    }
   ],
   "source": [
    "15-portfolio_cash\n",
    "16-portfolio_stocks\n",
    "17-portfolio_bonds\n",
    "18-portfolio_others\n",
    "19-portfolio_preferred\n",
    "20-portfolio_convertable"
   ]
  },
  {
   "cell_type": "code",
   "execution_count": 456,
   "metadata": {},
   "outputs": [],
   "source": [
    "# products[\"portfolio_cash\"].value_counts().sort_index()"
   ]
  },
  {
   "cell_type": "code",
   "execution_count": 457,
   "metadata": {},
   "outputs": [],
   "source": [
    "# 1,1 We assing a value to the category cash_index"
   ]
  },
  {
   "cell_type": "code",
   "execution_count": 458,
   "metadata": {},
   "outputs": [],
   "source": [
    "products.loc[products['portfolio_cash'] <= 75, \"cash_index\"] = 0 \n",
    "products.loc[products['portfolio_cash'] > 75, \"cash_index\"] = 1 "
   ]
  },
  {
   "cell_type": "code",
   "execution_count": 459,
   "metadata": {},
   "outputs": [
    {
     "data": {
      "text/plain": [
       "0.0    24982\n",
       "1.0      211\n",
       "Name: cash_index, dtype: int64"
      ]
     },
     "execution_count": 459,
     "metadata": {},
     "output_type": "execute_result"
    }
   ],
   "source": [
    "products[\"cash_index\"].value_counts().sort_index()"
   ]
  },
  {
   "cell_type": "code",
   "execution_count": 460,
   "metadata": {},
   "outputs": [],
   "source": [
    "# 1,2 We assing a value to the category stocks_index"
   ]
  },
  {
   "cell_type": "code",
   "execution_count": 461,
   "metadata": {},
   "outputs": [],
   "source": [
    "products.loc[products['portfolio_stocks'] <= 70, \"stocks_index\"] = 0 \n",
    "products.loc[products['portfolio_stocks'] > 70, \"stocks_index\"] = 1 "
   ]
  },
  {
   "cell_type": "code",
   "execution_count": 462,
   "metadata": {},
   "outputs": [
    {
     "data": {
      "text/plain": [
       "0.0    11476\n",
       "1.0    13717\n",
       "Name: stocks_index, dtype: int64"
      ]
     },
     "execution_count": 462,
     "metadata": {},
     "output_type": "execute_result"
    }
   ],
   "source": [
    "products[\"stocks_index\"].value_counts().sort_index()"
   ]
  },
  {
   "cell_type": "code",
   "execution_count": 463,
   "metadata": {},
   "outputs": [],
   "source": [
    "# 1,3 We assing a value to the category bonds_index"
   ]
  },
  {
   "cell_type": "code",
   "execution_count": 464,
   "metadata": {},
   "outputs": [],
   "source": [
    "products.loc[products['portfolio_bonds'] <= 70, \"bonds_index\"] = 0 \n",
    "products.loc[products['portfolio_bonds'] > 70, \"bonds_index\"] = 1"
   ]
  },
  {
   "cell_type": "code",
   "execution_count": 465,
   "metadata": {},
   "outputs": [
    {
     "data": {
      "text/plain": [
       "0.0    19170\n",
       "1.0     6023\n",
       "Name: bonds_index, dtype: int64"
      ]
     },
     "execution_count": 465,
     "metadata": {},
     "output_type": "execute_result"
    }
   ],
   "source": [
    "products[\"bonds_index\"].value_counts().sort_index()"
   ]
  },
  {
   "cell_type": "code",
   "execution_count": 466,
   "metadata": {},
   "outputs": [],
   "source": [
    "# 1,4 We assing a value to the category others_index"
   ]
  },
  {
   "cell_type": "code",
   "execution_count": 467,
   "metadata": {},
   "outputs": [],
   "source": [
    "products.loc[products['portfolio_others'] <= 50, \"others_index\"] = 0 \n",
    "products.loc[products['portfolio_others'] > 50, \"others_index\"] = 1 "
   ]
  },
  {
   "cell_type": "code",
   "execution_count": 468,
   "metadata": {},
   "outputs": [
    {
     "data": {
      "text/plain": [
       "0.0    25132\n",
       "1.0       61\n",
       "Name: others_index, dtype: int64"
      ]
     },
     "execution_count": 468,
     "metadata": {},
     "output_type": "execute_result"
    }
   ],
   "source": [
    "products[\"others_index\"].value_counts().sort_index()"
   ]
  },
  {
   "cell_type": "code",
   "execution_count": 469,
   "metadata": {},
   "outputs": [],
   "source": [
    "# 1,5 We assing a value to the category preferred_index"
   ]
  },
  {
   "cell_type": "code",
   "execution_count": 470,
   "metadata": {},
   "outputs": [],
   "source": [
    "products.loc[products['portfolio_preferred'] <= 50, \"preferred_index\"] = 0 \n",
    "products.loc[products['portfolio_preferred'] > 50, \"preferred_index\"] = 1 "
   ]
  },
  {
   "cell_type": "code",
   "execution_count": 471,
   "metadata": {},
   "outputs": [
    {
     "data": {
      "text/plain": [
       "0.0    25183\n",
       "1.0       10\n",
       "Name: preferred_index, dtype: int64"
      ]
     },
     "execution_count": 471,
     "metadata": {},
     "output_type": "execute_result"
    }
   ],
   "source": [
    "products[\"preferred_index\"].value_counts().sort_index()"
   ]
  },
  {
   "cell_type": "code",
   "execution_count": 472,
   "metadata": {},
   "outputs": [],
   "source": [
    "# 1,6 We assing a value to the category convertable_index"
   ]
  },
  {
   "cell_type": "code",
   "execution_count": 473,
   "metadata": {},
   "outputs": [],
   "source": [
    "products.loc[products['portfolio_convertable'] <= 50, \"convertable_index\"] = 0 \n",
    "products.loc[products['portfolio_convertable'] > 50, \"convertable_index\"] = 1 "
   ]
  },
  {
   "cell_type": "code",
   "execution_count": 474,
   "metadata": {},
   "outputs": [
    {
     "data": {
      "text/plain": [
       "0.0    25104\n",
       "1.0       89\n",
       "Name: convertable_index, dtype: int64"
      ]
     },
     "execution_count": 474,
     "metadata": {},
     "output_type": "execute_result"
    }
   ],
   "source": [
    "products[\"convertable_index\"].value_counts().sort_index()"
   ]
  },
  {
   "cell_type": "code",
   "execution_count": 475,
   "metadata": {},
   "outputs": [],
   "source": [
    "# 1.7 We create a type column considering the  diferent indexes"
   ]
  },
  {
   "cell_type": "code",
   "execution_count": 476,
   "metadata": {},
   "outputs": [],
   "source": [
    "import numpy as np\n",
    "# create a list of our conditions\n",
    "conditions = [\n",
    "    (products[\"cash_index\"]==1),\n",
    "    (products[\"stocks_index\"]==1),\n",
    "    (products[\"bonds_index\"]==1),\n",
    "    (products[\"others_index\"]==1),\n",
    "    (products[\"preferred_index\"]==1),\n",
    "    (products[\"convertable_index\"]==1)]\n",
    "\n",
    "# create a list of the values we want to assign for each condition\n",
    "values = [\"cash\", \"stocks\", \"bonds\",\"other\",\"preferred\",\"convertable\"]\n",
    "\n",
    "# create a new column and use np.select to assign values to it using our lists as arguments\n",
    "products[\"portfolio_type\"] = np.select(conditions, values)\n"
   ]
  },
  {
   "cell_type": "code",
   "execution_count": 477,
   "metadata": {},
   "outputs": [
    {
     "data": {
      "text/plain": [
       "0               5197\n",
       "bonds           6023\n",
       "cash             211\n",
       "convertable       89\n",
       "other             61\n",
       "preferred         10\n",
       "stocks         13717\n",
       "Name: portfolio_type, dtype: int64"
      ]
     },
     "execution_count": 477,
     "metadata": {},
     "output_type": "execute_result"
    }
   ],
   "source": [
    "products[\"portfolio_type\"].value_counts().sort_index()"
   ]
  },
  {
   "cell_type": "code",
   "execution_count": 478,
   "metadata": {},
   "outputs": [],
   "source": [
    "#1.8 We assingn the \"non classified, to \"other\""
   ]
  },
  {
   "cell_type": "code",
   "execution_count": 479,
   "metadata": {},
   "outputs": [],
   "source": [
    "products[\"portfolio_type\"].replace({\"0\": \"other\"}, inplace=True)"
   ]
  },
  {
   "cell_type": "code",
   "execution_count": 480,
   "metadata": {},
   "outputs": [],
   "source": [
    "# 2.  We will analyze portfolio industry"
   ]
  },
  {
   "cell_type": "code",
   "execution_count": 481,
   "metadata": {},
   "outputs": [
    {
     "ename": "NameError",
     "evalue": "name 'consumer_cyclical' is not defined",
     "output_type": "error",
     "traceback": [
      "\u001b[0;31m---------------------------------------------------------------------------\u001b[0m",
      "\u001b[0;31mNameError\u001b[0m                                 Traceback (most recent call last)",
      "\u001b[0;32m<ipython-input-481-1025993bd1f4>\u001b[0m in \u001b[0;36m<module>\u001b[0;34m\u001b[0m\n\u001b[0;32m----> 1\u001b[0;31m \u001b[0;36m7\u001b[0m\u001b[0;34m-\u001b[0m\u001b[0mconsumer_cyclical\u001b[0m\u001b[0;34m\u001b[0m\u001b[0;34m\u001b[0m\u001b[0m\n\u001b[0m\u001b[1;32m      2\u001b[0m \u001b[0;36m28\u001b[0m\u001b[0;34m-\u001b[0m\u001b[0mfinancial_services\u001b[0m\u001b[0;34m\u001b[0m\u001b[0;34m\u001b[0m\u001b[0m\n\u001b[1;32m      3\u001b[0m \u001b[0;36m29\u001b[0m\u001b[0;34m-\u001b[0m\u001b[0mreal_estate\u001b[0m\u001b[0;34m\u001b[0m\u001b[0;34m\u001b[0m\u001b[0m\n\u001b[1;32m      4\u001b[0m \u001b[0;36m30\u001b[0m\u001b[0;34m-\u001b[0m\u001b[0mconsumer_defensive\u001b[0m\u001b[0;34m\u001b[0m\u001b[0;34m\u001b[0m\u001b[0m\n\u001b[1;32m      5\u001b[0m \u001b[0;36m31\u001b[0m\u001b[0;34m-\u001b[0m\u001b[0mhealthcare\u001b[0m\u001b[0;34m\u001b[0m\u001b[0;34m\u001b[0m\u001b[0m\n",
      "\u001b[0;31mNameError\u001b[0m: name 'consumer_cyclical' is not defined"
     ]
    }
   ],
   "source": [
    "7-consumer_cyclical\n",
    "28-financial_services\n",
    "29-real_estate\n",
    "30-consumer_defensive\n",
    "31-healthcare\n",
    "32-utilities\n",
    "33-communication_services\n",
    "34-energy\n",
    "35-industrials\n",
    "36-technology"
   ]
  },
  {
   "cell_type": "code",
   "execution_count": 482,
   "metadata": {},
   "outputs": [],
   "source": [
    "# 2.1 We create basic material_index"
   ]
  },
  {
   "cell_type": "code",
   "execution_count": 483,
   "metadata": {},
   "outputs": [],
   "source": [
    "products.loc[products['basic_materials'] <= 50, \"basic_materials_index\"] = 0 \n",
    "products.loc[products['basic_materials'] > 50, \"basic_materials_index\"] = 1 "
   ]
  },
  {
   "cell_type": "code",
   "execution_count": 484,
   "metadata": {},
   "outputs": [
    {
     "data": {
      "text/plain": [
       "0.0    25031\n",
       "1.0      162\n",
       "Name: basic_materials_index, dtype: int64"
      ]
     },
     "execution_count": 484,
     "metadata": {},
     "output_type": "execute_result"
    }
   ],
   "source": [
    "products[\"basic_materials_index\"].value_counts().sort_index()"
   ]
  },
  {
   "cell_type": "code",
   "execution_count": 485,
   "metadata": {},
   "outputs": [],
   "source": [
    "# 2.2 We create consumer cyclical_index"
   ]
  },
  {
   "cell_type": "code",
   "execution_count": 486,
   "metadata": {},
   "outputs": [],
   "source": [
    "products.loc[products['consumer_cyclical'] <= 50, \"consumer_cyclical_index\"] = 0 \n",
    "products.loc[products['consumer_cyclical'] > 50, \"consumer_cyclical_index\"] = 1 "
   ]
  },
  {
   "cell_type": "code",
   "execution_count": 487,
   "metadata": {},
   "outputs": [
    {
     "data": {
      "text/plain": [
       "0.0    25020\n",
       "1.0      173\n",
       "Name: consumer_cyclical_index, dtype: int64"
      ]
     },
     "execution_count": 487,
     "metadata": {},
     "output_type": "execute_result"
    }
   ],
   "source": [
    "products[\"consumer_cyclical_index\"].value_counts().sort_index()"
   ]
  },
  {
   "cell_type": "code",
   "execution_count": 488,
   "metadata": {},
   "outputs": [],
   "source": [
    "# 2.3 We create  financial_services_index"
   ]
  },
  {
   "cell_type": "code",
   "execution_count": 489,
   "metadata": {},
   "outputs": [],
   "source": [
    "products.loc[products['financial_services'] <= 50, \"financial_services_index\"] = 0 \n",
    "products.loc[products['financial_services'] > 50, \"financial_services_index\"] = 1 "
   ]
  },
  {
   "cell_type": "code",
   "execution_count": 490,
   "metadata": {},
   "outputs": [
    {
     "data": {
      "text/plain": [
       "0.0    24952\n",
       "1.0      241\n",
       "Name: financial_services_index, dtype: int64"
      ]
     },
     "execution_count": 490,
     "metadata": {},
     "output_type": "execute_result"
    }
   ],
   "source": [
    "products[\"financial_services_index\"].value_counts().sort_index()"
   ]
  },
  {
   "cell_type": "code",
   "execution_count": 491,
   "metadata": {},
   "outputs": [],
   "source": [
    "# 2.4 We create real_state_index"
   ]
  },
  {
   "cell_type": "code",
   "execution_count": 492,
   "metadata": {},
   "outputs": [],
   "source": [
    "products.loc[products['real_estate'] <= 50, \"real_estate_index\"] = 0 \n",
    "products.loc[products['real_estate'] > 50, \"real_estate_index\"] = 1 "
   ]
  },
  {
   "cell_type": "code",
   "execution_count": 493,
   "metadata": {},
   "outputs": [
    {
     "data": {
      "text/plain": [
       "0.0    24637\n",
       "1.0      556\n",
       "Name: real_estate_index, dtype: int64"
      ]
     },
     "execution_count": 493,
     "metadata": {},
     "output_type": "execute_result"
    }
   ],
   "source": [
    "products[\"real_estate_index\"].value_counts().sort_index()"
   ]
  },
  {
   "cell_type": "code",
   "execution_count": 494,
   "metadata": {},
   "outputs": [],
   "source": [
    "# 2.5 We create customer defensive_index"
   ]
  },
  {
   "cell_type": "code",
   "execution_count": 495,
   "metadata": {},
   "outputs": [],
   "source": [
    "products.loc[products['consumer_defensive'] <= 50, \"consumer_defensive_index\"] = 0 \n",
    "products.loc[products['consumer_defensive'] > 50, \"consumer_defensive_index\"] = 1 "
   ]
  },
  {
   "cell_type": "code",
   "execution_count": 496,
   "metadata": {},
   "outputs": [
    {
     "data": {
      "text/plain": [
       "0.0    25149\n",
       "1.0       44\n",
       "Name: consumer_defensive_index, dtype: int64"
      ]
     },
     "execution_count": 496,
     "metadata": {},
     "output_type": "execute_result"
    }
   ],
   "source": [
    "products[\"consumer_defensive_index\"].value_counts().sort_index()"
   ]
  },
  {
   "cell_type": "code",
   "execution_count": 497,
   "metadata": {},
   "outputs": [],
   "source": [
    "# 2.6 We create healthcare_index"
   ]
  },
  {
   "cell_type": "code",
   "execution_count": 498,
   "metadata": {},
   "outputs": [],
   "source": [
    "products.loc[products['healthcare'] <= 50, \"healthcare_index\"] = 0 \n",
    "products.loc[products['healthcare'] > 50, \"healthcare_index\"] = 1 "
   ]
  },
  {
   "cell_type": "code",
   "execution_count": 499,
   "metadata": {},
   "outputs": [
    {
     "data": {
      "text/plain": [
       "0.0    25051\n",
       "1.0      142\n",
       "Name: healthcare_index, dtype: int64"
      ]
     },
     "execution_count": 499,
     "metadata": {},
     "output_type": "execute_result"
    }
   ],
   "source": [
    "products[\"healthcare_index\"].value_counts().sort_index()"
   ]
  },
  {
   "cell_type": "code",
   "execution_count": 500,
   "metadata": {},
   "outputs": [],
   "source": [
    "# 2.7 We create utilities_index"
   ]
  },
  {
   "cell_type": "code",
   "execution_count": 501,
   "metadata": {},
   "outputs": [],
   "source": [
    "products.loc[products['utilities'] <= 50, \"utilities_index\"] = 0 \n",
    "products.loc[products['utilities'] > 50, \"utilities_index\"] = 1 "
   ]
  },
  {
   "cell_type": "code",
   "execution_count": 502,
   "metadata": {},
   "outputs": [
    {
     "data": {
      "text/plain": [
       "0.0    25047\n",
       "1.0      146\n",
       "Name: utilities_index, dtype: int64"
      ]
     },
     "execution_count": 502,
     "metadata": {},
     "output_type": "execute_result"
    }
   ],
   "source": [
    "products[\"utilities_index\"].value_counts().sort_index()"
   ]
  },
  {
   "cell_type": "code",
   "execution_count": 503,
   "metadata": {},
   "outputs": [],
   "source": [
    "# 2.8 We create communicatin_services_index"
   ]
  },
  {
   "cell_type": "code",
   "execution_count": 504,
   "metadata": {},
   "outputs": [],
   "source": [
    "products.loc[products['communication_services'] <= 50, \"communication_services_index\"] = 0 \n",
    "products.loc[products['communication_services'] > 50, \"communication_services_index\"] = 1 "
   ]
  },
  {
   "cell_type": "code",
   "execution_count": 505,
   "metadata": {},
   "outputs": [
    {
     "data": {
      "text/plain": [
       "0.0    25160\n",
       "1.0       33\n",
       "Name: communication_services_index, dtype: int64"
      ]
     },
     "execution_count": 505,
     "metadata": {},
     "output_type": "execute_result"
    }
   ],
   "source": [
    "products[\"communication_services_index\"].value_counts().sort_index()"
   ]
  },
  {
   "cell_type": "code",
   "execution_count": 506,
   "metadata": {},
   "outputs": [],
   "source": [
    "# 2.9 We create energy_index"
   ]
  },
  {
   "cell_type": "code",
   "execution_count": 507,
   "metadata": {},
   "outputs": [],
   "source": [
    "products.loc[products['energy'] <= 50, \"energy_index\"] = 0 \n",
    "products.loc[products['energy'] > 50, \"energy_index\"] = 1 "
   ]
  },
  {
   "cell_type": "code",
   "execution_count": 508,
   "metadata": {},
   "outputs": [
    {
     "data": {
      "text/plain": [
       "0.0    24647\n",
       "1.0      546\n",
       "Name: energy_index, dtype: int64"
      ]
     },
     "execution_count": 508,
     "metadata": {},
     "output_type": "execute_result"
    }
   ],
   "source": [
    "products[\"energy_index\"].value_counts().sort_index()"
   ]
  },
  {
   "cell_type": "code",
   "execution_count": 509,
   "metadata": {},
   "outputs": [],
   "source": [
    "# 2.10 We create industrials_index"
   ]
  },
  {
   "cell_type": "code",
   "execution_count": 510,
   "metadata": {},
   "outputs": [],
   "source": [
    "products.loc[products['industrials'] <= 50, \"industrials_index\"] = 0 \n",
    "products.loc[products['industrials'] > 50, \"industrials_index\"] = 1 "
   ]
  },
  {
   "cell_type": "code",
   "execution_count": 511,
   "metadata": {},
   "outputs": [
    {
     "data": {
      "text/plain": [
       "0.0    24966\n",
       "1.0      227\n",
       "Name: industrials_index, dtype: int64"
      ]
     },
     "execution_count": 511,
     "metadata": {},
     "output_type": "execute_result"
    }
   ],
   "source": [
    "products[\"industrials_index\"].value_counts().sort_index()"
   ]
  },
  {
   "cell_type": "code",
   "execution_count": 512,
   "metadata": {},
   "outputs": [],
   "source": [
    "# 2.11 We create technology_index"
   ]
  },
  {
   "cell_type": "code",
   "execution_count": 513,
   "metadata": {},
   "outputs": [],
   "source": [
    "products.loc[products['technology'] <= 50, \"technology_index\"] = 0 \n",
    "products.loc[products['technology'] > 50, \"technology_index\"] = 1 "
   ]
  },
  {
   "cell_type": "code",
   "execution_count": 514,
   "metadata": {},
   "outputs": [
    {
     "data": {
      "text/plain": [
       "0.0    24920\n",
       "1.0      273\n",
       "Name: technology_index, dtype: int64"
      ]
     },
     "execution_count": 514,
     "metadata": {},
     "output_type": "execute_result"
    }
   ],
   "source": [
    "products[\"technology_index\"].value_counts().sort_index()"
   ]
  },
  {
   "cell_type": "code",
   "execution_count": 515,
   "metadata": {},
   "outputs": [],
   "source": [
    "# 2.11 We create a variable with the portfolio industry data"
   ]
  },
  {
   "cell_type": "code",
   "execution_count": 516,
   "metadata": {},
   "outputs": [],
   "source": [
    "import numpy as np\n",
    "# create a list of our conditions\n",
    "conditions = [\n",
    "    (products[\"basic_materials_index\"]==1),   \n",
    "    (products[\"consumer_cyclical_index\"]==1),\n",
    "    (products[\"financial_services_index\"]==1),\n",
    "    (products[\"real_estate_index\"]==1),\n",
    "    (products[\"consumer_defensive_index\"]==1),\n",
    "    (products[\"healthcare_index\"]==1),\n",
    "    (products[\"utilities_index\"]==1),\n",
    "    (products[\"communication_services_index\"]==1),\n",
    "    (products[\"energy_index\"]==1),\n",
    "    (products[\"industrials_index\"]==1),\n",
    "    (products[\"technology_index\"]==1)]\n",
    "\n",
    "# create a list of the values we want to assign for each condition\n",
    "values = [\"basic_materials\",\"consumer_cyclical\",\"financial_services\",\"real_estate\",\"consumer_defensive\",\"healthcare\",\"utilities\",\"communication_services\",\"energy\",\"industrials\",\"technology\"]\n",
    "\n",
    "# create a new column and use np.select to assign values to it using our lists as arguments\n",
    "products[\"portfolio_industry\"] = np.select(conditions, values)"
   ]
  },
  {
   "cell_type": "code",
   "execution_count": 517,
   "metadata": {},
   "outputs": [
    {
     "data": {
      "text/plain": [
       "0                         22765\n",
       "real_estate                 556\n",
       "energy                      546\n",
       "technology                  273\n",
       "financial_services          241\n",
       "industrials                 227\n",
       "consumer_cyclical           173\n",
       "basic_materials             162\n",
       "utilities                   146\n",
       "healthcare                  142\n",
       "consumer_defensive           44\n",
       "communication_services       33\n",
       "Name: portfolio_industry, dtype: int64"
      ]
     },
     "execution_count": 517,
     "metadata": {},
     "output_type": "execute_result"
    }
   ],
   "source": [
    "products[\"portfolio_industry\"].value_counts()"
   ]
  },
  {
   "cell_type": "code",
   "execution_count": 518,
   "metadata": {},
   "outputs": [],
   "source": [
    "yes_industry= products[products[\"portfolio_industry\"]!=\"0\"]"
   ]
  },
  {
   "cell_type": "code",
   "execution_count": 519,
   "metadata": {},
   "outputs": [
    {
     "data": {
      "text/plain": [
       "(2543, 144)"
      ]
     },
     "execution_count": 519,
     "metadata": {},
     "output_type": "execute_result"
    }
   ],
   "source": [
    "yes_industry.shape"
   ]
  },
  {
   "cell_type": "code",
   "execution_count": 520,
   "metadata": {},
   "outputs": [
    {
     "data": {
      "text/plain": [
       "stocks         1358\n",
       "bonds           833\n",
       "other           312\n",
       "convertable      17\n",
       "cash             14\n",
       "preferred         9\n",
       "Name: portfolio_type, dtype: int64"
      ]
     },
     "execution_count": 520,
     "metadata": {},
     "output_type": "execute_result"
    }
   ],
   "source": [
    "yes_industry[\"portfolio_type\"].value_counts()"
   ]
  },
  {
   "cell_type": "code",
   "execution_count": 521,
   "metadata": {},
   "outputs": [],
   "source": [
    "# 3  We will analyze bond maturity index"
   ]
  },
  {
   "cell_type": "code",
   "execution_count": 522,
   "metadata": {},
   "outputs": [
    {
     "ename": "SyntaxError",
     "evalue": "invalid syntax (<ipython-input-522-3e8a268371a1>, line 1)",
     "output_type": "error",
     "traceback": [
      "\u001b[0;36m  File \u001b[0;32m\"<ipython-input-522-3e8a268371a1>\"\u001b[0;36m, line \u001b[0;32m1\u001b[0m\n\u001b[0;31m    37. bond_maturity\u001b[0m\n\u001b[0m                    ^\u001b[0m\n\u001b[0;31mSyntaxError\u001b[0m\u001b[0;31m:\u001b[0m invalid syntax\n"
     ]
    }
   ],
   "source": [
    "37. bond_maturity\n",
    "38. bond_duration\n",
    "39. rating_us_government\n",
    "40. rating_aaa\n",
    "41. rating_aa\n",
    "42. rating_a\n",
    "43. rating_bbb\n",
    "44. rating_bb\n",
    "45. rating_b\n",
    "46. rating_below_b\n",
    "47. rating_others"
   ]
  },
  {
   "cell_type": "code",
   "execution_count": 523,
   "metadata": {},
   "outputs": [],
   "source": [
    "#products[\"bond_maturity\"].value_counts().sort_index(ascending=False)"
   ]
  },
  {
   "cell_type": "code",
   "execution_count": 524,
   "metadata": {},
   "outputs": [],
   "source": [
    "# create a list of our conditions\n",
    "conditions = [\n",
    "    (products[\"bond_maturity\"]<1),\n",
    "    (products[\"bond_maturity\"]>=1) & (products[\"bond_maturity\"]<3),\n",
    "    (products[\"bond_maturity\"]>=3) & (products[\"bond_maturity\"]<10), \n",
    "    (products[\"bond_maturity\"]>=10)]\n",
    "\n",
    "# create a list of the values we want to assign for each condition\n",
    "values = [\"liquidity\", \"short\", \"medium\", \"long\"]\n",
    "\n",
    "# create a new column and use np.select to assign values to it using our lists as arguments\n",
    "products[\"bond_maturity_index\"] = np.select(conditions, values)"
   ]
  },
  {
   "cell_type": "code",
   "execution_count": 525,
   "metadata": {},
   "outputs": [
    {
     "data": {
      "text/plain": [
       "0            17113\n",
       "medium        5915\n",
       "long          1477\n",
       "short          633\n",
       "liquidity      170\n",
       "Name: bond_maturity_index, dtype: int64"
      ]
     },
     "execution_count": 525,
     "metadata": {},
     "output_type": "execute_result"
    }
   ],
   "source": [
    "products[\"bond_maturity_index\"].value_counts()"
   ]
  },
  {
   "cell_type": "code",
   "execution_count": 526,
   "metadata": {},
   "outputs": [],
   "source": [
    "# 4  We will analyze bond rating"
   ]
  },
  {
   "cell_type": "code",
   "execution_count": 527,
   "metadata": {},
   "outputs": [],
   "source": [
    "#products[\"rating_aaa\"].value_counts()"
   ]
  },
  {
   "cell_type": "code",
   "execution_count": 528,
   "metadata": {},
   "outputs": [
    {
     "ename": "SyntaxError",
     "evalue": "invalid syntax (<ipython-input-528-93bd2c957185>, line 1)",
     "output_type": "error",
     "traceback": [
      "\u001b[0;36m  File \u001b[0;32m\"<ipython-input-528-93bd2c957185>\"\u001b[0;36m, line \u001b[0;32m1\u001b[0m\n\u001b[0;31m    39. rating_us_government\u001b[0m\n\u001b[0m                           ^\u001b[0m\n\u001b[0;31mSyntaxError\u001b[0m\u001b[0;31m:\u001b[0m invalid syntax\n"
     ]
    }
   ],
   "source": [
    "39. rating_us_government\n",
    "40. rating_aaa\n",
    "41. rating_aa\n",
    "42. rating_a\n",
    "43. rating_bbb\n",
    "44. rating_bb\n",
    "45. rating_b\n",
    "46. rating_below_b\n",
    "47. rating_others\n",
    "\n",
    "\n",
    "\"rating_us_government\",\"rating_aaa\",\"rating_aa\",\"rating_a\",\"rating_bbb\",\"rating_bb\",\"rating_b\",\"rating_below_b\",\"rating_others\""
   ]
  },
  {
   "cell_type": "code",
   "execution_count": 529,
   "metadata": {},
   "outputs": [],
   "source": [
    "\n",
    "products[\"weighted_rating\"]=((products[\"rating_us_government\"]*1)+(products[\"rating_aaa\"]*1)\n",
    "+(products[\"rating_aa\"]*2)+(products[\"rating_a\"]*3) +(products[\"rating_bbb\"]*4)+(products[\"rating_bb\"]*5)\n",
    "+(products[\"rating_b\"]*6)+(products[\"rating_below_b\"]*8)+(products[\"rating_others\"]*8))/((products[\"rating_us_government\"])\n",
    "+(products[\"rating_aaa\"])+(products[\"rating_aa\"])+(products[\"rating_a\"]) \n",
    "+(products[\"rating_bbb\"])+(products[\"rating_bb\"]*5)\n",
    "+(products[\"rating_b\"])+(products[\"rating_below_b\"])+(products[\"rating_others\"]))\n"
   ]
  },
  {
   "cell_type": "code",
   "execution_count": 530,
   "metadata": {},
   "outputs": [],
   "source": [
    "#products[\"weighted_rating\"].value_counts().sort_index(ascending=False)"
   ]
  },
  {
   "cell_type": "code",
   "execution_count": 531,
   "metadata": {},
   "outputs": [],
   "source": [
    "# create a list of our conditions\n",
    "conditions = [\n",
    "    (products[\"weighted_rating\"]> 0) & (products[\"weighted_rating\"] < 1.15),\n",
    "    (products[\"weighted_rating\"]>= 1.15) & (products[\"weighted_rating\"] <= 2.3),\n",
    "    (products[\"weighted_rating\"]>= 2.3) & (products[\"weighted_rating\"] <= 3.45),\n",
    "    (products[\"weighted_rating\"]>= 3.45) & (products[\"weighted_rating\"] <= 4.6),\n",
    "    (products[\"weighted_rating\"]>= 4.6) & (products[\"weighted_rating\"] <= 5.75),\n",
    "    (products[\"weighted_rating\"]>= 7.75) & (products[\"weighted_rating\"] <= 6.9),\n",
    "    (products[\"weighted_rating\"] > 6.9)]\n",
    "\n",
    "# create a list of the values we want to assign for each condition\n",
    "values = [\"aaa\", \"aa\", \"a\", \"bbb\",\"bb\",\"b\",\"below_b\"]\n",
    "\n",
    "# create a new column and use np.select to assign values to it using our lists as arguments\n",
    "products[\"average_rating\"] = np.select(conditions, values)"
   ]
  },
  {
   "cell_type": "code",
   "execution_count": 532,
   "metadata": {},
   "outputs": [
    {
     "name": "stdout",
     "output_type": "stream",
     "text": [
      "1.15\n",
      "2.3\n",
      "3.45\n",
      "4.6\n",
      "5.75\n",
      "6.9\n",
      "8.05\n"
     ]
    }
   ],
   "source": [
    "for i in range (1,8):\n",
    "    print(round((i*1.15),2))"
   ]
  },
  {
   "cell_type": "code",
   "execution_count": 533,
   "metadata": {},
   "outputs": [
    {
     "data": {
      "text/plain": [
       "0          15475\n",
       "aa          5732\n",
       "a           3275\n",
       "aaa          434\n",
       "bbb          265\n",
       "bb            95\n",
       "below_b       32\n",
       "Name: average_rating, dtype: int64"
      ]
     },
     "execution_count": 533,
     "metadata": {},
     "output_type": "execute_result"
    }
   ],
   "source": [
    "products[\"average_rating\"].value_counts()"
   ]
  },
  {
   "cell_type": "code",
   "execution_count": 534,
   "metadata": {},
   "outputs": [
    {
     "name": "stdout",
     "output_type": "stream",
     "text": [
      "2.66\n",
      "5.32\n",
      "7.98\n",
      "10.64\n",
      "13.3\n",
      "15.96\n",
      "18.62\n"
     ]
    }
   ],
   "source": [
    "for i in range (1,8):\n",
    "    print(round((i*2.66),2))"
   ]
  },
  {
   "cell_type": "code",
   "execution_count": 535,
   "metadata": {},
   "outputs": [
    {
     "data": {
      "text/plain": [
       "2.6666666666666665"
      ]
     },
     "execution_count": 535,
     "metadata": {},
     "output_type": "execute_result"
    }
   ],
   "source": [
    "8/3"
   ]
  },
  {
   "cell_type": "code",
   "execution_count": 536,
   "metadata": {},
   "outputs": [],
   "source": [
    "# create a list of our conditions\n",
    "conditions = [\n",
    "    (products[\"weighted_rating\"]> 0) & (products[\"weighted_rating\"] < 2.66),\n",
    "    (products[\"weighted_rating\"]>= 2.66) & (products[\"weighted_rating\"] <= 5.32),\n",
    "    (products[\"weighted_rating\"] > 5.32)]\n",
    "\n",
    "# create a list of the values we want to assign for each condition\n",
    "values = [\"1\",\"2\",\"3\"]\n",
    "\n",
    "# create a new column and use np.select to assign values to it using our lists as arguments\n",
    "products[\"average_rating_index\"] = np.select(conditions, values)"
   ]
  },
  {
   "cell_type": "code",
   "execution_count": 537,
   "metadata": {},
   "outputs": [
    {
     "data": {
      "text/plain": [
       "0    15448\n",
       "1     8047\n",
       "2     1739\n",
       "3       74\n",
       "Name: average_rating_index, dtype: int64"
      ]
     },
     "execution_count": 537,
     "metadata": {},
     "output_type": "execute_result"
    }
   ],
   "source": [
    "products[\"average_rating_index\"].value_counts()"
   ]
  },
  {
   "cell_type": "code",
   "execution_count": 538,
   "metadata": {},
   "outputs": [],
   "source": [
    "# 5  We will analyze fund performance: beta validated by r-squared"
   ]
  },
  {
   "cell_type": "code",
   "execution_count": 539,
   "metadata": {},
   "outputs": [
    {
     "ename": "NameError",
     "evalue": "name 'fund_alpha_3years' is not defined",
     "output_type": "error",
     "traceback": [
      "\u001b[0;31m---------------------------------------------------------------------------\u001b[0m",
      "\u001b[0;31mNameError\u001b[0m                                 Traceback (most recent call last)",
      "\u001b[0;32m<ipython-input-539-86d6cce81ee3>\u001b[0m in \u001b[0;36m<module>\u001b[0;34m\u001b[0m\n\u001b[0;32m----> 1\u001b[0;31m \u001b[0;36m84\u001b[0m\u001b[0;34m-\u001b[0m\u001b[0mfund_alpha_3years\u001b[0m\u001b[0;34m\u001b[0m\u001b[0;34m\u001b[0m\u001b[0m\n\u001b[0m\u001b[1;32m      2\u001b[0m \u001b[0;36m85\u001b[0m\u001b[0;34m-\u001b[0m\u001b[0mcategory_alpha_3years\u001b[0m\u001b[0;34m\u001b[0m\u001b[0;34m\u001b[0m\u001b[0m\n\u001b[1;32m      3\u001b[0m \u001b[0;36m86\u001b[0m\u001b[0;34m-\u001b[0m\u001b[0mfund_alpha_5years\u001b[0m\u001b[0;34m\u001b[0m\u001b[0;34m\u001b[0m\u001b[0m\n\u001b[1;32m      4\u001b[0m \u001b[0;36m87\u001b[0m\u001b[0;34m-\u001b[0m\u001b[0mcategory_alpha_5years\u001b[0m\u001b[0;34m\u001b[0m\u001b[0;34m\u001b[0m\u001b[0m\n\u001b[1;32m      5\u001b[0m \u001b[0;36m88\u001b[0m\u001b[0;34m-\u001b[0m\u001b[0mfund_alpha_10years\u001b[0m\u001b[0;34m\u001b[0m\u001b[0;34m\u001b[0m\u001b[0m\n",
      "\u001b[0;31mNameError\u001b[0m: name 'fund_alpha_3years' is not defined"
     ]
    }
   ],
   "source": [
    "84-fund_alpha_3years\n",
    "85-category_alpha_3years\n",
    "86-fund_alpha_5years\n",
    "87-category_alpha_5years\n",
    "88-fund_alpha_10years\n",
    "89-category_alpha_10years\n",
    "90-fund_beta_3years\n",
    "91-category_beta_3years\n",
    "92-fund_beta_5years\n",
    "93-category_beta_5years\n",
    "94-fund_beta_10years\n",
    "95-category_beta_10years\n",
    "96-fund_mean_annual_return_3years\n",
    "97-category_mean_annual_return_3years\n",
    "98-fund_mean_annual_return_5years\n",
    "99-category_mean_annual_return_5years\n",
    "100-fund_mean_annual_return_10years\n",
    "101-category_mean_annual_return_10years\n",
    "102-fund_r_squared_3years\n",
    "103-category_r_squared_3years\n",
    "104-fund_r_squared_5years\n",
    "105-category_r_squared_5years\n",
    "106-fund_r_squared_10years\n",
    "107-category_r_squared_10years\n",
    "108-fund_standard_deviation_3years\n",
    "109-category_standard_deviation_3years\n",
    "110-fund_standard_deviation_5years\n",
    "111-category_standard_deviation_5years\n",
    "112-fund_standard_deviation_10years\n",
    "113-category_standard_deviation_10years\n",
    "114-fund_sharpe_ratio_3years\n",
    "115-category_sharpe_ratio_3years\n",
    "116-fund_sharpe_ratio_5years\n",
    "117-category_sharpe_ratio_5years\n",
    "118-fund_sharpe_ratio_10years\n",
    "119-category_sharpe_ratio_10years"
   ]
  },
  {
   "cell_type": "code",
   "execution_count": 540,
   "metadata": {},
   "outputs": [
    {
     "ename": "NameError",
     "evalue": "name 'fund_beta_3years' is not defined",
     "output_type": "error",
     "traceback": [
      "\u001b[0;31m---------------------------------------------------------------------------\u001b[0m",
      "\u001b[0;31mNameError\u001b[0m                                 Traceback (most recent call last)",
      "\u001b[0;32m<ipython-input-540-72316c6d86c0>\u001b[0m in \u001b[0;36m<module>\u001b[0;34m\u001b[0m\n\u001b[0;32m----> 1\u001b[0;31m \u001b[0;36m90\u001b[0m\u001b[0;34m-\u001b[0m\u001b[0mfund_beta_3years\u001b[0m\u001b[0;34m\u001b[0m\u001b[0;34m\u001b[0m\u001b[0m\n\u001b[0m\u001b[1;32m      2\u001b[0m \u001b[0;36m91\u001b[0m\u001b[0;34m-\u001b[0m\u001b[0mcategory_beta_3years\u001b[0m\u001b[0;34m\u001b[0m\u001b[0;34m\u001b[0m\u001b[0m\n\u001b[1;32m      3\u001b[0m \u001b[0;36m92\u001b[0m\u001b[0;34m-\u001b[0m\u001b[0mfund_beta_5years\u001b[0m\u001b[0;34m\u001b[0m\u001b[0;34m\u001b[0m\u001b[0m\n\u001b[1;32m      4\u001b[0m \u001b[0;36m93\u001b[0m\u001b[0;34m-\u001b[0m\u001b[0mcategory_beta_5years\u001b[0m\u001b[0;34m\u001b[0m\u001b[0;34m\u001b[0m\u001b[0m\n\u001b[1;32m      5\u001b[0m \u001b[0;36m94\u001b[0m\u001b[0;34m-\u001b[0m\u001b[0mfund_beta_10years\u001b[0m\u001b[0;34m\u001b[0m\u001b[0;34m\u001b[0m\u001b[0m\n",
      "\u001b[0;31mNameError\u001b[0m: name 'fund_beta_3years' is not defined"
     ]
    }
   ],
   "source": [
    "90-fund_beta_3years\n",
    "91-category_beta_3years\n",
    "92-fund_beta_5years\n",
    "93-category_beta_5years\n",
    "94-fund_beta_10years\n",
    "95-category_beta_10years"
   ]
  },
  {
   "cell_type": "code",
   "execution_count": 541,
   "metadata": {},
   "outputs": [
    {
     "ename": "NameError",
     "evalue": "name 'fund_r_squared_3years' is not defined",
     "output_type": "error",
     "traceback": [
      "\u001b[0;31m---------------------------------------------------------------------------\u001b[0m",
      "\u001b[0;31mNameError\u001b[0m                                 Traceback (most recent call last)",
      "\u001b[0;32m<ipython-input-541-4aca8004e023>\u001b[0m in \u001b[0;36m<module>\u001b[0;34m\u001b[0m\n\u001b[0;32m----> 1\u001b[0;31m \u001b[0;36m102\u001b[0m\u001b[0;34m-\u001b[0m\u001b[0mfund_r_squared_3years\u001b[0m\u001b[0;34m\u001b[0m\u001b[0;34m\u001b[0m\u001b[0m\n\u001b[0m\u001b[1;32m      2\u001b[0m \u001b[0;36m103\u001b[0m\u001b[0;34m-\u001b[0m\u001b[0mcategory_r_squared_3years\u001b[0m\u001b[0;34m\u001b[0m\u001b[0;34m\u001b[0m\u001b[0m\n\u001b[1;32m      3\u001b[0m \u001b[0;36m104\u001b[0m\u001b[0;34m-\u001b[0m\u001b[0mfund_r_squared_5years\u001b[0m\u001b[0;34m\u001b[0m\u001b[0;34m\u001b[0m\u001b[0m\n\u001b[1;32m      4\u001b[0m \u001b[0;36m105\u001b[0m\u001b[0;34m-\u001b[0m\u001b[0mcategory_r_squared_5years\u001b[0m\u001b[0;34m\u001b[0m\u001b[0;34m\u001b[0m\u001b[0m\n\u001b[1;32m      5\u001b[0m \u001b[0;36m106\u001b[0m\u001b[0;34m-\u001b[0m\u001b[0mfund_r_squared_10years\u001b[0m\u001b[0;34m\u001b[0m\u001b[0;34m\u001b[0m\u001b[0m\n",
      "\u001b[0;31mNameError\u001b[0m: name 'fund_r_squared_3years' is not defined"
     ]
    }
   ],
   "source": [
    "102-fund_r_squared_3years\n",
    "103-category_r_squared_3years\n",
    "104-fund_r_squared_5years\n",
    "105-category_r_squared_5years\n",
    "106-fund_r_squared_10years"
   ]
  },
  {
   "cell_type": "code",
   "execution_count": 542,
   "metadata": {},
   "outputs": [],
   "source": [
    "# 5.1 Analysing beta"
   ]
  },
  {
   "cell_type": "code",
   "execution_count": 543,
   "metadata": {},
   "outputs": [],
   "source": [
    "#products[\"fund_beta_10years\"].value_counts().sort_index()"
   ]
  },
  {
   "cell_type": "code",
   "execution_count": 544,
   "metadata": {},
   "outputs": [],
   "source": [
    "products.loc[products['fund_beta_10years'] < 0, 'beta_10_index'] = 0 \n",
    "products.loc[(products['fund_beta_10years'] > 0) & (products['fund_beta_10years'] <= 0.97), 'beta_10_index'] = 1 \n",
    "products.loc[(products['fund_beta_10years'] > 0.98) & (products['fund_beta_10years'] < 1.02), 'beta_10_index'] = 0 \n",
    "products.loc[products['fund_beta_10years'] >=1.02 , 'beta_10_index'] = 2 "
   ]
  },
  {
   "cell_type": "code",
   "execution_count": 545,
   "metadata": {},
   "outputs": [],
   "source": [
    "# 5.2 Analysing r-squared"
   ]
  },
  {
   "cell_type": "code",
   "execution_count": 546,
   "metadata": {},
   "outputs": [],
   "source": [
    "#products['fund_r_squared_10years'].value_counts().sort_index()"
   ]
  },
  {
   "cell_type": "code",
   "execution_count": 547,
   "metadata": {},
   "outputs": [],
   "source": [
    "products.loc[products['fund_r_squared_10years'] < 0.85, 'r_squared_10_index'] = 0 \n",
    "products.loc[products['fund_r_squared_10years'] >= 0.85, 'r_squared_10_index'] = 1 \n"
   ]
  },
  {
   "cell_type": "code",
   "execution_count": 548,
   "metadata": {},
   "outputs": [
    {
     "data": {
      "text/plain": [
       "0.0      230\n",
       "1.0    16392\n",
       "Name: r_squared_10_index, dtype: int64"
      ]
     },
     "execution_count": 548,
     "metadata": {},
     "output_type": "execute_result"
    }
   ],
   "source": [
    "products['r_squared_10_index'].value_counts().sort_index()"
   ]
  },
  {
   "cell_type": "code",
   "execution_count": 549,
   "metadata": {},
   "outputs": [
    {
     "ename": "NameError",
     "evalue": "name 'fund_r_squared_10years' is not defined",
     "output_type": "error",
     "traceback": [
      "\u001b[0;31m---------------------------------------------------------------------------\u001b[0m",
      "\u001b[0;31mNameError\u001b[0m                                 Traceback (most recent call last)",
      "\u001b[0;32m<ipython-input-549-069b76fd9ea0>\u001b[0m in \u001b[0;36m<module>\u001b[0;34m\u001b[0m\n\u001b[0;32m----> 1\u001b[0;31m \u001b[0mfund_r_squared_10years\u001b[0m\u001b[0;34m\u001b[0m\u001b[0;34m\u001b[0m\u001b[0m\n\u001b[0m",
      "\u001b[0;31mNameError\u001b[0m: name 'fund_r_squared_10years' is not defined"
     ]
    }
   ],
   "source": [
    "fund_r_squared_10years"
   ]
  },
  {
   "cell_type": "code",
   "execution_count": null,
   "metadata": {},
   "outputs": [],
   "source": [
    "# 5.3 Defining fund risk by integrating  r-squared and beta"
   ]
  },
  {
   "cell_type": "code",
   "execution_count": 554,
   "metadata": {},
   "outputs": [],
   "source": [
    "products.loc[(products['fund_beta_10years'] < 0) | (products['fund_r_squared_10years'] < 0.85), 'beta_10_risk_index'] = 0 \n",
    "products.loc[(products['fund_beta_10years'] > 0) & (products['fund_beta_10years'] <= 0.97)&(products['fund_r_squared_10years'] >= 0.85), 'beta_10_risk_index'] = 1 \n",
    "products.loc[(products['fund_beta_10years'] > 0.98) & (products['fund_beta_10years'] < 1.02)&(products['fund_r_squared_10years'] >= 0.85), 'beta_10_risk_index'] = 0 \n",
    "products.loc[(products['fund_beta_10years'] >=1.02)&(products['fund_beta_10years'] < 1.5)&(products['fund_r_squared_10years'] >= 0.85) , 'beta_10_risk_index'] = 2\n",
    "products.loc[(products['fund_beta_10years'] >=1.5)&(products['fund_r_squared_10years'] >= 0.85) , 'beta_10_risk_index'] = 3 "
   ]
  },
  {
   "cell_type": "code",
   "execution_count": 555,
   "metadata": {},
   "outputs": [
    {
     "data": {
      "text/plain": [
       "0.0    1708\n",
       "1.0    6529\n",
       "2.0    7451\n",
       "3.0     605\n",
       "Name: beta_10_risk_index, dtype: int64"
      ]
     },
     "execution_count": 555,
     "metadata": {},
     "output_type": "execute_result"
    }
   ],
   "source": [
    "products['beta_10_risk_index'].value_counts().sort_index()"
   ]
  },
  {
   "cell_type": "code",
   "execution_count": 556,
   "metadata": {},
   "outputs": [],
   "source": [
    "# 6. Now Let us see how many funds can we  fully clasify"
   ]
  },
  {
   "cell_type": "code",
   "execution_count": null,
   "metadata": {},
   "outputs": [],
   "source": [
    "# 6.1 These are the variables that we are going to consider"
   ]
  },
  {
   "cell_type": "code",
   "execution_count": 557,
   "metadata": {},
   "outputs": [
    {
     "data": {
      "text/plain": [
       "bonds           6023\n",
       "cash             211\n",
       "convertable       89\n",
       "other           5258\n",
       "preferred         10\n",
       "stocks         13717\n",
       "Name: portfolio_type, dtype: int64"
      ]
     },
     "execution_count": 557,
     "metadata": {},
     "output_type": "execute_result"
    }
   ],
   "source": [
    "products[\"portfolio_type\"].value_counts().sort_index()"
   ]
  },
  {
   "cell_type": "code",
   "execution_count": 558,
   "metadata": {},
   "outputs": [
    {
     "data": {
      "text/plain": [
       "0                         22765\n",
       "real_estate                 556\n",
       "energy                      546\n",
       "technology                  273\n",
       "financial_services          241\n",
       "industrials                 227\n",
       "consumer_cyclical           173\n",
       "basic_materials             162\n",
       "utilities                   146\n",
       "healthcare                  142\n",
       "consumer_defensive           44\n",
       "communication_services       33\n",
       "Name: portfolio_industry, dtype: int64"
      ]
     },
     "execution_count": 558,
     "metadata": {},
     "output_type": "execute_result"
    }
   ],
   "source": [
    "products[\"portfolio_industry\"].value_counts()"
   ]
  },
  {
   "cell_type": "code",
   "execution_count": 559,
   "metadata": {},
   "outputs": [
    {
     "data": {
      "text/plain": [
       "0            17113\n",
       "medium        5915\n",
       "long          1477\n",
       "short          633\n",
       "liquidity      170\n",
       "Name: bond_maturity_index, dtype: int64"
      ]
     },
     "execution_count": 559,
     "metadata": {},
     "output_type": "execute_result"
    }
   ],
   "source": [
    "products[\"bond_maturity_index\"].value_counts()"
   ]
  },
  {
   "cell_type": "code",
   "execution_count": 560,
   "metadata": {},
   "outputs": [
    {
     "data": {
      "text/plain": [
       "0          15475\n",
       "aa          5732\n",
       "a           3275\n",
       "aaa          434\n",
       "bbb          265\n",
       "bb            95\n",
       "below_b       32\n",
       "Name: average_rating, dtype: int64"
      ]
     },
     "execution_count": 560,
     "metadata": {},
     "output_type": "execute_result"
    }
   ],
   "source": [
    "products[\"average_rating\"].value_counts()"
   ]
  },
  {
   "cell_type": "code",
   "execution_count": 561,
   "metadata": {},
   "outputs": [
    {
     "data": {
      "text/plain": [
       "0    15448\n",
       "1     8047\n",
       "2     1739\n",
       "3       74\n",
       "Name: average_rating_index, dtype: int64"
      ]
     },
     "execution_count": 561,
     "metadata": {},
     "output_type": "execute_result"
    }
   ],
   "source": [
    "products[\"average_rating_index\"].value_counts()"
   ]
  },
  {
   "cell_type": "code",
   "execution_count": 562,
   "metadata": {},
   "outputs": [
    {
     "data": {
      "text/plain": [
       "0.0    1708\n",
       "1.0    6529\n",
       "2.0    7451\n",
       "3.0     605\n",
       "Name: beta_10_risk_index, dtype: int64"
      ]
     },
     "execution_count": 562,
     "metadata": {},
     "output_type": "execute_result"
    }
   ],
   "source": [
    "products['beta_10_risk_index'].value_counts().sort_index()"
   ]
  },
  {
   "cell_type": "code",
   "execution_count": null,
   "metadata": {},
   "outputs": [],
   "source": [
    "# 6.2 These are the conditions to exclude funds by lack of information"
   ]
  },
  {
   "cell_type": "code",
   "execution_count": 571,
   "metadata": {},
   "outputs": [],
   "source": [
    "Exclussion1=(products[\"portfolio_type\"]==\"other\")"
   ]
  },
  {
   "cell_type": "code",
   "execution_count": 572,
   "metadata": {},
   "outputs": [],
   "source": [
    "Exclussion2a=(products[\"portfolio_type\"]=='stocks') & (products[\"portfolio_industry\"]==0)"
   ]
  },
  {
   "cell_type": "code",
   "execution_count": 573,
   "metadata": {},
   "outputs": [],
   "source": [
    "Exclussion2b=(products[\"portfolio_type\"]=='convertable') & (products[\"portfolio_industry\"]==0)"
   ]
  },
  {
   "cell_type": "code",
   "execution_count": 574,
   "metadata": {},
   "outputs": [],
   "source": [
    "Exclussion2c=(products[\"portfolio_type\"]=='preferred') & (products[\"portfolio_industry\"]==0)"
   ]
  },
  {
   "cell_type": "code",
   "execution_count": 575,
   "metadata": {},
   "outputs": [],
   "source": [
    "Exclussion3=(products[\"portfolio_type\"]=='bonds') & (products[\"bond_maturity_index\"]==0)"
   ]
  },
  {
   "cell_type": "code",
   "execution_count": 576,
   "metadata": {},
   "outputs": [],
   "source": [
    "Exclussion4=(products[\"portfolio_type\"]=='bonds') & (products[\"average_rating_index\"]==0)"
   ]
  },
  {
   "cell_type": "code",
   "execution_count": 577,
   "metadata": {},
   "outputs": [],
   "source": [
    "Exclussion5=(products[\"beta_10_risk_index\"]==0)"
   ]
  },
  {
   "cell_type": "code",
   "execution_count": 578,
   "metadata": {},
   "outputs": [],
   "source": [
    "Exclussions=Exclussion1 | Exclussion2a | Exclussion2b | Exclussion2c | Exclussion3 | Exclussion4 | Exclussion5"
   ]
  },
  {
   "cell_type": "code",
   "execution_count": null,
   "metadata": {},
   "outputs": [],
   "source": [
    "# 6-3 We count the rows that we will eliminate by creating the \"exclussion\" column"
   ]
  },
  {
   "cell_type": "code",
   "execution_count": 579,
   "metadata": {},
   "outputs": [],
   "source": [
    "# create a list of our conditions\n",
    "conditions = [Exclussions]\n",
    "\n",
    "# create a list of the values we want to assign for each condition\n",
    "values = [\"1\"]\n",
    "\n",
    "# create a new column and use np.select to assign values to it using our lists as arguments\n",
    "products[\"exclussion\"] = np.select(conditions, values)"
   ]
  },
  {
   "cell_type": "code",
   "execution_count": 581,
   "metadata": {},
   "outputs": [],
   "source": [
    "products['exclussion']= 0\n",
    "products.loc[Exclussions, 'exclussion']= 1"
   ]
  },
  {
   "cell_type": "code",
   "execution_count": 582,
   "metadata": {},
   "outputs": [
    {
     "data": {
      "text/plain": [
       "0    18615\n",
       "1     6693\n",
       "Name: exclussion, dtype: int64"
      ]
     },
     "execution_count": 582,
     "metadata": {},
     "output_type": "execute_result"
    }
   ],
   "source": [
    "products[\"exclussion\"].value_counts()"
   ]
  },
  {
   "cell_type": "code",
   "execution_count": 585,
   "metadata": {},
   "outputs": [],
   "source": [
    "# 6.4 We will check and select the \"fine\" datamart"
   ]
  },
  {
   "cell_type": "code",
   "execution_count": 587,
   "metadata": {},
   "outputs": [],
   "source": [
    "products_clean=products[products[\"exclussion\"]==0]"
   ]
  },
  {
   "cell_type": "code",
   "execution_count": null,
   "metadata": {},
   "outputs": [],
   "source": [
    "# 7 We will identify the fund Class by the name"
   ]
  },
  {
   "cell_type": "code",
   "execution_count": 597,
   "metadata": {},
   "outputs": [],
   "source": [
    "#display(products[\"fund_extended_name\"])"
   ]
  },
  {
   "cell_type": "code",
   "execution_count": null,
   "metadata": {},
   "outputs": [],
   "source": [
    "products[['First','Last']] = df.Name.str.split(\" \",expand=True,)"
   ]
  },
  {
   "cell_type": "code",
   "execution_count": 617,
   "metadata": {},
   "outputs": [],
   "source": [
    "products[['fname','class']] = products.fund_extended_name.str.split(\"Fund \", n=1, expand=True)"
   ]
  },
  {
   "cell_type": "code",
   "execution_count": 618,
   "metadata": {},
   "outputs": [
    {
     "data": {
      "text/plain": [
       "Index(['fund_name', 'fund_extended_name', 'category', 'fund_family',\n",
       "       'net_assets', 'ytd_return', 'fund_yield', 'morningstar_rating',\n",
       "       'inception_date', 'investment',\n",
       "       ...\n",
       "       'bond_maturity_index', 'weighted_rating', 'average_rating',\n",
       "       'average_rating_index', 'beta_10_index', 'r_squared_10_index',\n",
       "       'beta_10_risk_index', 'exclussion', 'fname', 'class'],\n",
       "      dtype='object', length=154)"
      ]
     },
     "execution_count": 618,
     "metadata": {},
     "output_type": "execute_result"
    }
   ],
   "source": [
    "products.columns"
   ]
  },
  {
   "cell_type": "code",
   "execution_count": 613,
   "metadata": {},
   "outputs": [],
   "source": [
    "#products.drop(['First', 'Last'], axis=1, inplace=True)"
   ]
  },
  {
   "cell_type": "code",
   "execution_count": 627,
   "metadata": {},
   "outputs": [],
   "source": [
    "#products[\"fname\"].value_counts().sort_index()"
   ]
  },
  {
   "cell_type": "code",
   "execution_count": 628,
   "metadata": {},
   "outputs": [],
   "source": [
    "#products[\"class\"].value_counts().sort_values()"
   ]
  },
  {
   "cell_type": "code",
   "execution_count": null,
   "metadata": {},
   "outputs": [],
   "source": [
    "#Identify institutional funds and exclude them"
   ]
  },
  {
   "cell_type": "code",
   "execution_count": null,
   "metadata": {},
   "outputs": [],
   "source": [
    "# try a function regex  (search)  and apply to identify all the institutional cases\n",
    "# select the \"A\" classes for the low investments and leave all the others for the rest"
   ]
  },
  {
   "cell_type": "code",
   "execution_count": null,
   "metadata": {},
   "outputs": [],
   "source": [
    "#  We will select industry by risk"
   ]
  },
  {
   "cell_type": "code",
   "execution_count": null,
   "metadata": {},
   "outputs": [],
   "source": [
    "# 8 We will identify the \"optimization\" variables"
   ]
  },
  {
   "cell_type": "code",
   "execution_count": null,
   "metadata": {},
   "outputs": [],
   "source": [
    "115-category_sharpe_ratio_3years\n",
    "116-fund_sharpe_ratio_5years\n",
    "117-category_sharpe_ratio_5years\n",
    "118-fund_sharpe_ratio_10years\n",
    "119-category_sharpe_ratio_10years\n"
   ]
  },
  {
   "cell_type": "code",
   "execution_count": null,
   "metadata": {},
   "outputs": [],
   "source": [
    "84-fund_alpha_3years\n",
    "85-category_alpha_3years\n",
    "86-fund_alpha_5years\n",
    "87-category_alpha_5years\n",
    "88-fund_alpha_10years\n",
    "89-category_alpha_10year"
   ]
  },
  {
   "cell_type": "code",
   "execution_count": null,
   "metadata": {},
   "outputs": [],
   "source": [
    "13-net_annual_expense_ratio_fund\n",
    "14-net_annual_expense_ratio_category"
   ]
  },
  {
   "cell_type": "code",
   "execution_count": 633,
   "metadata": {},
   "outputs": [
    {
     "data": {
      "text/plain": [
       "-34.57     1\n",
       "-33.59     1\n",
       "-30.58     1\n",
       "-30.22     1\n",
       "-29.84     1\n",
       "-29.78     1\n",
       "-29.62     1\n",
       "-29.55     1\n",
       "-29.49     1\n",
       "-29.24     1\n",
       "-24.86     1\n",
       "-24.10     1\n",
       "-23.88     1\n",
       "-23.67     1\n",
       "-23.55     1\n",
       "-23.32     1\n",
       "-23.02     1\n",
       "-22.98     1\n",
       "-22.78     1\n",
       "-22.63     1\n",
       "-22.16     1\n",
       "-21.45     1\n",
       "-21.37     1\n",
       "-21.26     2\n",
       "-21.16     1\n",
       "-20.44     1\n",
       "-20.22     1\n",
       "-20.00     1\n",
       "-19.99     1\n",
       "-19.41     1\n",
       "-18.97     1\n",
       "-18.87     1\n",
       "-18.68     1\n",
       "-18.41     1\n",
       "-18.29     1\n",
       "-18.12     1\n",
       "-18.11     1\n",
       "-17.98     1\n",
       "-17.95     1\n",
       "-17.92     1\n",
       "-17.87     1\n",
       "-17.80     1\n",
       "-17.76     1\n",
       "-17.70     1\n",
       "-17.61     1\n",
       "-17.47     1\n",
       "-17.45     1\n",
       "-17.32     1\n",
       "-17.16     1\n",
       "-17.10     1\n",
       "-17.09     1\n",
       "-17.08     1\n",
       "-17.00     1\n",
       "-16.99     1\n",
       "-16.96     1\n",
       "-16.94     1\n",
       "-16.83     1\n",
       "-16.78     1\n",
       "-16.70     1\n",
       "-16.56     1\n",
       "-16.47     1\n",
       "-16.31     2\n",
       "-16.17     1\n",
       "-16.12     1\n",
       "-16.05     2\n",
       "-15.95     1\n",
       "-15.93     1\n",
       "-15.78     1\n",
       "-15.67     1\n",
       "-15.58     1\n",
       "-15.49     1\n",
       "-15.44     1\n",
       "-15.36     1\n",
       "-15.30     1\n",
       "-15.22     1\n",
       "-15.20     1\n",
       "-15.05     1\n",
       "-15.03     1\n",
       "-14.98     1\n",
       "-14.96     2\n",
       "-14.92     1\n",
       "-14.90     1\n",
       "-14.87     1\n",
       "-14.86     1\n",
       "-14.84     1\n",
       "-14.70     1\n",
       "-14.62     1\n",
       "-14.60     2\n",
       "-14.57     1\n",
       "-14.56     1\n",
       "-14.54     1\n",
       "-14.51     1\n",
       "-14.49     1\n",
       "-14.48     1\n",
       "-14.37     1\n",
       "-14.33     1\n",
       "-14.32     1\n",
       "-14.31     2\n",
       "-14.30     1\n",
       "-14.12     1\n",
       "-14.05     1\n",
       "-14.04     1\n",
       "-14.02     1\n",
       "-13.99     1\n",
       "-13.89     1\n",
       "-13.87     2\n",
       "-13.86     1\n",
       "-13.80     1\n",
       "-13.78     1\n",
       "-13.70     2\n",
       "-13.62     1\n",
       "-13.58     3\n",
       "-13.56     1\n",
       "-13.48     1\n",
       "-13.41     1\n",
       "-13.40     1\n",
       "-13.35     1\n",
       "-13.34     2\n",
       "-13.32     1\n",
       "-13.27     1\n",
       "-13.25     2\n",
       "-13.18     1\n",
       "-13.17     2\n",
       "-13.14     2\n",
       "-13.11     1\n",
       "-13.09     2\n",
       "-13.06     1\n",
       "-13.03     1\n",
       "-13.00     1\n",
       "-12.95     1\n",
       "-12.91     1\n",
       "-12.85     1\n",
       "-12.83     1\n",
       "-12.81     1\n",
       "-12.76     1\n",
       "-12.71     1\n",
       "-12.68     1\n",
       "-12.67     1\n",
       "-12.65     2\n",
       "-12.61     1\n",
       "-12.60     3\n",
       "-12.59     1\n",
       "-12.58     3\n",
       "-12.54     1\n",
       "-12.53     1\n",
       "-12.51     1\n",
       "-12.43     1\n",
       "-12.42     1\n",
       "-12.41     1\n",
       "-12.40     1\n",
       "-12.35     1\n",
       "-12.31     1\n",
       "-12.29     1\n",
       "-12.22     1\n",
       "-12.20     1\n",
       "-12.18     1\n",
       "-12.13     1\n",
       "-12.12     2\n",
       "-12.08     1\n",
       "-12.06     1\n",
       "-12.05     1\n",
       "-12.02     1\n",
       "-11.96     1\n",
       "-11.94     1\n",
       "-11.91     1\n",
       "-11.87     1\n",
       "-11.85     1\n",
       "-11.84     1\n",
       "-11.83     1\n",
       "-11.82     1\n",
       "-11.77     2\n",
       "-11.76     1\n",
       "-11.72     1\n",
       "-11.71     1\n",
       "-11.70     1\n",
       "-11.67     1\n",
       "-11.63     2\n",
       "-11.60     2\n",
       "-11.57     1\n",
       "-11.55     1\n",
       "-11.53     1\n",
       "-11.48     1\n",
       "-11.42     2\n",
       "-11.38     1\n",
       "-11.34     1\n",
       "-11.30     1\n",
       "-11.28     1\n",
       "-11.25     1\n",
       "-11.17     1\n",
       "-11.16     2\n",
       "-11.14     1\n",
       "-11.13     1\n",
       "-11.12     1\n",
       "-11.08     2\n",
       "-11.02     3\n",
       "-10.99     1\n",
       "-10.96     1\n",
       "-10.93     1\n",
       "-10.91     2\n",
       "-10.90     1\n",
       "-10.89     3\n",
       "-10.88     2\n",
       "-10.87     1\n",
       "-10.85     2\n",
       "-10.78     2\n",
       "-10.75     1\n",
       "-10.72     1\n",
       "-10.71     1\n",
       "-10.69     1\n",
       "-10.68     1\n",
       "-10.67     1\n",
       "-10.62     1\n",
       "-10.61     1\n",
       "-10.59     2\n",
       "-10.57     2\n",
       "-10.52     2\n",
       "-10.45     1\n",
       "-10.44     2\n",
       "-10.42     2\n",
       "-10.41     1\n",
       "-10.38     1\n",
       "-10.35     1\n",
       "-10.34     1\n",
       "-10.33     2\n",
       "-10.31     1\n",
       "-10.30     1\n",
       "-10.29     1\n",
       "-10.28     1\n",
       "-10.23     1\n",
       "-10.19     1\n",
       "-10.18     1\n",
       "-10.17     1\n",
       "-10.14     3\n",
       "-10.13     2\n",
       "-10.12     1\n",
       "-10.11     1\n",
       "-10.10     2\n",
       "-10.09     2\n",
       "-10.08     1\n",
       "-10.07     1\n",
       "-10.04     2\n",
       "-10.02     1\n",
       "-10.01     1\n",
       "-10.00     1\n",
       "-9.98      3\n",
       "-9.97      1\n",
       "-9.96      1\n",
       "-9.95      1\n",
       "-9.93      3\n",
       "-9.92      2\n",
       "-9.90      2\n",
       "-9.86      3\n",
       "-9.85      1\n",
       "-9.82      2\n",
       "-9.81      1\n",
       "-9.80      1\n",
       "-9.78      1\n",
       "-9.77      1\n",
       "-9.74      2\n",
       "-9.73      2\n",
       "-9.72      1\n",
       "-9.71      1\n",
       "-9.69      1\n",
       "-9.68      1\n",
       "-9.67      1\n",
       "-9.66      1\n",
       "-9.65      1\n",
       "-9.64      2\n",
       "-9.63      1\n",
       "-9.62      1\n",
       "-9.60      1\n",
       "-9.59      1\n",
       "-9.58      1\n",
       "-9.57      2\n",
       "-9.56      1\n",
       "-9.53      1\n",
       "-9.51      1\n",
       "-9.49      1\n",
       "-9.48      1\n",
       "-9.47      2\n",
       "-9.46      1\n",
       "-9.45      1\n",
       "-9.43      1\n",
       "-9.41      1\n",
       "-9.40      2\n",
       "-9.37      1\n",
       "-9.35      2\n",
       "-9.34      3\n",
       "-9.33      1\n",
       "-9.32      1\n",
       "-9.29      4\n",
       "-9.28      1\n",
       "-9.25      1\n",
       "-9.24      1\n",
       "-9.23      2\n",
       "-9.22      1\n",
       "-9.20      4\n",
       "-9.19      1\n",
       "-9.18      1\n",
       "-9.16      2\n",
       "-9.15      3\n",
       "-9.13      2\n",
       "-9.12      1\n",
       "-9.10      3\n",
       "-9.09      1\n",
       "-9.07      2\n",
       "-9.06      1\n",
       "-9.05      1\n",
       "-9.01      2\n",
       "-9.00      3\n",
       "-8.99      2\n",
       "-8.98      1\n",
       "-8.96      2\n",
       "-8.95      2\n",
       "-8.94      4\n",
       "-8.93      1\n",
       "-8.91      1\n",
       "-8.90      2\n",
       "-8.88      1\n",
       "-8.87      2\n",
       "-8.86      2\n",
       "-8.84      1\n",
       "-8.83      1\n",
       "-8.82      2\n",
       "-8.81      1\n",
       "-8.79      1\n",
       "-8.78      3\n",
       "-8.76      2\n",
       "-8.72      1\n",
       "-8.71      1\n",
       "-8.70      1\n",
       "-8.69      1\n",
       "-8.68      2\n",
       "-8.67      2\n",
       "-8.66      1\n",
       "-8.63      1\n",
       "-8.61      2\n",
       "-8.60      1\n",
       "-8.59      1\n",
       "-8.56      1\n",
       "-8.55      2\n",
       "-8.54      2\n",
       "-8.53      1\n",
       "-8.52      1\n",
       "-8.51      3\n",
       "-8.50      1\n",
       "-8.49      3\n",
       "-8.47      2\n",
       "-8.46      2\n",
       "-8.43      1\n",
       "-8.42      5\n",
       "-8.41      2\n",
       "-8.40      2\n",
       "-8.38      1\n",
       "-8.37      2\n",
       "-8.36      2\n",
       "-8.35      4\n",
       "-8.34      1\n",
       "-8.33      1\n",
       "-8.32      2\n",
       "-8.31      2\n",
       "-8.29      2\n",
       "-8.28      1\n",
       "-8.27      1\n",
       "-8.25      1\n",
       "-8.23      3\n",
       "-8.22      2\n",
       "-8.21      1\n",
       "-8.20      2\n",
       "-8.19      1\n",
       "-8.18      1\n",
       "-8.17      2\n",
       "-8.16      1\n",
       "-8.13      3\n",
       "-8.11      3\n",
       "-8.10      1\n",
       "-8.09      1\n",
       "-8.08      1\n",
       "-8.07      2\n",
       "-8.06      1\n",
       "-8.05      1\n",
       "-8.04      1\n",
       "-8.03      3\n",
       "-8.02      3\n",
       "-8.00      1\n",
       "-7.99      2\n",
       "-7.98      2\n",
       "-7.97      2\n",
       "-7.96      6\n",
       "-7.95      5\n",
       "-7.94      4\n",
       "-7.93      4\n",
       "-7.92      2\n",
       "-7.91      2\n",
       "-7.90      2\n",
       "-7.89      3\n",
       "-7.88      4\n",
       "-7.87      3\n",
       "-7.86      1\n",
       "-7.84      1\n",
       "-7.83      3\n",
       "-7.82      1\n",
       "-7.81      2\n",
       "-7.80      1\n",
       "-7.79      1\n",
       "-7.78      2\n",
       "-7.77      1\n",
       "-7.76      2\n",
       "-7.75      1\n",
       "-7.74      2\n",
       "-7.73      3\n",
       "-7.72      1\n",
       "-7.70      4\n",
       "-7.69      5\n",
       "-7.68      2\n",
       "-7.67      2\n",
       "-7.66      3\n",
       "-7.65      1\n",
       "-7.63      2\n",
       "-7.62      2\n",
       "-7.60      2\n",
       "-7.59      1\n",
       "-7.58      3\n",
       "-7.57      2\n",
       "-7.56      1\n",
       "-7.55      2\n",
       "-7.54      5\n",
       "-7.53      4\n",
       "-7.52      4\n",
       "-7.51      2\n",
       "-7.50      1\n",
       "-7.49      3\n",
       "-7.48      5\n",
       "-7.47      3\n",
       "-7.46      3\n",
       "-7.45      3\n",
       "-7.44      2\n",
       "-7.43      2\n",
       "-7.42      4\n",
       "-7.41      3\n",
       "-7.40      3\n",
       "-7.39      2\n",
       "-7.38      4\n",
       "-7.37      2\n",
       "-7.36      3\n",
       "-7.35      2\n",
       "-7.34      2\n",
       "-7.33      2\n",
       "-7.32      4\n",
       "-7.31      4\n",
       "-7.30      5\n",
       "-7.29      2\n",
       "-7.28      2\n",
       "-7.27      1\n",
       "-7.26      4\n",
       "-7.25      3\n",
       "-7.24      4\n",
       "-7.23      7\n",
       "-7.22      6\n",
       "-7.21      2\n",
       "-7.20      1\n",
       "-7.19      3\n",
       "-7.18      4\n",
       "-7.17      4\n",
       "-7.16      6\n",
       "-7.15      3\n",
       "-7.14      7\n",
       "-7.13      5\n",
       "-7.12      4\n",
       "-7.11      1\n",
       "-7.10      2\n",
       "-7.09      1\n",
       "-7.08      5\n",
       "-7.07      6\n",
       "-7.06      2\n",
       "-7.05      3\n",
       "-7.04      2\n",
       "-7.03      4\n",
       "-7.02      5\n",
       "-7.01      2\n",
       "-7.00      3\n",
       "-6.99      4\n",
       "-6.98      3\n",
       "-6.97      7\n",
       "-6.96      4\n",
       "-6.95      3\n",
       "-6.94      6\n",
       "-6.93      1\n",
       "-6.92      3\n",
       "-6.91      1\n",
       "-6.90      4\n",
       "-6.89      3\n",
       "-6.88      4\n",
       "-6.87      2\n",
       "-6.86      3\n",
       "-6.85      4\n",
       "-6.84      5\n",
       "-6.83      5\n",
       "-6.82      4\n",
       "-6.81      7\n",
       "-6.80      6\n",
       "-6.79      3\n",
       "-6.78      2\n",
       "-6.77      5\n",
       "-6.76     10\n",
       "-6.75      1\n",
       "-6.74      6\n",
       "-6.73      3\n",
       "-6.72      5\n",
       "-6.71      4\n",
       "-6.70      6\n",
       "-6.69      1\n",
       "-6.68      5\n",
       "-6.67      8\n",
       "-6.66      3\n",
       "-6.65      1\n",
       "-6.64      5\n",
       "-6.63      4\n",
       "-6.62      4\n",
       "-6.61      4\n",
       "-6.60      5\n",
       "-6.59      5\n",
       "-6.58      8\n",
       "-6.57      4\n",
       "-6.56      8\n",
       "-6.55      9\n",
       "-6.54      5\n",
       "-6.53      4\n",
       "-6.52      4\n",
       "-6.51      6\n",
       "-6.50      8\n",
       "-6.49      4\n",
       "-6.48      8\n",
       "-6.47      5\n",
       "-6.46      3\n",
       "-6.45      5\n",
       "-6.44      1\n",
       "-6.43      6\n",
       "-6.42      5\n",
       "-6.41      2\n",
       "-6.40      9\n",
       "-6.39      8\n",
       "-6.38      4\n",
       "-6.37      3\n",
       "-6.36      1\n",
       "-6.35      4\n",
       "-6.34      5\n",
       "-6.33      6\n",
       "-6.32      5\n",
       "-6.31      2\n",
       "-6.30      2\n",
       "-6.29      5\n",
       "-6.28      5\n",
       "-6.27      8\n",
       "-6.26      7\n",
       "-6.25      7\n",
       "-6.24     14\n",
       "-6.23      2\n",
       "-6.22      3\n",
       "-6.21      6\n",
       "-6.20      5\n",
       "-6.19      4\n",
       "-6.18      6\n",
       "-6.17      6\n",
       "-6.16      5\n",
       "-6.15      8\n",
       "-6.14      7\n",
       "-6.13      8\n",
       "-6.12      9\n",
       "-6.11      1\n",
       "-6.10      4\n",
       "-6.09      7\n",
       "-6.08     10\n",
       "-6.07      5\n",
       "-6.06      6\n",
       "-6.05      4\n",
       "-6.04      5\n",
       "-6.03      7\n",
       "-6.02      4\n",
       "-6.01      3\n",
       "-6.00      6\n",
       "-5.99      8\n",
       "-5.98      7\n",
       "-5.97      4\n",
       "-5.96      5\n",
       "-5.95      4\n",
       "-5.94      5\n",
       "-5.93     10\n",
       "-5.92      1\n",
       "-5.91      5\n",
       "-5.90      3\n",
       "-5.89      1\n",
       "-5.88      5\n",
       "-5.87      4\n",
       "-5.86      7\n",
       "-5.85      7\n",
       "-5.84      7\n",
       "-5.83      1\n",
       "-5.82      9\n",
       "-5.81      3\n",
       "-5.80      9\n",
       "-5.79      8\n",
       "-5.78      3\n",
       "-5.77      6\n",
       "-5.76      5\n",
       "-5.75      7\n",
       "-5.74      6\n",
       "-5.73      3\n",
       "-5.72      8\n",
       "-5.71      9\n",
       "-5.70      5\n",
       "-5.69      7\n",
       "-5.68      7\n",
       "-5.67      4\n",
       "-5.66      8\n",
       "-5.65      4\n",
       "-5.64      4\n",
       "-5.63      4\n",
       "-5.62      5\n",
       "-5.61      3\n",
       "-5.60     11\n",
       "-5.59      5\n",
       "-5.58      5\n",
       "-5.57      6\n",
       "-5.56     10\n",
       "-5.55      4\n",
       "-5.54      8\n",
       "-5.53      8\n",
       "-5.52      9\n",
       "-5.51      6\n",
       "-5.50     10\n",
       "-5.49      6\n",
       "-5.48     11\n",
       "-5.47      7\n",
       "-5.46     12\n",
       "-5.45      8\n",
       "-5.44      5\n",
       "-5.43      4\n",
       "-5.42     12\n",
       "-5.41      5\n",
       "-5.40      6\n",
       "-5.39      8\n",
       "-5.38      8\n",
       "-5.37     11\n",
       "-5.36      4\n",
       "-5.35      5\n",
       "-5.34      9\n",
       "-5.33      7\n",
       "-5.32      7\n",
       "-5.31      7\n",
       "-5.30      5\n",
       "-5.29      8\n",
       "-5.28     11\n",
       "-5.27      5\n",
       "-5.26      8\n",
       "-5.25      5\n",
       "-5.24      9\n",
       "-5.23      5\n",
       "-5.22     12\n",
       "-5.21      2\n",
       "-5.20      8\n",
       "-5.19      3\n",
       "-5.18      4\n",
       "-5.17      5\n",
       "-5.16     13\n",
       "-5.15      4\n",
       "-5.14      4\n",
       "-5.13      6\n",
       "-5.12     11\n",
       "-5.11      6\n",
       "-5.10      8\n",
       "-5.09      5\n",
       "-5.08      8\n",
       "-5.07      6\n",
       "-5.06     14\n",
       "-5.05      6\n",
       "-5.04     11\n",
       "-5.03      8\n",
       "-5.02      8\n",
       "-5.01      7\n",
       "-5.00      8\n",
       "-4.99      6\n",
       "-4.98      4\n",
       "-4.97      8\n",
       "-4.96     10\n",
       "-4.95      4\n",
       "-4.94     13\n",
       "-4.93      8\n",
       "-4.92      6\n",
       "-4.91      8\n",
       "-4.90      9\n",
       "-4.89     10\n",
       "-4.88     14\n",
       "-4.87      6\n",
       "-4.86      7\n",
       "-4.85      7\n",
       "-4.84     12\n",
       "-4.83      7\n",
       "-4.82      8\n",
       "-4.81      7\n",
       "-4.80      7\n",
       "-4.79      8\n",
       "-4.78      7\n",
       "-4.77      6\n",
       "-4.76      8\n",
       "-4.75      7\n",
       "-4.74      7\n",
       "-4.73      6\n",
       "-4.72     10\n",
       "-4.71     12\n",
       "-4.70     10\n",
       "-4.69      6\n",
       "-4.68      5\n",
       "-4.67      8\n",
       "-4.66     11\n",
       "-4.65      6\n",
       "-4.64     10\n",
       "-4.63      7\n",
       "-4.62      9\n",
       "-4.61      4\n",
       "-4.60     10\n",
       "-4.59     11\n",
       "-4.58     13\n",
       "-4.57     12\n",
       "-4.56      8\n",
       "-4.55      7\n",
       "-4.54     12\n",
       "-4.53      7\n",
       "-4.52      7\n",
       "-4.51      2\n",
       "-4.50      5\n",
       "-4.49      9\n",
       "-4.48     10\n",
       "-4.47      5\n",
       "-4.46     13\n",
       "-4.45      5\n",
       "-4.44      8\n",
       "-4.43      6\n",
       "-4.42     14\n",
       "-4.41     11\n",
       "-4.40      9\n",
       "-4.39     12\n",
       "-4.38      4\n",
       "-4.37     10\n",
       "-4.36     13\n",
       "-4.35     11\n",
       "-4.34      9\n",
       "-4.33      6\n",
       "-4.32      7\n",
       "-4.31      4\n",
       "-4.30      7\n",
       "-4.29      8\n",
       "-4.28     12\n",
       "-4.27     13\n",
       "-4.26      8\n",
       "-4.25      4\n",
       "-4.24     10\n",
       "-4.23     10\n",
       "-4.22      7\n",
       "-4.21      3\n",
       "-4.20      9\n",
       "-4.19      6\n",
       "-4.18     13\n",
       "-4.17     10\n",
       "-4.16     15\n",
       "-4.15      9\n",
       "-4.14     17\n",
       "-4.13      9\n",
       "-4.12     10\n",
       "-4.11      7\n",
       "-4.10      6\n",
       "-4.09      7\n",
       "-4.08     13\n",
       "-4.07      6\n",
       "-4.06     11\n",
       "-4.05      8\n",
       "-4.04     11\n",
       "-4.03      6\n",
       "-4.02      8\n",
       "-4.01      5\n",
       "-4.00      8\n",
       "-3.99      4\n",
       "-3.98     10\n",
       "-3.97     13\n",
       "-3.96     10\n",
       "-3.95     16\n",
       "-3.94     13\n",
       "-3.93     11\n",
       "-3.92     12\n",
       "-3.91      7\n",
       "-3.90     10\n",
       "-3.89      6\n",
       "-3.88      8\n",
       "-3.87      5\n",
       "-3.86      8\n",
       "-3.85     10\n",
       "-3.84      8\n",
       "-3.83     15\n",
       "-3.82     14\n",
       "-3.81      8\n",
       "-3.80     11\n",
       "-3.79      9\n",
       "-3.78     17\n",
       "-3.77      6\n",
       "-3.76      9\n",
       "-3.75      4\n",
       "-3.74      9\n",
       "-3.73     11\n",
       "-3.72     10\n",
       "-3.71     17\n",
       "-3.70     16\n",
       "-3.69      9\n",
       "-3.68     11\n",
       "-3.67     16\n",
       "-3.66     16\n",
       "-3.65     14\n",
       "-3.64      8\n",
       "-3.63      2\n",
       "-3.62     13\n",
       "-3.61      9\n",
       "-3.60      9\n",
       "-3.59     14\n",
       "-3.58     15\n",
       "-3.57     11\n",
       "-3.56     11\n",
       "-3.55      9\n",
       "-3.54      9\n",
       "-3.53     12\n",
       "-3.52      8\n",
       "-3.51     15\n",
       "-3.50     12\n",
       "-3.49     12\n",
       "-3.48     14\n",
       "-3.47     14\n",
       "-3.46     16\n",
       "-3.45     12\n",
       "-3.44     12\n",
       "-3.43      8\n",
       "-3.42     12\n",
       "-3.41      9\n",
       "-3.40     20\n",
       "-3.39     14\n",
       "-3.38     11\n",
       "-3.37     12\n",
       "-3.36     21\n",
       "-3.35     12\n",
       "-3.34     18\n",
       "-3.33     15\n",
       "-3.32      7\n",
       "-3.31      7\n",
       "-3.30     10\n",
       "-3.29     10\n",
       "-3.28     14\n",
       "-3.27     15\n",
       "-3.26     15\n",
       "-3.25     12\n",
       "-3.24     13\n",
       "-3.23     11\n",
       "-3.22     11\n",
       "-3.21     17\n",
       "-3.20     16\n",
       "-3.19     16\n",
       "-3.18     15\n",
       "-3.17     18\n",
       "-3.16     17\n",
       "-3.15     19\n",
       "-3.14     13\n",
       "-3.13     14\n",
       "-3.12     14\n",
       "-3.11     13\n",
       "-3.10      5\n",
       "-3.09     10\n",
       "-3.08      9\n",
       "-3.07     10\n",
       "-3.06     18\n",
       "-3.05     15\n",
       "-3.04     16\n",
       "-3.03      6\n",
       "-3.02     15\n",
       "-3.01     16\n",
       "-3.00      9\n",
       "-2.99     14\n",
       "-2.98     15\n",
       "-2.97     12\n",
       "-2.96     13\n",
       "-2.95     11\n",
       "-2.94     14\n",
       "-2.93      7\n",
       "-2.92     21\n",
       "-2.91     12\n",
       "-2.90     17\n",
       "-2.89      7\n",
       "-2.88     15\n",
       "-2.87     17\n",
       "-2.86     13\n",
       "-2.85     11\n",
       "-2.84     16\n",
       "-2.83     12\n",
       "-2.82     16\n",
       "-2.81     11\n",
       "-2.80     24\n",
       "-2.79      9\n",
       "-2.78     20\n",
       "-2.77     19\n",
       "-2.76     18\n",
       "-2.75     11\n",
       "-2.74     16\n",
       "-2.73     11\n",
       "-2.72     17\n",
       "-2.71     15\n",
       "-2.70     19\n",
       "-2.69     10\n",
       "-2.68     14\n",
       "-2.67     15\n",
       "-2.66      9\n",
       "-2.65      9\n",
       "-2.64     20\n",
       "-2.63     12\n",
       "-2.62     22\n",
       "-2.61     21\n",
       "-2.60     18\n",
       "-2.59     14\n",
       "-2.58     15\n",
       "-2.57      9\n",
       "-2.56     13\n",
       "-2.55     10\n",
       "-2.54     14\n",
       "-2.53     16\n",
       "-2.52     17\n",
       "-2.51     10\n",
       "-2.50     23\n",
       "-2.49      8\n",
       "-2.48     15\n",
       "-2.47     12\n",
       "-2.46     19\n",
       "-2.45     16\n",
       "-2.44     24\n",
       "-2.43     11\n",
       "-2.42     30\n",
       "-2.41     24\n",
       "-2.40     14\n",
       "-2.39     10\n",
       "-2.38     18\n",
       "-2.37     19\n",
       "-2.36     18\n",
       "-2.35     16\n",
       "-2.34     26\n",
       "-2.33     13\n",
       "-2.32     17\n",
       "-2.31     11\n",
       "-2.30     14\n",
       "-2.29      9\n",
       "-2.28     17\n",
       "-2.27     22\n",
       "-2.26     14\n",
       "-2.25     18\n",
       "-2.24     19\n",
       "-2.23      8\n",
       "-2.22     20\n",
       "-2.21     16\n",
       "-2.20     21\n",
       "-2.19     14\n",
       "-2.18     21\n",
       "-2.17     13\n",
       "-2.16     31\n",
       "-2.15     14\n",
       "-2.14     24\n",
       "-2.13     21\n",
       "-2.12     18\n",
       "-2.11     14\n",
       "-2.10     24\n",
       "-2.09     23\n",
       "-2.08     18\n",
       "-2.07     13\n",
       "-2.06     28\n",
       "-2.05     23\n",
       "-2.04     29\n",
       "-2.03     17\n",
       "-2.02     23\n",
       "-2.01     21\n",
       "-2.00     15\n",
       "-1.99     21\n",
       "-1.98     22\n",
       "-1.97     22\n",
       "-1.96     21\n",
       "-1.95     15\n",
       "-1.94     22\n",
       "-1.93     20\n",
       "-1.92     17\n",
       "-1.91     18\n",
       "-1.90     25\n",
       "-1.89     19\n",
       "-1.88     33\n",
       "-1.87     23\n",
       "-1.86     25\n",
       "-1.85     19\n",
       "-1.84     22\n",
       "-1.83     26\n",
       "-1.82     24\n",
       "-1.81     23\n",
       "-1.80     27\n",
       "-1.79     20\n",
       "-1.78     28\n",
       "-1.77     28\n",
       "-1.76     26\n",
       "-1.75     22\n",
       "-1.74     38\n",
       "-1.73     19\n",
       "-1.72     30\n",
       "-1.71     23\n",
       "-1.70     35\n",
       "-1.69     23\n",
       "-1.68     31\n",
       "-1.67     22\n",
       "-1.66     22\n",
       "-1.65     28\n",
       "-1.64     33\n",
       "-1.63     21\n",
       "-1.62     34\n",
       "-1.61     23\n",
       "-1.60     32\n",
       "-1.59     24\n",
       "-1.58     31\n",
       "-1.57     28\n",
       "-1.56     32\n",
       "-1.55     27\n",
       "-1.54     25\n",
       "-1.53     24\n",
       "-1.52     25\n",
       "-1.51     22\n",
       "-1.50     27\n",
       "-1.49     20\n",
       "-1.48     30\n",
       "-1.47     25\n",
       "-1.46     27\n",
       "-1.45     24\n",
       "-1.44     39\n",
       "-1.43     31\n",
       "-1.42     26\n",
       "-1.41     30\n",
       "-1.40     24\n",
       "-1.39     33\n",
       "-1.38     33\n",
       "-1.37     22\n",
       "-1.36     40\n",
       "-1.35     18\n",
       "-1.34     43\n",
       "-1.33     38\n",
       "-1.32     26\n",
       "-1.31     24\n",
       "-1.30     38\n",
       "-1.29     32\n",
       "-1.28     38\n",
       "-1.27     22\n",
       "-1.26     34\n",
       "-1.25     29\n",
       "-1.24     39\n",
       "-1.23     26\n",
       "-1.22     46\n",
       "-1.21     23\n",
       "-1.20     41\n",
       "-1.19     31\n",
       "-1.18     32\n",
       "-1.17     25\n",
       "-1.16     40\n",
       "-1.15     34\n",
       "-1.14     39\n",
       "-1.13     35\n",
       "-1.12     43\n",
       "-1.11     31\n",
       "-1.10     30\n",
       "-1.09     34\n",
       "-1.08     33\n",
       "-1.07     39\n",
       "-1.06     42\n",
       "-1.05     30\n",
       "-1.04     46\n",
       "-1.03     36\n",
       "-1.02     46\n",
       "-1.01     30\n",
       "-1.00     35\n",
       "-0.99     35\n",
       "-0.98     41\n",
       "-0.97     34\n",
       "-0.96     38\n",
       "-0.95     33\n",
       "-0.94     43\n",
       "-0.93     31\n",
       "-0.92     50\n",
       "-0.91     50\n",
       "-0.90     42\n",
       "-0.89     41\n",
       "-0.88     49\n",
       "-0.87     33\n",
       "-0.86     47\n",
       "-0.85     37\n",
       "-0.84     51\n",
       "-0.83     30\n",
       "-0.82     47\n",
       "-0.81     32\n",
       "-0.80     44\n",
       "-0.79     31\n",
       "-0.78     55\n",
       "-0.77     35\n",
       "-0.76     43\n",
       "-0.75     40\n",
       "-0.74     49\n",
       "-0.73     39\n",
       "-0.72     42\n",
       "-0.71     39\n",
       "-0.70     51\n",
       "-0.69     38\n",
       "-0.68     57\n",
       "-0.67     29\n",
       "-0.66     57\n",
       "-0.65     43\n",
       "-0.64     47\n",
       "-0.63     48\n",
       "-0.62     41\n",
       "-0.61     48\n",
       "-0.60     42\n",
       "-0.59     49\n",
       "-0.58     57\n",
       "-0.57     44\n",
       "-0.56     48\n",
       "-0.55     61\n",
       "-0.54     45\n",
       "-0.53     56\n",
       "-0.52     39\n",
       "-0.51     50\n",
       "-0.50     51\n",
       "-0.49     47\n",
       "-0.48     43\n",
       "-0.47     38\n",
       "-0.46     54\n",
       "-0.45     41\n",
       "-0.44     60\n",
       "-0.43     52\n",
       "-0.42     51\n",
       "-0.41     51\n",
       "-0.40     57\n",
       "-0.39     51\n",
       "-0.38     60\n",
       "-0.37     44\n",
       "-0.36     55\n",
       "-0.35     54\n",
       "-0.34     60\n",
       "-0.33     56\n",
       "-0.32     40\n",
       "-0.31     54\n",
       "-0.30     49\n",
       "-0.29     53\n",
       "-0.28     50\n",
       "-0.27     46\n",
       "-0.26     56\n",
       "-0.25     51\n",
       "-0.24     51\n",
       "-0.23     57\n",
       "-0.22     60\n",
       "-0.21     53\n",
       "-0.20     65\n",
       "-0.19     53\n",
       "-0.18     60\n",
       "-0.17     46\n",
       "-0.16     69\n",
       "-0.15     42\n",
       "-0.14     53\n",
       "-0.13     55\n",
       "-0.12     67\n",
       "-0.11     50\n",
       "-0.10     62\n",
       "-0.09     46\n",
       "-0.08     44\n",
       "-0.07     35\n",
       "-0.06     62\n",
       "-0.05     45\n",
       "-0.04     50\n",
       "-0.03     55\n",
       "-0.02     53\n",
       "-0.01     46\n",
       " 0.00     51\n",
       " 0.01     46\n",
       " 0.02     54\n",
       " 0.03     44\n",
       " 0.04     53\n",
       " 0.05     34\n",
       " 0.06     41\n",
       " 0.07     47\n",
       " 0.08     46\n",
       " 0.09     37\n",
       " 0.10     50\n",
       " 0.11     35\n",
       " 0.12     52\n",
       " 0.13     35\n",
       " 0.14     57\n",
       " 0.15     54\n",
       " 0.16     63\n",
       " 0.17     47\n",
       " 0.18     54\n",
       " 0.19     40\n",
       " 0.20     51\n",
       " 0.21     47\n",
       " 0.22     44\n",
       " 0.23     38\n",
       " 0.24     51\n",
       " 0.25     31\n",
       " 0.26     45\n",
       " 0.27     51\n",
       " 0.28     48\n",
       " 0.29     40\n",
       " 0.30     47\n",
       " 0.31     42\n",
       " 0.32     35\n",
       " 0.33     43\n",
       " 0.34     42\n",
       " 0.35     34\n",
       " 0.36     41\n",
       " 0.37     41\n",
       " 0.38     44\n",
       " 0.39     33\n",
       " 0.40     48\n",
       " 0.41     43\n",
       " 0.42     38\n",
       " 0.43     30\n",
       " 0.44     32\n",
       " 0.45     37\n",
       " 0.46     30\n",
       " 0.47     28\n",
       " 0.48     30\n",
       " 0.49     32\n",
       " 0.50     42\n",
       " 0.51     29\n",
       " 0.52     40\n",
       " 0.53     38\n",
       " 0.54     45\n",
       " 0.55     36\n",
       " 0.56     27\n",
       " 0.57     24\n",
       " 0.58     37\n",
       " 0.59     32\n",
       " 0.60     39\n",
       " 0.61     30\n",
       " 0.62     38\n",
       " 0.63     32\n",
       " 0.64     50\n",
       " 0.65     21\n",
       " 0.66     32\n",
       " 0.67     29\n",
       " 0.68     34\n",
       " 0.69     28\n",
       " 0.70     27\n",
       " 0.71     16\n",
       " 0.72     28\n",
       " 0.73     30\n",
       " 0.74     29\n",
       " 0.75     25\n",
       " 0.76     24\n",
       " 0.77     20\n",
       " 0.78     20\n",
       " 0.79     23\n",
       " 0.80     30\n",
       " 0.81     14\n",
       " 0.82     29\n",
       " 0.83     23\n",
       " 0.84     25\n",
       " 0.85     25\n",
       " 0.86     35\n",
       " 0.87     27\n",
       " 0.88     29\n",
       " 0.89     23\n",
       " 0.90     28\n",
       " 0.91     29\n",
       " 0.92     19\n",
       " 0.93     22\n",
       " 0.94     26\n",
       " 0.95     17\n",
       " 0.96     32\n",
       " 0.97     21\n",
       " 0.98     22\n",
       " 0.99     15\n",
       " 1.00     26\n",
       " 1.01     22\n",
       " 1.02     23\n",
       " 1.03     20\n",
       " 1.04     19\n",
       " 1.05     15\n",
       " 1.06     31\n",
       " 1.07     22\n",
       " 1.08     22\n",
       " 1.09     18\n",
       " 1.10     22\n",
       " 1.11     13\n",
       " 1.12     28\n",
       " 1.13     17\n",
       " 1.14     21\n",
       " 1.15     27\n",
       " 1.16     19\n",
       " 1.17     20\n",
       " 1.18     19\n",
       " 1.19     12\n",
       " 1.20     17\n",
       " 1.21     18\n",
       " 1.22     20\n",
       " 1.23     15\n",
       " 1.24     18\n",
       " 1.25     27\n",
       " 1.26     18\n",
       " 1.27     22\n",
       " 1.28     20\n",
       " 1.29     21\n",
       " 1.30     19\n",
       " 1.31     14\n",
       " 1.32     18\n",
       " 1.33     14\n",
       " 1.34     16\n",
       " 1.35     26\n",
       " 1.36     15\n",
       " 1.37     12\n",
       " 1.38     15\n",
       " 1.39     18\n",
       " 1.40     19\n",
       " 1.41     13\n",
       " 1.42     27\n",
       " 1.43     13\n",
       " 1.44     20\n",
       " 1.45     11\n",
       " 1.46     28\n",
       " 1.47     12\n",
       " 1.48     25\n",
       " 1.49      9\n",
       " 1.50     14\n",
       " 1.51     23\n",
       " 1.52     20\n",
       " 1.53     13\n",
       " 1.54     18\n",
       " 1.55     22\n",
       " 1.56     13\n",
       " 1.57      7\n",
       " 1.58     19\n",
       " 1.59     21\n",
       " 1.60     15\n",
       " 1.61     12\n",
       " 1.62     26\n",
       " 1.63     11\n",
       " 1.64     20\n",
       " 1.65     15\n",
       " 1.66     30\n",
       " 1.67     16\n",
       " 1.68     21\n",
       " 1.69     16\n",
       " 1.70     15\n",
       " 1.71     15\n",
       " 1.72     18\n",
       " 1.73     16\n",
       " 1.74      8\n",
       " 1.75     11\n",
       " 1.76     12\n",
       " 1.77     22\n",
       " 1.78     13\n",
       " 1.79     15\n",
       " 1.80     21\n",
       " 1.81     15\n",
       " 1.82     17\n",
       " 1.83      9\n",
       " 1.84     15\n",
       " 1.85     17\n",
       " 1.86     21\n",
       " 1.87      9\n",
       " 1.88     21\n",
       " 1.89     16\n",
       " 1.90     19\n",
       " 1.91     17\n",
       " 1.92     15\n",
       " 1.93     21\n",
       " 1.94     21\n",
       " 1.95     15\n",
       " 1.96     14\n",
       " 1.97     11\n",
       " 1.98     10\n",
       " 1.99     10\n",
       " 2.00     17\n",
       " 2.01     12\n",
       " 2.02     20\n",
       " 2.03     18\n",
       " 2.04     17\n",
       " 2.05     14\n",
       " 2.06     22\n",
       " 2.07      7\n",
       " 2.08     20\n",
       " 2.09     18\n",
       " 2.10     16\n",
       " 2.11      8\n",
       " 2.12     19\n",
       " 2.13     18\n",
       " 2.14     12\n",
       " 2.15      6\n",
       " 2.16      6\n",
       " 2.17      7\n",
       " 2.18     10\n",
       " 2.19     11\n",
       " 2.20      6\n",
       " 2.21     18\n",
       " 2.22     28\n",
       " 2.23     12\n",
       " 2.24     14\n",
       " 2.25     16\n",
       " 2.26     14\n",
       " 2.27     16\n",
       " 2.28     11\n",
       " 2.29     11\n",
       " 2.30     10\n",
       " 2.31     11\n",
       " 2.32     14\n",
       " 2.33     11\n",
       " 2.34     15\n",
       " 2.35     10\n",
       " 2.36     11\n",
       " 2.37     14\n",
       " 2.38     16\n",
       " 2.39      6\n",
       " 2.40     18\n",
       " 2.41     14\n",
       " 2.42     13\n",
       " 2.43      7\n",
       " 2.44     12\n",
       " 2.45     17\n",
       " 2.46     15\n",
       " 2.47     17\n",
       " 2.48     15\n",
       " 2.49     13\n",
       " 2.50     14\n",
       " 2.51      8\n",
       " 2.52     12\n",
       " 2.53     10\n",
       " 2.54     17\n",
       " 2.55     16\n",
       " 2.56     17\n",
       " 2.57     15\n",
       " 2.58     15\n",
       " 2.59     12\n",
       " 2.60     10\n",
       " 2.61     10\n",
       " 2.62     12\n",
       " 2.63     11\n",
       " 2.64     11\n",
       " 2.65     11\n",
       " 2.66     13\n",
       " 2.67     11\n",
       " 2.68     12\n",
       " 2.69     15\n",
       " 2.70     14\n",
       " 2.71      9\n",
       " 2.72     15\n",
       " 2.73      9\n",
       " 2.74      8\n",
       " 2.75     12\n",
       " 2.76     10\n",
       " 2.77      9\n",
       " 2.78     10\n",
       " 2.79     10\n",
       " 2.80      9\n",
       " 2.81      9\n",
       " 2.82     16\n",
       " 2.83      7\n",
       " 2.84      8\n",
       " 2.85     11\n",
       " 2.86     22\n",
       " 2.87      8\n",
       " 2.88      9\n",
       " 2.89     11\n",
       " 2.90     16\n",
       " 2.91     11\n",
       " 2.92     10\n",
       " 2.93      8\n",
       " 2.94     10\n",
       " 2.95     13\n",
       " 2.96      8\n",
       " 2.97     11\n",
       " 2.98      9\n",
       " 2.99      5\n",
       " 3.00     16\n",
       " 3.01      4\n",
       " 3.02      8\n",
       " 3.03      9\n",
       " 3.04      7\n",
       " 3.05     10\n",
       " 3.06     11\n",
       " 3.07      8\n",
       " 3.08     13\n",
       " 3.09     10\n",
       " 3.10      6\n",
       " 3.11      8\n",
       " 3.12      8\n",
       " 3.13     17\n",
       " 3.14     11\n",
       " 3.15      3\n",
       " 3.16      8\n",
       " 3.17     11\n",
       " 3.18     14\n",
       " 3.19      3\n",
       " 3.20     12\n",
       " 3.21      7\n",
       " 3.22      7\n",
       " 3.23      7\n",
       " 3.24      1\n",
       " 3.25     10\n",
       " 3.26      4\n",
       " 3.27      3\n",
       " 3.28      9\n",
       " 3.29      3\n",
       " 3.30      8\n",
       " 3.31      4\n",
       " 3.32      7\n",
       " 3.33      6\n",
       " 3.34      7\n",
       " 3.35      6\n",
       " 3.36     10\n",
       " 3.37      9\n",
       " 3.38      7\n",
       " 3.39      2\n",
       " 3.40      8\n",
       " 3.41      5\n",
       " 3.42      4\n",
       " 3.43      2\n",
       " 3.44      2\n",
       " 3.45      4\n",
       " 3.46      8\n",
       " 3.47      7\n",
       " 3.48      6\n",
       " 3.49      2\n",
       " 3.50     12\n",
       " 3.51     10\n",
       " 3.52      8\n",
       " 3.53      3\n",
       " 3.54      6\n",
       " 3.55     11\n",
       " 3.56      8\n",
       " 3.57      2\n",
       " 3.58      5\n",
       " 3.59      6\n",
       " 3.60      7\n",
       " 3.61      6\n",
       " 3.62      6\n",
       " 3.63      4\n",
       " 3.64      9\n",
       " 3.65      6\n",
       " 3.66      6\n",
       " 3.67      3\n",
       " 3.68      5\n",
       " 3.69      2\n",
       " 3.70      2\n",
       " 3.71      2\n",
       " 3.72      3\n",
       " 3.73      3\n",
       " 3.74      7\n",
       " 3.75      5\n",
       " 3.76      6\n",
       " 3.77      5\n",
       " 3.78      7\n",
       " 3.79      1\n",
       " 3.80      5\n",
       " 3.81      7\n",
       " 3.82      7\n",
       " 3.83      4\n",
       " 3.84      8\n",
       " 3.85      8\n",
       " 3.86     10\n",
       " 3.87      9\n",
       " 3.88      5\n",
       " 3.89      4\n",
       " 3.90      6\n",
       " 3.91      4\n",
       " 3.92      6\n",
       " 3.93      4\n",
       " 3.94      2\n",
       " 3.95      5\n",
       " 3.96      1\n",
       " 3.97      5\n",
       " 3.98      6\n",
       " 3.99      4\n",
       " 4.00      6\n",
       " 4.01      2\n",
       " 4.02      3\n",
       " 4.03      5\n",
       " 4.04      1\n",
       " 4.05      4\n",
       " 4.06      4\n",
       " 4.07      6\n",
       " 4.08      3\n",
       " 4.09      1\n",
       " 4.10      6\n",
       " 4.11      5\n",
       " 4.12      8\n",
       " 4.13      7\n",
       " 4.14      5\n",
       " 4.15      3\n",
       " 4.16      2\n",
       " 4.17      7\n",
       " 4.18      2\n",
       " 4.19      2\n",
       " 4.20      3\n",
       " 4.21      8\n",
       " 4.22      6\n",
       " 4.23      4\n",
       " 4.24      5\n",
       " 4.25      9\n",
       " 4.26      8\n",
       " 4.27      4\n",
       " 4.28      5\n",
       " 4.29      4\n",
       " 4.30      5\n",
       " 4.31      2\n",
       " 4.32      3\n",
       " 4.33      7\n",
       " 4.34      3\n",
       " 4.35      3\n",
       " 4.36      7\n",
       " 4.37      4\n",
       " 4.38      5\n",
       " 4.39      7\n",
       " 4.40     11\n",
       " 4.41      3\n",
       " 4.42      3\n",
       " 4.43      4\n",
       " 4.44      1\n",
       " 4.45      2\n",
       " 4.46      5\n",
       " 4.47      2\n",
       " 4.48      2\n",
       " 4.49      3\n",
       " 4.50      4\n",
       " 4.51      3\n",
       " 4.52      5\n",
       " 4.53      4\n",
       " 4.54      3\n",
       " 4.55      1\n",
       " 4.56      9\n",
       " 4.57      2\n",
       " 4.58      1\n",
       " 4.59      4\n",
       " 4.60      3\n",
       " 4.61      4\n",
       " 4.62      5\n",
       " 4.63      6\n",
       " 4.64      7\n",
       " 4.65      6\n",
       " 4.66      5\n",
       " 4.67      5\n",
       " 4.68      5\n",
       " 4.69      2\n",
       " 4.70      1\n",
       " 4.71      2\n",
       " 4.72      4\n",
       " 4.73      3\n",
       " 4.74      4\n",
       " 4.75      1\n",
       " 4.76      3\n",
       " 4.77      4\n",
       " 4.78      3\n",
       " 4.79      1\n",
       " 4.80      3\n",
       " 4.82      5\n",
       " 4.83      5\n",
       " 4.84      3\n",
       " 4.85      3\n",
       " 4.86      4\n",
       " 4.87      4\n",
       " 4.88      6\n",
       " 4.89      1\n",
       " 4.90      2\n",
       " 4.91      1\n",
       " 4.92      4\n",
       " 4.93      8\n",
       " 4.94      5\n",
       " 4.95      1\n",
       " 4.96      7\n",
       " 4.97      1\n",
       " 4.98      1\n",
       " 4.99      2\n",
       " 5.01      5\n",
       " 5.02      3\n",
       " 5.03      3\n",
       " 5.04      2\n",
       " 5.05      2\n",
       " 5.06      2\n",
       " 5.07      1\n",
       " 5.08      1\n",
       " 5.09      5\n",
       " 5.10      5\n",
       " 5.11      2\n",
       " 5.12      2\n",
       " 5.13      4\n",
       " 5.14      2\n",
       " 5.15      7\n",
       " 5.16      1\n",
       " 5.17      3\n",
       " 5.18      6\n",
       " 5.19      4\n",
       " 5.21      1\n",
       " 5.22      2\n",
       " 5.23      1\n",
       " 5.24      4\n",
       " 5.25      2\n",
       " 5.26      2\n",
       " 5.27      3\n",
       " 5.28      3\n",
       " 5.30      1\n",
       " 5.31      3\n",
       " 5.32      6\n",
       " 5.33      5\n",
       " 5.34      3\n",
       " 5.35      4\n",
       " 5.36      1\n",
       " 5.37      2\n",
       " 5.38      2\n",
       " 5.39      3\n",
       " 5.40      4\n",
       " 5.41      2\n",
       " 5.42      5\n",
       " 5.43      3\n",
       " 5.44      4\n",
       " 5.45      3\n",
       " 5.46      2\n",
       " 5.47      3\n",
       " 5.48      1\n",
       " 5.49      3\n",
       " 5.50      1\n",
       " 5.52      2\n",
       " 5.53      1\n",
       " 5.54      1\n",
       " 5.55      4\n",
       " 5.56      4\n",
       " 5.57      3\n",
       " 5.58      4\n",
       " 5.59      3\n",
       " 5.60      4\n",
       " 5.61      1\n",
       " 5.62      3\n",
       " 5.63      1\n",
       " 5.64      1\n",
       " 5.66      3\n",
       " 5.67      1\n",
       " 5.68      2\n",
       " 5.69      1\n",
       " 5.71      3\n",
       " 5.73      2\n",
       " 5.74      2\n",
       " 5.77      1\n",
       " 5.78      2\n",
       " 5.80      1\n",
       " 5.81      2\n",
       " 5.82      3\n",
       " 5.84      1\n",
       " 5.85      4\n",
       " 5.86      2\n",
       " 5.87      1\n",
       " 5.88      4\n",
       " 5.89      1\n",
       " 5.90      1\n",
       " 5.91      1\n",
       " 5.93      3\n",
       " 5.94      2\n",
       " 5.96      1\n",
       " 5.97      3\n",
       " 6.00      1\n",
       " 6.01      2\n",
       " 6.02      1\n",
       " 6.04      4\n",
       " 6.05      2\n",
       " 6.06      3\n",
       " 6.07      2\n",
       " 6.08      3\n",
       " 6.09      1\n",
       " 6.10      1\n",
       " 6.11      1\n",
       " 6.12      2\n",
       " 6.14      1\n",
       " 6.15      2\n",
       " 6.16      1\n",
       " 6.18      3\n",
       " 6.19      2\n",
       " 6.21      3\n",
       " 6.22      1\n",
       " 6.23      2\n",
       " 6.25      1\n",
       " 6.26      1\n",
       " 6.28      2\n",
       " 6.30      1\n",
       " 6.31      2\n",
       " 6.32      2\n",
       " 6.33      1\n",
       " 6.34      5\n",
       " 6.36      1\n",
       " 6.37      2\n",
       " 6.38      1\n",
       " 6.39      1\n",
       " 6.40      1\n",
       " 6.42      2\n",
       " 6.43      1\n",
       " 6.44      1\n",
       " 6.46      1\n",
       " 6.48      4\n",
       " 6.49      2\n",
       " 6.50      2\n",
       " 6.51      1\n",
       " 6.52      1\n",
       " 6.54      1\n",
       " 6.56      4\n",
       " 6.57      4\n",
       " 6.58      3\n",
       " 6.59      2\n",
       " 6.60      2\n",
       " 6.61      1\n",
       " 6.62      4\n",
       " 6.63      2\n",
       " 6.64      1\n",
       " 6.66      2\n",
       " 6.68      3\n",
       " 6.69      1\n",
       " 6.74      1\n",
       " 6.75      1\n",
       " 6.76      1\n",
       " 6.77      1\n",
       " 6.78      1\n",
       " 6.79      3\n",
       " 6.80      2\n",
       " 6.81      1\n",
       " 6.82      1\n",
       " 6.85      1\n",
       " 6.87      1\n",
       " 6.89      1\n",
       " 6.90      1\n",
       " 6.91      1\n",
       " 6.92      2\n",
       " 6.93      1\n",
       " 6.94      1\n",
       " 6.98      1\n",
       " 7.00      1\n",
       " 7.01      3\n",
       " 7.02      1\n",
       " 7.07      1\n",
       " 7.08      2\n",
       " 7.09      1\n",
       " 7.11      2\n",
       " 7.12      2\n",
       " 7.14      1\n",
       " 7.15      1\n",
       " 7.17      1\n",
       " 7.19      1\n",
       " 7.20      1\n",
       " 7.23      1\n",
       " 7.25      2\n",
       " 7.26      5\n",
       " 7.28      2\n",
       " 7.29      2\n",
       " 7.31      1\n",
       " 7.32      2\n",
       " 7.33      1\n",
       " 7.36      1\n",
       " 7.37      3\n",
       " 7.38      2\n",
       " 7.40      2\n",
       " 7.41      1\n",
       " 7.44      2\n",
       " 7.46      2\n",
       " 7.47      1\n",
       " 7.50      2\n",
       " 7.51      1\n",
       " 7.55      1\n",
       " 7.59      1\n",
       " 7.62      1\n",
       " 7.63      1\n",
       " 7.64      1\n",
       " 7.66      1\n",
       " 7.68      2\n",
       " 7.69      1\n",
       " 7.70      2\n",
       " 7.76      1\n",
       " 7.80      1\n",
       " 7.82      2\n",
       " 7.85      1\n",
       " 7.88      1\n",
       " 7.89      1\n",
       " 7.92      1\n",
       " 7.96      1\n",
       " 7.98      1\n",
       " 7.99      2\n",
       " 8.01      1\n",
       " 8.02      1\n",
       " 8.04      1\n",
       " 8.05      1\n",
       " 8.06      2\n",
       " 8.10      1\n",
       " 8.12      1\n",
       " 8.14      1\n",
       " 8.17      2\n",
       " 8.18      1\n",
       " 8.20      2\n",
       " 8.21      2\n",
       " 8.22      2\n",
       " 8.24      1\n",
       " 8.32      3\n",
       " 8.33      1\n",
       " 8.39      2\n",
       " 8.40      2\n",
       " 8.41      1\n",
       " 8.44      4\n",
       " 8.47      1\n",
       " 8.48      1\n",
       " 8.53      1\n",
       " 8.70      1\n",
       " 8.72      2\n",
       " 8.73      2\n",
       " 8.74      1\n",
       " 8.80      1\n",
       " 8.82      3\n",
       " 8.88      1\n",
       " 8.89      1\n",
       " 8.93      1\n",
       " 8.96      1\n",
       " 8.98      2\n",
       " 8.99      1\n",
       " 9.02      1\n",
       " 9.04      1\n",
       " 9.06      1\n",
       " 9.07      1\n",
       " 9.10      1\n",
       " 9.11      1\n",
       " 9.15      2\n",
       " 9.16      1\n",
       " 9.21      1\n",
       " 9.22      2\n",
       " 9.26      2\n",
       " 9.30      1\n",
       " 9.31      1\n",
       " 9.32      1\n",
       " 9.33      1\n",
       " 9.34      2\n",
       " 9.39      2\n",
       " 9.42      2\n",
       " 9.43      2\n",
       " 9.45      2\n",
       " 9.46      1\n",
       " 9.50      1\n",
       " 9.51      1\n",
       " 9.53      1\n",
       " 9.54      1\n",
       " 9.55      1\n",
       " 9.56      1\n",
       " 9.58      2\n",
       " 9.59      2\n",
       " 9.60      1\n",
       " 9.61      1\n",
       " 9.62      1\n",
       " 9.63      1\n",
       " 9.66      1\n",
       " 9.68      1\n",
       " 9.69      1\n",
       " 9.75      2\n",
       " 9.76      1\n",
       " 9.79      2\n",
       " 9.81      1\n",
       " 9.82      1\n",
       " 9.83      1\n",
       " 9.85      1\n",
       " 9.88      1\n",
       " 9.90      1\n",
       " 9.93      1\n",
       " 9.95      1\n",
       " 9.99      1\n",
       " 10.00     1\n",
       " 10.01     1\n",
       " 10.06     1\n",
       " 10.10     2\n",
       " 10.11     1\n",
       " 10.14     1\n",
       " 10.16     1\n",
       " 10.17     1\n",
       " 10.19     1\n",
       " 10.20     2\n",
       " 10.22     1\n",
       " 10.23     3\n",
       " 10.25     1\n",
       " 10.26     2\n",
       " 10.27     1\n",
       " 10.31     1\n",
       " 10.35     1\n",
       " 10.38     1\n",
       " 10.44     1\n",
       " 10.47     1\n",
       " 10.49     1\n",
       " 10.50     1\n",
       " 10.51     1\n",
       " 10.61     2\n",
       " 10.66     2\n",
       " 10.67     1\n",
       " 10.68     1\n",
       " 10.70     2\n",
       " 10.74     1\n",
       " 10.76     1\n",
       " 10.77     1\n",
       " 10.85     1\n",
       " 10.95     1\n",
       " 10.99     1\n",
       " 11.00     2\n",
       " 11.04     1\n",
       " 11.07     1\n",
       " 11.08     1\n",
       " 11.11     1\n",
       " 11.19     1\n",
       " 11.23     1\n",
       " 11.34     1\n",
       " 11.36     2\n",
       " 11.49     1\n",
       " 11.57     1\n",
       " 12.27     1\n",
       " 12.86     1\n",
       " 12.96     1\n",
       " 13.30     1\n",
       " 13.32     1\n",
       " 14.02     1\n",
       " 14.82     1\n",
       " 14.96     1\n",
       " 15.05     1\n",
       "Name: fund_alpha_5years, dtype: int64"
      ]
     },
     "execution_count": 633,
     "metadata": {},
     "output_type": "execute_result"
    }
   ],
   "source": [
    "products[\"fund_alpha_5years\"].value_counts().sort_index()"
   ]
  },
  {
   "cell_type": "code",
   "execution_count": null,
   "metadata": {},
   "outputs": [],
   "source": []
  }
 ],
 "metadata": {
  "kernelspec": {
   "display_name": "Python [conda env:ironhack_env]",
   "language": "python",
   "name": "conda-env-ironhack_env-py"
  },
  "language_info": {
   "codemirror_mode": {
    "name": "ipython",
    "version": 3
   },
   "file_extension": ".py",
   "mimetype": "text/x-python",
   "name": "python",
   "nbconvert_exporter": "python",
   "pygments_lexer": "ipython3",
   "version": "3.7.7"
  }
 },
 "nbformat": 4,
 "nbformat_minor": 4
}
