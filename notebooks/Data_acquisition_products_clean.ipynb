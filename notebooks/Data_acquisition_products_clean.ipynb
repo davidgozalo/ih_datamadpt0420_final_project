{
 "cells": [
  {
   "cell_type": "code",
   "execution_count": 1,
   "metadata": {},
   "outputs": [
    {
     "name": "stderr",
     "output_type": "stream",
     "text": [
      "/home/davidgozalo/miniconda3/envs/ironhack_env/lib/python3.7/site-packages/IPython/core/interactiveshell.py:3072: DtypeWarning: Columns (20,22,23,119,121,123) have mixed types.Specify dtype option on import or set low_memory=False.\n",
      "  interactivity=interactivity, compiler=compiler, result=result)\n"
     ]
    }
   ],
   "source": [
    "import pandas as pd\n",
    "import numpy as np\n",
    "products= pd.read_csv('/home/davidgozalo/Ironhack/ih_datamadpt0420_final_project/data/raw/Mutual Funds.csv')"
   ]
  },
  {
   "cell_type": "code",
   "execution_count": 2,
   "metadata": {},
   "outputs": [],
   "source": [
    "# 1. First we wil analyze portfolio type of investment"
   ]
  },
  {
   "cell_type": "code",
   "execution_count": 3,
   "metadata": {},
   "outputs": [],
   "source": [
    "# 1,1 We assing a value to the category cash_index"
   ]
  },
  {
   "cell_type": "code",
   "execution_count": 4,
   "metadata": {},
   "outputs": [],
   "source": [
    "# To avoid tactical cash positioning we have introduced category contitions\n",
    "products.loc[products['portfolio_cash']>=0, \"cash_index\"] = 0 \n",
    "products.loc[(products['portfolio_cash'] > 75)&((products[\"category\"]==\"Short-Term Bond\")|(products[\"category\"]==\"Ultrashort Bond\")), \"cash_index\"] = 1 "
   ]
  },
  {
   "cell_type": "code",
   "execution_count": 6,
   "metadata": {},
   "outputs": [],
   "source": [
    "# 1,2 We assing a value to the category stocks_index"
   ]
  },
  {
   "cell_type": "code",
   "execution_count": 7,
   "metadata": {},
   "outputs": [],
   "source": [
    "products.loc[products['portfolio_stocks'] <= 70, \"stocks_index\"] = 0 \n",
    "products.loc[products['portfolio_stocks'] > 70, \"stocks_index\"] = 1 "
   ]
  },
  {
   "cell_type": "code",
   "execution_count": 8,
   "metadata": {},
   "outputs": [],
   "source": [
    "# 1,3 We assing a value to the category bonds_index"
   ]
  },
  {
   "cell_type": "code",
   "execution_count": 9,
   "metadata": {},
   "outputs": [],
   "source": [
    "products.loc[products['portfolio_bonds'] <= 70, \"bonds_index\"] = 0 \n",
    "products.loc[products['portfolio_bonds'] > 70, \"bonds_index\"] = 1"
   ]
  },
  {
   "cell_type": "code",
   "execution_count": 10,
   "metadata": {},
   "outputs": [],
   "source": [
    "# 1,4 We assing a value to the category others_index"
   ]
  },
  {
   "cell_type": "code",
   "execution_count": 11,
   "metadata": {},
   "outputs": [],
   "source": [
    "products.loc[products['portfolio_others'] <= 50, \"others_index\"] = 0 \n",
    "products.loc[products['portfolio_others'] > 50, \"others_index\"] = 1 "
   ]
  },
  {
   "cell_type": "code",
   "execution_count": 12,
   "metadata": {},
   "outputs": [],
   "source": [
    "# 1,5 We assing a value to the category preferred_index"
   ]
  },
  {
   "cell_type": "code",
   "execution_count": 13,
   "metadata": {},
   "outputs": [],
   "source": [
    "products.loc[products['portfolio_preferred'] <= 50, \"preferred_index\"] = 0 \n",
    "products.loc[products['portfolio_preferred'] > 50, \"preferred_index\"] = 1 "
   ]
  },
  {
   "cell_type": "code",
   "execution_count": 14,
   "metadata": {},
   "outputs": [],
   "source": [
    "# 1,6 We assing a value to the category convertable_index"
   ]
  },
  {
   "cell_type": "code",
   "execution_count": 15,
   "metadata": {},
   "outputs": [],
   "source": [
    "products.loc[products['portfolio_convertable'] <= 50, \"convertable_index\"] = 0 \n",
    "products.loc[products['portfolio_convertable'] > 50, \"convertable_index\"] = 1 "
   ]
  },
  {
   "cell_type": "code",
   "execution_count": 16,
   "metadata": {},
   "outputs": [],
   "source": [
    "# 1.7 We create a type column considering the  diferent indexes"
   ]
  },
  {
   "cell_type": "code",
   "execution_count": 17,
   "metadata": {},
   "outputs": [],
   "source": [
    "# create a list of our conditions\n",
    "conditions = [\n",
    "    (products[\"cash_index\"]==1),\n",
    "    (products[\"stocks_index\"]==1),\n",
    "    (products[\"bonds_index\"]==1),\n",
    "    (products[\"others_index\"]==1),\n",
    "    (products[\"preferred_index\"]==1),\n",
    "    (products[\"convertable_index\"]==1)]\n",
    "\n",
    "# create a list of the values we want to assign for each condition\n",
    "values = [\"cash\", \"stocks\", \"bonds\",\"other\",\"preferred\",\"convertable\"]\n",
    "\n",
    "# create a new column and use np.select to assign values to it using our lists as arguments\n",
    "products[\"portfolio_type\"] = np.select(conditions, values)\n"
   ]
  },
  {
   "cell_type": "code",
   "execution_count": 18,
   "metadata": {},
   "outputs": [],
   "source": [
    "#1.8 We assingn the \"non classified, to \"other\""
   ]
  },
  {
   "cell_type": "code",
   "execution_count": 19,
   "metadata": {},
   "outputs": [],
   "source": [
    "products[\"portfolio_type\"].replace({\"0\": \"other\"}, inplace=True)"
   ]
  },
  {
   "cell_type": "code",
   "execution_count": 20,
   "metadata": {},
   "outputs": [],
   "source": [
    "# 2.  We will analyze portfolio industry"
   ]
  },
  {
   "cell_type": "code",
   "execution_count": 21,
   "metadata": {},
   "outputs": [],
   "source": [
    "# 2.1 We create basic material_index"
   ]
  },
  {
   "cell_type": "code",
   "execution_count": 22,
   "metadata": {},
   "outputs": [],
   "source": [
    "products.loc[products['basic_materials'] <= 50, \"basic_materials_index\"] = 0 \n",
    "products.loc[products['basic_materials'] > 50, \"basic_materials_index\"] = 1 "
   ]
  },
  {
   "cell_type": "code",
   "execution_count": 23,
   "metadata": {},
   "outputs": [],
   "source": [
    "# 2.2 We create consumer cyclical_index"
   ]
  },
  {
   "cell_type": "code",
   "execution_count": 24,
   "metadata": {},
   "outputs": [],
   "source": [
    "products.loc[products['consumer_cyclical'] <= 50, \"consumer_cyclical_index\"] = 0 \n",
    "products.loc[products['consumer_cyclical'] > 50, \"consumer_cyclical_index\"] = 1 "
   ]
  },
  {
   "cell_type": "code",
   "execution_count": 25,
   "metadata": {},
   "outputs": [],
   "source": [
    "# 2.3 We create  financial_services_index"
   ]
  },
  {
   "cell_type": "code",
   "execution_count": 26,
   "metadata": {},
   "outputs": [],
   "source": [
    "products.loc[products['financial_services'] <= 50, \"financial_services_index\"] = 0 \n",
    "products.loc[products['financial_services'] > 50, \"financial_services_index\"] = 1 "
   ]
  },
  {
   "cell_type": "code",
   "execution_count": 27,
   "metadata": {},
   "outputs": [],
   "source": [
    "# 2.4 We create real_state_index"
   ]
  },
  {
   "cell_type": "code",
   "execution_count": 28,
   "metadata": {},
   "outputs": [],
   "source": [
    "products.loc[products['real_estate'] <= 50, \"real_estate_index\"] = 0 \n",
    "products.loc[products['real_estate'] > 50, \"real_estate_index\"] = 1 "
   ]
  },
  {
   "cell_type": "code",
   "execution_count": 29,
   "metadata": {},
   "outputs": [],
   "source": [
    "# 2.5 We create customer defensive_index"
   ]
  },
  {
   "cell_type": "code",
   "execution_count": 30,
   "metadata": {},
   "outputs": [],
   "source": [
    "products.loc[products['consumer_defensive'] <= 50, \"consumer_defensive_index\"] = 0 \n",
    "products.loc[products['consumer_defensive'] > 50, \"consumer_defensive_index\"] = 1 "
   ]
  },
  {
   "cell_type": "code",
   "execution_count": 31,
   "metadata": {},
   "outputs": [],
   "source": [
    "# 2.6 We create healthcare_index"
   ]
  },
  {
   "cell_type": "code",
   "execution_count": 32,
   "metadata": {},
   "outputs": [],
   "source": [
    "products.loc[products['healthcare'] <= 50, \"healthcare_index\"] = 0 \n",
    "products.loc[products['healthcare'] > 50, \"healthcare_index\"] = 1 "
   ]
  },
  {
   "cell_type": "code",
   "execution_count": 33,
   "metadata": {},
   "outputs": [],
   "source": [
    "# 2.7 We create utilities_index"
   ]
  },
  {
   "cell_type": "code",
   "execution_count": 34,
   "metadata": {},
   "outputs": [],
   "source": [
    "products.loc[products['utilities'] <= 50, \"utilities_index\"] = 0 \n",
    "products.loc[products['utilities'] > 50, \"utilities_index\"] = 1 "
   ]
  },
  {
   "cell_type": "code",
   "execution_count": 35,
   "metadata": {},
   "outputs": [],
   "source": [
    "# 2.8 We create communicatin_services_index"
   ]
  },
  {
   "cell_type": "code",
   "execution_count": 36,
   "metadata": {},
   "outputs": [],
   "source": [
    "products.loc[products['communication_services'] <= 50, \"communication_services_index\"] = 0 \n",
    "products.loc[products['communication_services'] > 50, \"communication_services_index\"] = 1 "
   ]
  },
  {
   "cell_type": "code",
   "execution_count": 37,
   "metadata": {},
   "outputs": [],
   "source": [
    "# 2.9 We create energy_index"
   ]
  },
  {
   "cell_type": "code",
   "execution_count": 38,
   "metadata": {},
   "outputs": [],
   "source": [
    "products.loc[products['energy'] <= 50, \"energy_index\"] = 0 \n",
    "products.loc[products['energy'] > 50, \"energy_index\"] = 1 "
   ]
  },
  {
   "cell_type": "code",
   "execution_count": 39,
   "metadata": {},
   "outputs": [],
   "source": [
    "# 2.10 We create industrials_index"
   ]
  },
  {
   "cell_type": "code",
   "execution_count": 40,
   "metadata": {},
   "outputs": [],
   "source": [
    "products.loc[products['industrials'] <= 50, \"industrials_index\"] = 0 \n",
    "products.loc[products['industrials'] > 50, \"industrials_index\"] = 1 "
   ]
  },
  {
   "cell_type": "code",
   "execution_count": 41,
   "metadata": {},
   "outputs": [],
   "source": [
    "# 2.11 We create technology_index"
   ]
  },
  {
   "cell_type": "code",
   "execution_count": 42,
   "metadata": {},
   "outputs": [],
   "source": [
    "products.loc[products['technology'] <= 50, \"technology_index\"] = 0 \n",
    "products.loc[products['technology'] > 50, \"technology_index\"] = 1 "
   ]
  },
  {
   "cell_type": "code",
   "execution_count": 43,
   "metadata": {},
   "outputs": [],
   "source": [
    "# 2.11 We create a variable with the portfolio industry data"
   ]
  },
  {
   "cell_type": "code",
   "execution_count": 44,
   "metadata": {},
   "outputs": [],
   "source": [
    "# create a list of our conditions\n",
    "conditions = [\n",
    "    (products[\"basic_materials_index\"]==1),   \n",
    "    (products[\"consumer_cyclical_index\"]==1),\n",
    "    (products[\"financial_services_index\"]==1),\n",
    "    (products[\"real_estate_index\"]==1),\n",
    "    (products[\"consumer_defensive_index\"]==1),\n",
    "    (products[\"healthcare_index\"]==1),\n",
    "    (products[\"utilities_index\"]==1),\n",
    "    (products[\"communication_services_index\"]==1),\n",
    "    (products[\"energy_index\"]==1),\n",
    "    (products[\"industrials_index\"]==1),\n",
    "    (products[\"technology_index\"]==1)]\n",
    "\n",
    "# create a list of the values we want to assign for each condition\n",
    "values = [\"basic_materials\",\"consumer_cyclical\",\"financial_services\",\"real_estate\",\"consumer_defensive\",\"healthcare\",\"utilities\",\"communication_services\",\"energy\",\"industrials\",\"technology\"]\n",
    "\n",
    "# create a new column and use np.select to assign values to it using our lists as arguments\n",
    "products[\"portfolio_industry\"] = np.select(conditions, values)"
   ]
  },
  {
   "cell_type": "code",
   "execution_count": 45,
   "metadata": {},
   "outputs": [],
   "source": [
    "# 3  We will analyze bond maturity index"
   ]
  },
  {
   "cell_type": "code",
   "execution_count": 46,
   "metadata": {},
   "outputs": [],
   "source": [
    "# create a list of our conditions\n",
    "conditions = [\n",
    "    (products[\"bond_maturity\"]<1),\n",
    "    (products[\"bond_maturity\"]>=1) & (products[\"bond_maturity\"]<3),\n",
    "    (products[\"bond_maturity\"]>=3) & (products[\"bond_maturity\"]<10), \n",
    "    (products[\"bond_maturity\"]>=10)]\n",
    "\n",
    "# create a list of the values we want to assign for each condition\n",
    "values = [\"liquidity\", \"short\", \"medium\", \"long\"]\n",
    "\n",
    "# create a new column and use np.select to assign values to it using our lists as arguments\n",
    "products[\"bond_maturity_index\"] = np.select(conditions, values)"
   ]
  },
  {
   "cell_type": "code",
   "execution_count": 47,
   "metadata": {},
   "outputs": [],
   "source": [
    "# 4  We will analyze bond rating"
   ]
  },
  {
   "cell_type": "code",
   "execution_count": 48,
   "metadata": {},
   "outputs": [],
   "source": [
    "# We create a variable called \"weighted_rating\" that scores low for high rating (aaa=1) and high for low rating(nelow_b=8) that gives a score\n",
    "# weighting all the balances of each rating in every fund "
   ]
  },
  {
   "cell_type": "code",
   "execution_count": 49,
   "metadata": {},
   "outputs": [],
   "source": [
    "products[\"weighted_rating\"]=((products[\"rating_us_government\"]*1)+(products[\"rating_aaa\"]*1)\n",
    "+(products[\"rating_aa\"]*2)+(products[\"rating_a\"]*3) +(products[\"rating_bbb\"]*4)+(products[\"rating_bb\"]*5)\n",
    "+(products[\"rating_b\"]*6)+(products[\"rating_below_b\"]*8)+(products[\"rating_others\"]*8))/((products[\"rating_us_government\"])\n",
    "+(products[\"rating_aaa\"])+(products[\"rating_aa\"])+(products[\"rating_a\"]) \n",
    "+(products[\"rating_bbb\"])+(products[\"rating_bb\"]*5)\n",
    "+(products[\"rating_b\"])+(products[\"rating_below_b\"])+(products[\"rating_others\"]))"
   ]
  },
  {
   "cell_type": "code",
   "execution_count": 50,
   "metadata": {},
   "outputs": [],
   "source": [
    "# Based on that weighted rating we divide the funds in tthree levels of rating\n",
    "# create a list of our conditions\n",
    "conditions = [\n",
    "    (products[\"weighted_rating\"]> 0) & (products[\"weighted_rating\"] < 2.66),\n",
    "    (products[\"weighted_rating\"]>= 2.66) & (products[\"weighted_rating\"] <= 5.32),\n",
    "    (products[\"weighted_rating\"] > 5.32)]\n",
    "\n",
    "# create a list of the values we want to assign for each condition\n",
    "values = [1,2,3]\n",
    "\n",
    "# create a new column and use np.select to assign values to it using our lists as arguments\n",
    "products[\"average_rating_index\"] = np.select(conditions, values)"
   ]
  },
  {
   "cell_type": "code",
   "execution_count": 51,
   "metadata": {},
   "outputs": [],
   "source": [
    "# 5  We will analyze fund performance: beta validated by r-squared"
   ]
  },
  {
   "cell_type": "code",
   "execution_count": 52,
   "metadata": {},
   "outputs": [],
   "source": [
    "# 5.1 Analysing beta"
   ]
  },
  {
   "cell_type": "code",
   "execution_count": 53,
   "metadata": {},
   "outputs": [],
   "source": [
    "products.loc[products['fund_beta_10years'] < 0, 'beta_10_index'] = 0 \n",
    "products.loc[(products['fund_beta_10years'] > 0) & (products['fund_beta_10years'] <= 0.97), 'beta_10_index'] = 1 \n",
    "products.loc[(products['fund_beta_10years'] > 0.98) & (products['fund_beta_10years'] < 1.02), 'beta_10_index'] = 0 \n",
    "products.loc[products['fund_beta_10years'] >=1.02 , 'beta_10_index'] = 2 "
   ]
  },
  {
   "cell_type": "code",
   "execution_count": 54,
   "metadata": {},
   "outputs": [],
   "source": [
    "# 5.2 Analysing r-squared"
   ]
  },
  {
   "cell_type": "code",
   "execution_count": 55,
   "metadata": {},
   "outputs": [],
   "source": [
    "products.loc[products['fund_r_squared_10years'] < 0.85, 'r_squared_10_index'] = 0 \n",
    "products.loc[products['fund_r_squared_10years'] >= 0.85, 'r_squared_10_index'] = 1 "
   ]
  },
  {
   "cell_type": "code",
   "execution_count": 56,
   "metadata": {},
   "outputs": [],
   "source": [
    "# 5.3 Defining fund risk by integrating  r-squared and beta"
   ]
  },
  {
   "cell_type": "code",
   "execution_count": 57,
   "metadata": {},
   "outputs": [],
   "source": [
    "products.loc[(products['fund_beta_10years'] < 0) | (products['fund_r_squared_10years'] < 0.85), 'beta_10_risk_index'] = 0 \n",
    "products.loc[(products['fund_beta_10years'] > 0) & (products['fund_beta_10years'] <= 0.97)&(products['fund_r_squared_10years'] >= 0.85), 'beta_10_risk_index'] = 1 \n",
    "products.loc[(products['fund_beta_10years'] > 0.98) & (products['fund_beta_10years'] < 1.02)&(products['fund_r_squared_10years'] >= 0.85), 'beta_10_risk_index'] = 0 \n",
    "products.loc[(products['fund_beta_10years'] >=1.02)&(products['fund_beta_10years'] < 1.5)&(products['fund_r_squared_10years'] >= 0.85) , 'beta_10_risk_index'] = 2\n",
    "products.loc[(products['fund_beta_10years'] >=1.5)&(products['fund_r_squared_10years'] >= 0.85) , 'beta_10_risk_index'] = 3 "
   ]
  },
  {
   "cell_type": "code",
   "execution_count": 58,
   "metadata": {},
   "outputs": [],
   "source": [
    "# 6. Now Let us see how many funds can we  fully clasify"
   ]
  },
  {
   "cell_type": "code",
   "execution_count": 59,
   "metadata": {},
   "outputs": [],
   "source": [
    "# 6.1 These are the variables that we are going to consider\n",
    "var_clas=[\"portfolio_type\",\"portfolio_industry\",\"bond_maturity_index\",\"average_rating\",\"average_rating_index\",'beta_10_risk_index']"
   ]
  },
  {
   "cell_type": "code",
   "execution_count": 60,
   "metadata": {},
   "outputs": [],
   "source": [
    "# 6.2 These are the conditions to exclude funds by lack of information"
   ]
  },
  {
   "cell_type": "code",
   "execution_count": 61,
   "metadata": {},
   "outputs": [],
   "source": [
    "Exclussion1=(products[\"portfolio_type\"]==\"other\")"
   ]
  },
  {
   "cell_type": "code",
   "execution_count": 62,
   "metadata": {},
   "outputs": [],
   "source": [
    "Exclussion2a=(products[\"portfolio_type\"]=='stocks') & (products[\"portfolio_industry\"]==0)"
   ]
  },
  {
   "cell_type": "code",
   "execution_count": 63,
   "metadata": {},
   "outputs": [],
   "source": [
    "Exclussion2b=(products[\"portfolio_type\"]=='convertable') & (products[\"portfolio_industry\"]==0)"
   ]
  },
  {
   "cell_type": "code",
   "execution_count": 64,
   "metadata": {},
   "outputs": [],
   "source": [
    "Exclussion2c=(products[\"portfolio_type\"]=='preferred') & (products[\"portfolio_industry\"]==0)"
   ]
  },
  {
   "cell_type": "code",
   "execution_count": 65,
   "metadata": {},
   "outputs": [],
   "source": [
    "Exclussion3=(products[\"portfolio_type\"]=='bonds') & (products[\"bond_maturity_index\"]==0)"
   ]
  },
  {
   "cell_type": "code",
   "execution_count": 66,
   "metadata": {},
   "outputs": [],
   "source": [
    "Exclussion4=(products[\"portfolio_type\"]=='bonds') & (products[\"average_rating_index\"]==0)"
   ]
  },
  {
   "cell_type": "code",
   "execution_count": 67,
   "metadata": {},
   "outputs": [],
   "source": [
    "Exclussion5=(products[\"beta_10_risk_index\"]==0)"
   ]
  },
  {
   "cell_type": "code",
   "execution_count": 68,
   "metadata": {},
   "outputs": [],
   "source": [
    "Exclussions=Exclussion1 | Exclussion2a | Exclussion2b | Exclussion2c | Exclussion3 | Exclussion4 | Exclussion5"
   ]
  },
  {
   "cell_type": "code",
   "execution_count": 69,
   "metadata": {},
   "outputs": [],
   "source": [
    "# 6-3 We count the rows that we will eliminate by creating the \"exclussion\" column"
   ]
  },
  {
   "cell_type": "code",
   "execution_count": 70,
   "metadata": {},
   "outputs": [],
   "source": [
    "products['exclussion']= 0\n",
    "products.loc[Exclussions, 'exclussion']= 1"
   ]
  },
  {
   "cell_type": "code",
   "execution_count": 71,
   "metadata": {},
   "outputs": [],
   "source": [
    "# 6.4 We will check and select the \"fine\" datamart"
   ]
  },
  {
   "cell_type": "code",
   "execution_count": 72,
   "metadata": {},
   "outputs": [],
   "source": [
    "products_clean=products[products[\"exclussion\"]==0]"
   ]
  },
  {
   "cell_type": "code",
   "execution_count": 73,
   "metadata": {},
   "outputs": [],
   "source": [
    "# 7 We will identify the fund Class by the name"
   ]
  },
  {
   "cell_type": "code",
   "execution_count": 74,
   "metadata": {},
   "outputs": [],
   "source": [
    "products[['fname','fclass']] = products.fund_extended_name.str.split(\"Fund \", n=1, expand=True)"
   ]
  },
  {
   "cell_type": "code",
   "execution_count": 75,
   "metadata": {},
   "outputs": [],
   "source": [
    "#Identify institutional funds and exclude them"
   ]
  },
  {
   "cell_type": "code",
   "execution_count": null,
   "metadata": {},
   "outputs": [],
   "source": []
  },
  {
   "cell_type": "code",
   "execution_count": 76,
   "metadata": {},
   "outputs": [],
   "source": [
    "# try a function regex  (search)  and apply to identify all the institutional cases\n",
    "# select the \"A\" classes for the low investments and leave all the others for the rest"
   ]
  },
  {
   "cell_type": "code",
   "execution_count": 77,
   "metadata": {},
   "outputs": [],
   "source": [
    "# 8 We will identify the \"optimization\" variables\n",
    "var_opt=[\"fund_alpha_5years\",\"fund_sharpe_ratio_5years\",\"net_annual_expense_ratio_fund\" ]"
   ]
  },
  {
   "cell_type": "code",
   "execution_count": 78,
   "metadata": {},
   "outputs": [],
   "source": [
    "# 9. We will create labels to choose proportions of funds at fund level"
   ]
  },
  {
   "cell_type": "code",
   "execution_count": 79,
   "metadata": {},
   "outputs": [],
   "source": [
    "\n",
    "    values=[\n",
    "    \"bonds-liquidity-rating1\",\n",
    "    \"bonds-liquidity-rating2\",\n",
    "    \"bonds-liquidity-rating3\",\n",
    "    \"bonds-short-rating1\",\n",
    "    \"bonds-short-rating2\",\n",
    "    \"bonds-short-rating3\",\n",
    "    \"bonds-medium-rating1\",\n",
    "    \"bonds-medium-rating2\",\n",
    "    \"bonds-medium-rating3\",\n",
    "    \"bonds-long-rating1\",\n",
    "    \"bonds-long-rating2\",\n",
    "    \"bonds-long-rating3\",\n",
    "    \"stocks-beta1\",\n",
    "    \"stocks-beta2\",\n",
    "    \"stocks-beta3\" , \n",
    "    \"cash\",\n",
    "    \"convertable\",\n",
    "    \"preferred\"]\n"
   ]
  },
  {
   "cell_type": "code",
   "execution_count": 80,
   "metadata": {},
   "outputs": [],
   "source": [
    "# create a list of our conditions\n",
    "conditions = [\n",
    "    (products[\"portfolio_type\"]== \"bonds\") & (products[\"bond_maturity_index\"] == \"liquidity\") & (products[\"average_rating_index\"]==1),\n",
    "    (products[\"portfolio_type\"]== \"bonds\") & (products[\"bond_maturity_index\"] == \"liquidity\") & (products[\"average_rating_index\"]==2),\n",
    "    (products[\"portfolio_type\"]== \"bonds\") & (products[\"bond_maturity_index\"] == \"liquidity\") & (products[\"average_rating_index\"]==3),\n",
    "    (products[\"portfolio_type\"]== \"bonds\") & (products[\"bond_maturity_index\"] == \"short\") & (products[\"average_rating_index\"]==1),\n",
    "    (products[\"portfolio_type\"]== \"bonds\") & (products[\"bond_maturity_index\"] == \"short\") & (products[\"average_rating_index\"]==2),\n",
    "    (products[\"portfolio_type\"]== \"bonds\") & (products[\"bond_maturity_index\"] == \"short\") & (products[\"average_rating_index\"]==3),\n",
    "    (products[\"portfolio_type\"]== \"bonds\") & (products[\"bond_maturity_index\"] == \"medium\") & (products[\"average_rating_index\"]==1),\n",
    "    (products[\"portfolio_type\"]== \"bonds\") & (products[\"bond_maturity_index\"] == \"medium\") & (products[\"average_rating_index\"]==2),\n",
    "    (products[\"portfolio_type\"]== \"bonds\") & (products[\"bond_maturity_index\"] == \"medium\") & (products[\"average_rating_index\"]==3),\n",
    "    (products[\"portfolio_type\"]== \"bonds\") & (products[\"bond_maturity_index\"] == \"long\") & (products[\"average_rating_index\"]==1),\n",
    "    (products[\"portfolio_type\"]== \"bonds\") & (products[\"bond_maturity_index\"] == \"long\") & (products[\"average_rating_index\"]==2),\n",
    "    (products[\"portfolio_type\"]== \"bonds\") & (products[\"bond_maturity_index\"] == \"long\") & (products[\"average_rating_index\"]==3),\n",
    "    (products[\"portfolio_type\"]== \"stocks\") & (products['beta_10_risk_index'] == 1) ,\n",
    "    (products[\"portfolio_type\"]== \"stocks\") & (products['beta_10_risk_index'] == 2) ,\n",
    "    (products[\"portfolio_type\"]== \"stocks\") & (products['beta_10_risk_index'] == 3) ,\n",
    "    (products[\"portfolio_type\"]== \"cash\") ,\n",
    "    (products[\"portfolio_type\"]== \"convertable\")  ,\n",
    "    (products[\"portfolio_type\"]== \"preferred\") ]\n",
    "\n",
    "# create a list of the values we want to assign for each condition\n",
    "values=[\n",
    "    \"bonds-liquidity-rating1\",\n",
    "    \"bonds-liquidity-rating2\",\n",
    "    \"bonds-liquidity-rating3\",\n",
    "    \"bonds-short-rating1\",\n",
    "    \"bonds-short-rating2\",\n",
    "    \"bonds-short-rating3\",\n",
    "    \"bonds-medium-rating1\",\n",
    "    \"bonds-medium-rating2\",\n",
    "    \"bonds-medium-rating3\",\n",
    "    \"bonds-long-rating1\",\n",
    "    \"bonds-long-rating2\",\n",
    "    \"bonds-long-rating3\",\n",
    "    \"stocks-beta1\",\n",
    "    \"stocks-beta2\",\n",
    "    \"stocks-beta3\" , \n",
    "    \"cash\",\n",
    "    \"convertable\",\n",
    "    \"preferred\"]\n",
    "\n",
    "# create a new column and use np.select to assign values to it using our lists as arguments\n",
    "products[\"portfolio_attribute\"] = np.select(conditions, values)"
   ]
  },
  {
   "cell_type": "code",
   "execution_count": 81,
   "metadata": {},
   "outputs": [],
   "source": [
    "products_labeled=products"
   ]
  },
  {
   "cell_type": "code",
   "execution_count": 82,
   "metadata": {},
   "outputs": [],
   "source": [
    "products_labeled.to_csv(\"/home/davidgozalo/Ironhack/ih_datamadpt0420_final_project/data/processed/products_labeled.csv\")"
   ]
  },
  {
   "cell_type": "code",
   "execution_count": null,
   "metadata": {},
   "outputs": [],
   "source": []
  },
  {
   "cell_type": "code",
   "execution_count": null,
   "metadata": {},
   "outputs": [],
   "source": []
  },
  {
   "cell_type": "code",
   "execution_count": null,
   "metadata": {},
   "outputs": [],
   "source": []
  }
 ],
 "metadata": {
  "kernelspec": {
   "display_name": "Python [conda env:ironhack_env]",
   "language": "python",
   "name": "conda-env-ironhack_env-py"
  },
  "language_info": {
   "codemirror_mode": {
    "name": "ipython",
    "version": 3
   },
   "file_extension": ".py",
   "mimetype": "text/x-python",
   "name": "python",
   "nbconvert_exporter": "python",
   "pygments_lexer": "ipython3",
   "version": "3.7.7"
  }
 },
 "nbformat": 4,
 "nbformat_minor": 4
}
