{
 "cells": [
  {
   "cell_type": "code",
   "execution_count": 37,
   "metadata": {},
   "outputs": [
    {
     "data": {
      "text/plain": [
       "1"
      ]
     },
     "execution_count": 37,
     "metadata": {},
     "output_type": "execute_result"
    }
   ],
   "source": [
    "portfolio111={\n",
    "    \"bonds-liquidity-rating1\":0,\n",
    "    \"bonds-liquidity-rating2\":0,\n",
    "    \"bonds-liquidity-rating3\":0,\n",
    "    \"bonds-short-rating1\":0,\n",
    "    \"bonds-short-rating2\":0,\n",
    "    \"bonds-short-rating3\":0,\n",
    "    \"bonds-medium-rating1\":0,\n",
    "    \"bonds-medium-rating2\":0,\n",
    "    \"bonds-medium-rating3\":0,\n",
    "    \"bonds-long-rating1\":0,\n",
    "    \"bonds-long-rating2\":0,\n",
    "    \"bonds-long-rating3\":0, \n",
    "    \"stocks-beta1\":0,\n",
    "    \"stocks-beta2\":0,\n",
    "    \"stocks-beta3\":0,  \n",
    "    \"cash\":1,\n",
    "    \"convertable\":0,\n",
    "    \"preferred\":0,\n",
    "                  }\n",
    "sum(list(portfolio111.values()))"
   ]
  },
  {
   "cell_type": "code",
   "execution_count": 38,
   "metadata": {},
   "outputs": [
    {
     "data": {
      "text/plain": [
       "1"
      ]
     },
     "execution_count": 38,
     "metadata": {},
     "output_type": "execute_result"
    }
   ],
   "source": [
    "portfolio112={\n",
    "    \"bonds-liquidity-rating1\":0,\n",
    "    \"bonds-liquidity-rating2\":0,\n",
    "    \"bonds-liquidity-rating3\":0,\n",
    "    \"bonds-short-rating1\":0,\n",
    "    \"bonds-short-rating2\":0,\n",
    "    \"bonds-short-rating3\":0,\n",
    "    \"bonds-medium-rating1\":0,\n",
    "    \"bonds-medium-rating2\":0,\n",
    "    \"bonds-medium-rating3\":0,\n",
    "    \"bonds-long-rating1\":0,\n",
    "    \"bonds-long-rating2\":0,\n",
    "    \"bonds-long-rating3\":0, \n",
    "    \"stocks-beta1\":0,\n",
    "    \"stocks-beta2\":0,\n",
    "    \"stocks-beta3\":0,  \n",
    "    \"cash\":1,\n",
    "    \"convertable\":0,\n",
    "    \"preferred\":0,\n",
    "                  }\n",
    "sum(list(portfolio112.values()))"
   ]
  },
  {
   "cell_type": "code",
   "execution_count": 39,
   "metadata": {},
   "outputs": [
    {
     "data": {
      "text/plain": [
       "1"
      ]
     },
     "execution_count": 39,
     "metadata": {},
     "output_type": "execute_result"
    }
   ],
   "source": [
    "portfolio113={\n",
    "    \"bonds-liquidity-rating1\":0,\n",
    "    \"bonds-liquidity-rating2\":0,\n",
    "    \"bonds-liquidity-rating3\":0,\n",
    "    \"bonds-short-rating1\":0,\n",
    "    \"bonds-short-rating2\":0,\n",
    "    \"bonds-short-rating3\":0,\n",
    "    \"bonds-medium-rating1\":0,\n",
    "    \"bonds-medium-rating2\":0,\n",
    "    \"bonds-medium-rating3\":0,\n",
    "    \"bonds-long-rating1\":0,\n",
    "    \"bonds-long-rating2\":0,\n",
    "    \"bonds-long-rating3\":0, \n",
    "    \"stocks-beta1\":0,\n",
    "    \"stocks-beta2\":0,\n",
    "    \"stocks-beta3\":0,  \n",
    "    \"cash\":1,\n",
    "    \"convertable\":0,\n",
    "    \"preferred\":0,\n",
    "                  }\n",
    "sum(list(portfolio111.values()))"
   ]
  },
  {
   "cell_type": "code",
   "execution_count": 40,
   "metadata": {},
   "outputs": [
    {
     "data": {
      "text/plain": [
       "1.0"
      ]
     },
     "execution_count": 40,
     "metadata": {},
     "output_type": "execute_result"
    }
   ],
   "source": [
    "portfolio211={\n",
    "    \"bonds-liquidity-rating1\":0.1,\n",
    "    \"bonds-liquidity-rating2\":0,\n",
    "    \"bonds-liquidity-rating3\":0,\n",
    "    \"bonds-short-rating1\":0,\n",
    "    \"bonds-short-rating2\":0,\n",
    "    \"bonds-short-rating3\":0,\n",
    "    \"bonds-medium-rating1\":0,\n",
    "    \"bonds-medium-rating2\":0,\n",
    "    \"bonds-medium-rating3\":0,\n",
    "    \"bonds-long-rating1\":0,\n",
    "    \"bonds-long-rating2\":0,\n",
    "    \"bonds-long-rating3\":0, \n",
    "    \"stocks-beta1\":0,\n",
    "    \"stocks-beta2\":0,\n",
    "    \"stocks-beta3\":0,  \n",
    "    \"cash\":0.9,\n",
    "    \"convertable\":0,\n",
    "    \"preferred\":0,\n",
    "                  }\n",
    "sum(list(portfolio211.values()))"
   ]
  },
  {
   "cell_type": "code",
   "execution_count": 42,
   "metadata": {},
   "outputs": [
    {
     "data": {
      "text/plain": [
       "1.0"
      ]
     },
     "execution_count": 42,
     "metadata": {},
     "output_type": "execute_result"
    }
   ],
   "source": [
    "portfolio212={\n",
    "    \"bonds-liquidity-rating1\":0.2,\n",
    "    \"bonds-liquidity-rating2\":0,\n",
    "    \"bonds-liquidity-rating3\":0,\n",
    "    \"bonds-short-rating1\":0,\n",
    "    \"bonds-short-rating2\":0,\n",
    "    \"bonds-short-rating3\":0,\n",
    "    \"bonds-medium-rating1\":0,\n",
    "    \"bonds-medium-rating2\":0,\n",
    "    \"bonds-medium-rating3\":0,\n",
    "    \"bonds-long-rating1\":0,\n",
    "    \"bonds-long-rating2\":0,\n",
    "    \"bonds-long-rating3\":0, \n",
    "    \"stocks-beta1\":0,\n",
    "    \"stocks-beta2\":0,\n",
    "    \"stocks-beta3\":0,  \n",
    "    \"cash\":0.8,\n",
    "    \"convertable\":0,\n",
    "    \"preferred\":0,\n",
    "                  }\n",
    "sum(list(portfolio212.values()))"
   ]
  },
  {
   "cell_type": "code",
   "execution_count": 43,
   "metadata": {},
   "outputs": [
    {
     "data": {
      "text/plain": [
       "1"
      ]
     },
     "execution_count": 43,
     "metadata": {},
     "output_type": "execute_result"
    }
   ],
   "source": [
    "portfolio213={\n",
    "    \"bonds-liquidity-rating1\":0.3,\n",
    "    \"bonds-liquidity-rating2\":0,\n",
    "    \"bonds-liquidity-rating3\":0,\n",
    "    \"bonds-short-rating1\":0,\n",
    "    \"bonds-short-rating2\":0,\n",
    "    \"bonds-short-rating3\":0,\n",
    "    \"bonds-medium-rating1\":0,\n",
    "    \"bonds-medium-rating2\":0,\n",
    "    \"bonds-medium-rating3\":0,\n",
    "    \"bonds-long-rating1\":0,\n",
    "    \"bonds-long-rating2\":0,\n",
    "    \"bonds-long-rating3\":0, \n",
    "    \"stocks-beta1\":0,\n",
    "    \"stocks-beta2\":0,\n",
    "    \"stocks-beta3\":0,  \n",
    "    \"cash\":0.7,\n",
    "    \"convertable\":0,\n",
    "    \"preferred\":0,\n",
    "                  }\n",
    "sum(list(portfolio111.values()))"
   ]
  },
  {
   "cell_type": "code",
   "execution_count": 44,
   "metadata": {},
   "outputs": [
    {
     "data": {
      "text/plain": [
       "1.0"
      ]
     },
     "execution_count": 44,
     "metadata": {},
     "output_type": "execute_result"
    }
   ],
   "source": [
    "portfolio311={\n",
    "    \"bonds-liquidity-rating1\":0,\n",
    "    \"bonds-liquidity-rating2\":0.7,\n",
    "    \"bonds-liquidity-rating3\":0,\n",
    "    \"bonds-short-rating1\":0,\n",
    "    \"bonds-short-rating2\":0,\n",
    "    \"bonds-short-rating3\":0,\n",
    "    \"bonds-medium-rating1\":0,\n",
    "    \"bonds-medium-rating2\":0,\n",
    "    \"bonds-medium-rating3\":0,\n",
    "    \"bonds-long-rating1\":0,\n",
    "    \"bonds-long-rating2\":0,\n",
    "    \"bonds-long-rating3\":0, \n",
    "    \"stocks-beta1\":0,\n",
    "    \"stocks-beta2\":0,\n",
    "    \"stocks-beta3\":0,  \n",
    "    \"cash\":0.3,\n",
    "    \"convertable\":0,\n",
    "    \"preferred\":0,\n",
    "                  }\n",
    "sum(list(portfolio311.values()))"
   ]
  },
  {
   "cell_type": "code",
   "execution_count": 45,
   "metadata": {},
   "outputs": [
    {
     "data": {
      "text/plain": [
       "1.0"
      ]
     },
     "execution_count": 45,
     "metadata": {},
     "output_type": "execute_result"
    }
   ],
   "source": [
    "portfolio312={\n",
    "    \"bonds-liquidity-rating1\":0,\n",
    "    \"bonds-liquidity-rating2\":0.8,\n",
    "    \"bonds-liquidity-rating3\":0,\n",
    "    \"bonds-short-rating1\":0,\n",
    "    \"bonds-short-rating2\":0,\n",
    "    \"bonds-short-rating3\":0,\n",
    "    \"bonds-medium-rating1\":0,\n",
    "    \"bonds-medium-rating2\":0,\n",
    "    \"bonds-medium-rating3\":0,\n",
    "    \"bonds-long-rating1\":0,\n",
    "    \"bonds-long-rating2\":0,\n",
    "    \"bonds-long-rating3\":0, \n",
    "    \"stocks-beta1\":0,\n",
    "    \"stocks-beta2\":0,\n",
    "    \"stocks-beta3\":0,  \n",
    "    \"cash\":0.2,\n",
    "    \"convertable\":0,\n",
    "    \"preferred\":0,\n",
    "                  }\n",
    "sum(list(portfolio312.values()))"
   ]
  },
  {
   "cell_type": "code",
   "execution_count": 46,
   "metadata": {},
   "outputs": [
    {
     "data": {
      "text/plain": [
       "1.0"
      ]
     },
     "execution_count": 46,
     "metadata": {},
     "output_type": "execute_result"
    }
   ],
   "source": [
    "portfolio313={\n",
    "    \"bonds-liquidity-rating1\":0,\n",
    "    \"bonds-liquidity-rating2\":0.9,\n",
    "    \"bonds-liquidity-rating3\":0,\n",
    "    \"bonds-short-rating1\":0,\n",
    "    \"bonds-short-rating2\":0,\n",
    "    \"bonds-short-rating3\":0,\n",
    "    \"bonds-medium-rating1\":0,\n",
    "    \"bonds-medium-rating2\":0,\n",
    "    \"bonds-medium-rating3\":0,\n",
    "    \"bonds-long-rating1\":0,\n",
    "    \"bonds-long-rating2\":0,\n",
    "    \"bonds-long-rating3\":0, \n",
    "    \"stocks-beta1\":0,\n",
    "    \"stocks-beta2\":0,\n",
    "    \"stocks-beta3\":0,  \n",
    "    \"cash\":0.1,\n",
    "    \"convertable\":0,\n",
    "    \"preferred\":0,\n",
    "                  }\n",
    "sum(list(portfolio313.values()))"
   ]
  },
  {
   "cell_type": "code",
   "execution_count": 48,
   "metadata": {},
   "outputs": [
    {
     "data": {
      "text/plain": [
       "1.0"
      ]
     },
     "execution_count": 48,
     "metadata": {},
     "output_type": "execute_result"
    }
   ],
   "source": [
    "portfolio121={\n",
    "    \"bonds-liquidity-rating1\":0,\n",
    "    \"bonds-liquidity-rating2\":0,\n",
    "    \"bonds-liquidity-rating3\":0,\n",
    "    \"bonds-short-rating1\":0.1,\n",
    "    \"bonds-short-rating2\":0,\n",
    "    \"bonds-short-rating3\":0,\n",
    "    \"bonds-medium-rating1\":0,\n",
    "    \"bonds-medium-rating2\":0,\n",
    "    \"bonds-medium-rating3\":0,\n",
    "    \"bonds-long-rating1\":0,\n",
    "    \"bonds-long-rating2\":0,\n",
    "    \"bonds-long-rating3\":0, \n",
    "    \"stocks-beta1\":0,\n",
    "    \"stocks-beta2\":0,\n",
    "    \"stocks-beta3\":0,  \n",
    "    \"cash\":0.9,\n",
    "    \"convertable\":0,\n",
    "    \"preferred\":0,\n",
    "                  }\n",
    "sum(list(portfolio121.values()))"
   ]
  },
  {
   "cell_type": "code",
   "execution_count": 49,
   "metadata": {},
   "outputs": [
    {
     "data": {
      "text/plain": [
       "1.0"
      ]
     },
     "execution_count": 49,
     "metadata": {},
     "output_type": "execute_result"
    }
   ],
   "source": [
    "portfolio122={\n",
    "    \"bonds-liquidity-rating1\":0,\n",
    "    \"bonds-liquidity-rating2\":0,\n",
    "    \"bonds-liquidity-rating3\":0,\n",
    "    \"bonds-short-rating1\":0.2,\n",
    "    \"bonds-short-rating2\":0,\n",
    "    \"bonds-short-rating3\":0,\n",
    "    \"bonds-medium-rating1\":0,\n",
    "    \"bonds-medium-rating2\":0,\n",
    "    \"bonds-medium-rating3\":0,\n",
    "    \"bonds-long-rating1\":0,\n",
    "    \"bonds-long-rating2\":0,\n",
    "    \"bonds-long-rating3\":0, \n",
    "    \"stocks-beta1\":0,\n",
    "    \"stocks-beta2\":0,\n",
    "    \"stocks-beta3\":0,  \n",
    "    \"cash\":0.8,\n",
    "    \"convertable\":0,\n",
    "    \"preferred\":0,\n",
    "                  }\n",
    "sum(list(portfolio122.values()))"
   ]
  },
  {
   "cell_type": "code",
   "execution_count": 50,
   "metadata": {},
   "outputs": [
    {
     "data": {
      "text/plain": [
       "1.0"
      ]
     },
     "execution_count": 50,
     "metadata": {},
     "output_type": "execute_result"
    }
   ],
   "source": [
    "portfolio123={\n",
    "    \"bonds-liquidity-rating1\":0,\n",
    "    \"bonds-liquidity-rating2\":0,\n",
    "    \"bonds-liquidity-rating3\":0,\n",
    "    \"bonds-short-rating1\":0.3,\n",
    "    \"bonds-short-rating2\":0,\n",
    "    \"bonds-short-rating3\":0,\n",
    "    \"bonds-medium-rating1\":0,\n",
    "    \"bonds-medium-rating2\":0,\n",
    "    \"bonds-medium-rating3\":0,\n",
    "    \"bonds-long-rating1\":0,\n",
    "    \"bonds-long-rating2\":0,\n",
    "    \"bonds-long-rating3\":0, \n",
    "    \"stocks-beta1\":0,\n",
    "    \"stocks-beta2\":0,\n",
    "    \"stocks-beta3\":0,  \n",
    "    \"cash\":0.7,\n",
    "    \"convertable\":0,\n",
    "    \"preferred\":0,\n",
    "                  }\n",
    "sum(list(portfolio123.values()))"
   ]
  },
  {
   "cell_type": "code",
   "execution_count": 51,
   "metadata": {},
   "outputs": [
    {
     "data": {
      "text/plain": [
       "1.0"
      ]
     },
     "execution_count": 51,
     "metadata": {},
     "output_type": "execute_result"
    }
   ],
   "source": [
    "portfolio221={\n",
    "    \"bonds-liquidity-rating1\":0,\n",
    "    \"bonds-liquidity-rating2\":0,\n",
    "    \"bonds-liquidity-rating3\":0,\n",
    "    \"bonds-short-rating1\":0,\n",
    "    \"bonds-short-rating2\":0.7,\n",
    "    \"bonds-short-rating3\":0,\n",
    "    \"bonds-medium-rating1\":0,\n",
    "    \"bonds-medium-rating2\":0,\n",
    "    \"bonds-medium-rating3\":0,\n",
    "    \"bonds-long-rating1\":0,\n",
    "    \"bonds-long-rating2\":0,\n",
    "    \"bonds-long-rating3\":0, \n",
    "    \"stocks-beta1\":0,\n",
    "    \"stocks-beta2\":0,\n",
    "    \"stocks-beta3\":0,  \n",
    "    \"cash\":0.3,\n",
    "    \"convertable\":0,\n",
    "    \"preferred\":0,\n",
    "                  }\n",
    "sum(list(portfolio221.values()))"
   ]
  },
  {
   "cell_type": "code",
   "execution_count": 52,
   "metadata": {},
   "outputs": [
    {
     "data": {
      "text/plain": [
       "1.0"
      ]
     },
     "execution_count": 52,
     "metadata": {},
     "output_type": "execute_result"
    }
   ],
   "source": [
    "portfolio222={\n",
    "    \"bonds-liquidity-rating1\":0,\n",
    "    \"bonds-liquidity-rating2\":0,\n",
    "    \"bonds-liquidity-rating3\":0,\n",
    "    \"bonds-short-rating1\":0,\n",
    "    \"bonds-short-rating2\":0.8,\n",
    "    \"bonds-short-rating3\":0,\n",
    "    \"bonds-medium-rating1\":0,\n",
    "    \"bonds-medium-rating2\":0,\n",
    "    \"bonds-medium-rating3\":0,\n",
    "    \"bonds-long-rating1\":0,\n",
    "    \"bonds-long-rating2\":0,\n",
    "    \"bonds-long-rating3\":0, \n",
    "    \"stocks-beta1\":0,\n",
    "    \"stocks-beta2\":0,\n",
    "    \"stocks-beta3\":0,  \n",
    "    \"cash\":0.2,\n",
    "    \"convertable\":0,\n",
    "    \"preferred\":0,\n",
    "                  }\n",
    "sum(list(portfolio222.values()))"
   ]
  },
  {
   "cell_type": "code",
   "execution_count": 53,
   "metadata": {},
   "outputs": [
    {
     "data": {
      "text/plain": [
       "1.0"
      ]
     },
     "execution_count": 53,
     "metadata": {},
     "output_type": "execute_result"
    }
   ],
   "source": [
    "portfolio223={\n",
    "    \"bonds-liquidity-rating1\":0,\n",
    "    \"bonds-liquidity-rating2\":0,\n",
    "    \"bonds-liquidity-rating3\":0,\n",
    "    \"bonds-short-rating1\":0,\n",
    "    \"bonds-short-rating2\":0.9,\n",
    "    \"bonds-short-rating3\":0,\n",
    "    \"bonds-medium-rating1\":0,\n",
    "    \"bonds-medium-rating2\":0,\n",
    "    \"bonds-medium-rating3\":0,\n",
    "    \"bonds-long-rating1\":0,\n",
    "    \"bonds-long-rating2\":0,\n",
    "    \"bonds-long-rating3\":0, \n",
    "    \"stocks-beta1\":0,\n",
    "    \"stocks-beta2\":0,\n",
    "    \"stocks-beta3\":0,  \n",
    "    \"cash\":0.1,\n",
    "    \"convertable\":0,\n",
    "    \"preferred\":0,\n",
    "                  }\n",
    "sum(list(portfolio223.values()))"
   ]
  },
  {
   "cell_type": "code",
   "execution_count": 54,
   "metadata": {},
   "outputs": [
    {
     "data": {
      "text/plain": [
       "1"
      ]
     },
     "execution_count": 54,
     "metadata": {},
     "output_type": "execute_result"
    }
   ],
   "source": [
    "portfolio321={\n",
    "    \"bonds-liquidity-rating1\":0,\n",
    "    \"bonds-liquidity-rating2\":0,\n",
    "    \"bonds-liquidity-rating3\":0,\n",
    "    \"bonds-short-rating1\":0,\n",
    "    \"bonds-short-rating2\":0,\n",
    "    \"bonds-short-rating3\":0,\n",
    "    \"bonds-medium-rating1\":0,\n",
    "    \"bonds-medium-rating2\":1,\n",
    "    \"bonds-medium-rating3\":0,\n",
    "    \"bonds-long-rating1\":0,\n",
    "    \"bonds-long-rating2\":0,\n",
    "    \"bonds-long-rating3\":0, \n",
    "    \"stocks-beta1\":0,\n",
    "    \"stocks-beta2\":0,\n",
    "    \"stocks-beta3\":0,  \n",
    "    \"cash\":0,\n",
    "    \"convertable\":0,\n",
    "    \"preferred\":0,\n",
    "                  }\n",
    "sum(list(portfolio321.values()))"
   ]
  },
  {
   "cell_type": "code",
   "execution_count": 55,
   "metadata": {},
   "outputs": [
    {
     "data": {
      "text/plain": [
       "1"
      ]
     },
     "execution_count": 55,
     "metadata": {},
     "output_type": "execute_result"
    }
   ],
   "source": [
    "portfolio322={\n",
    "    \"bonds-liquidity-rating1\":0,\n",
    "    \"bonds-liquidity-rating2\":0,\n",
    "    \"bonds-liquidity-rating3\":0,\n",
    "    \"bonds-short-rating1\":0,\n",
    "    \"bonds-short-rating2\":1,\n",
    "    \"bonds-short-rating3\":0,\n",
    "    \"bonds-medium-rating1\":0,\n",
    "    \"bonds-medium-rating2\":0,\n",
    "    \"bonds-medium-rating3\":0,\n",
    "    \"bonds-long-rating1\":0,\n",
    "    \"bonds-long-rating2\":0,\n",
    "    \"bonds-long-rating3\":0, \n",
    "    \"stocks-beta1\":0,\n",
    "    \"stocks-beta2\":0,\n",
    "    \"stocks-beta3\":0,  \n",
    "    \"cash\":0,\n",
    "    \"convertable\":0,\n",
    "    \"preferred\":0,\n",
    "                  }\n",
    "sum(list(portfolio322.values()))"
   ]
  },
  {
   "cell_type": "code",
   "execution_count": 56,
   "metadata": {},
   "outputs": [
    {
     "data": {
      "text/plain": [
       "1"
      ]
     },
     "execution_count": 56,
     "metadata": {},
     "output_type": "execute_result"
    }
   ],
   "source": [
    "portfolio323={\n",
    "    \"bonds-liquidity-rating1\":0,\n",
    "    \"bonds-liquidity-rating2\":0,\n",
    "    \"bonds-liquidity-rating3\":0,\n",
    "    \"bonds-short-rating1\":0,\n",
    "    \"bonds-short-rating2\":1,\n",
    "    \"bonds-short-rating3\":0,\n",
    "    \"bonds-medium-rating1\":0,\n",
    "    \"bonds-medium-rating2\":0,\n",
    "    \"bonds-medium-rating3\":0,\n",
    "    \"bonds-long-rating1\":0,\n",
    "    \"bonds-long-rating2\":0,\n",
    "    \"bonds-long-rating3\":0, \n",
    "    \"stocks-beta1\":0,\n",
    "    \"stocks-beta2\":0,\n",
    "    \"stocks-beta3\":0,  \n",
    "    \"cash\":0,\n",
    "    \"convertable\":0,\n",
    "    \"preferred\":0,\n",
    "                  }\n",
    "sum(list(portfolio323.values()))"
   ]
  },
  {
   "cell_type": "code",
   "execution_count": 57,
   "metadata": {},
   "outputs": [
    {
     "data": {
      "text/plain": [
       "1.0"
      ]
     },
     "execution_count": 57,
     "metadata": {},
     "output_type": "execute_result"
    }
   ],
   "source": [
    "portfolio131={\n",
    "    \"bonds-liquidity-rating1\":0,\n",
    "    \"bonds-liquidity-rating2\":0,\n",
    "    \"bonds-liquidity-rating3\":0,\n",
    "    \"bonds-short-rating1\":0.9,\n",
    "    \"bonds-short-rating2\":0,\n",
    "    \"bonds-short-rating3\":0,\n",
    "    \"bonds-medium-rating1\":0,\n",
    "    \"bonds-medium-rating2\":0,\n",
    "    \"bonds-medium-rating3\":0,\n",
    "    \"bonds-long-rating1\":0,\n",
    "    \"bonds-long-rating2\":0,\n",
    "    \"bonds-long-rating3\":0, \n",
    "    \"stocks-beta1\":0.1,\n",
    "    \"stocks-beta2\":0,\n",
    "    \"stocks-beta3\":0,  \n",
    "    \"cash\":0,\n",
    "    \"convertable\":0,\n",
    "    \"preferred\":0,\n",
    "                  }\n",
    "sum(list(portfolio131.values()))"
   ]
  },
  {
   "cell_type": "code",
   "execution_count": 58,
   "metadata": {},
   "outputs": [
    {
     "data": {
      "text/plain": [
       "1.0"
      ]
     },
     "execution_count": 58,
     "metadata": {},
     "output_type": "execute_result"
    }
   ],
   "source": [
    "portfolio132={\n",
    "    \"bonds-liquidity-rating1\":0,\n",
    "    \"bonds-liquidity-rating2\":0,\n",
    "    \"bonds-liquidity-rating3\":0,\n",
    "    \"bonds-short-rating1\":0.8,\n",
    "    \"bonds-short-rating2\":0,\n",
    "    \"bonds-short-rating3\":0,\n",
    "    \"bonds-medium-rating1\":0,\n",
    "    \"bonds-medium-rating2\":0,\n",
    "    \"bonds-medium-rating3\":0,\n",
    "    \"bonds-long-rating1\":0,\n",
    "    \"bonds-long-rating2\":0,\n",
    "    \"bonds-long-rating3\":0, \n",
    "    \"stocks-beta1\":0.2,\n",
    "    \"stocks-beta2\":0,\n",
    "    \"stocks-beta3\":0,  \n",
    "    \"cash\":0,\n",
    "    \"convertable\":0,\n",
    "    \"preferred\":0,\n",
    "                  }\n",
    "sum(list(portfolio132.values()))"
   ]
  },
  {
   "cell_type": "code",
   "execution_count": 59,
   "metadata": {},
   "outputs": [
    {
     "data": {
      "text/plain": [
       "1.0"
      ]
     },
     "execution_count": 59,
     "metadata": {},
     "output_type": "execute_result"
    }
   ],
   "source": [
    "portfolio133={\n",
    "    \"bonds-liquidity-rating1\":0,\n",
    "    \"bonds-liquidity-rating2\":0,\n",
    "    \"bonds-liquidity-rating3\":0,\n",
    "    \"bonds-short-rating1\":0.7,\n",
    "    \"bonds-short-rating2\":0,\n",
    "    \"bonds-short-rating3\":0,\n",
    "    \"bonds-medium-rating1\":0,\n",
    "    \"bonds-medium-rating2\":0,\n",
    "    \"bonds-medium-rating3\":0,\n",
    "    \"bonds-long-rating1\":0,\n",
    "    \"bonds-long-rating2\":0,\n",
    "    \"bonds-long-rating3\":0, \n",
    "    \"stocks-beta1\":0.3,\n",
    "    \"stocks-beta2\":0,\n",
    "    \"stocks-beta3\":0,  \n",
    "    \"cash\":0,\n",
    "    \"convertable\":0,\n",
    "    \"preferred\":0,\n",
    "                  }\n",
    "sum(list(portfolio133.values()))"
   ]
  },
  {
   "cell_type": "code",
   "execution_count": 60,
   "metadata": {},
   "outputs": [
    {
     "data": {
      "text/plain": [
       "1.0"
      ]
     },
     "execution_count": 60,
     "metadata": {},
     "output_type": "execute_result"
    }
   ],
   "source": [
    "portfolio231={\n",
    "    \"bonds-liquidity-rating1\":0,\n",
    "    \"bonds-liquidity-rating2\":0,\n",
    "    \"bonds-liquidity-rating3\":0,\n",
    "    \"bonds-short-rating1\":0,\n",
    "    \"bonds-short-rating2\":0,\n",
    "    \"bonds-short-rating3\":0,\n",
    "    \"bonds-medium-rating1\":0,\n",
    "    \"bonds-medium-rating2\":0.3,\n",
    "    \"bonds-medium-rating3\":0,\n",
    "    \"bonds-long-rating1\":0,\n",
    "    \"bonds-long-rating2\":0,\n",
    "    \"bonds-long-rating3\":0, \n",
    "    \"stocks-beta1\":0,\n",
    "    \"stocks-beta2\":0.7,\n",
    "    \"stocks-beta3\":0,  \n",
    "    \"cash\":0,\n",
    "    \"convertable\":0,\n",
    "    \"preferred\":0,\n",
    "                  }\n",
    "sum(list(portfolio231.values()))"
   ]
  },
  {
   "cell_type": "code",
   "execution_count": 61,
   "metadata": {},
   "outputs": [
    {
     "data": {
      "text/plain": [
       "1.0"
      ]
     },
     "execution_count": 61,
     "metadata": {},
     "output_type": "execute_result"
    }
   ],
   "source": [
    "portfolio232={\n",
    "    \"bonds-liquidity-rating1\":0,\n",
    "    \"bonds-liquidity-rating2\":0,\n",
    "    \"bonds-liquidity-rating3\":0,\n",
    "    \"bonds-short-rating1\":0,\n",
    "    \"bonds-short-rating2\":0.2,\n",
    "    \"bonds-short-rating3\":0,\n",
    "    \"bonds-medium-rating1\":0,\n",
    "    \"bonds-medium-rating2\":0,\n",
    "    \"bonds-medium-rating3\":0,\n",
    "    \"bonds-long-rating1\":0,\n",
    "    \"bonds-long-rating2\":0,\n",
    "    \"bonds-long-rating3\":0, \n",
    "    \"stocks-beta1\":0,\n",
    "    \"stocks-beta2\":0.8,\n",
    "    \"stocks-beta3\":0,  \n",
    "    \"cash\":0,\n",
    "    \"convertable\":0,\n",
    "    \"preferred\":0,\n",
    "                  }\n",
    "sum(list(portfolio232.values()))"
   ]
  },
  {
   "cell_type": "code",
   "execution_count": 69,
   "metadata": {},
   "outputs": [
    {
     "data": {
      "text/plain": [
       "1.0"
      ]
     },
     "execution_count": 69,
     "metadata": {},
     "output_type": "execute_result"
    }
   ],
   "source": [
    "portfolio233={\n",
    "    \"bonds-liquidity-rating1\":0,\n",
    "    \"bonds-liquidity-rating2\":0,\n",
    "    \"bonds-liquidity-rating3\":0,\n",
    "    \"bonds-short-rating1\":0,\n",
    "    \"bonds-short-rating2\":0,\n",
    "    \"bonds-short-rating3\":0,\n",
    "    \"bonds-medium-rating1\":0,\n",
    "    \"bonds-medium-rating2\":0,\n",
    "    \"bonds-medium-rating3\":0.1,\n",
    "    \"bonds-long-rating1\":0,\n",
    "    \"bonds-long-rating2\":0,\n",
    "    \"bonds-long-rating3\":0, \n",
    "    \"stocks-beta1\":0,\n",
    "    \"stocks-beta2\":0.9,\n",
    "    \"stocks-beta3\":0,  \n",
    "    \"cash\":0,\n",
    "    \"convertable\":0,\n",
    "    \"preferred\":0,\n",
    "                  }\n",
    "sum(list(portfolio233.values()))"
   ]
  },
  {
   "cell_type": "code",
   "execution_count": 68,
   "metadata": {},
   "outputs": [
    {
     "data": {
      "text/plain": [
       "1"
      ]
     },
     "execution_count": 68,
     "metadata": {},
     "output_type": "execute_result"
    }
   ],
   "source": [
    "portfolio331={\n",
    "    \"bonds-liquidity-rating1\":0,\n",
    "    \"bonds-liquidity-rating2\":0,\n",
    "    \"bonds-liquidity-rating3\":0,\n",
    "    \"bonds-short-rating1\":0,\n",
    "    \"bonds-short-rating2\":0,\n",
    "    \"bonds-short-rating3\":0,\n",
    "    \"bonds-medium-rating1\":0,\n",
    "    \"bonds-medium-rating2\":0,\n",
    "    \"bonds-medium-rating3\":0,\n",
    "    \"bonds-long-rating1\":0,\n",
    "    \"bonds-long-rating2\":0,\n",
    "    \"bonds-long-rating3\":0, \n",
    "    \"stocks-beta1\":0,\n",
    "    \"stocks-beta2\":0,\n",
    "    \"stocks-beta3\":1,  \n",
    "    \"cash\":0,\n",
    "    \"convertable\":0,\n",
    "    \"preferred\":0,\n",
    "                  }\n",
    "sum(list(portfolio331.values()))"
   ]
  },
  {
   "cell_type": "code",
   "execution_count": 70,
   "metadata": {},
   "outputs": [
    {
     "data": {
      "text/plain": [
       "1"
      ]
     },
     "execution_count": 70,
     "metadata": {},
     "output_type": "execute_result"
    }
   ],
   "source": [
    "portfolio332={\n",
    "    \"bonds-liquidity-rating1\":0,\n",
    "    \"bonds-liquidity-rating2\":0,\n",
    "    \"bonds-liquidity-rating3\":0,\n",
    "    \"bonds-short-rating1\":0,\n",
    "    \"bonds-short-rating2\":0,\n",
    "    \"bonds-short-rating3\":0,\n",
    "    \"bonds-medium-rating1\":0,\n",
    "    \"bonds-medium-rating2\":0,\n",
    "    \"bonds-medium-rating3\":0,\n",
    "    \"bonds-long-rating1\":0,\n",
    "    \"bonds-long-rating2\":0,\n",
    "    \"bonds-long-rating3\":0, \n",
    "    \"stocks-beta1\":0,\n",
    "    \"stocks-beta2\":0,\n",
    "    \"stocks-beta3\":1,  \n",
    "    \"cash\":0,\n",
    "    \"convertable\":0,\n",
    "    \"preferred\":0,\n",
    "                  }\n",
    "sum(list(portfolio332.values()))"
   ]
  },
  {
   "cell_type": "code",
   "execution_count": 71,
   "metadata": {},
   "outputs": [
    {
     "data": {
      "text/plain": [
       "1"
      ]
     },
     "execution_count": 71,
     "metadata": {},
     "output_type": "execute_result"
    }
   ],
   "source": [
    "portfolio333={\n",
    "    \"bonds-liquidity-rating1\":0,\n",
    "    \"bonds-liquidity-rating2\":0,\n",
    "    \"bonds-liquidity-rating3\":0,\n",
    "    \"bonds-short-rating1\":0,\n",
    "    \"bonds-short-rating2\":0,\n",
    "    \"bonds-short-rating3\":0,\n",
    "    \"bonds-medium-rating1\":0,\n",
    "    \"bonds-medium-rating2\":0,\n",
    "    \"bonds-medium-rating3\":0,\n",
    "    \"bonds-long-rating1\":0,\n",
    "    \"bonds-long-rating2\":0,\n",
    "    \"bonds-long-rating3\":0, \n",
    "    \"stocks-beta1\":0,\n",
    "    \"stocks-beta2\":0,\n",
    "    \"stocks-beta3\":1,  \n",
    "    \"cash\":0,\n",
    "    \"convertable\":0,\n",
    "    \"preferred\":0,\n",
    "                  }\n",
    "sum(list(portfolio333.values()))"
   ]
  },
  {
   "cell_type": "code",
   "execution_count": 63,
   "metadata": {},
   "outputs": [
    {
     "data": {
      "text/plain": [
       "1"
      ]
     },
     "execution_count": 63,
     "metadata": {},
     "output_type": "execute_result"
    }
   ],
   "source": [
    "portfolio111={\n",
    "    \"bonds-liquidity-rating1\":0,\n",
    "    \"bonds-liquidity-rating2\":0,\n",
    "    \"bonds-liquidity-rating3\":0,\n",
    "    \"bonds-short-rating1\":0,\n",
    "    \"bonds-short-rating2\":0,\n",
    "    \"bonds-short-rating3\":0,\n",
    "    \"bonds-medium-rating1\":0,\n",
    "    \"bonds-medium-rating2\":0,\n",
    "    \"bonds-medium-rating3\":0,\n",
    "    \"bonds-long-rating1\":0,\n",
    "    \"bonds-long-rating2\":0,\n",
    "    \"bonds-long-rating3\":0, \n",
    "    \"stocks-beta1\":0,\n",
    "    \"stocks-beta2\":0,\n",
    "    \"stocks-beta3\":1,  \n",
    "    \"cash\":0,\n",
    "    \"convertable\":0,\n",
    "    \"preferred\":0,\n",
    "                  }\n",
    "sum(list(portfolio111.values()))"
   ]
  },
  {
   "cell_type": "code",
   "execution_count": 72,
   "metadata": {},
   "outputs": [
    {
     "data": {
      "text/plain": [
       "1.0"
      ]
     },
     "execution_count": 72,
     "metadata": {},
     "output_type": "execute_result"
    }
   ],
   "source": [
    "portfolio141={\n",
    "    \"bonds-liquidity-rating1\":0,\n",
    "    \"bonds-liquidity-rating2\":0,\n",
    "    \"bonds-liquidity-rating3\":0,\n",
    "    \"bonds-short-rating1\":0,\n",
    "    \"bonds-short-rating2\":0.3,\n",
    "    \"bonds-short-rating3\":0,\n",
    "    \"bonds-medium-rating1\":0,\n",
    "    \"bonds-medium-rating2\":0,\n",
    "    \"bonds-medium-rating3\":0,\n",
    "    \"bonds-long-rating1\":0,\n",
    "    \"bonds-long-rating2\":0,\n",
    "    \"bonds-long-rating3\":0, \n",
    "    \"stocks-beta1\":0.7,\n",
    "    \"stocks-beta2\":0,\n",
    "    \"stocks-beta3\":0,  \n",
    "    \"cash\":0,\n",
    "    \"convertable\":0,\n",
    "    \"preferred\":0,\n",
    "                  }\n",
    "sum(list(portfolio141.values()))"
   ]
  },
  {
   "cell_type": "code",
   "execution_count": 76,
   "metadata": {},
   "outputs": [
    {
     "data": {
      "text/plain": [
       "1.0"
      ]
     },
     "execution_count": 76,
     "metadata": {},
     "output_type": "execute_result"
    }
   ],
   "source": [
    "portfolio142={\n",
    "    \"bonds-liquidity-rating1\":0,\n",
    "    \"bonds-liquidity-rating2\":0,\n",
    "    \"bonds-liquidity-rating3\":0,\n",
    "    \"bonds-short-rating1\":0,\n",
    "    \"bonds-short-rating2\":0.2,\n",
    "    \"bonds-short-rating3\":0,\n",
    "    \"bonds-medium-rating1\":0,\n",
    "    \"bonds-medium-rating2\":0,\n",
    "    \"bonds-medium-rating3\":0,\n",
    "    \"bonds-long-rating1\":0,\n",
    "    \"bonds-long-rating2\":0,\n",
    "    \"bonds-long-rating3\":0, \n",
    "    \"stocks-beta1\":0.8,\n",
    "    \"stocks-beta2\":0,\n",
    "    \"stocks-beta3\":0,  \n",
    "    \"cash\":0,\n",
    "    \"convertable\":0,\n",
    "    \"preferred\":0,\n",
    "                  }\n",
    "sum(list(portfolio142.values()))"
   ]
  },
  {
   "cell_type": "code",
   "execution_count": 77,
   "metadata": {},
   "outputs": [
    {
     "data": {
      "text/plain": [
       "1.0"
      ]
     },
     "execution_count": 77,
     "metadata": {},
     "output_type": "execute_result"
    }
   ],
   "source": [
    "portfolio143={\n",
    "    \"bonds-liquidity-rating1\":0,\n",
    "    \"bonds-liquidity-rating2\":0,\n",
    "    \"bonds-liquidity-rating3\":0,\n",
    "    \"bonds-short-rating1\":0,\n",
    "    \"bonds-short-rating2\":0.1,\n",
    "    \"bonds-short-rating3\":0,\n",
    "    \"bonds-medium-rating1\":0,\n",
    "    \"bonds-medium-rating2\":0,\n",
    "    \"bonds-medium-rating3\":0,\n",
    "    \"bonds-long-rating1\":0,\n",
    "    \"bonds-long-rating2\":0,\n",
    "    \"bonds-long-rating3\":0, \n",
    "    \"stocks-beta1\":0.9,\n",
    "    \"stocks-beta2\":0,\n",
    "    \"stocks-beta3\":0,  \n",
    "    \"cash\":0,\n",
    "    \"convertable\":0,\n",
    "    \"preferred\":0,\n",
    "                  }\n",
    "sum(list(portfolio143.values()))"
   ]
  },
  {
   "cell_type": "code",
   "execution_count": 78,
   "metadata": {},
   "outputs": [
    {
     "data": {
      "text/plain": [
       "1"
      ]
     },
     "execution_count": 78,
     "metadata": {},
     "output_type": "execute_result"
    }
   ],
   "source": [
    "portfolio241={\n",
    "    \"bonds-liquidity-rating1\":0,\n",
    "    \"bonds-liquidity-rating2\":0,\n",
    "    \"bonds-liquidity-rating3\":0,\n",
    "    \"bonds-short-rating1\":0,\n",
    "    \"bonds-short-rating2\":0,\n",
    "    \"bonds-short-rating3\":0,\n",
    "    \"bonds-medium-rating1\":0,\n",
    "    \"bonds-medium-rating2\":0,\n",
    "    \"bonds-medium-rating3\":0,\n",
    "    \"bonds-long-rating1\":0,\n",
    "    \"bonds-long-rating2\":0,\n",
    "    \"bonds-long-rating3\":0, \n",
    "    \"stocks-beta1\":0,\n",
    "    \"stocks-beta2\":1,\n",
    "    \"stocks-beta3\":0,  \n",
    "    \"cash\":0,\n",
    "    \"convertable\":0,\n",
    "    \"preferred\":0,\n",
    "                  }\n",
    "sum(list(portfolio241.values()))"
   ]
  },
  {
   "cell_type": "code",
   "execution_count": 79,
   "metadata": {},
   "outputs": [
    {
     "data": {
      "text/plain": [
       "1"
      ]
     },
     "execution_count": 79,
     "metadata": {},
     "output_type": "execute_result"
    }
   ],
   "source": [
    "portfolio242={\n",
    "    \"bonds-liquidity-rating1\":0,\n",
    "    \"bonds-liquidity-rating2\":0,\n",
    "    \"bonds-liquidity-rating3\":0,\n",
    "    \"bonds-short-rating1\":0,\n",
    "    \"bonds-short-rating2\":0,\n",
    "    \"bonds-short-rating3\":0,\n",
    "    \"bonds-medium-rating1\":0,\n",
    "    \"bonds-medium-rating2\":0,\n",
    "    \"bonds-medium-rating3\":0,\n",
    "    \"bonds-long-rating1\":0,\n",
    "    \"bonds-long-rating2\":0,\n",
    "    \"bonds-long-rating3\":0, \n",
    "    \"stocks-beta1\":0,\n",
    "    \"stocks-beta2\":1,\n",
    "    \"stocks-beta3\":0,  \n",
    "    \"cash\":0,\n",
    "    \"convertable\":0,\n",
    "    \"preferred\":0,\n",
    "                  }\n",
    "sum(list(portfolio242.values()))"
   ]
  },
  {
   "cell_type": "code",
   "execution_count": 80,
   "metadata": {},
   "outputs": [
    {
     "data": {
      "text/plain": [
       "1"
      ]
     },
     "execution_count": 80,
     "metadata": {},
     "output_type": "execute_result"
    }
   ],
   "source": [
    "portfolio243={\n",
    "    \"bonds-liquidity-rating1\":0,\n",
    "    \"bonds-liquidity-rating2\":0,\n",
    "    \"bonds-liquidity-rating3\":0,\n",
    "    \"bonds-short-rating1\":0,\n",
    "    \"bonds-short-rating2\":0,\n",
    "    \"bonds-short-rating3\":0,\n",
    "    \"bonds-medium-rating1\":0,\n",
    "    \"bonds-medium-rating2\":0,\n",
    "    \"bonds-medium-rating3\":0,\n",
    "    \"bonds-long-rating1\":0,\n",
    "    \"bonds-long-rating2\":0,\n",
    "    \"bonds-long-rating3\":0, \n",
    "    \"stocks-beta1\":0,\n",
    "    \"stocks-beta2\":1,\n",
    "    \"stocks-beta3\":0,  \n",
    "    \"cash\":0,\n",
    "    \"convertable\":0,\n",
    "    \"preferred\":0,\n",
    "                  }\n",
    "sum(list(portfolio243.values()))"
   ]
  },
  {
   "cell_type": "code",
   "execution_count": 81,
   "metadata": {},
   "outputs": [
    {
     "data": {
      "text/plain": [
       "1"
      ]
     },
     "execution_count": 81,
     "metadata": {},
     "output_type": "execute_result"
    }
   ],
   "source": [
    "portfolio341={\n",
    "    \"bonds-liquidity-rating1\":0,\n",
    "    \"bonds-liquidity-rating2\":0,\n",
    "    \"bonds-liquidity-rating3\":0,\n",
    "    \"bonds-short-rating1\":0,\n",
    "    \"bonds-short-rating2\":0,\n",
    "    \"bonds-short-rating3\":0,\n",
    "    \"bonds-medium-rating1\":0,\n",
    "    \"bonds-medium-rating2\":0,\n",
    "    \"bonds-medium-rating3\":0,\n",
    "    \"bonds-long-rating1\":0,\n",
    "    \"bonds-long-rating2\":0,\n",
    "    \"bonds-long-rating3\":0, \n",
    "    \"stocks-beta1\":0,\n",
    "    \"stocks-beta2\":0,\n",
    "    \"stocks-beta3\":1,  \n",
    "    \"cash\":0,\n",
    "    \"convertable\":0,\n",
    "    \"preferred\":0,\n",
    "                  }\n",
    "sum(list(portfolio341.values()))"
   ]
  },
  {
   "cell_type": "code",
   "execution_count": 82,
   "metadata": {},
   "outputs": [
    {
     "data": {
      "text/plain": [
       "1"
      ]
     },
     "execution_count": 82,
     "metadata": {},
     "output_type": "execute_result"
    }
   ],
   "source": [
    "portfolio342={\n",
    "    \"bonds-liquidity-rating1\":0,\n",
    "    \"bonds-liquidity-rating2\":0,\n",
    "    \"bonds-liquidity-rating3\":0,\n",
    "    \"bonds-short-rating1\":0,\n",
    "    \"bonds-short-rating2\":0,\n",
    "    \"bonds-short-rating3\":0,\n",
    "    \"bonds-medium-rating1\":0,\n",
    "    \"bonds-medium-rating2\":0,\n",
    "    \"bonds-medium-rating3\":0,\n",
    "    \"bonds-long-rating1\":0,\n",
    "    \"bonds-long-rating2\":0,\n",
    "    \"bonds-long-rating3\":0, \n",
    "    \"stocks-beta1\":0,\n",
    "    \"stocks-beta2\":0,\n",
    "    \"stocks-beta3\":1,  \n",
    "    \"cash\":0,\n",
    "    \"convertable\":0,\n",
    "    \"preferred\":0,\n",
    "                  }\n",
    "sum(list(portfolio342.values()))"
   ]
  },
  {
   "cell_type": "code",
   "execution_count": 83,
   "metadata": {},
   "outputs": [
    {
     "data": {
      "text/plain": [
       "1"
      ]
     },
     "execution_count": 83,
     "metadata": {},
     "output_type": "execute_result"
    }
   ],
   "source": [
    "portfolio343={\n",
    "    \"bonds-liquidity-rating1\":0,\n",
    "    \"bonds-liquidity-rating2\":0,\n",
    "    \"bonds-liquidity-rating3\":0,\n",
    "    \"bonds-short-rating1\":0,\n",
    "    \"bonds-short-rating2\":0,\n",
    "    \"bonds-short-rating3\":0,\n",
    "    \"bonds-medium-rating1\":0,\n",
    "    \"bonds-medium-rating2\":0,\n",
    "    \"bonds-medium-rating3\":0,\n",
    "    \"bonds-long-rating1\":0,\n",
    "    \"bonds-long-rating2\":0,\n",
    "    \"bonds-long-rating3\":0, \n",
    "    \"stocks-beta1\":0,\n",
    "    \"stocks-beta2\":0,\n",
    "    \"stocks-beta3\":1,  \n",
    "    \"cash\":0,\n",
    "    \"convertable\":0,\n",
    "    \"preferred\":0,\n",
    "                  }\n",
    "sum(list(portfolio343.values()))"
   ]
  },
  {
   "cell_type": "code",
   "execution_count": null,
   "metadata": {},
   "outputs": [],
   "source": []
  }
 ],
 "metadata": {
  "kernelspec": {
   "display_name": "Python [conda env:ironhack_env]",
   "language": "python",
   "name": "conda-env-ironhack_env-py"
  },
  "language_info": {
   "codemirror_mode": {
    "name": "ipython",
    "version": 3
   },
   "file_extension": ".py",
   "mimetype": "text/x-python",
   "name": "python",
   "nbconvert_exporter": "python",
   "pygments_lexer": "ipython3",
   "version": "3.7.7"
  }
 },
 "nbformat": 4,
 "nbformat_minor": 4
}
