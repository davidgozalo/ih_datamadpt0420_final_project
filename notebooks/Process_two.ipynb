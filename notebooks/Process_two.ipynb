{
 "cells": [
  {
   "cell_type": "code",
   "execution_count": 70,
   "metadata": {},
   "outputs": [
    {
     "name": "stdout",
     "output_type": "stream",
     "text": [
      "Bienvenido al cuestionario sobre situación y preferencias de inversión\n",
      "El objetivo del mismo es saber de ti para hacerte un a recomendación de compra de fondos de inversión\n",
      "Te preguntaremos sobre tu situación financiera, tu aversión al riesgo, tu plazo de inversión y tus conocimientos financiaros\n"
     ]
    }
   ],
   "source": [
    "print(\"Bienvenido al cuestionario sobre situación y preferencias de inversión\")\n",
    "print(\"El objetivo del mismo es saber de ti para hacerte un a recomendación de compra de fondos de inversión\")\n",
    "print(\"Te preguntaremos sobre tu situación financiera, tu aversión al riesgo, tu plazo de inversión y tus conocimientos financiaros\")"
   ]
  },
  {
   "cell_type": "code",
   "execution_count": 71,
   "metadata": {},
   "outputs": [
    {
     "name": "stdin",
     "output_type": "stream",
     "text": [
      "Pero antes de empezar, como en esas llamadas de los call centers que nos interrumpen la siesta, dinos tu nombre para dirigirnos a ti) David\n"
     ]
    }
   ],
   "source": [
    "nombre=input(\"Pero antes de empezar, como en esas llamadas de los call centers que nos interrumpen la siesta, dinos tu nombre para dirigirnos a ti)\")"
   ]
  },
  {
   "cell_type": "code",
   "execution_count": 72,
   "metadata": {},
   "outputs": [
    {
     "name": "stdout",
     "output_type": "stream",
     "text": [
      "Gracias, David, empezamos pues. \n"
     ]
    }
   ],
   "source": [
    "print(f'Gracias, {nombre}, empezamos pues. ')"
   ]
  },
  {
   "cell_type": "code",
   "execution_count": 73,
   "metadata": {},
   "outputs": [
    {
     "name": "stdout",
     "output_type": "stream",
     "text": [
      "Lo primero, queremos saber cómo andas de cultura financiera\n"
     ]
    }
   ],
   "source": [
    "print(\"Lo primero, queremos saber cómo andas de cultura financiera\")"
   ]
  },
  {
   "cell_type": "code",
   "execution_count": 74,
   "metadata": {},
   "outputs": [
    {
     "name": "stdout",
     "output_type": "stream",
     "text": [
      "Si establecemos tres niveles:\n",
      " 1: Básico\n",
      " 2: Intermedio\n",
      " 3: Alto\n"
     ]
    },
    {
     "name": "stdin",
     "output_type": "stream",
     "text": [
      "¿Dónde te ves? (elige un número) 3\n"
     ]
    }
   ],
   "source": [
    "print (\"Si establecemos tres niveles:\\n 1: Básico\\n 2: Intermedio\\n 3: Alto\")\n",
    "conocimiento_financiero=input(\"¿Dónde te ves? (elige un número)\")"
   ]
  },
  {
   "cell_type": "code",
   "execution_count": 75,
   "metadata": {},
   "outputs": [
    {
     "name": "stdout",
     "output_type": "stream",
     "text": [
      "Perfecto, también queremos que nos digas si eres atrevido con las inversiones o conservador\n"
     ]
    }
   ],
   "source": [
    "print(\"Perfecto, también queremos que nos digas si eres atrevido con las inversiones o conservador\")"
   ]
  },
  {
   "cell_type": "code",
   "execution_count": 76,
   "metadata": {},
   "outputs": [
    {
     "name": "stdout",
     "output_type": "stream",
     "text": [
      "Si te propusieramos una inversión en la que puedes perder una parte de lo invertido, con qué posición te identificas más:\n",
      " 1: No toleraría perder nada de lo invertido, aunque ganase poco\n",
      " 2: Podría perder algo, pero moderadamente, para obtener un rendimiento mayor\n",
      " 3: Estoy dispuesto a todo con tal de obrtener un rendiimiento alto\n"
     ]
    },
    {
     "name": "stdin",
     "output_type": "stream",
     "text": [
      "¿Con cuál te identificas? (elige un número) 3\n"
     ]
    }
   ],
   "source": [
    "print (\"Si te propusieramos una inversión en la que puedes perder una parte de lo invertido, con qué posición te identificas más:\\n 1: No toleraría perder nada de lo invertido, aunque ganase poco\\n 2: Podría perder algo, pero moderadamente, para obtener un rendimiento mayor\\n 3: Estoy dispuesto a todo con tal de obrtener un rendiimiento alto\")\n",
    "nivel_de_riesgo=input(\"¿Con cuál te identificas? (elige un número)\")"
   ]
  },
  {
   "cell_type": "code",
   "execution_count": 77,
   "metadata": {},
   "outputs": [
    {
     "name": "stdout",
     "output_type": "stream",
     "text": [
      "Genial, tembién necesitamos conocer el plazo en el que te planteas invertir\n"
     ]
    }
   ],
   "source": [
    "print(\"Genial, tembién necesitamos conocer el plazo en el que te planteas invertir\")"
   ]
  },
  {
   "cell_type": "code",
   "execution_count": 78,
   "metadata": {},
   "outputs": [
    {
     "name": "stdout",
     "output_type": "stream",
     "text": [
      "Si invirtieras hoy, cuándo te gustaría volver a disponer de tu dinero:\n",
      " 1: En menos de un año\n",
      " 2: En dos o tres años\n",
      " 3: En cinco años\n",
      " 4. En diez o más años \n"
     ]
    },
    {
     "name": "stdin",
     "output_type": "stream",
     "text": [
      "¿En qué periodo te colocas (elige un número) 3\n"
     ]
    }
   ],
   "source": [
    "print (\"Si invirtieras hoy, cuándo te gustaría volver a disponer de tu dinero:\\n 1: En menos de un año\\n 2: En dos o tres años\\n 3: En cinco años\\n 4. En diez o más años \")\n",
    "plazo=input(\"¿En qué periodo te colocas (elige un número)\")"
   ]
  },
  {
   "cell_type": "code",
   "execution_count": 79,
   "metadata": {},
   "outputs": [
    {
     "name": "stdout",
     "output_type": "stream",
     "text": [
      "Y ya por último, esa frase de rigor cuando se compra un coche o se confiesa un sueldo: ¿de cuánto dinero estamos hablando?\n"
     ]
    },
    {
     "name": "stdin",
     "output_type": "stream",
     "text": [
      "Cuánto dinero vas a plantearte invertir (pon una cantidad en euros) 140000\n"
     ]
    }
   ],
   "source": [
    "print(\"Y ya por último, esa frase de rigor cuando se compra un coche o se confiesa un sueldo: ¿de cuánto dinero estamos hablando?\")\n",
    "dinero=input(\"Cuánto dinero vas a plantearte invertir (pon una cantidad en euros)\")"
   ]
  },
  {
   "cell_type": "code",
   "execution_count": 80,
   "metadata": {},
   "outputs": [],
   "source": [
    "d_conocimiento_financiero ={ \"1\": \"básico\", \"2\": \"intermedio\", \"3\": \"alto\"}"
   ]
  },
  {
   "cell_type": "code",
   "execution_count": 81,
   "metadata": {},
   "outputs": [],
   "source": [
    "d_nivel_de_riesgo={ \"1\": \"bajo\", \"2\": \"moderado\", \"3\": \"alto\"}"
   ]
  },
  {
   "cell_type": "code",
   "execution_count": 82,
   "metadata": {},
   "outputs": [],
   "source": [
    "d_plazo={ \"1\": \"la liquidez\", \"2\": \"corto\", \"3\": \"medio\", \"4\": \"largo\" }"
   ]
  },
  {
   "cell_type": "code",
   "execution_count": 83,
   "metadata": {},
   "outputs": [
    {
     "name": "stdout",
     "output_type": "stream",
     "text": [
      "En resumen, David, nos has dicho\n",
      "que tu conocimiento financiero es alto, \n",
      "que tu nivel de aceptación de riesgo es alto, \n",
      "que tu horizonte de inversión es medio,\n",
      "y que estás pensando en invertir 140000 euros.\n"
     ]
    }
   ],
   "source": [
    "print(f'En resumen, {nombre}, nos has dicho\\nque tu conocimiento financiero es {d_conocimiento_financiero[conocimiento_financiero]}, \\nque tu nivel de aceptación de riesgo es {d_nivel_de_riesgo[nivel_de_riesgo]}, \\nque tu horizonte de inversión es {d_plazo[plazo]},\\ny que estás pensando en invertir {dinero} euros.')"
   ]
  },
  {
   "cell_type": "code",
   "execution_count": 85,
   "metadata": {},
   "outputs": [],
   "source": [
    "segmento=nivel_de_riesgo+plazo+conocimiento_financiero"
   ]
  },
  {
   "cell_type": "code",
   "execution_count": 86,
   "metadata": {},
   "outputs": [
    {
     "name": "stdout",
     "output_type": "stream",
     "text": [
      "333\n",
      "140000\n"
     ]
    }
   ],
   "source": [
    "print(segmento)\n",
    "print(dinero)"
   ]
  },
  {
   "cell_type": "code",
   "execution_count": 87,
   "metadata": {},
   "outputs": [
    {
     "data": {
      "text/plain": [
       "1"
      ]
     },
     "execution_count": 87,
     "metadata": {},
     "output_type": "execute_result"
    }
   ],
   "source": [
    "portfolio111={\n",
    "    \"bonds-liquidity-rating1\":0,\n",
    "    \"bonds-liquidity-rating2\":0,\n",
    "    \"bonds-liquidity-rating3\":0,\n",
    "    \"bonds-short-rating1\":0,\n",
    "    \"bonds-short-rating2\":0,\n",
    "    \"bonds-short-rating3\":0,\n",
    "    \"bonds-medium-rating1\":0,\n",
    "    \"bonds-medium-rating2\":0,\n",
    "    \"bonds-medium-rating3\":0,\n",
    "    \"bonds-long-rating1\":0,\n",
    "    \"bonds-long-rating2\":0,\n",
    "    \"bonds-long-rating3\":0, \n",
    "    \"stocks-beta1\":0,\n",
    "    \"stocks-beta2\":0,\n",
    "    \"stocks-beta3\":0,  \n",
    "    \"cash\":1,\n",
    "    \"convertable\":0,\n",
    "    \"preferred\":0,\n",
    "                  }\n",
    "\n",
    "sum(list(portfolio111.values()))"
   ]
  },
  {
   "cell_type": "code",
   "execution_count": 88,
   "metadata": {},
   "outputs": [
    {
     "data": {
      "text/plain": [
       "1"
      ]
     },
     "execution_count": 88,
     "metadata": {},
     "output_type": "execute_result"
    }
   ],
   "source": [
    "portfolio112={\n",
    "    \"bonds-liquidity-rating1\":0,\n",
    "    \"bonds-liquidity-rating2\":0,\n",
    "    \"bonds-liquidity-rating3\":0,\n",
    "    \"bonds-short-rating1\":0,\n",
    "    \"bonds-short-rating2\":0,\n",
    "    \"bonds-short-rating3\":0,\n",
    "    \"bonds-medium-rating1\":0,\n",
    "    \"bonds-medium-rating2\":0,\n",
    "    \"bonds-medium-rating3\":0,\n",
    "    \"bonds-long-rating1\":0,\n",
    "    \"bonds-long-rating2\":0,\n",
    "    \"bonds-long-rating3\":0, \n",
    "    \"stocks-beta1\":0,\n",
    "    \"stocks-beta2\":0,\n",
    "    \"stocks-beta3\":0,  \n",
    "    \"cash\":1,\n",
    "    \"convertable\":0,\n",
    "    \"preferred\":0,\n",
    "                  }\n",
    "sum(list(portfolio112.values()))"
   ]
  },
  {
   "cell_type": "code",
   "execution_count": 89,
   "metadata": {},
   "outputs": [
    {
     "data": {
      "text/plain": [
       "1"
      ]
     },
     "execution_count": 89,
     "metadata": {},
     "output_type": "execute_result"
    }
   ],
   "source": [
    "portfolio113={\n",
    "    \"bonds-liquidity-rating1\":0,\n",
    "    \"bonds-liquidity-rating2\":0,\n",
    "    \"bonds-liquidity-rating3\":0,\n",
    "    \"bonds-short-rating1\":0,\n",
    "    \"bonds-short-rating2\":0,\n",
    "    \"bonds-short-rating3\":0,\n",
    "    \"bonds-medium-rating1\":0,\n",
    "    \"bonds-medium-rating2\":0,\n",
    "    \"bonds-medium-rating3\":0,\n",
    "    \"bonds-long-rating1\":0,\n",
    "    \"bonds-long-rating2\":0,\n",
    "    \"bonds-long-rating3\":0, \n",
    "    \"stocks-beta1\":0,\n",
    "    \"stocks-beta2\":0,\n",
    "    \"stocks-beta3\":0,  \n",
    "    \"cash\":1,\n",
    "    \"convertable\":0,\n",
    "    \"preferred\":0,\n",
    "                  }\n",
    "sum(list(portfolio111.values()))"
   ]
  },
  {
   "cell_type": "code",
   "execution_count": 90,
   "metadata": {},
   "outputs": [
    {
     "data": {
      "text/plain": [
       "1.0"
      ]
     },
     "execution_count": 90,
     "metadata": {},
     "output_type": "execute_result"
    }
   ],
   "source": [
    "portfolio211={\n",
    "    \"bonds-liquidity-rating1\":0.1,\n",
    "    \"bonds-liquidity-rating2\":0,\n",
    "    \"bonds-liquidity-rating3\":0,\n",
    "    \"bonds-short-rating1\":0,\n",
    "    \"bonds-short-rating2\":0,\n",
    "    \"bonds-short-rating3\":0,\n",
    "    \"bonds-medium-rating1\":0,\n",
    "    \"bonds-medium-rating2\":0,\n",
    "    \"bonds-medium-rating3\":0,\n",
    "    \"bonds-long-rating1\":0,\n",
    "    \"bonds-long-rating2\":0,\n",
    "    \"bonds-long-rating3\":0, \n",
    "    \"stocks-beta1\":0,\n",
    "    \"stocks-beta2\":0,\n",
    "    \"stocks-beta3\":0,  \n",
    "    \"cash\":0.9,\n",
    "    \"convertable\":0,\n",
    "    \"preferred\":0,\n",
    "                  }\n",
    "sum(list(portfolio211.values()))"
   ]
  },
  {
   "cell_type": "code",
   "execution_count": 91,
   "metadata": {},
   "outputs": [
    {
     "data": {
      "text/plain": [
       "1.0"
      ]
     },
     "execution_count": 91,
     "metadata": {},
     "output_type": "execute_result"
    }
   ],
   "source": [
    "portfolio212={\n",
    "    \"bonds-liquidity-rating1\":0.2,\n",
    "    \"bonds-liquidity-rating2\":0,\n",
    "    \"bonds-liquidity-rating3\":0,\n",
    "    \"bonds-short-rating1\":0,\n",
    "    \"bonds-short-rating2\":0,\n",
    "    \"bonds-short-rating3\":0,\n",
    "    \"bonds-medium-rating1\":0,\n",
    "    \"bonds-medium-rating2\":0,\n",
    "    \"bonds-medium-rating3\":0,\n",
    "    \"bonds-long-rating1\":0,\n",
    "    \"bonds-long-rating2\":0,\n",
    "    \"bonds-long-rating3\":0, \n",
    "    \"stocks-beta1\":0,\n",
    "    \"stocks-beta2\":0,\n",
    "    \"stocks-beta3\":0,  \n",
    "    \"cash\":0.8,\n",
    "    \"convertable\":0,\n",
    "    \"preferred\":0,\n",
    "                  }\n",
    "sum(list(portfolio212.values()))"
   ]
  },
  {
   "cell_type": "code",
   "execution_count": 92,
   "metadata": {},
   "outputs": [
    {
     "data": {
      "text/plain": [
       "1"
      ]
     },
     "execution_count": 92,
     "metadata": {},
     "output_type": "execute_result"
    }
   ],
   "source": [
    "portfolio213={\n",
    "    \"bonds-liquidity-rating1\":0.3,\n",
    "    \"bonds-liquidity-rating2\":0,\n",
    "    \"bonds-liquidity-rating3\":0,\n",
    "    \"bonds-short-rating1\":0,\n",
    "    \"bonds-short-rating2\":0,\n",
    "    \"bonds-short-rating3\":0,\n",
    "    \"bonds-medium-rating1\":0,\n",
    "    \"bonds-medium-rating2\":0,\n",
    "    \"bonds-medium-rating3\":0,\n",
    "    \"bonds-long-rating1\":0,\n",
    "    \"bonds-long-rating2\":0,\n",
    "    \"bonds-long-rating3\":0, \n",
    "    \"stocks-beta1\":0,\n",
    "    \"stocks-beta2\":0,\n",
    "    \"stocks-beta3\":0,  \n",
    "    \"cash\":0.7,\n",
    "    \"convertable\":0,\n",
    "    \"preferred\":0,\n",
    "                  }\n",
    "sum(list(portfolio111.values()))"
   ]
  },
  {
   "cell_type": "code",
   "execution_count": 93,
   "metadata": {},
   "outputs": [
    {
     "data": {
      "text/plain": [
       "1.0"
      ]
     },
     "execution_count": 93,
     "metadata": {},
     "output_type": "execute_result"
    }
   ],
   "source": [
    "portfolio311={\n",
    "    \"bonds-liquidity-rating1\":0,\n",
    "    \"bonds-liquidity-rating2\":0.7,\n",
    "    \"bonds-liquidity-rating3\":0,\n",
    "    \"bonds-short-rating1\":0,\n",
    "    \"bonds-short-rating2\":0,\n",
    "    \"bonds-short-rating3\":0,\n",
    "    \"bonds-medium-rating1\":0,\n",
    "    \"bonds-medium-rating2\":0,\n",
    "    \"bonds-medium-rating3\":0,\n",
    "    \"bonds-long-rating1\":0,\n",
    "    \"bonds-long-rating2\":0,\n",
    "    \"bonds-long-rating3\":0, \n",
    "    \"stocks-beta1\":0,\n",
    "    \"stocks-beta2\":0,\n",
    "    \"stocks-beta3\":0,  \n",
    "    \"cash\":0.3,\n",
    "    \"convertable\":0,\n",
    "    \"preferred\":0,\n",
    "                  }\n",
    "sum(list(portfolio311.values()))"
   ]
  },
  {
   "cell_type": "code",
   "execution_count": 94,
   "metadata": {},
   "outputs": [
    {
     "data": {
      "text/plain": [
       "1.0"
      ]
     },
     "execution_count": 94,
     "metadata": {},
     "output_type": "execute_result"
    }
   ],
   "source": [
    "portfolio312={\n",
    "    \"bonds-liquidity-rating1\":0,\n",
    "    \"bonds-liquidity-rating2\":0.8,\n",
    "    \"bonds-liquidity-rating3\":0,\n",
    "    \"bonds-short-rating1\":0,\n",
    "    \"bonds-short-rating2\":0,\n",
    "    \"bonds-short-rating3\":0,\n",
    "    \"bonds-medium-rating1\":0,\n",
    "    \"bonds-medium-rating2\":0,\n",
    "    \"bonds-medium-rating3\":0,\n",
    "    \"bonds-long-rating1\":0,\n",
    "    \"bonds-long-rating2\":0,\n",
    "    \"bonds-long-rating3\":0, \n",
    "    \"stocks-beta1\":0,\n",
    "    \"stocks-beta2\":0,\n",
    "    \"stocks-beta3\":0,  \n",
    "    \"cash\":0.2,\n",
    "    \"convertable\":0,\n",
    "    \"preferred\":0,\n",
    "                  }\n",
    "sum(list(portfolio312.values()))"
   ]
  },
  {
   "cell_type": "code",
   "execution_count": 95,
   "metadata": {},
   "outputs": [
    {
     "data": {
      "text/plain": [
       "1.0"
      ]
     },
     "execution_count": 95,
     "metadata": {},
     "output_type": "execute_result"
    }
   ],
   "source": [
    "portfolio313={\n",
    "    \"bonds-liquidity-rating1\":0,\n",
    "    \"bonds-liquidity-rating2\":0.9,\n",
    "    \"bonds-liquidity-rating3\":0,\n",
    "    \"bonds-short-rating1\":0,\n",
    "    \"bonds-short-rating2\":0,\n",
    "    \"bonds-short-rating3\":0,\n",
    "    \"bonds-medium-rating1\":0,\n",
    "    \"bonds-medium-rating2\":0,\n",
    "    \"bonds-medium-rating3\":0,\n",
    "    \"bonds-long-rating1\":0,\n",
    "    \"bonds-long-rating2\":0,\n",
    "    \"bonds-long-rating3\":0, \n",
    "    \"stocks-beta1\":0,\n",
    "    \"stocks-beta2\":0,\n",
    "    \"stocks-beta3\":0,  \n",
    "    \"cash\":0.1,\n",
    "    \"convertable\":0,\n",
    "    \"preferred\":0,\n",
    "                  }\n",
    "sum(list(portfolio313.values()))"
   ]
  },
  {
   "cell_type": "code",
   "execution_count": 96,
   "metadata": {},
   "outputs": [
    {
     "data": {
      "text/plain": [
       "1.0"
      ]
     },
     "execution_count": 96,
     "metadata": {},
     "output_type": "execute_result"
    }
   ],
   "source": [
    "portfolio121={\n",
    "    \"bonds-liquidity-rating1\":0,\n",
    "    \"bonds-liquidity-rating2\":0,\n",
    "    \"bonds-liquidity-rating3\":0,\n",
    "    \"bonds-short-rating1\":0.1,\n",
    "    \"bonds-short-rating2\":0,\n",
    "    \"bonds-short-rating3\":0,\n",
    "    \"bonds-medium-rating1\":0,\n",
    "    \"bonds-medium-rating2\":0,\n",
    "    \"bonds-medium-rating3\":0,\n",
    "    \"bonds-long-rating1\":0,\n",
    "    \"bonds-long-rating2\":0,\n",
    "    \"bonds-long-rating3\":0, \n",
    "    \"stocks-beta1\":0,\n",
    "    \"stocks-beta2\":0,\n",
    "    \"stocks-beta3\":0,  \n",
    "    \"cash\":0.9,\n",
    "    \"convertable\":0,\n",
    "    \"preferred\":0,\n",
    "                  }\n",
    "sum(list(portfolio121.values()))"
   ]
  },
  {
   "cell_type": "code",
   "execution_count": 97,
   "metadata": {},
   "outputs": [
    {
     "data": {
      "text/plain": [
       "1.0"
      ]
     },
     "execution_count": 97,
     "metadata": {},
     "output_type": "execute_result"
    }
   ],
   "source": [
    "portfolio122={\n",
    "    \"bonds-liquidity-rating1\":0,\n",
    "    \"bonds-liquidity-rating2\":0,\n",
    "    \"bonds-liquidity-rating3\":0,\n",
    "    \"bonds-short-rating1\":0.2,\n",
    "    \"bonds-short-rating2\":0,\n",
    "    \"bonds-short-rating3\":0,\n",
    "    \"bonds-medium-rating1\":0,\n",
    "    \"bonds-medium-rating2\":0,\n",
    "    \"bonds-medium-rating3\":0,\n",
    "    \"bonds-long-rating1\":0,\n",
    "    \"bonds-long-rating2\":0,\n",
    "    \"bonds-long-rating3\":0, \n",
    "    \"stocks-beta1\":0,\n",
    "    \"stocks-beta2\":0,\n",
    "    \"stocks-beta3\":0,  \n",
    "    \"cash\":0.8,\n",
    "    \"convertable\":0,\n",
    "    \"preferred\":0,\n",
    "                  }\n",
    "sum(list(portfolio122.values()))"
   ]
  },
  {
   "cell_type": "code",
   "execution_count": 98,
   "metadata": {},
   "outputs": [
    {
     "data": {
      "text/plain": [
       "1.0"
      ]
     },
     "execution_count": 98,
     "metadata": {},
     "output_type": "execute_result"
    }
   ],
   "source": [
    "portfolio123={\n",
    "    \"bonds-liquidity-rating1\":0,\n",
    "    \"bonds-liquidity-rating2\":0,\n",
    "    \"bonds-liquidity-rating3\":0,\n",
    "    \"bonds-short-rating1\":0.3,\n",
    "    \"bonds-short-rating2\":0,\n",
    "    \"bonds-short-rating3\":0,\n",
    "    \"bonds-medium-rating1\":0,\n",
    "    \"bonds-medium-rating2\":0,\n",
    "    \"bonds-medium-rating3\":0,\n",
    "    \"bonds-long-rating1\":0,\n",
    "    \"bonds-long-rating2\":0,\n",
    "    \"bonds-long-rating3\":0, \n",
    "    \"stocks-beta1\":0,\n",
    "    \"stocks-beta2\":0,\n",
    "    \"stocks-beta3\":0,  \n",
    "    \"cash\":0.7,\n",
    "    \"convertable\":0,\n",
    "    \"preferred\":0,\n",
    "                  }\n",
    "sum(list(portfolio123.values()))"
   ]
  },
  {
   "cell_type": "code",
   "execution_count": 99,
   "metadata": {},
   "outputs": [
    {
     "data": {
      "text/plain": [
       "1.0"
      ]
     },
     "execution_count": 99,
     "metadata": {},
     "output_type": "execute_result"
    }
   ],
   "source": [
    "portfolio221={\n",
    "    \"bonds-liquidity-rating1\":0,\n",
    "    \"bonds-liquidity-rating2\":0,\n",
    "    \"bonds-liquidity-rating3\":0,\n",
    "    \"bonds-short-rating1\":0,\n",
    "    \"bonds-short-rating2\":0.7,\n",
    "    \"bonds-short-rating3\":0,\n",
    "    \"bonds-medium-rating1\":0,\n",
    "    \"bonds-medium-rating2\":0,\n",
    "    \"bonds-medium-rating3\":0,\n",
    "    \"bonds-long-rating1\":0,\n",
    "    \"bonds-long-rating2\":0,\n",
    "    \"bonds-long-rating3\":0, \n",
    "    \"stocks-beta1\":0,\n",
    "    \"stocks-beta2\":0,\n",
    "    \"stocks-beta3\":0,  \n",
    "    \"cash\":0.3,\n",
    "    \"convertable\":0,\n",
    "    \"preferred\":0,\n",
    "                  }\n",
    "sum(list(portfolio221.values()))"
   ]
  },
  {
   "cell_type": "code",
   "execution_count": 100,
   "metadata": {},
   "outputs": [
    {
     "data": {
      "text/plain": [
       "1.0"
      ]
     },
     "execution_count": 100,
     "metadata": {},
     "output_type": "execute_result"
    }
   ],
   "source": [
    "portfolio222={\n",
    "    \"bonds-liquidity-rating1\":0,\n",
    "    \"bonds-liquidity-rating2\":0,\n",
    "    \"bonds-liquidity-rating3\":0,\n",
    "    \"bonds-short-rating1\":0,\n",
    "    \"bonds-short-rating2\":0.8,\n",
    "    \"bonds-short-rating3\":0,\n",
    "    \"bonds-medium-rating1\":0,\n",
    "    \"bonds-medium-rating2\":0,\n",
    "    \"bonds-medium-rating3\":0,\n",
    "    \"bonds-long-rating1\":0,\n",
    "    \"bonds-long-rating2\":0,\n",
    "    \"bonds-long-rating3\":0, \n",
    "    \"stocks-beta1\":0,\n",
    "    \"stocks-beta2\":0,\n",
    "    \"stocks-beta3\":0,  \n",
    "    \"cash\":0.2,\n",
    "    \"convertable\":0,\n",
    "    \"preferred\":0,\n",
    "                  }\n",
    "sum(list(portfolio222.values()))"
   ]
  },
  {
   "cell_type": "code",
   "execution_count": 101,
   "metadata": {},
   "outputs": [
    {
     "data": {
      "text/plain": [
       "1.0"
      ]
     },
     "execution_count": 101,
     "metadata": {},
     "output_type": "execute_result"
    }
   ],
   "source": [
    "portfolio223={\n",
    "    \"bonds-liquidity-rating1\":0,\n",
    "    \"bonds-liquidity-rating2\":0,\n",
    "    \"bonds-liquidity-rating3\":0,\n",
    "    \"bonds-short-rating1\":0,\n",
    "    \"bonds-short-rating2\":0.9,\n",
    "    \"bonds-short-rating3\":0,\n",
    "    \"bonds-medium-rating1\":0,\n",
    "    \"bonds-medium-rating2\":0,\n",
    "    \"bonds-medium-rating3\":0,\n",
    "    \"bonds-long-rating1\":0,\n",
    "    \"bonds-long-rating2\":0,\n",
    "    \"bonds-long-rating3\":0, \n",
    "    \"stocks-beta1\":0,\n",
    "    \"stocks-beta2\":0,\n",
    "    \"stocks-beta3\":0,  \n",
    "    \"cash\":0.1,\n",
    "    \"convertable\":0,\n",
    "    \"preferred\":0,\n",
    "                  }\n",
    "sum(list(portfolio223.values()))"
   ]
  },
  {
   "cell_type": "code",
   "execution_count": 102,
   "metadata": {},
   "outputs": [
    {
     "data": {
      "text/plain": [
       "1"
      ]
     },
     "execution_count": 102,
     "metadata": {},
     "output_type": "execute_result"
    }
   ],
   "source": [
    "portfolio321={\n",
    "    \"bonds-liquidity-rating1\":0,\n",
    "    \"bonds-liquidity-rating2\":0,\n",
    "    \"bonds-liquidity-rating3\":0,\n",
    "    \"bonds-short-rating1\":0,\n",
    "    \"bonds-short-rating2\":0,\n",
    "    \"bonds-short-rating3\":0,\n",
    "    \"bonds-medium-rating1\":0,\n",
    "    \"bonds-medium-rating2\":1,\n",
    "    \"bonds-medium-rating3\":0,\n",
    "    \"bonds-long-rating1\":0,\n",
    "    \"bonds-long-rating2\":0,\n",
    "    \"bonds-long-rating3\":0, \n",
    "    \"stocks-beta1\":0,\n",
    "    \"stocks-beta2\":0,\n",
    "    \"stocks-beta3\":0,  \n",
    "    \"cash\":0,\n",
    "    \"convertable\":0,\n",
    "    \"preferred\":0,\n",
    "                  }\n",
    "sum(list(portfolio321.values()))"
   ]
  },
  {
   "cell_type": "code",
   "execution_count": 103,
   "metadata": {},
   "outputs": [
    {
     "data": {
      "text/plain": [
       "1"
      ]
     },
     "execution_count": 103,
     "metadata": {},
     "output_type": "execute_result"
    }
   ],
   "source": [
    "portfolio322={\n",
    "    \"bonds-liquidity-rating1\":0,\n",
    "    \"bonds-liquidity-rating2\":0,\n",
    "    \"bonds-liquidity-rating3\":0,\n",
    "    \"bonds-short-rating1\":0,\n",
    "    \"bonds-short-rating2\":1,\n",
    "    \"bonds-short-rating3\":0,\n",
    "    \"bonds-medium-rating1\":0,\n",
    "    \"bonds-medium-rating2\":0,\n",
    "    \"bonds-medium-rating3\":0,\n",
    "    \"bonds-long-rating1\":0,\n",
    "    \"bonds-long-rating2\":0,\n",
    "    \"bonds-long-rating3\":0, \n",
    "    \"stocks-beta1\":0,\n",
    "    \"stocks-beta2\":0,\n",
    "    \"stocks-beta3\":0,  \n",
    "    \"cash\":0,\n",
    "    \"convertable\":0,\n",
    "    \"preferred\":0,\n",
    "                  }\n",
    "sum(list(portfolio322.values()))"
   ]
  },
  {
   "cell_type": "code",
   "execution_count": 104,
   "metadata": {},
   "outputs": [
    {
     "data": {
      "text/plain": [
       "1"
      ]
     },
     "execution_count": 104,
     "metadata": {},
     "output_type": "execute_result"
    }
   ],
   "source": [
    "portfolio323={\n",
    "    \"bonds-liquidity-rating1\":0,\n",
    "    \"bonds-liquidity-rating2\":0,\n",
    "    \"bonds-liquidity-rating3\":0,\n",
    "    \"bonds-short-rating1\":0,\n",
    "    \"bonds-short-rating2\":1,\n",
    "    \"bonds-short-rating3\":0,\n",
    "    \"bonds-medium-rating1\":0,\n",
    "    \"bonds-medium-rating2\":0,\n",
    "    \"bonds-medium-rating3\":0,\n",
    "    \"bonds-long-rating1\":0,\n",
    "    \"bonds-long-rating2\":0,\n",
    "    \"bonds-long-rating3\":0, \n",
    "    \"stocks-beta1\":0,\n",
    "    \"stocks-beta2\":0,\n",
    "    \"stocks-beta3\":0,  \n",
    "    \"cash\":0,\n",
    "    \"convertable\":0,\n",
    "    \"preferred\":0,\n",
    "                  }\n",
    "sum(list(portfolio323.values()))"
   ]
  },
  {
   "cell_type": "code",
   "execution_count": 105,
   "metadata": {},
   "outputs": [
    {
     "data": {
      "text/plain": [
       "1.0"
      ]
     },
     "execution_count": 105,
     "metadata": {},
     "output_type": "execute_result"
    }
   ],
   "source": [
    "portfolio131={\n",
    "    \"bonds-liquidity-rating1\":0,\n",
    "    \"bonds-liquidity-rating2\":0,\n",
    "    \"bonds-liquidity-rating3\":0,\n",
    "    \"bonds-short-rating1\":0.9,\n",
    "    \"bonds-short-rating2\":0,\n",
    "    \"bonds-short-rating3\":0,\n",
    "    \"bonds-medium-rating1\":0,\n",
    "    \"bonds-medium-rating2\":0,\n",
    "    \"bonds-medium-rating3\":0,\n",
    "    \"bonds-long-rating1\":0,\n",
    "    \"bonds-long-rating2\":0,\n",
    "    \"bonds-long-rating3\":0, \n",
    "    \"stocks-beta1\":0.1,\n",
    "    \"stocks-beta2\":0,\n",
    "    \"stocks-beta3\":0,  \n",
    "    \"cash\":0,\n",
    "    \"convertable\":0,\n",
    "    \"preferred\":0,\n",
    "                  }\n",
    "sum(list(portfolio131.values()))"
   ]
  },
  {
   "cell_type": "code",
   "execution_count": 106,
   "metadata": {},
   "outputs": [
    {
     "data": {
      "text/plain": [
       "1.0"
      ]
     },
     "execution_count": 106,
     "metadata": {},
     "output_type": "execute_result"
    }
   ],
   "source": [
    "portfolio132={\n",
    "    \"bonds-liquidity-rating1\":0,\n",
    "    \"bonds-liquidity-rating2\":0,\n",
    "    \"bonds-liquidity-rating3\":0,\n",
    "    \"bonds-short-rating1\":0.8,\n",
    "    \"bonds-short-rating2\":0,\n",
    "    \"bonds-short-rating3\":0,\n",
    "    \"bonds-medium-rating1\":0,\n",
    "    \"bonds-medium-rating2\":0,\n",
    "    \"bonds-medium-rating3\":0,\n",
    "    \"bonds-long-rating1\":0,\n",
    "    \"bonds-long-rating2\":0,\n",
    "    \"bonds-long-rating3\":0, \n",
    "    \"stocks-beta1\":0.2,\n",
    "    \"stocks-beta2\":0,\n",
    "    \"stocks-beta3\":0,  \n",
    "    \"cash\":0,\n",
    "    \"convertable\":0,\n",
    "    \"preferred\":0,\n",
    "                  }\n",
    "sum(list(portfolio132.values()))"
   ]
  },
  {
   "cell_type": "code",
   "execution_count": 107,
   "metadata": {},
   "outputs": [
    {
     "data": {
      "text/plain": [
       "1.0"
      ]
     },
     "execution_count": 107,
     "metadata": {},
     "output_type": "execute_result"
    }
   ],
   "source": [
    "portfolio133={\n",
    "    \"bonds-liquidity-rating1\":0,\n",
    "    \"bonds-liquidity-rating2\":0,\n",
    "    \"bonds-liquidity-rating3\":0,\n",
    "    \"bonds-short-rating1\":0.7,\n",
    "    \"bonds-short-rating2\":0,\n",
    "    \"bonds-short-rating3\":0,\n",
    "    \"bonds-medium-rating1\":0,\n",
    "    \"bonds-medium-rating2\":0,\n",
    "    \"bonds-medium-rating3\":0,\n",
    "    \"bonds-long-rating1\":0,\n",
    "    \"bonds-long-rating2\":0,\n",
    "    \"bonds-long-rating3\":0, \n",
    "    \"stocks-beta1\":0.3,\n",
    "    \"stocks-beta2\":0,\n",
    "    \"stocks-beta3\":0,  \n",
    "    \"cash\":0,\n",
    "    \"convertable\":0,\n",
    "    \"preferred\":0,\n",
    "                  }\n",
    "sum(list(portfolio133.values()))"
   ]
  },
  {
   "cell_type": "code",
   "execution_count": 108,
   "metadata": {},
   "outputs": [
    {
     "data": {
      "text/plain": [
       "1.0"
      ]
     },
     "execution_count": 108,
     "metadata": {},
     "output_type": "execute_result"
    }
   ],
   "source": [
    "portfolio231={\n",
    "    \"bonds-liquidity-rating1\":0,\n",
    "    \"bonds-liquidity-rating2\":0,\n",
    "    \"bonds-liquidity-rating3\":0,\n",
    "    \"bonds-short-rating1\":0,\n",
    "    \"bonds-short-rating2\":0,\n",
    "    \"bonds-short-rating3\":0,\n",
    "    \"bonds-medium-rating1\":0,\n",
    "    \"bonds-medium-rating2\":0.3,\n",
    "    \"bonds-medium-rating3\":0,\n",
    "    \"bonds-long-rating1\":0,\n",
    "    \"bonds-long-rating2\":0,\n",
    "    \"bonds-long-rating3\":0, \n",
    "    \"stocks-beta1\":0,\n",
    "    \"stocks-beta2\":0.7,\n",
    "    \"stocks-beta3\":0,  \n",
    "    \"cash\":0,\n",
    "    \"convertable\":0,\n",
    "    \"preferred\":0,\n",
    "                  }\n",
    "sum(list(portfolio231.values()))"
   ]
  },
  {
   "cell_type": "code",
   "execution_count": 109,
   "metadata": {},
   "outputs": [
    {
     "data": {
      "text/plain": [
       "1.0"
      ]
     },
     "execution_count": 109,
     "metadata": {},
     "output_type": "execute_result"
    }
   ],
   "source": [
    "portfolio232={\n",
    "    \"bonds-liquidity-rating1\":0,\n",
    "    \"bonds-liquidity-rating2\":0,\n",
    "    \"bonds-liquidity-rating3\":0,\n",
    "    \"bonds-short-rating1\":0,\n",
    "    \"bonds-short-rating2\":0.2,\n",
    "    \"bonds-short-rating3\":0,\n",
    "    \"bonds-medium-rating1\":0,\n",
    "    \"bonds-medium-rating2\":0,\n",
    "    \"bonds-medium-rating3\":0,\n",
    "    \"bonds-long-rating1\":0,\n",
    "    \"bonds-long-rating2\":0,\n",
    "    \"bonds-long-rating3\":0, \n",
    "    \"stocks-beta1\":0,\n",
    "    \"stocks-beta2\":0.8,\n",
    "    \"stocks-beta3\":0,  \n",
    "    \"cash\":0,\n",
    "    \"convertable\":0,\n",
    "    \"preferred\":0,\n",
    "                  }\n",
    "sum(list(portfolio232.values()))"
   ]
  },
  {
   "cell_type": "code",
   "execution_count": 110,
   "metadata": {},
   "outputs": [
    {
     "data": {
      "text/plain": [
       "1.0"
      ]
     },
     "execution_count": 110,
     "metadata": {},
     "output_type": "execute_result"
    }
   ],
   "source": [
    "portfolio233={\n",
    "    \"bonds-liquidity-rating1\":0,\n",
    "    \"bonds-liquidity-rating2\":0,\n",
    "    \"bonds-liquidity-rating3\":0,\n",
    "    \"bonds-short-rating1\":0,\n",
    "    \"bonds-short-rating2\":0,\n",
    "    \"bonds-short-rating3\":0,\n",
    "    \"bonds-medium-rating1\":0,\n",
    "    \"bonds-medium-rating2\":0,\n",
    "    \"bonds-medium-rating3\":0.1,\n",
    "    \"bonds-long-rating1\":0,\n",
    "    \"bonds-long-rating2\":0,\n",
    "    \"bonds-long-rating3\":0, \n",
    "    \"stocks-beta1\":0,\n",
    "    \"stocks-beta2\":0.9,\n",
    "    \"stocks-beta3\":0,  \n",
    "    \"cash\":0,\n",
    "    \"convertable\":0,\n",
    "    \"preferred\":0,\n",
    "                  }\n",
    "sum(list(portfolio233.values()))"
   ]
  },
  {
   "cell_type": "code",
   "execution_count": 111,
   "metadata": {},
   "outputs": [
    {
     "data": {
      "text/plain": [
       "1"
      ]
     },
     "execution_count": 111,
     "metadata": {},
     "output_type": "execute_result"
    }
   ],
   "source": [
    "portfolio331={\n",
    "    \"bonds-liquidity-rating1\":0,\n",
    "    \"bonds-liquidity-rating2\":0,\n",
    "    \"bonds-liquidity-rating3\":0,\n",
    "    \"bonds-short-rating1\":0,\n",
    "    \"bonds-short-rating2\":0,\n",
    "    \"bonds-short-rating3\":0,\n",
    "    \"bonds-medium-rating1\":0,\n",
    "    \"bonds-medium-rating2\":0,\n",
    "    \"bonds-medium-rating3\":0,\n",
    "    \"bonds-long-rating1\":0,\n",
    "    \"bonds-long-rating2\":0,\n",
    "    \"bonds-long-rating3\":0, \n",
    "    \"stocks-beta1\":0,\n",
    "    \"stocks-beta2\":0,\n",
    "    \"stocks-beta3\":1,  \n",
    "    \"cash\":0,\n",
    "    \"convertable\":0,\n",
    "    \"preferred\":0,\n",
    "                  }\n",
    "sum(list(portfolio331.values()))"
   ]
  },
  {
   "cell_type": "code",
   "execution_count": 112,
   "metadata": {},
   "outputs": [
    {
     "data": {
      "text/plain": [
       "1"
      ]
     },
     "execution_count": 112,
     "metadata": {},
     "output_type": "execute_result"
    }
   ],
   "source": [
    "portfolio332={\n",
    "    \"bonds-liquidity-rating1\":0,\n",
    "    \"bonds-liquidity-rating2\":0,\n",
    "    \"bonds-liquidity-rating3\":0,\n",
    "    \"bonds-short-rating1\":0,\n",
    "    \"bonds-short-rating2\":0,\n",
    "    \"bonds-short-rating3\":0,\n",
    "    \"bonds-medium-rating1\":0,\n",
    "    \"bonds-medium-rating2\":0,\n",
    "    \"bonds-medium-rating3\":0,\n",
    "    \"bonds-long-rating1\":0,\n",
    "    \"bonds-long-rating2\":0,\n",
    "    \"bonds-long-rating3\":0, \n",
    "    \"stocks-beta1\":0,\n",
    "    \"stocks-beta2\":0,\n",
    "    \"stocks-beta3\":1,  \n",
    "    \"cash\":0,\n",
    "    \"convertable\":0,\n",
    "    \"preferred\":0,\n",
    "                  }\n",
    "sum(list(portfolio332.values()))"
   ]
  },
  {
   "cell_type": "code",
   "execution_count": 113,
   "metadata": {},
   "outputs": [
    {
     "data": {
      "text/plain": [
       "1"
      ]
     },
     "execution_count": 113,
     "metadata": {},
     "output_type": "execute_result"
    }
   ],
   "source": [
    "portfolio333={\n",
    "    \"bonds-liquidity-rating1\":0,\n",
    "    \"bonds-liquidity-rating2\":0,\n",
    "    \"bonds-liquidity-rating3\":0,\n",
    "    \"bonds-short-rating1\":0,\n",
    "    \"bonds-short-rating2\":0,\n",
    "    \"bonds-short-rating3\":0,\n",
    "    \"bonds-medium-rating1\":0,\n",
    "    \"bonds-medium-rating2\":0,\n",
    "    \"bonds-medium-rating3\":0,\n",
    "    \"bonds-long-rating1\":0,\n",
    "    \"bonds-long-rating2\":0,\n",
    "    \"bonds-long-rating3\":0, \n",
    "    \"stocks-beta1\":0,\n",
    "    \"stocks-beta2\":0,\n",
    "    \"stocks-beta3\":1,  \n",
    "    \"cash\":0,\n",
    "    \"convertable\":0,\n",
    "    \"preferred\":0,\n",
    "                  }\n",
    "sum(list(portfolio333.values()))"
   ]
  },
  {
   "cell_type": "code",
   "execution_count": 114,
   "metadata": {},
   "outputs": [
    {
     "data": {
      "text/plain": [
       "1.0"
      ]
     },
     "execution_count": 114,
     "metadata": {},
     "output_type": "execute_result"
    }
   ],
   "source": [
    "portfolio141={\n",
    "    \"bonds-liquidity-rating1\":0,\n",
    "    \"bonds-liquidity-rating2\":0,\n",
    "    \"bonds-liquidity-rating3\":0,\n",
    "    \"bonds-short-rating1\":0,\n",
    "    \"bonds-short-rating2\":0.3,\n",
    "    \"bonds-short-rating3\":0,\n",
    "    \"bonds-medium-rating1\":0,\n",
    "    \"bonds-medium-rating2\":0,\n",
    "    \"bonds-medium-rating3\":0,\n",
    "    \"bonds-long-rating1\":0,\n",
    "    \"bonds-long-rating2\":0,\n",
    "    \"bonds-long-rating3\":0, \n",
    "    \"stocks-beta1\":0.7,\n",
    "    \"stocks-beta2\":0,\n",
    "    \"stocks-beta3\":0,  \n",
    "    \"cash\":0,\n",
    "    \"convertable\":0,\n",
    "    \"preferred\":0,\n",
    "                  }\n",
    "sum(list(portfolio141.values()))"
   ]
  },
  {
   "cell_type": "code",
   "execution_count": 115,
   "metadata": {},
   "outputs": [
    {
     "data": {
      "text/plain": [
       "1.0"
      ]
     },
     "execution_count": 115,
     "metadata": {},
     "output_type": "execute_result"
    }
   ],
   "source": [
    "portfolio142={\n",
    "    \"bonds-liquidity-rating1\":0,\n",
    "    \"bonds-liquidity-rating2\":0,\n",
    "    \"bonds-liquidity-rating3\":0,\n",
    "    \"bonds-short-rating1\":0,\n",
    "    \"bonds-short-rating2\":0.2,\n",
    "    \"bonds-short-rating3\":0,\n",
    "    \"bonds-medium-rating1\":0,\n",
    "    \"bonds-medium-rating2\":0,\n",
    "    \"bonds-medium-rating3\":0,\n",
    "    \"bonds-long-rating1\":0,\n",
    "    \"bonds-long-rating2\":0,\n",
    "    \"bonds-long-rating3\":0, \n",
    "    \"stocks-beta1\":0.8,\n",
    "    \"stocks-beta2\":0,\n",
    "    \"stocks-beta3\":0,  \n",
    "    \"cash\":0,\n",
    "    \"convertable\":0,\n",
    "    \"preferred\":0,\n",
    "                  }\n",
    "sum(list(portfolio142.values()))"
   ]
  },
  {
   "cell_type": "code",
   "execution_count": 116,
   "metadata": {},
   "outputs": [
    {
     "data": {
      "text/plain": [
       "1.0"
      ]
     },
     "execution_count": 116,
     "metadata": {},
     "output_type": "execute_result"
    }
   ],
   "source": [
    "portfolio143={\n",
    "    \"bonds-liquidity-rating1\":0,\n",
    "    \"bonds-liquidity-rating2\":0,\n",
    "    \"bonds-liquidity-rating3\":0,\n",
    "    \"bonds-short-rating1\":0,\n",
    "    \"bonds-short-rating2\":0.1,\n",
    "    \"bonds-short-rating3\":0,\n",
    "    \"bonds-medium-rating1\":0,\n",
    "    \"bonds-medium-rating2\":0,\n",
    "    \"bonds-medium-rating3\":0,\n",
    "    \"bonds-long-rating1\":0,\n",
    "    \"bonds-long-rating2\":0,\n",
    "    \"bonds-long-rating3\":0, \n",
    "    \"stocks-beta1\":0.9,\n",
    "    \"stocks-beta2\":0,\n",
    "    \"stocks-beta3\":0,  \n",
    "    \"cash\":0,\n",
    "    \"convertable\":0,\n",
    "    \"preferred\":0,\n",
    "                  }\n",
    "sum(list(portfolio143.values()))"
   ]
  },
  {
   "cell_type": "code",
   "execution_count": 117,
   "metadata": {},
   "outputs": [
    {
     "data": {
      "text/plain": [
       "1"
      ]
     },
     "execution_count": 117,
     "metadata": {},
     "output_type": "execute_result"
    }
   ],
   "source": [
    "portfolio241={\n",
    "    \"bonds-liquidity-rating1\":0,\n",
    "    \"bonds-liquidity-rating2\":0,\n",
    "    \"bonds-liquidity-rating3\":0,\n",
    "    \"bonds-short-rating1\":0,\n",
    "    \"bonds-short-rating2\":0,\n",
    "    \"bonds-short-rating3\":0,\n",
    "    \"bonds-medium-rating1\":0,\n",
    "    \"bonds-medium-rating2\":0,\n",
    "    \"bonds-medium-rating3\":0,\n",
    "    \"bonds-long-rating1\":0,\n",
    "    \"bonds-long-rating2\":0,\n",
    "    \"bonds-long-rating3\":0, \n",
    "    \"stocks-beta1\":0,\n",
    "    \"stocks-beta2\":1,\n",
    "    \"stocks-beta3\":0,  \n",
    "    \"cash\":0,\n",
    "    \"convertable\":0,\n",
    "    \"preferred\":0,\n",
    "                  }\n",
    "sum(list(portfolio241.values()))"
   ]
  },
  {
   "cell_type": "code",
   "execution_count": 118,
   "metadata": {},
   "outputs": [
    {
     "data": {
      "text/plain": [
       "1"
      ]
     },
     "execution_count": 118,
     "metadata": {},
     "output_type": "execute_result"
    }
   ],
   "source": [
    "portfolio242={\n",
    "    \"bonds-liquidity-rating1\":0,\n",
    "    \"bonds-liquidity-rating2\":0,\n",
    "    \"bonds-liquidity-rating3\":0,\n",
    "    \"bonds-short-rating1\":0,\n",
    "    \"bonds-short-rating2\":0,\n",
    "    \"bonds-short-rating3\":0,\n",
    "    \"bonds-medium-rating1\":0,\n",
    "    \"bonds-medium-rating2\":0,\n",
    "    \"bonds-medium-rating3\":0,\n",
    "    \"bonds-long-rating1\":0,\n",
    "    \"bonds-long-rating2\":0,\n",
    "    \"bonds-long-rating3\":0, \n",
    "    \"stocks-beta1\":0,\n",
    "    \"stocks-beta2\":1,\n",
    "    \"stocks-beta3\":0,  \n",
    "    \"cash\":0,\n",
    "    \"convertable\":0,\n",
    "    \"preferred\":0,\n",
    "                  }\n",
    "sum(list(portfolio242.values()))"
   ]
  },
  {
   "cell_type": "code",
   "execution_count": 119,
   "metadata": {},
   "outputs": [
    {
     "data": {
      "text/plain": [
       "1"
      ]
     },
     "execution_count": 119,
     "metadata": {},
     "output_type": "execute_result"
    }
   ],
   "source": [
    "portfolio243={\n",
    "    \"bonds-liquidity-rating1\":0,\n",
    "    \"bonds-liquidity-rating2\":0,\n",
    "    \"bonds-liquidity-rating3\":0,\n",
    "    \"bonds-short-rating1\":0,\n",
    "    \"bonds-short-rating2\":0,\n",
    "    \"bonds-short-rating3\":0,\n",
    "    \"bonds-medium-rating1\":0,\n",
    "    \"bonds-medium-rating2\":0,\n",
    "    \"bonds-medium-rating3\":0,\n",
    "    \"bonds-long-rating1\":0,\n",
    "    \"bonds-long-rating2\":0,\n",
    "    \"bonds-long-rating3\":0, \n",
    "    \"stocks-beta1\":0,\n",
    "    \"stocks-beta2\":1,\n",
    "    \"stocks-beta3\":0,  \n",
    "    \"cash\":0,\n",
    "    \"convertable\":0,\n",
    "    \"preferred\":0,\n",
    "                  }\n",
    "sum(list(portfolio243.values()))"
   ]
  },
  {
   "cell_type": "code",
   "execution_count": 120,
   "metadata": {},
   "outputs": [
    {
     "data": {
      "text/plain": [
       "1"
      ]
     },
     "execution_count": 120,
     "metadata": {},
     "output_type": "execute_result"
    }
   ],
   "source": [
    "portfolio341={\n",
    "    \"bonds-liquidity-rating1\":0,\n",
    "    \"bonds-liquidity-rating2\":0,\n",
    "    \"bonds-liquidity-rating3\":0,\n",
    "    \"bonds-short-rating1\":0,\n",
    "    \"bonds-short-rating2\":0,\n",
    "    \"bonds-short-rating3\":0,\n",
    "    \"bonds-medium-rating1\":0,\n",
    "    \"bonds-medium-rating2\":0,\n",
    "    \"bonds-medium-rating3\":0,\n",
    "    \"bonds-long-rating1\":0,\n",
    "    \"bonds-long-rating2\":0,\n",
    "    \"bonds-long-rating3\":0, \n",
    "    \"stocks-beta1\":0,\n",
    "    \"stocks-beta2\":0,\n",
    "    \"stocks-beta3\":1,  \n",
    "    \"cash\":0,\n",
    "    \"convertable\":0,\n",
    "    \"preferred\":0,\n",
    "                  }\n",
    "sum(list(portfolio341.values()))"
   ]
  },
  {
   "cell_type": "code",
   "execution_count": 121,
   "metadata": {},
   "outputs": [
    {
     "data": {
      "text/plain": [
       "1"
      ]
     },
     "execution_count": 121,
     "metadata": {},
     "output_type": "execute_result"
    }
   ],
   "source": [
    "portfolio342={\n",
    "    \"bonds-liquidity-rating1\":0,\n",
    "    \"bonds-liquidity-rating2\":0,\n",
    "    \"bonds-liquidity-rating3\":0,\n",
    "    \"bonds-short-rating1\":0,\n",
    "    \"bonds-short-rating2\":0,\n",
    "    \"bonds-short-rating3\":0,\n",
    "    \"bonds-medium-rating1\":0,\n",
    "    \"bonds-medium-rating2\":0,\n",
    "    \"bonds-medium-rating3\":0,\n",
    "    \"bonds-long-rating1\":0,\n",
    "    \"bonds-long-rating2\":0,\n",
    "    \"bonds-long-rating3\":0, \n",
    "    \"stocks-beta1\":0,\n",
    "    \"stocks-beta2\":0,\n",
    "    \"stocks-beta3\":1,  \n",
    "    \"cash\":0,\n",
    "    \"convertable\":0,\n",
    "    \"preferred\":0,\n",
    "                  }\n",
    "sum(list(portfolio342.values()))"
   ]
  },
  {
   "cell_type": "code",
   "execution_count": 122,
   "metadata": {},
   "outputs": [
    {
     "data": {
      "text/plain": [
       "1"
      ]
     },
     "execution_count": 122,
     "metadata": {},
     "output_type": "execute_result"
    }
   ],
   "source": [
    "portfolio343={\n",
    "    \"bonds-liquidity-rating1\":0,\n",
    "    \"bonds-liquidity-rating2\":0,\n",
    "    \"bonds-liquidity-rating3\":0,\n",
    "    \"bonds-short-rating1\":0,\n",
    "    \"bonds-short-rating2\":0,\n",
    "    \"bonds-short-rating3\":0,\n",
    "    \"bonds-medium-rating1\":0,\n",
    "    \"bonds-medium-rating2\":0,\n",
    "    \"bonds-medium-rating3\":0,\n",
    "    \"bonds-long-rating1\":0,\n",
    "    \"bonds-long-rating2\":0,\n",
    "    \"bonds-long-rating3\":0, \n",
    "    \"stocks-beta1\":0,\n",
    "    \"stocks-beta2\":0,\n",
    "    \"stocks-beta3\":1,  \n",
    "    \"cash\":0,\n",
    "    \"convertable\":0,\n",
    "    \"preferred\":0,\n",
    "                  }\n",
    "sum(list(portfolio343.values()))"
   ]
  },
  {
   "cell_type": "code",
   "execution_count": 123,
   "metadata": {},
   "outputs": [],
   "source": [
    "import pandas as pd"
   ]
  },
  {
   "cell_type": "code",
   "execution_count": 124,
   "metadata": {},
   "outputs": [],
   "source": [
    "products_labeled= pd.read_csv(\"/home/davidgozalo/Ironhack/ih_datamadpt0420_final_project/data/processed/products_labeled.csv\")"
   ]
  },
  {
   "cell_type": "code",
   "execution_count": 125,
   "metadata": {},
   "outputs": [],
   "source": [
    "people_labeled=pd.read_csv(\"/home/davidgozalo/Ironhack/ih_datamadpt0420_final_project/data/processed/people_labeled.csv\")"
   ]
  },
  {
   "cell_type": "code",
   "execution_count": 126,
   "metadata": {},
   "outputs": [
    {
     "data": {
      "text/plain": [
       "Index(['Unnamed: 0', 'PUF_ID', 'sample', 'fpl', 'SWB_1', 'SWB_2', 'SWB_3',\n",
       "       'FWBscore', 'FWB1_1', 'FWB1_2',\n",
       "       ...\n",
       "       'sum_risks_index', 'saving_amounts', 'houshold_income',\n",
       "       'houshold_income_per_capita', 'years_acumulation',\n",
       "       'financial_stress_indicator', 'financial_stress_multiplyer',\n",
       "       'potential_investment', 'potential_investment_range', 'label'],\n",
       "      dtype='object', length=243)"
      ]
     },
     "execution_count": 126,
     "metadata": {},
     "output_type": "execute_result"
    }
   ],
   "source": [
    "people_labeled.columns"
   ]
  },
  {
   "cell_type": "code",
   "execution_count": 146,
   "metadata": {},
   "outputs": [],
   "source": [
    "# We select the segment and ammount of the selected customer\n",
    "segment=str(segmento)\n",
    "amount=int(dinero)"
   ]
  },
  {
   "cell_type": "code",
   "execution_count": 149,
   "metadata": {},
   "outputs": [],
   "source": [
    "# For every segment, we assign a portfolio\n",
    "if segment==\"333\": portfolio=portfolio333\n",
    "# (to be completed)"
   ]
  },
  {
   "cell_type": "code",
   "execution_count": 150,
   "metadata": {},
   "outputs": [
    {
     "data": {
      "text/plain": [
       "{'bonds-liquidity-rating1': 0,\n",
       " 'bonds-liquidity-rating2': 0,\n",
       " 'bonds-liquidity-rating3': 0,\n",
       " 'bonds-short-rating1': 0,\n",
       " 'bonds-short-rating2': 0,\n",
       " 'bonds-short-rating3': 0,\n",
       " 'bonds-medium-rating1': 0,\n",
       " 'bonds-medium-rating2': 0,\n",
       " 'bonds-medium-rating3': 0,\n",
       " 'bonds-long-rating1': 0,\n",
       " 'bonds-long-rating2': 0,\n",
       " 'bonds-long-rating3': 0,\n",
       " 'stocks-beta1': 0,\n",
       " 'stocks-beta2': 0,\n",
       " 'stocks-beta3': 1,\n",
       " 'cash': 0,\n",
       " 'convertable': 0,\n",
       " 'preferred': 0}"
      ]
     },
     "metadata": {},
     "output_type": "display_data"
    }
   ],
   "source": [
    "display(portfolio333)"
   ]
  },
  {
   "cell_type": "code",
   "execution_count": 142,
   "metadata": {},
   "outputs": [
    {
     "name": "stdout",
     "output_type": "stream",
     "text": [
      "333\n",
      "140000\n"
     ]
    }
   ],
   "source": [
    "print (segment)\n",
    "print(amount)"
   ]
  },
  {
   "cell_type": "code",
   "execution_count": 130,
   "metadata": {},
   "outputs": [],
   "source": [
    "# identify attributes that have stock"
   ]
  },
  {
   "cell_type": "code",
   "execution_count": 131,
   "metadata": {},
   "outputs": [],
   "source": [
    "no_stock=[\"bonds-liquidity-rating1\",\n",
    "    \"bonds-liquidity-rating2\",\n",
    "    \"bonds-liquidity-rating3\",\n",
    "    \"bonds-short-rating1\",\n",
    "    \"bonds-short-rating2\",\n",
    "    \"bonds-short-rating3\",\n",
    "    \"bonds-medium-rating1\",\n",
    "    \"bonds-medium-rating2\",\n",
    "    \"bonds-medium-rating3\",\n",
    "    \"bonds-long-rating1\",\n",
    "    \"bonds-long-rating2\",\n",
    "    \"bonds-long-rating3\",\n",
    "    \"cash\"]\n",
    "    \n",
    "stock=[\"stocks-beta1\",\n",
    "    \"stocks-beta2\",\n",
    "    \"stocks-beta3\",  \n",
    "    \"convertable\",\n",
    "    \"preferred\"]"
   ]
  },
  {
   "cell_type": "code",
   "execution_count": 132,
   "metadata": {},
   "outputs": [],
   "source": [
    "# provide a list of industries"
   ]
  },
  {
   "cell_type": "code",
   "execution_count": 133,
   "metadata": {},
   "outputs": [],
   "source": [
    "industries=[]"
   ]
  },
  {
   "cell_type": "code",
   "execution_count": 134,
   "metadata": {},
   "outputs": [],
   "source": [
    "# use the \"divider\" function"
   ]
  },
  {
   "cell_type": "code",
   "execution_count": 152,
   "metadata": {},
   "outputs": [],
   "source": [
    "def divider(amount):\n",
    "    for i in range (5):\n",
    "        div=5-i\n",
    "        if amount/div<5000:\n",
    "            pass\n",
    "        if amount/div>=5000:\n",
    "            return div\n"
   ]
  },
  {
   "cell_type": "code",
   "execution_count": 159,
   "metadata": {},
   "outputs": [
    {
     "name": "stdout",
     "output_type": "stream",
     "text": [
      "[('technology', 'INPIX', 'stocks-beta3', 0.2, 28000), ('consumer_cyclical', 'FSAVX', 'stocks-beta3', 0.2, 28000), ('industrials', 'IDPIX', 'stocks-beta3', 0.2, 28000), ('financial_services', 'FNPIX', 'stocks-beta3', 0.2, 28000), ('energy', 'FSESX', 'stocks-beta3', 0.2, 28000)]\n"
     ]
    }
   ],
   "source": [
    "# given the segment and ammount we select the fund and proportion based on the portfolio data\n",
    "selection=[]\n",
    "industries=[]\n",
    "funds=[]\n",
    "count_stock=0\n",
    "for key in portfolio: # we iterate the portfolio\n",
    "    if portfolio[key]!=0: # for every weight different than zero....\n",
    "        if key in no_stock: # if it is not a stock, we take the whole weight\n",
    "            products_sel = products_labeled[products_labeled[\"portfolio_attribute\"] ==f\"{key}\"] # we select the subset of funds from this attribute\n",
    "            products_sel_rank=products_sel.sort_values(by=\"fund_alpha_10years\", ascending=False) # we rank by alpha\n",
    "            fund=products_sel_rank.iloc[0][\"fund_name\"] # we choose the first fund on the list\n",
    "            selection.append((fund,key,portfolio[key],int(amount*portfolio[key])))# we keep the fund name, the attibute, the weight and the amount\n",
    "        if key in stock: #if it is a stock (or similar) we distribute the weight diversifying by industry\n",
    "            products_sel = products_labeled[products_labeled[\"portfolio_attribute\"] ==f\"{key}\"]# we select the subset of funds from this attribute\n",
    "            products_sel_rank=products_sel.sort_values(by=\"fund_alpha_10years\", ascending=False) # we rank by alpha\n",
    "            n=divider(amount) # we get the number of parts in which the amount will be diversifyed\n",
    "            top=products_sel_rank.shape[0]\n",
    "            for nf in range (n): #for every part we will choose a stock fund\n",
    "                for r in range (top):\n",
    "                    fund=products_sel_rank.iloc[r][\"fund_name\"]\n",
    "                    industry=products_sel_rank.iloc[r][\"portfolio_industry\"]\n",
    "                    if (industry not in industries) and (fund not in funds) and (industry!=\"0\"): # we make sure that we have not chosen this fund or industry before\n",
    "                        funds.append(fund) #for control\n",
    "                        industries.append(industry) # for control\n",
    "                        selection.append((industry,fund,key,portfolio[key]/n,int(amount*portfolio[key]/n))) # we keep the fund name, the attibute, the weight and the amount, and the industry\n",
    "                        count_stock=count_stock+1 # we count how many stock funds we have chosen\n",
    "                    if count_stock==n: # once we get to the limit we break\n",
    "                        break\n",
    "                    else: # if the fund that we have focused does not meet the criteria we jump for the next in the ranking\n",
    "                        r=r+1\n",
    "    else: pass\n",
    "        \n",
    "print(selection)\n"
   ]
  },
  {
   "cell_type": "code",
   "execution_count": 160,
   "metadata": {},
   "outputs": [
    {
     "name": "stdout",
     "output_type": "stream",
     "text": [
      "1.... ('technology', 'INPIX', 'stocks-beta3', 0.2, 28000)\n",
      "2.... ('consumer_cyclical', 'FSAVX', 'stocks-beta3', 0.2, 28000)\n",
      "3.... ('industrials', 'IDPIX', 'stocks-beta3', 0.2, 28000)\n",
      "4.... ('financial_services', 'FNPIX', 'stocks-beta3', 0.2, 28000)\n",
      "5.... ('energy', 'FSESX', 'stocks-beta3', 0.2, 28000)\n"
     ]
    }
   ],
   "source": [
    "d=0\n",
    "for element in selection:\n",
    "    d=d+1\n",
    "    print (f\"{d}.... {element}\")\n",
    "    "
   ]
  },
  {
   "cell_type": "code",
   "execution_count": null,
   "metadata": {},
   "outputs": [],
   "source": []
  },
  {
   "cell_type": "code",
   "execution_count": 53,
   "metadata": {},
   "outputs": [
    {
     "data": {
      "text/plain": [
       "Index(['Unnamed: 0', 'fund_name', 'fund_extended_name', 'category',\n",
       "       'fund_family', 'net_assets', 'ytd_return', 'fund_yield',\n",
       "       'morningstar_rating', 'inception_date',\n",
       "       ...\n",
       "       'weighted_rating', 'average_rating', 'average_rating_index',\n",
       "       'beta_10_index', 'r_squared_10_index', 'beta_10_risk_index',\n",
       "       'exclussion', 'fname', 'fclass', 'portfolio_attribute'],\n",
       "      dtype='object', length=156)"
      ]
     },
     "execution_count": 53,
     "metadata": {},
     "output_type": "execute_result"
    }
   ],
   "source": [
    "products_labeled.columns"
   ]
  },
  {
   "cell_type": "code",
   "execution_count": 158,
   "metadata": {},
   "outputs": [
    {
     "data": {
      "text/plain": [
       "361"
      ]
     },
     "execution_count": 158,
     "metadata": {},
     "output_type": "execute_result"
    }
   ],
   "source": [
    "products_sel_rank.shape[0]"
   ]
  },
  {
   "cell_type": "code",
   "execution_count": 163,
   "metadata": {},
   "outputs": [
    {
     "name": "stdout",
     "output_type": "stream",
     "text": [
      "5\n"
     ]
    }
   ],
   "source": [
    "print(n)"
   ]
  },
  {
   "cell_type": "code",
   "execution_count": 225,
   "metadata": {},
   "outputs": [
    {
     "data": {
      "text/html": [
       "<div>\n",
       "<style scoped>\n",
       "    .dataframe tbody tr th:only-of-type {\n",
       "        vertical-align: middle;\n",
       "    }\n",
       "\n",
       "    .dataframe tbody tr th {\n",
       "        vertical-align: top;\n",
       "    }\n",
       "\n",
       "    .dataframe thead th {\n",
       "        text-align: right;\n",
       "    }\n",
       "</style>\n",
       "<table border=\"1\" class=\"dataframe\">\n",
       "  <thead>\n",
       "    <tr style=\"text-align: right;\">\n",
       "      <th></th>\n",
       "      <th>fund_name</th>\n",
       "      <th>portfolio_industry</th>\n",
       "      <th>fund_alpha_10years</th>\n",
       "    </tr>\n",
       "  </thead>\n",
       "  <tbody>\n",
       "    <tr>\n",
       "      <th>14376</th>\n",
       "      <td>MGTSX</td>\n",
       "      <td>0</td>\n",
       "      <td>12.17</td>\n",
       "    </tr>\n",
       "    <tr>\n",
       "      <th>14304</th>\n",
       "      <td>MGGIX</td>\n",
       "      <td>0</td>\n",
       "      <td>12.16</td>\n",
       "    </tr>\n",
       "    <tr>\n",
       "      <th>14307</th>\n",
       "      <td>MGGPX</td>\n",
       "      <td>0</td>\n",
       "      <td>11.84</td>\n",
       "    </tr>\n",
       "    <tr>\n",
       "      <th>14305</th>\n",
       "      <td>MGGLX</td>\n",
       "      <td>0</td>\n",
       "      <td>11.74</td>\n",
       "    </tr>\n",
       "    <tr>\n",
       "      <th>15370</th>\n",
       "      <td>MSOPX</td>\n",
       "      <td>0</td>\n",
       "      <td>11.14</td>\n",
       "    </tr>\n",
       "    <tr>\n",
       "      <th>22920</th>\n",
       "      <td>THISX</td>\n",
       "      <td>healthcare</td>\n",
       "      <td>10.86</td>\n",
       "    </tr>\n",
       "    <tr>\n",
       "      <th>18942</th>\n",
       "      <td>PRHSX</td>\n",
       "      <td>healthcare</td>\n",
       "      <td>10.82</td>\n",
       "    </tr>\n",
       "    <tr>\n",
       "      <th>9520</th>\n",
       "      <td>HJSIX</td>\n",
       "      <td>0</td>\n",
       "      <td>10.64</td>\n",
       "    </tr>\n",
       "    <tr>\n",
       "      <th>24045</th>\n",
       "      <td>VCHSX</td>\n",
       "      <td>healthcare</td>\n",
       "      <td>10.53</td>\n",
       "    </tr>\n",
       "    <tr>\n",
       "      <th>9519</th>\n",
       "      <td>HJPSX</td>\n",
       "      <td>0</td>\n",
       "      <td>10.51</td>\n",
       "    </tr>\n",
       "    <tr>\n",
       "      <th>7479</th>\n",
       "      <td>FSRPX</td>\n",
       "      <td>consumer_cyclical</td>\n",
       "      <td>10.25</td>\n",
       "    </tr>\n",
       "    <tr>\n",
       "      <th>16827</th>\n",
       "      <td>OGGIX</td>\n",
       "      <td>0</td>\n",
       "      <td>9.87</td>\n",
       "    </tr>\n",
       "    <tr>\n",
       "      <th>7359</th>\n",
       "      <td>FSCSX</td>\n",
       "      <td>technology</td>\n",
       "      <td>9.86</td>\n",
       "    </tr>\n",
       "    <tr>\n",
       "      <th>18064</th>\n",
       "      <td>PHLQX</td>\n",
       "      <td>healthcare</td>\n",
       "      <td>9.73</td>\n",
       "    </tr>\n",
       "    <tr>\n",
       "      <th>18081</th>\n",
       "      <td>PHSZX</td>\n",
       "      <td>healthcare</td>\n",
       "      <td>9.71</td>\n",
       "    </tr>\n",
       "    <tr>\n",
       "      <th>7468</th>\n",
       "      <td>FSPHX</td>\n",
       "      <td>healthcare</td>\n",
       "      <td>9.60</td>\n",
       "    </tr>\n",
       "    <tr>\n",
       "      <th>7437</th>\n",
       "      <td>FSMEX</td>\n",
       "      <td>healthcare</td>\n",
       "      <td>9.60</td>\n",
       "    </tr>\n",
       "    <tr>\n",
       "      <th>6494</th>\n",
       "      <td>FHCIX</td>\n",
       "      <td>healthcare</td>\n",
       "      <td>9.56</td>\n",
       "    </tr>\n",
       "    <tr>\n",
       "      <th>18059</th>\n",
       "      <td>PHLAX</td>\n",
       "      <td>healthcare</td>\n",
       "      <td>9.40</td>\n",
       "    </tr>\n",
       "    <tr>\n",
       "      <th>24619</th>\n",
       "      <td>VUIAX</td>\n",
       "      <td>utilities</td>\n",
       "      <td>9.37</td>\n",
       "    </tr>\n",
       "  </tbody>\n",
       "</table>\n",
       "</div>"
      ],
      "text/plain": [
       "      fund_name portfolio_industry  fund_alpha_10years\n",
       "14376     MGTSX                  0               12.17\n",
       "14304     MGGIX                  0               12.16\n",
       "14307     MGGPX                  0               11.84\n",
       "14305     MGGLX                  0               11.74\n",
       "15370     MSOPX                  0               11.14\n",
       "22920     THISX         healthcare               10.86\n",
       "18942     PRHSX         healthcare               10.82\n",
       "9520      HJSIX                  0               10.64\n",
       "24045     VCHSX         healthcare               10.53\n",
       "9519      HJPSX                  0               10.51\n",
       "7479      FSRPX  consumer_cyclical               10.25\n",
       "16827     OGGIX                  0                9.87\n",
       "7359      FSCSX         technology                9.86\n",
       "18064     PHLQX         healthcare                9.73\n",
       "18081     PHSZX         healthcare                9.71\n",
       "7468      FSPHX         healthcare                9.60\n",
       "7437      FSMEX         healthcare                9.60\n",
       "6494      FHCIX         healthcare                9.56\n",
       "18059     PHLAX         healthcare                9.40\n",
       "24619     VUIAX          utilities                9.37"
      ]
     },
     "execution_count": 225,
     "metadata": {},
     "output_type": "execute_result"
    }
   ],
   "source": [
    "products_sel_rank[[\"fund_name\", \"portfolio_industry\", \"fund_alpha_10years\"]].head(20)"
   ]
  },
  {
   "cell_type": "code",
   "execution_count": 219,
   "metadata": {},
   "outputs": [
    {
     "data": {
      "text/plain": [
       "6"
      ]
     },
     "execution_count": 219,
     "metadata": {},
     "output_type": "execute_result"
    }
   ],
   "source": [
    "len(selection)"
   ]
  },
  {
   "cell_type": "code",
   "execution_count": 220,
   "metadata": {},
   "outputs": [
    {
     "name": "stdout",
     "output_type": "stream",
     "text": [
      "1...('TASBX', 'bonds-short-rating2', 0.1, 8000)\n",
      "2...('healthcare', 'THISX', 'stocks-beta1', 0.18, 14400)\n",
      "3...('consumer_cyclical', 'FSRPX', 'stocks-beta1', 0.18, 14400)\n",
      "4...('technology', 'FSCSX', 'stocks-beta1', 0.18, 14400)\n",
      "5...('utilities', 'VUIAX', 'stocks-beta1', 0.18, 14400)\n",
      "6...('industrials', 'FSAIX', 'stocks-beta1', 0.18, 14400)\n"
     ]
    }
   ],
   "source": [
    "a=0\n",
    "for element in selection:\n",
    "    a=a+1\n",
    "    print (f\"{a}...{element}\" )"
   ]
  },
  {
   "cell_type": "code",
   "execution_count": null,
   "metadata": {},
   "outputs": [],
   "source": []
  }
 ],
 "metadata": {
  "kernelspec": {
   "display_name": "Python [conda env:ironhack_env]",
   "language": "python",
   "name": "conda-env-ironhack_env-py"
  },
  "language_info": {
   "codemirror_mode": {
    "name": "ipython",
    "version": 3
   },
   "file_extension": ".py",
   "mimetype": "text/x-python",
   "name": "python",
   "nbconvert_exporter": "python",
   "pygments_lexer": "ipython3",
   "version": "3.7.7"
  }
 },
 "nbformat": 4,
 "nbformat_minor": 4
}
