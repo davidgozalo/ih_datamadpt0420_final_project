{
 "cells": [
  {
   "cell_type": "code",
   "execution_count": null,
   "metadata": {},
   "outputs": [],
   "source": [
    "print(\"Bienvenido al cuestionario sobre situación y preferencias de inversión\")\n",
    "print(\"El objetivo del mismo es saber de ti para hacerte un a recomendación de compra de fondos de inversión\")\n",
    "print(\"Te preguntaremos sobre tu situación financiera, tu aversión al riesgo, tu plazo de inversión y tus conocimientos financiaros\")"
   ]
  },
  {
   "cell_type": "code",
   "execution_count": null,
   "metadata": {},
   "outputs": [],
   "source": [
    "nombre=input(\"Pero antes de empezar, como en esas llamadas de los call centers que nos interrumpen la siesta, dinos tu nombre para dirigirnos a ti)\")"
   ]
  },
  {
   "cell_type": "code",
   "execution_count": null,
   "metadata": {},
   "outputs": [],
   "source": [
    "print(f'Gracias, {nombre}, empezamos pues. ')"
   ]
  },
  {
   "cell_type": "code",
   "execution_count": null,
   "metadata": {},
   "outputs": [],
   "source": [
    "print(\"Lo primero, queremos saber cómo andas de cultura financiera\")"
   ]
  },
  {
   "cell_type": "code",
   "execution_count": null,
   "metadata": {},
   "outputs": [],
   "source": [
    "print (\"Si establecemos tres niveles:\\n 1: Básico\\n 2: Intermedio\\n 3: Alto\")\n",
    "conocimiento_financiero=input(\"¿Dónde te ves? (elige un número)\")"
   ]
  },
  {
   "cell_type": "code",
   "execution_count": null,
   "metadata": {},
   "outputs": [],
   "source": [
    "print(\"Perfecto, también queremos que nos digas si eres atrevido con las inversiones o conservador\")"
   ]
  },
  {
   "cell_type": "code",
   "execution_count": null,
   "metadata": {},
   "outputs": [],
   "source": [
    "print (\"Si te propusieramos una inversión en la que puedes perder una parte de lo invertido, con qué posición te identificas más:\\n 1: No toleraría perder nada de lo invertido, aunque ganase poco\\n 2: Podría perder algo, pero moderadamente, para obtener un rendimiento mayor\\n 3: Estoy dispuesto a todo con tal de obrtener un rendiimiento alto\")\n",
    "nivel_de_riesgo=input(\"¿Con cuál te identificas? (elige un número)\")"
   ]
  },
  {
   "cell_type": "code",
   "execution_count": null,
   "metadata": {},
   "outputs": [],
   "source": [
    "print(\"Genial, tembién necesitamos conocer el plazo en el que te planteas invertir\")"
   ]
  },
  {
   "cell_type": "code",
   "execution_count": null,
   "metadata": {},
   "outputs": [],
   "source": [
    "print (\"Si invirtieras hoy, cuándo te gustaría volver a disponer de tu dinero:\\n 1: En menos de un año\\n 2: En dos o tres años\\n 3: En cinco años\\n 4. En diez o más años \")\n",
    "plazo=input(\"¿En qué periodo te colocas (elige un número)\")"
   ]
  },
  {
   "cell_type": "code",
   "execution_count": null,
   "metadata": {},
   "outputs": [],
   "source": [
    "print (conocimiento_financiero, nivel_de_riesgo, plazo)"
   ]
  },
  {
   "cell_type": "code",
   "execution_count": null,
   "metadata": {},
   "outputs": [],
   "source": [
    "print(\"Y ya por último, esa frase de rigor cuando se compra un coche o se confiesa un sueldo: ¿de cuánto dinero estamos hablando?\")\n",
    "dinero=input(\"Cuánto dinero vas a plantearte invertir (pon una cantidad en euros)\")"
   ]
  },
  {
   "cell_type": "code",
   "execution_count": null,
   "metadata": {},
   "outputs": [],
   "source": [
    "print"
   ]
  },
  {
   "cell_type": "code",
   "execution_count": null,
   "metadata": {},
   "outputs": [],
   "source": [
    " 1: Básico\n",
    " 2: Intermedio\n",
    " 3: Alto\n",
    "conocimiento_financiero"
   ]
  },
  {
   "cell_type": "code",
   "execution_count": null,
   "metadata": {},
   "outputs": [],
   "source": [
    " 1: No toleraría perder nada de lo invertido, aunque ganase poco\n",
    " 2: Podría perder algo, pero moderadamente, para obtener un rendimiento mayor\n",
    " 3: Estoy dispuesto a todo con tal de obrtener un rendiimiento alto\n",
    "nivel_de_riesgo"
   ]
  },
  {
   "cell_type": "code",
   "execution_count": null,
   "metadata": {},
   "outputs": [],
   "source": [
    "Si invirtieras hoy, cuándo te gustaría volver a disponer de tu dinero:\n",
    " 1: En menos de un año\n",
    " 2: En dos o tres años\n",
    " 3: En cinco años\n",
    " 4. En diez o más años \n",
    "plazo"
   ]
  },
  {
   "cell_type": "code",
   "execution_count": null,
   "metadata": {},
   "outputs": [],
   "source": [
    "d_conocimiento_financiero ={ \"1\": \"básico\", \"2\": \"intermedio\", \"3\": \"alto\"}"
   ]
  },
  {
   "cell_type": "code",
   "execution_count": null,
   "metadata": {},
   "outputs": [],
   "source": [
    "d_nivel_de_riesgo={ \"1\": \"bajo\", \"2\": \"moderado\", \"3\": \"alto\"}"
   ]
  },
  {
   "cell_type": "code",
   "execution_count": null,
   "metadata": {},
   "outputs": [],
   "source": [
    "d_plazo={ \"1\": \"la liquidez\", \"2\": \"corto\", \"3\": \"medio\", \"4\": \"largo\" }"
   ]
  },
  {
   "cell_type": "code",
   "execution_count": null,
   "metadata": {},
   "outputs": [],
   "source": [
    "\n",
    "print(f'En resumen, {nombre}, nos has dicho\\nque tu conocimiento financiero es {d_conocimiento_financiero[conocimiento_financiero]}, \\nque tu nivel de aceptación de riesgo es {d_nivel_de_riesgo[nivel_de_riesgo]}, \\nque tu horizonte de inversión es {d_plazo[plazo]},\\ny que estás pensando en invertir {dinero} euros.')"
   ]
  },
  {
   "cell_type": "code",
   "execution_count": null,
   "metadata": {},
   "outputs": [],
   "source": []
  },
  {
   "cell_type": "code",
   "execution_count": null,
   "metadata": {},
   "outputs": [],
   "source": []
  },
  {
   "cell_type": "code",
   "execution_count": null,
   "metadata": {},
   "outputs": [],
   "source": []
  },
  {
   "cell_type": "code",
   "execution_count": null,
   "metadata": {},
   "outputs": [],
   "source": []
  }
 ],
 "metadata": {
  "kernelspec": {
   "display_name": "Python [conda env:ironhack_env]",
   "language": "python",
   "name": "conda-env-ironhack_env-py"
  },
  "language_info": {
   "codemirror_mode": {
    "name": "ipython",
    "version": 3
   },
   "file_extension": ".py",
   "mimetype": "text/x-python",
   "name": "python",
   "nbconvert_exporter": "python",
   "pygments_lexer": "ipython3",
   "version": "3.7.7"
  }
 },
 "nbformat": 4,
 "nbformat_minor": 4
}
